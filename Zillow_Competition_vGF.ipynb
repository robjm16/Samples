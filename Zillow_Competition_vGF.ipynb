{
 "cells": [
  {
   "cell_type": "markdown",
   "metadata": {
    "collapsed": true
   },
   "source": [
    "Zillow Kaggle Competition \n",
    "\n",
    "This notebook was developed for a Kaggle competition related to Zillow's estimates of home values.  \n",
    "\n",
    "In the first phase of the competition (submissions were due Oct 16, 2017), the aim was to predict the residual error in Zillow's home value estimates based on a subset of real estate transactions in California in 2016 and 2017.  Please note that residual errors --not the home values themselves -- were being predicted.  \n",
    "\n",
    "Only the datasets provided by Zillow could be used in the first round (i.e., no supplemental data could be incorporated).   A second phase, allowing for the use of outside data and aimed at building a better model for predicting actual home values, will take place in 2018.   \n",
    "\n",
    "Below is a link to the Kaggle competition, with complete details on the competition and the core datasets:\n",
    "\n",
    "https://www.kaggle.com/c/zillow-prize-1#description"
   ]
  },
  {
   "cell_type": "code",
   "execution_count": 1,
   "metadata": {
    "collapsed": true
   },
   "outputs": [],
   "source": [
    "import numpy as np\n",
    "import pandas as pd\n",
    "import gc"
   ]
  },
  {
   "cell_type": "markdown",
   "metadata": {},
   "source": [
    "Prior to developing this notebook, I did exploratory data analysis (EDA), drawing partially on notebooks shared by other Kaggle competitors. This notebook picks up the project up after extensive data prep and adds a few final features and data transformations.\n",
    "\n",
    "Kaggle/Zillow released the core data in two waves -- the first covering 2016 property features and transactions, and the second providing a 2017 year-to-date update.  \n",
    "\n",
    "The data prep phase of this project involved combining the 2016 and 2017 \"properties\" datasets, and then joining that combined file with 2016 and 2017 transaction data. "
   ]
  },
  {
   "cell_type": "markdown",
   "metadata": {},
   "source": [
    "First, we combine the 2016 and 2017 properties datasets."
   ]
  },
  {
   "cell_type": "code",
   "execution_count": 2,
   "metadata": {
    "collapsed": true
   },
   "outputs": [],
   "source": [
    "# Read in the new properties dataset \n",
    "properties_2017=pd.read_csv(\"properties_2017.csv\", low_memory=False)"
   ]
  },
  {
   "cell_type": "code",
   "execution_count": 3,
   "metadata": {},
   "outputs": [
    {
     "data": {
      "text/html": [
       "<div>\n",
       "<style>\n",
       "    .dataframe thead tr:only-child th {\n",
       "        text-align: right;\n",
       "    }\n",
       "\n",
       "    .dataframe thead th {\n",
       "        text-align: left;\n",
       "    }\n",
       "\n",
       "    .dataframe tbody tr th {\n",
       "        vertical-align: top;\n",
       "    }\n",
       "</style>\n",
       "<table border=\"1\" class=\"dataframe\">\n",
       "  <thead>\n",
       "    <tr style=\"text-align: right;\">\n",
       "      <th></th>\n",
       "      <th>parcelid</th>\n",
       "      <th>airconditioningtypeid</th>\n",
       "      <th>architecturalstyletypeid</th>\n",
       "      <th>basementsqft</th>\n",
       "      <th>bathroomcnt</th>\n",
       "      <th>bedroomcnt</th>\n",
       "      <th>buildingclasstypeid</th>\n",
       "      <th>buildingqualitytypeid</th>\n",
       "      <th>calculatedbathnbr</th>\n",
       "      <th>decktypeid</th>\n",
       "      <th>...</th>\n",
       "      <th>numberofstories</th>\n",
       "      <th>fireplaceflag</th>\n",
       "      <th>structuretaxvaluedollarcnt</th>\n",
       "      <th>taxvaluedollarcnt</th>\n",
       "      <th>assessmentyear</th>\n",
       "      <th>landtaxvaluedollarcnt</th>\n",
       "      <th>taxamount</th>\n",
       "      <th>taxdelinquencyflag</th>\n",
       "      <th>taxdelinquencyyear</th>\n",
       "      <th>censustractandblock</th>\n",
       "    </tr>\n",
       "  </thead>\n",
       "  <tbody>\n",
       "    <tr>\n",
       "      <th>0</th>\n",
       "      <td>10754147</td>\n",
       "      <td>NaN</td>\n",
       "      <td>NaN</td>\n",
       "      <td>NaN</td>\n",
       "      <td>0.0</td>\n",
       "      <td>0.0</td>\n",
       "      <td>NaN</td>\n",
       "      <td>NaN</td>\n",
       "      <td>NaN</td>\n",
       "      <td>NaN</td>\n",
       "      <td>...</td>\n",
       "      <td>NaN</td>\n",
       "      <td>NaN</td>\n",
       "      <td>NaN</td>\n",
       "      <td>9.0</td>\n",
       "      <td>2016.0</td>\n",
       "      <td>9.0</td>\n",
       "      <td>NaN</td>\n",
       "      <td>NaN</td>\n",
       "      <td>NaN</td>\n",
       "      <td>NaN</td>\n",
       "    </tr>\n",
       "    <tr>\n",
       "      <th>1</th>\n",
       "      <td>10759547</td>\n",
       "      <td>NaN</td>\n",
       "      <td>NaN</td>\n",
       "      <td>NaN</td>\n",
       "      <td>0.0</td>\n",
       "      <td>0.0</td>\n",
       "      <td>NaN</td>\n",
       "      <td>NaN</td>\n",
       "      <td>NaN</td>\n",
       "      <td>NaN</td>\n",
       "      <td>...</td>\n",
       "      <td>NaN</td>\n",
       "      <td>NaN</td>\n",
       "      <td>NaN</td>\n",
       "      <td>27516.0</td>\n",
       "      <td>2015.0</td>\n",
       "      <td>27516.0</td>\n",
       "      <td>NaN</td>\n",
       "      <td>NaN</td>\n",
       "      <td>NaN</td>\n",
       "      <td>NaN</td>\n",
       "    </tr>\n",
       "  </tbody>\n",
       "</table>\n",
       "<p>2 rows × 58 columns</p>\n",
       "</div>"
      ],
      "text/plain": [
       "   parcelid  airconditioningtypeid  architecturalstyletypeid  basementsqft  \\\n",
       "0  10754147                    NaN                       NaN           NaN   \n",
       "1  10759547                    NaN                       NaN           NaN   \n",
       "\n",
       "   bathroomcnt  bedroomcnt  buildingclasstypeid  buildingqualitytypeid  \\\n",
       "0          0.0         0.0                  NaN                    NaN   \n",
       "1          0.0         0.0                  NaN                    NaN   \n",
       "\n",
       "   calculatedbathnbr  decktypeid         ...           numberofstories  \\\n",
       "0                NaN         NaN         ...                       NaN   \n",
       "1                NaN         NaN         ...                       NaN   \n",
       "\n",
       "   fireplaceflag  structuretaxvaluedollarcnt  taxvaluedollarcnt  \\\n",
       "0            NaN                         NaN                9.0   \n",
       "1            NaN                         NaN            27516.0   \n",
       "\n",
       "   assessmentyear  landtaxvaluedollarcnt  taxamount  taxdelinquencyflag  \\\n",
       "0          2016.0                    9.0        NaN                 NaN   \n",
       "1          2015.0                27516.0        NaN                 NaN   \n",
       "\n",
       "   taxdelinquencyyear  censustractandblock  \n",
       "0                 NaN                  NaN  \n",
       "1                 NaN                  NaN  \n",
       "\n",
       "[2 rows x 58 columns]"
      ]
     },
     "execution_count": 3,
     "metadata": {},
     "output_type": "execute_result"
    }
   ],
   "source": [
    "properties_2017.head(2)"
   ]
  },
  {
   "cell_type": "code",
   "execution_count": 4,
   "metadata": {},
   "outputs": [
    {
     "data": {
      "text/plain": [
       "(2985217, 58)"
      ]
     },
     "execution_count": 4,
     "metadata": {},
     "output_type": "execute_result"
    }
   ],
   "source": [
    "properties_2017.shape"
   ]
  },
  {
   "cell_type": "code",
   "execution_count": 5,
   "metadata": {},
   "outputs": [
    {
     "name": "stdout",
     "output_type": "stream",
     "text": [
      "Index(['parcelid', 'airconditioningtypeid', 'architecturalstyletypeid',\n",
      "       'basementsqft', 'bathroomcnt', 'bedroomcnt', 'buildingclasstypeid',\n",
      "       'buildingqualitytypeid', 'calculatedbathnbr', 'decktypeid',\n",
      "       'finishedfloor1squarefeet', 'calculatedfinishedsquarefeet',\n",
      "       'finishedsquarefeet12', 'finishedsquarefeet13', 'finishedsquarefeet15',\n",
      "       'finishedsquarefeet50', 'finishedsquarefeet6', 'fips', 'fireplacecnt',\n",
      "       'fullbathcnt', 'garagecarcnt', 'garagetotalsqft', 'hashottuborspa',\n",
      "       'heatingorsystemtypeid', 'latitude', 'longitude', 'lotsizesquarefeet',\n",
      "       'poolcnt', 'poolsizesum', 'pooltypeid10', 'pooltypeid2', 'pooltypeid7',\n",
      "       'propertycountylandusecode', 'propertylandusetypeid',\n",
      "       'propertyzoningdesc', 'rawcensustractandblock', 'regionidcity',\n",
      "       'regionidcounty', 'regionidneighborhood', 'regionidzip', 'roomcnt',\n",
      "       'storytypeid', 'threequarterbathnbr', 'typeconstructiontypeid',\n",
      "       'unitcnt', 'yardbuildingsqft17', 'yardbuildingsqft26', 'yearbuilt',\n",
      "       'numberofstories', 'fireplaceflag', 'structuretaxvaluedollarcnt',\n",
      "       'taxvaluedollarcnt', 'assessmentyear', 'landtaxvaluedollarcnt',\n",
      "       'taxamount', 'taxdelinquencyflag', 'taxdelinquencyyear',\n",
      "       'censustractandblock'],\n",
      "      dtype='object')\n"
     ]
    }
   ],
   "source": [
    "print(properties_2017.columns)"
   ]
  },
  {
   "cell_type": "code",
   "execution_count": 6,
   "metadata": {
    "collapsed": true
   },
   "outputs": [],
   "source": [
    "# Based on EDA and preliminary modeling, these are the columns we need at this point \n",
    "cols_to_use= [\n",
    "'parcelid',\n",
    "'bedroomcnt',\n",
    "'bathroomcnt',\n",
    "'roomcnt',\n",
    "'calculatedfinishedsquarefeet',\n",
    "'finishedsquarefeet12',\n",
    "'poolcnt',\n",
    "'buildingclasstypeid',\n",
    "'yearbuilt',\n",
    "'lotsizesquarefeet',\n",
    "'propertylandusetypeid',\n",
    "'latitude',\n",
    "'longitude',\n",
    "'rawcensustractandblock',\n",
    "'censustractandblock',\n",
    "'regionidneighborhood',\n",
    "'regionidcity',\n",
    "'regionidcounty',\n",
    "'regionidzip',     \n",
    "'landtaxvaluedollarcnt',\n",
    "'structuretaxvaluedollarcnt',\n",
    "'taxamount',\n",
    "'taxvaluedollarcnt',\n",
    "'taxdelinquencyflag']"
   ]
  },
  {
   "cell_type": "code",
   "execution_count": 7,
   "metadata": {
    "collapsed": true
   },
   "outputs": [],
   "source": [
    "properties_2017=properties_2017[cols_to_use]"
   ]
  },
  {
   "cell_type": "code",
   "execution_count": 8,
   "metadata": {},
   "outputs": [
    {
     "data": {
      "text/plain": [
       "(2985217, 24)"
      ]
     },
     "execution_count": 8,
     "metadata": {},
     "output_type": "execute_result"
    }
   ],
   "source": [
    "properties_2017.shape"
   ]
  },
  {
   "cell_type": "code",
   "execution_count": 9,
   "metadata": {
    "collapsed": true
   },
   "outputs": [],
   "source": [
    "# Rename the columns where both 2016 and 2017 data will be used (in the merged properties dataset; most of the columns have \n",
    "# static data that does not change b/w 2016 and 2017) \n",
    "properties_2017.rename(columns={'landtaxvaluedollarcnt': 'landtaxvaluedollarcnt_2017', 'structuretaxvaluedollarcnt' : \n",
    "                                'structuretaxvaluedollarcnt_2017', 'taxamount' : 'taxamount_2017', \n",
    "                                'taxvaluedollarcnt' : 'taxvaluedollarcnt_2017', \n",
    "                                'taxdelinquencyflag' : 'taxdelinquencyflag_2017'}, inplace=True)"
   ]
  },
  {
   "cell_type": "code",
   "execution_count": 10,
   "metadata": {},
   "outputs": [
    {
     "data": {
      "text/plain": [
       "Index(['parcelid', 'bedroomcnt', 'bathroomcnt', 'roomcnt',\n",
       "       'calculatedfinishedsquarefeet', 'finishedsquarefeet12', 'poolcnt',\n",
       "       'buildingclasstypeid', 'yearbuilt', 'lotsizesquarefeet',\n",
       "       'propertylandusetypeid', 'latitude', 'longitude',\n",
       "       'rawcensustractandblock', 'censustractandblock', 'regionidneighborhood',\n",
       "       'regionidcity', 'regionidcounty', 'regionidzip',\n",
       "       'landtaxvaluedollarcnt_2017', 'structuretaxvaluedollarcnt_2017',\n",
       "       'taxamount_2017', 'taxvaluedollarcnt_2017', 'taxdelinquencyflag_2017'],\n",
       "      dtype='object')"
      ]
     },
     "execution_count": 10,
     "metadata": {},
     "output_type": "execute_result"
    }
   ],
   "source": [
    "properties_2017.columns"
   ]
  },
  {
   "cell_type": "code",
   "execution_count": 13,
   "metadata": {
    "collapsed": true
   },
   "outputs": [],
   "source": [
    "# Follow same process with 2016 properties dataset \n",
    "properties_2016=pd.read_csv(\"properties_2016.csv\", low_memory=False)"
   ]
  },
  {
   "cell_type": "code",
   "execution_count": 14,
   "metadata": {},
   "outputs": [
    {
     "data": {
      "text/plain": [
       "(2985217, 58)"
      ]
     },
     "execution_count": 14,
     "metadata": {},
     "output_type": "execute_result"
    }
   ],
   "source": [
    "properties_2016.shape"
   ]
  },
  {
   "cell_type": "code",
   "execution_count": 15,
   "metadata": {
    "collapsed": true
   },
   "outputs": [],
   "source": [
    "properties_2016=properties_2016[cols_to_use]"
   ]
  },
  {
   "cell_type": "code",
   "execution_count": 16,
   "metadata": {
    "collapsed": true
   },
   "outputs": [],
   "source": [
    "properties_2016.rename(columns={'landtaxvaluedollarcnt': 'landtaxvaluedollarcnt_2016', 'structuretaxvaluedollarcnt' : \n",
    "                                'structuretaxvaluedollarcnt_2016', 'taxamount' : 'taxamount_2016', \n",
    "                                'taxvaluedollarcnt' : 'taxvaluedollarcnt_2016', \n",
    "                                'taxdelinquencyflag' : 'taxdelinquencyflag_2016'}, inplace=True)"
   ]
  },
  {
   "cell_type": "code",
   "execution_count": 17,
   "metadata": {},
   "outputs": [
    {
     "data": {
      "text/plain": [
       "Index(['parcelid', 'bedroomcnt', 'bathroomcnt', 'roomcnt',\n",
       "       'calculatedfinishedsquarefeet', 'finishedsquarefeet12', 'poolcnt',\n",
       "       'buildingclasstypeid', 'yearbuilt', 'lotsizesquarefeet',\n",
       "       'propertylandusetypeid', 'latitude', 'longitude',\n",
       "       'rawcensustractandblock', 'censustractandblock', 'regionidneighborhood',\n",
       "       'regionidcity', 'regionidcounty', 'regionidzip',\n",
       "       'landtaxvaluedollarcnt_2016', 'structuretaxvaluedollarcnt_2016',\n",
       "       'taxamount_2016', 'taxvaluedollarcnt_2016', 'taxdelinquencyflag_2016'],\n",
       "      dtype='object')"
      ]
     },
     "execution_count": 17,
     "metadata": {},
     "output_type": "execute_result"
    }
   ],
   "source": [
    "properties_2016.columns"
   ]
  },
  {
   "cell_type": "code",
   "execution_count": 18,
   "metadata": {
    "collapsed": true
   },
   "outputs": [],
   "source": [
    "# Check that all IDs are unique  \n",
    "unique_ids = pd.concat([properties_2016['parcelid'], properties_2017['parcelid']]).unique()"
   ]
  },
  {
   "cell_type": "code",
   "execution_count": 19,
   "metadata": {},
   "outputs": [
    {
     "data": {
      "text/plain": [
       "2985217"
      ]
     },
     "execution_count": 19,
     "metadata": {},
     "output_type": "execute_result"
    }
   ],
   "source": [
    "len(unique_ids)"
   ]
  },
  {
   "cell_type": "code",
   "execution_count": 20,
   "metadata": {},
   "outputs": [
    {
     "data": {
      "text/plain": [
       "7"
      ]
     },
     "execution_count": 20,
     "metadata": {},
     "output_type": "execute_result"
    }
   ],
   "source": [
    "del unique_ids; gc.collect()"
   ]
  },
  {
   "cell_type": "code",
   "execution_count": 21,
   "metadata": {
    "collapsed": true
   },
   "outputs": [],
   "source": [
    "# Combine 2016 and 2017 properties datasets \n",
    "properties_combined=pd.merge(properties_2017, properties_2016, how='left', on='parcelid', suffixes=('_2017', '_2016'))"
   ]
  },
  {
   "cell_type": "code",
   "execution_count": 22,
   "metadata": {},
   "outputs": [
    {
     "data": {
      "text/plain": [
       "Index(['parcelid', 'bedroomcnt_2017', 'bathroomcnt_2017', 'roomcnt_2017',\n",
       "       'calculatedfinishedsquarefeet_2017', 'finishedsquarefeet12_2017',\n",
       "       'poolcnt_2017', 'buildingclasstypeid_2017', 'yearbuilt_2017',\n",
       "       'lotsizesquarefeet_2017', 'propertylandusetypeid_2017', 'latitude_2017',\n",
       "       'longitude_2017', 'rawcensustractandblock_2017',\n",
       "       'censustractandblock_2017', 'regionidneighborhood_2017',\n",
       "       'regionidcity_2017', 'regionidcounty_2017', 'regionidzip_2017',\n",
       "       'landtaxvaluedollarcnt_2017', 'structuretaxvaluedollarcnt_2017',\n",
       "       'taxamount_2017', 'taxvaluedollarcnt_2017', 'taxdelinquencyflag_2017',\n",
       "       'bedroomcnt_2016', 'bathroomcnt_2016', 'roomcnt_2016',\n",
       "       'calculatedfinishedsquarefeet_2016', 'finishedsquarefeet12_2016',\n",
       "       'poolcnt_2016', 'buildingclasstypeid_2016', 'yearbuilt_2016',\n",
       "       'lotsizesquarefeet_2016', 'propertylandusetypeid_2016', 'latitude_2016',\n",
       "       'longitude_2016', 'rawcensustractandblock_2016',\n",
       "       'censustractandblock_2016', 'regionidneighborhood_2016',\n",
       "       'regionidcity_2016', 'regionidcounty_2016', 'regionidzip_2016',\n",
       "       'landtaxvaluedollarcnt_2016', 'structuretaxvaluedollarcnt_2016',\n",
       "       'taxamount_2016', 'taxvaluedollarcnt_2016', 'taxdelinquencyflag_2016'],\n",
       "      dtype='object')"
      ]
     },
     "execution_count": 22,
     "metadata": {},
     "output_type": "execute_result"
    }
   ],
   "source": [
    "properties_combined.columns"
   ]
  },
  {
   "cell_type": "code",
   "execution_count": 23,
   "metadata": {
    "collapsed": true
   },
   "outputs": [],
   "source": [
    "cols_to_use2= ['parcelid', 'bedroomcnt_2017', 'bathroomcnt_2017', 'roomcnt_2017',\n",
    "       'calculatedfinishedsquarefeet_2017', 'finishedsquarefeet12_2017',\n",
    "       'poolcnt_2017', 'buildingclasstypeid_2017', 'yearbuilt_2017',\n",
    "       'lotsizesquarefeet_2017', 'propertylandusetypeid_2017', 'latitude_2017',\n",
    "       'longitude_2017', 'rawcensustractandblock_2017',\n",
    "       'censustractandblock_2017', 'regionidneighborhood_2017',\n",
    "       'regionidcity_2017', 'regionidcounty_2017', 'regionidzip_2017',\n",
    "       'landtaxvaluedollarcnt_2017', 'structuretaxvaluedollarcnt_2017',\n",
    "       'taxamount_2017', 'taxvaluedollarcnt_2017', 'taxdelinquencyflag_2017',\n",
    "       'landtaxvaluedollarcnt_2016', 'structuretaxvaluedollarcnt_2016',\n",
    "       'taxamount_2016', 'taxvaluedollarcnt_2016', 'taxdelinquencyflag_2016']"
   ]
  },
  {
   "cell_type": "code",
   "execution_count": 24,
   "metadata": {
    "collapsed": true
   },
   "outputs": [],
   "source": [
    "properties_combined=properties_combined[cols_to_use2]"
   ]
  },
  {
   "cell_type": "code",
   "execution_count": 25,
   "metadata": {},
   "outputs": [
    {
     "data": {
      "text/plain": [
       "(2985217, 29)"
      ]
     },
     "execution_count": 25,
     "metadata": {},
     "output_type": "execute_result"
    }
   ],
   "source": [
    "properties_combined.shape"
   ]
  },
  {
   "cell_type": "code",
   "execution_count": 26,
   "metadata": {},
   "outputs": [
    {
     "data": {
      "text/html": [
       "<div>\n",
       "<style>\n",
       "    .dataframe thead tr:only-child th {\n",
       "        text-align: right;\n",
       "    }\n",
       "\n",
       "    .dataframe thead th {\n",
       "        text-align: left;\n",
       "    }\n",
       "\n",
       "    .dataframe tbody tr th {\n",
       "        vertical-align: top;\n",
       "    }\n",
       "</style>\n",
       "<table border=\"1\" class=\"dataframe\">\n",
       "  <thead>\n",
       "    <tr style=\"text-align: right;\">\n",
       "      <th></th>\n",
       "      <th>parcelid</th>\n",
       "      <th>bedroomcnt_2017</th>\n",
       "      <th>bathroomcnt_2017</th>\n",
       "      <th>roomcnt_2017</th>\n",
       "      <th>calculatedfinishedsquarefeet_2017</th>\n",
       "      <th>finishedsquarefeet12_2017</th>\n",
       "      <th>poolcnt_2017</th>\n",
       "      <th>buildingclasstypeid_2017</th>\n",
       "      <th>yearbuilt_2017</th>\n",
       "      <th>lotsizesquarefeet_2017</th>\n",
       "      <th>...</th>\n",
       "      <th>landtaxvaluedollarcnt_2017</th>\n",
       "      <th>structuretaxvaluedollarcnt_2017</th>\n",
       "      <th>taxamount_2017</th>\n",
       "      <th>taxvaluedollarcnt_2017</th>\n",
       "      <th>taxdelinquencyflag_2017</th>\n",
       "      <th>landtaxvaluedollarcnt_2016</th>\n",
       "      <th>structuretaxvaluedollarcnt_2016</th>\n",
       "      <th>taxamount_2016</th>\n",
       "      <th>taxvaluedollarcnt_2016</th>\n",
       "      <th>taxdelinquencyflag_2016</th>\n",
       "    </tr>\n",
       "  </thead>\n",
       "  <tbody>\n",
       "    <tr>\n",
       "      <th>0</th>\n",
       "      <td>10754147</td>\n",
       "      <td>0.0</td>\n",
       "      <td>0.0</td>\n",
       "      <td>0.0</td>\n",
       "      <td>NaN</td>\n",
       "      <td>NaN</td>\n",
       "      <td>NaN</td>\n",
       "      <td>NaN</td>\n",
       "      <td>NaN</td>\n",
       "      <td>85768.0</td>\n",
       "      <td>...</td>\n",
       "      <td>9.0</td>\n",
       "      <td>NaN</td>\n",
       "      <td>NaN</td>\n",
       "      <td>9.0</td>\n",
       "      <td>NaN</td>\n",
       "      <td>9.0</td>\n",
       "      <td>NaN</td>\n",
       "      <td>NaN</td>\n",
       "      <td>9.0</td>\n",
       "      <td>NaN</td>\n",
       "    </tr>\n",
       "    <tr>\n",
       "      <th>1</th>\n",
       "      <td>10759547</td>\n",
       "      <td>0.0</td>\n",
       "      <td>0.0</td>\n",
       "      <td>0.0</td>\n",
       "      <td>NaN</td>\n",
       "      <td>NaN</td>\n",
       "      <td>NaN</td>\n",
       "      <td>NaN</td>\n",
       "      <td>NaN</td>\n",
       "      <td>4083.0</td>\n",
       "      <td>...</td>\n",
       "      <td>27516.0</td>\n",
       "      <td>NaN</td>\n",
       "      <td>NaN</td>\n",
       "      <td>27516.0</td>\n",
       "      <td>NaN</td>\n",
       "      <td>27516.0</td>\n",
       "      <td>NaN</td>\n",
       "      <td>NaN</td>\n",
       "      <td>27516.0</td>\n",
       "      <td>NaN</td>\n",
       "    </tr>\n",
       "  </tbody>\n",
       "</table>\n",
       "<p>2 rows × 29 columns</p>\n",
       "</div>"
      ],
      "text/plain": [
       "   parcelid  bedroomcnt_2017  bathroomcnt_2017  roomcnt_2017  \\\n",
       "0  10754147              0.0               0.0           0.0   \n",
       "1  10759547              0.0               0.0           0.0   \n",
       "\n",
       "   calculatedfinishedsquarefeet_2017  finishedsquarefeet12_2017  poolcnt_2017  \\\n",
       "0                                NaN                        NaN           NaN   \n",
       "1                                NaN                        NaN           NaN   \n",
       "\n",
       "   buildingclasstypeid_2017  yearbuilt_2017  lotsizesquarefeet_2017  \\\n",
       "0                       NaN             NaN                 85768.0   \n",
       "1                       NaN             NaN                  4083.0   \n",
       "\n",
       "            ...             landtaxvaluedollarcnt_2017  \\\n",
       "0           ...                                    9.0   \n",
       "1           ...                                27516.0   \n",
       "\n",
       "   structuretaxvaluedollarcnt_2017  taxamount_2017  taxvaluedollarcnt_2017  \\\n",
       "0                              NaN             NaN                     9.0   \n",
       "1                              NaN             NaN                 27516.0   \n",
       "\n",
       "   taxdelinquencyflag_2017  landtaxvaluedollarcnt_2016  \\\n",
       "0                      NaN                         9.0   \n",
       "1                      NaN                     27516.0   \n",
       "\n",
       "   structuretaxvaluedollarcnt_2016  taxamount_2016  taxvaluedollarcnt_2016  \\\n",
       "0                              NaN             NaN                     9.0   \n",
       "1                              NaN             NaN                 27516.0   \n",
       "\n",
       "   taxdelinquencyflag_2016  \n",
       "0                      NaN  \n",
       "1                      NaN  \n",
       "\n",
       "[2 rows x 29 columns]"
      ]
     },
     "execution_count": 26,
     "metadata": {},
     "output_type": "execute_result"
    }
   ],
   "source": [
    "properties_combined.head(2)"
   ]
  },
  {
   "cell_type": "code",
   "execution_count": 27,
   "metadata": {
    "collapsed": true
   },
   "outputs": [],
   "source": [
    "# Back up data \n",
    "properties_combined.to_csv('properties_combined_base', index=False)"
   ]
  },
  {
   "cell_type": "code",
   "execution_count": 28,
   "metadata": {},
   "outputs": [
    {
     "data": {
      "text/plain": [
       "340"
      ]
     },
     "execution_count": 28,
     "metadata": {},
     "output_type": "execute_result"
    }
   ],
   "source": [
    "del properties_2016, properties_2017; gc.collect()"
   ]
  },
  {
   "cell_type": "markdown",
   "metadata": {},
   "source": [
    "Prep combined data "
   ]
  },
  {
   "cell_type": "code",
   "execution_count": 29,
   "metadata": {
    "collapsed": true
   },
   "outputs": [],
   "source": [
    "# Treat NaNs for pools as 0; all others are 1 -- a boolean \n",
    "properties_combined.poolcnt_2017.fillna(value=0,inplace=True)"
   ]
  },
  {
   "cell_type": "code",
   "execution_count": 30,
   "metadata": {
    "collapsed": true
   },
   "outputs": [],
   "source": [
    "# Treat NaNs for taxdelinquency as 0; all others are 1 -- a boolean \n",
    "properties_combined.taxdelinquencyflag_2017.fillna(value=0,inplace=True)\n",
    "properties_combined.taxdelinquencyflag_2016.fillna(value=0,inplace=True)"
   ]
  },
  {
   "cell_type": "code",
   "execution_count": 31,
   "metadata": {
    "collapsed": true
   },
   "outputs": [],
   "source": [
    "# Change \"Y\" to 1 \n",
    "properties_combined.taxdelinquencyflag_2017=properties_combined.taxdelinquencyflag_2017.replace(to_replace='Y', value=1)\n",
    "properties_combined.taxdelinquencyflag_2016=properties_combined.taxdelinquencyflag_2016.replace(to_replace='Y', value=1)"
   ]
  },
  {
   "cell_type": "code",
   "execution_count": 32,
   "metadata": {},
   "outputs": [
    {
     "data": {
      "text/plain": [
       "1963.0"
      ]
     },
     "execution_count": 32,
     "metadata": {},
     "output_type": "execute_result"
    }
   ],
   "source": [
    "# Replace yearbuilt NaNs with median \n",
    "median=properties_combined.yearbuilt_2017.median()\n",
    "median"
   ]
  },
  {
   "cell_type": "code",
   "execution_count": 33,
   "metadata": {
    "collapsed": true
   },
   "outputs": [],
   "source": [
    "properties_combined.yearbuilt_2017.fillna(median, inplace=True)"
   ]
  },
  {
   "cell_type": "code",
   "execution_count": 34,
   "metadata": {},
   "outputs": [
    {
     "name": "stdout",
     "output_type": "stream",
     "text": [
      "2972486\n"
     ]
    }
   ],
   "source": [
    "# Drop column b/c of excessive NaNs \n",
    "print(properties_combined.buildingclasstypeid_2017.isnull().sum())\n",
    "properties_combined.drop('buildingclasstypeid_2017', axis=1, inplace=True)"
   ]
  },
  {
   "cell_type": "code",
   "execution_count": 35,
   "metadata": {},
   "outputs": [
    {
     "data": {
      "text/plain": [
       "0.0     2315644\n",
       "6.0      178563\n",
       "7.0      156659\n",
       "8.0      120448\n",
       "5.0       99734\n",
       "9.0       45396\n",
       "4.0       42956\n",
       "10.0      10897\n",
       "3.0        6294\n",
       "Name: roomcnt_2017, dtype: int64"
      ]
     },
     "execution_count": 35,
     "metadata": {},
     "output_type": "execute_result"
    }
   ],
   "source": [
    "# Room count has too many 0's - drop \n",
    "properties_combined.roomcnt_2017.value_counts()[:3]"
   ]
  },
  {
   "cell_type": "code",
   "execution_count": 36,
   "metadata": {
    "collapsed": true
   },
   "outputs": [],
   "source": [
    "properties_combined.drop('roomcnt_2017', axis=1, inplace=True)"
   ]
  },
  {
   "cell_type": "code",
   "execution_count": 37,
   "metadata": {
    "collapsed": true
   },
   "outputs": [],
   "source": [
    "# Excessive NaNs with 'finished square feet 12'\n",
    "properties_combined.drop('finishedsquarefeet12_2017', axis=1, inplace=True)"
   ]
  },
  {
   "cell_type": "markdown",
   "metadata": {},
   "source": [
    "Geo-specific transformations "
   ]
  },
  {
   "cell_type": "code",
   "execution_count": 38,
   "metadata": {
    "collapsed": true
   },
   "outputs": [],
   "source": [
    "# Need to divide longitude/latitude by 1,000,000 to make proper geo points "
   ]
  },
  {
   "cell_type": "code",
   "execution_count": 39,
   "metadata": {
    "collapsed": true
   },
   "outputs": [],
   "source": [
    "properties_combined.latitude_2017=properties_combined.latitude_2017.apply(lambda x : x / 1000000)\n",
    "properties_combined.longitude_2017=properties_combined.longitude_2017.apply(lambda x : x / 1000000)"
   ]
  },
  {
   "cell_type": "code",
   "execution_count": 40,
   "metadata": {},
   "outputs": [
    {
     "data": {
      "text/plain": [
       "0    34.144442\n",
       "1    34.140430\n",
       "2    33.989359\n",
       "3    34.148863\n",
       "4    34.194168\n",
       "Name: latitude_2017, dtype: float64"
      ]
     },
     "execution_count": 40,
     "metadata": {},
     "output_type": "execute_result"
    }
   ],
   "source": [
    "properties_combined.latitude_2017[:5]"
   ]
  },
  {
   "cell_type": "markdown",
   "metadata": {},
   "source": [
    "Google API has limit of 2500 queries (eg, zip codes) per day;  the number of missing zip codes in properties is 12,714; \n",
    "the actual number of zip codes we will need is tied more closely to the actual train/test datasets, which is smaller than \n",
    "properties; to get around the limit, I am importing zip codes from an earlier geocode of this smaller dataset and combining\n",
    "with the properties dataset; I will then fill any remaining NaNs with zip code 999999 in the event that a small number of properties w/o zip codes make their way into final test data (we don't know exactly which properties will be sold in last Q of \n",
    "2017)"
   ]
  },
  {
   "cell_type": "code",
   "execution_count": null,
   "metadata": {
    "collapsed": true
   },
   "outputs": [],
   "source": [
    "# # This code works absent the API limit \n",
    "# prop_nozip=properties_combined[[\"parcelid\", \"regionidzip_2017\", 'latitude_2017', 'longitude_2017']]\\\n",
    "# prop_nozip.regionidzip_2017.isnull().sum()\n",
    "# from pygeocoder import Geocoder\n",
    "# g=Geocoder()\n",
    "# properties_combined['regionidzip_derived']=properties_combined.apply(lambda row: g.reverse_geocode(row['latitude_2017'],\n",
    "#                                                                      row['longitude_2017']).postal_code, axis=1)"
   ]
  },
  {
   "cell_type": "code",
   "execution_count": 41,
   "metadata": {
    "collapsed": true
   },
   "outputs": [],
   "source": [
    "# Import previously engineered file of missing zips from training/test data \n",
    "propX=pd.read_csv('prop4A.csv')"
   ]
  },
  {
   "cell_type": "code",
   "execution_count": 42,
   "metadata": {
    "collapsed": true
   },
   "outputs": [],
   "source": [
    "propX.drop(['latitude', 'longitude', 'regionidzip'], axis=1, inplace=True)"
   ]
  },
  {
   "cell_type": "code",
   "execution_count": 43,
   "metadata": {},
   "outputs": [
    {
     "data": {
      "text/html": [
       "<div>\n",
       "<style>\n",
       "    .dataframe thead tr:only-child th {\n",
       "        text-align: right;\n",
       "    }\n",
       "\n",
       "    .dataframe thead th {\n",
       "        text-align: left;\n",
       "    }\n",
       "\n",
       "    .dataframe tbody tr th {\n",
       "        vertical-align: top;\n",
       "    }\n",
       "</style>\n",
       "<table border=\"1\" class=\"dataframe\">\n",
       "  <thead>\n",
       "    <tr style=\"text-align: right;\">\n",
       "      <th></th>\n",
       "      <th>parcelid</th>\n",
       "      <th>regionidzip2</th>\n",
       "    </tr>\n",
       "  </thead>\n",
       "  <tbody>\n",
       "    <tr>\n",
       "      <th>0</th>\n",
       "      <td>76914147</td>\n",
       "      <td>91436</td>\n",
       "    </tr>\n",
       "    <tr>\n",
       "      <th>1</th>\n",
       "      <td>76914347</td>\n",
       "      <td>91340</td>\n",
       "    </tr>\n",
       "    <tr>\n",
       "      <th>2</th>\n",
       "      <td>76914547</td>\n",
       "      <td>91355</td>\n",
       "    </tr>\n",
       "  </tbody>\n",
       "</table>\n",
       "</div>"
      ],
      "text/plain": [
       "   parcelid  regionidzip2\n",
       "0  76914147         91436\n",
       "1  76914347         91340\n",
       "2  76914547         91355"
      ]
     },
     "execution_count": 43,
     "metadata": {},
     "output_type": "execute_result"
    }
   ],
   "source": [
    "propX.head(3)"
   ]
  },
  {
   "cell_type": "code",
   "execution_count": 44,
   "metadata": {
    "collapsed": true
   },
   "outputs": [],
   "source": [
    "# Merge these zips back into the main properties file \n",
    "properties_combined=properties_combined.merge(propX, on='parcelid', how='left')"
   ]
  },
  {
   "cell_type": "code",
   "execution_count": 45,
   "metadata": {},
   "outputs": [
    {
     "data": {
      "text/html": [
       "<div>\n",
       "<style>\n",
       "    .dataframe thead tr:only-child th {\n",
       "        text-align: right;\n",
       "    }\n",
       "\n",
       "    .dataframe thead th {\n",
       "        text-align: left;\n",
       "    }\n",
       "\n",
       "    .dataframe tbody tr th {\n",
       "        vertical-align: top;\n",
       "    }\n",
       "</style>\n",
       "<table border=\"1\" class=\"dataframe\">\n",
       "  <thead>\n",
       "    <tr style=\"text-align: right;\">\n",
       "      <th></th>\n",
       "      <th>parcelid</th>\n",
       "      <th>bedroomcnt_2017</th>\n",
       "      <th>bathroomcnt_2017</th>\n",
       "      <th>calculatedfinishedsquarefeet_2017</th>\n",
       "      <th>poolcnt_2017</th>\n",
       "      <th>yearbuilt_2017</th>\n",
       "      <th>lotsizesquarefeet_2017</th>\n",
       "      <th>propertylandusetypeid_2017</th>\n",
       "      <th>latitude_2017</th>\n",
       "      <th>longitude_2017</th>\n",
       "      <th>...</th>\n",
       "      <th>structuretaxvaluedollarcnt_2017</th>\n",
       "      <th>taxamount_2017</th>\n",
       "      <th>taxvaluedollarcnt_2017</th>\n",
       "      <th>taxdelinquencyflag_2017</th>\n",
       "      <th>landtaxvaluedollarcnt_2016</th>\n",
       "      <th>structuretaxvaluedollarcnt_2016</th>\n",
       "      <th>taxamount_2016</th>\n",
       "      <th>taxvaluedollarcnt_2016</th>\n",
       "      <th>taxdelinquencyflag_2016</th>\n",
       "      <th>regionidzip2</th>\n",
       "    </tr>\n",
       "  </thead>\n",
       "  <tbody>\n",
       "    <tr>\n",
       "      <th>0</th>\n",
       "      <td>10754147</td>\n",
       "      <td>0.0</td>\n",
       "      <td>0.0</td>\n",
       "      <td>NaN</td>\n",
       "      <td>0.0</td>\n",
       "      <td>1963.0</td>\n",
       "      <td>85768.0</td>\n",
       "      <td>269.0</td>\n",
       "      <td>34.144442</td>\n",
       "      <td>-118.654084</td>\n",
       "      <td>...</td>\n",
       "      <td>NaN</td>\n",
       "      <td>NaN</td>\n",
       "      <td>9.0</td>\n",
       "      <td>0</td>\n",
       "      <td>9.0</td>\n",
       "      <td>NaN</td>\n",
       "      <td>NaN</td>\n",
       "      <td>9.0</td>\n",
       "      <td>0</td>\n",
       "      <td>NaN</td>\n",
       "    </tr>\n",
       "    <tr>\n",
       "      <th>1</th>\n",
       "      <td>10759547</td>\n",
       "      <td>0.0</td>\n",
       "      <td>0.0</td>\n",
       "      <td>NaN</td>\n",
       "      <td>0.0</td>\n",
       "      <td>1963.0</td>\n",
       "      <td>4083.0</td>\n",
       "      <td>261.0</td>\n",
       "      <td>34.140430</td>\n",
       "      <td>-118.625364</td>\n",
       "      <td>...</td>\n",
       "      <td>NaN</td>\n",
       "      <td>NaN</td>\n",
       "      <td>27516.0</td>\n",
       "      <td>0</td>\n",
       "      <td>27516.0</td>\n",
       "      <td>NaN</td>\n",
       "      <td>NaN</td>\n",
       "      <td>27516.0</td>\n",
       "      <td>0</td>\n",
       "      <td>NaN</td>\n",
       "    </tr>\n",
       "  </tbody>\n",
       "</table>\n",
       "<p>2 rows × 27 columns</p>\n",
       "</div>"
      ],
      "text/plain": [
       "   parcelid  bedroomcnt_2017  bathroomcnt_2017  \\\n",
       "0  10754147              0.0               0.0   \n",
       "1  10759547              0.0               0.0   \n",
       "\n",
       "   calculatedfinishedsquarefeet_2017  poolcnt_2017  yearbuilt_2017  \\\n",
       "0                                NaN           0.0          1963.0   \n",
       "1                                NaN           0.0          1963.0   \n",
       "\n",
       "   lotsizesquarefeet_2017  propertylandusetypeid_2017  latitude_2017  \\\n",
       "0                 85768.0                       269.0      34.144442   \n",
       "1                  4083.0                       261.0      34.140430   \n",
       "\n",
       "   longitude_2017      ...       structuretaxvaluedollarcnt_2017  \\\n",
       "0     -118.654084      ...                                   NaN   \n",
       "1     -118.625364      ...                                   NaN   \n",
       "\n",
       "   taxamount_2017  taxvaluedollarcnt_2017  taxdelinquencyflag_2017  \\\n",
       "0             NaN                     9.0                        0   \n",
       "1             NaN                 27516.0                        0   \n",
       "\n",
       "   landtaxvaluedollarcnt_2016  structuretaxvaluedollarcnt_2016  \\\n",
       "0                         9.0                              NaN   \n",
       "1                     27516.0                              NaN   \n",
       "\n",
       "   taxamount_2016  taxvaluedollarcnt_2016  taxdelinquencyflag_2016  \\\n",
       "0             NaN                     9.0                        0   \n",
       "1             NaN                 27516.0                        0   \n",
       "\n",
       "   regionidzip2  \n",
       "0           NaN  \n",
       "1           NaN  \n",
       "\n",
       "[2 rows x 27 columns]"
      ]
     },
     "execution_count": 45,
     "metadata": {},
     "output_type": "execute_result"
    }
   ],
   "source": [
    "properties_combined.head(2)"
   ]
  },
  {
   "cell_type": "code",
   "execution_count": 46,
   "metadata": {},
   "outputs": [
    {
     "data": {
      "text/plain": [
       "12714"
      ]
     },
     "execution_count": 46,
     "metadata": {},
     "output_type": "execute_result"
    }
   ],
   "source": [
    "properties_combined.regionidzip_2017.isnull().sum()"
   ]
  },
  {
   "cell_type": "code",
   "execution_count": 47,
   "metadata": {
    "collapsed": true
   },
   "outputs": [],
   "source": [
    "properties_combined.regionidzip_2017.fillna(properties_combined['regionidzip2'], inplace=True)"
   ]
  },
  {
   "cell_type": "code",
   "execution_count": 48,
   "metadata": {},
   "outputs": [
    {
     "data": {
      "text/plain": [
       "11868"
      ]
     },
     "execution_count": 48,
     "metadata": {},
     "output_type": "execute_result"
    }
   ],
   "source": [
    "properties_combined.regionidzip_2017.isnull().sum()"
   ]
  },
  {
   "cell_type": "code",
   "execution_count": 49,
   "metadata": {
    "collapsed": true
   },
   "outputs": [],
   "source": [
    "properties_combined.regionidzip_2017.fillna(99999, inplace=True)"
   ]
  },
  {
   "cell_type": "code",
   "execution_count": 50,
   "metadata": {},
   "outputs": [
    {
     "data": {
      "text/plain": [
       "0"
      ]
     },
     "execution_count": 50,
     "metadata": {},
     "output_type": "execute_result"
    }
   ],
   "source": [
    "properties_combined.regionidzip_2017.isnull().sum()"
   ]
  },
  {
   "cell_type": "code",
   "execution_count": 51,
   "metadata": {},
   "outputs": [
    {
     "data": {
      "text/plain": [
       "(2985217, 27)"
      ]
     },
     "execution_count": 51,
     "metadata": {},
     "output_type": "execute_result"
    }
   ],
   "source": [
    "properties_combined.shape"
   ]
  },
  {
   "cell_type": "code",
   "execution_count": 52,
   "metadata": {
    "collapsed": true
   },
   "outputs": [],
   "source": [
    "properties_combined.drop(['regionidzip2'], axis=1, inplace=True)"
   ]
  },
  {
   "cell_type": "code",
   "execution_count": 53,
   "metadata": {},
   "outputs": [
    {
     "data": {
      "text/plain": [
       "(2985217, 26)"
      ]
     },
     "execution_count": 53,
     "metadata": {},
     "output_type": "execute_result"
    }
   ],
   "source": [
    "properties_combined.shape"
   ]
  },
  {
   "cell_type": "code",
   "execution_count": 77,
   "metadata": {
    "collapsed": true
   },
   "outputs": [],
   "source": [
    "# # Back up \n",
    "# properties_combined.to_csv('properties_combined_base2', index=False)"
   ]
  },
  {
   "cell_type": "code",
   "execution_count": 54,
   "metadata": {},
   "outputs": [
    {
     "data": {
      "text/plain": [
       "565"
      ]
     },
     "execution_count": 54,
     "metadata": {},
     "output_type": "execute_result"
    }
   ],
   "source": [
    "del propX; gc.collect()"
   ]
  },
  {
   "cell_type": "markdown",
   "metadata": {},
   "source": [
    "More data transformations: bed and bath counts, square feet, tax value/amount"
   ]
  },
  {
   "cell_type": "code",
   "execution_count": 55,
   "metadata": {},
   "outputs": [
    {
     "data": {
      "text/plain": [
       "parcelid                                   0\n",
       "bedroomcnt_2017                         2945\n",
       "bathroomcnt_2017                        2957\n",
       "calculatedfinishedsquarefeet_2017      45097\n",
       "poolcnt_2017                               0\n",
       "yearbuilt_2017                             0\n",
       "lotsizesquarefeet_2017                272706\n",
       "propertylandusetypeid_2017              2932\n",
       "latitude_2017                           2932\n",
       "longitude_2017                          2932\n",
       "rawcensustractandblock_2017             2932\n",
       "censustractandblock_2017               74985\n",
       "regionidneighborhood_2017            1828476\n",
       "regionidcity_2017                      62128\n",
       "regionidcounty_2017                     2932\n",
       "regionidzip_2017                           0\n",
       "landtaxvaluedollarcnt_2017             59926\n",
       "structuretaxvaluedollarcnt_2017        46464\n",
       "taxamount_2017                         22752\n",
       "taxvaluedollarcnt_2017                 34266\n",
       "taxdelinquencyflag_2017                    0\n",
       "landtaxvaluedollarcnt_2016             67733\n",
       "structuretaxvaluedollarcnt_2016        54982\n",
       "taxamount_2016                         31250\n",
       "taxvaluedollarcnt_2016                 42550\n",
       "taxdelinquencyflag_2016                    0\n",
       "dtype: int64"
      ]
     },
     "execution_count": 55,
     "metadata": {},
     "output_type": "execute_result"
    }
   ],
   "source": [
    "properties_combined.isnull().sum()"
   ]
  },
  {
   "cell_type": "code",
   "execution_count": null,
   "metadata": {
    "collapsed": true
   },
   "outputs": [],
   "source": [
    "# Use zip code mean to impute missing tax amounts \n",
    "grouped=properties_combined.groupby('regionidzip_2017')['taxamount_2017'].aggregate({'taxamount_mean_2017': np.mean}).reset_index()"
   ]
  },
  {
   "cell_type": "code",
   "execution_count": 57,
   "metadata": {},
   "outputs": [
    {
     "data": {
      "text/html": [
       "<div>\n",
       "<style>\n",
       "    .dataframe thead tr:only-child th {\n",
       "        text-align: right;\n",
       "    }\n",
       "\n",
       "    .dataframe thead th {\n",
       "        text-align: left;\n",
       "    }\n",
       "\n",
       "    .dataframe tbody tr th {\n",
       "        vertical-align: top;\n",
       "    }\n",
       "</style>\n",
       "<table border=\"1\" class=\"dataframe\">\n",
       "  <thead>\n",
       "    <tr style=\"text-align: right;\">\n",
       "      <th></th>\n",
       "      <th>regionidzip_2017</th>\n",
       "      <th>taxamount_mean_2017</th>\n",
       "    </tr>\n",
       "  </thead>\n",
       "  <tbody>\n",
       "    <tr>\n",
       "      <th>0</th>\n",
       "      <td>90022.0</td>\n",
       "      <td>8357.3100</td>\n",
       "    </tr>\n",
       "    <tr>\n",
       "      <th>1</th>\n",
       "      <td>90024.0</td>\n",
       "      <td>32918.1200</td>\n",
       "    </tr>\n",
       "    <tr>\n",
       "      <th>2</th>\n",
       "      <td>90025.0</td>\n",
       "      <td>11261.4500</td>\n",
       "    </tr>\n",
       "    <tr>\n",
       "      <th>3</th>\n",
       "      <td>90028.0</td>\n",
       "      <td>41769.2940</td>\n",
       "    </tr>\n",
       "    <tr>\n",
       "      <th>4</th>\n",
       "      <td>90031.0</td>\n",
       "      <td>1046.3375</td>\n",
       "    </tr>\n",
       "  </tbody>\n",
       "</table>\n",
       "</div>"
      ],
      "text/plain": [
       "   regionidzip_2017  taxamount_mean_2017\n",
       "0           90022.0            8357.3100\n",
       "1           90024.0           32918.1200\n",
       "2           90025.0           11261.4500\n",
       "3           90028.0           41769.2940\n",
       "4           90031.0            1046.3375"
      ]
     },
     "execution_count": 57,
     "metadata": {},
     "output_type": "execute_result"
    }
   ],
   "source": [
    "grouped[:5]"
   ]
  },
  {
   "cell_type": "code",
   "execution_count": 58,
   "metadata": {
    "collapsed": true
   },
   "outputs": [],
   "source": [
    "properties_combined=properties_combined.merge(grouped, on='regionidzip_2017', how='left')"
   ]
  },
  {
   "cell_type": "code",
   "execution_count": null,
   "metadata": {
    "collapsed": true
   },
   "outputs": [],
   "source": [
    "grouped=properties_combined.groupby('regionidzip_2017')['taxamount_2016'].aggregate({'taxamount_mean_2016': np.mean}).reset_index()"
   ]
  },
  {
   "cell_type": "code",
   "execution_count": 60,
   "metadata": {},
   "outputs": [
    {
     "data": {
      "text/html": [
       "<div>\n",
       "<style>\n",
       "    .dataframe thead tr:only-child th {\n",
       "        text-align: right;\n",
       "    }\n",
       "\n",
       "    .dataframe thead th {\n",
       "        text-align: left;\n",
       "    }\n",
       "\n",
       "    .dataframe tbody tr th {\n",
       "        vertical-align: top;\n",
       "    }\n",
       "</style>\n",
       "<table border=\"1\" class=\"dataframe\">\n",
       "  <thead>\n",
       "    <tr style=\"text-align: right;\">\n",
       "      <th></th>\n",
       "      <th>regionidzip_2017</th>\n",
       "      <th>taxamount_mean_2016</th>\n",
       "    </tr>\n",
       "  </thead>\n",
       "  <tbody>\n",
       "    <tr>\n",
       "      <th>0</th>\n",
       "      <td>90022.0</td>\n",
       "      <td>8357.3100</td>\n",
       "    </tr>\n",
       "    <tr>\n",
       "      <th>1</th>\n",
       "      <td>90024.0</td>\n",
       "      <td>32918.1200</td>\n",
       "    </tr>\n",
       "    <tr>\n",
       "      <th>2</th>\n",
       "      <td>90025.0</td>\n",
       "      <td>11261.4500</td>\n",
       "    </tr>\n",
       "    <tr>\n",
       "      <th>3</th>\n",
       "      <td>90028.0</td>\n",
       "      <td>41769.2940</td>\n",
       "    </tr>\n",
       "    <tr>\n",
       "      <th>4</th>\n",
       "      <td>90031.0</td>\n",
       "      <td>1046.3375</td>\n",
       "    </tr>\n",
       "  </tbody>\n",
       "</table>\n",
       "</div>"
      ],
      "text/plain": [
       "   regionidzip_2017  taxamount_mean_2016\n",
       "0           90022.0            8357.3100\n",
       "1           90024.0           32918.1200\n",
       "2           90025.0           11261.4500\n",
       "3           90028.0           41769.2940\n",
       "4           90031.0            1046.3375"
      ]
     },
     "execution_count": 60,
     "metadata": {},
     "output_type": "execute_result"
    }
   ],
   "source": [
    "grouped[:5]"
   ]
  },
  {
   "cell_type": "code",
   "execution_count": 61,
   "metadata": {
    "collapsed": true
   },
   "outputs": [],
   "source": [
    "properties_combined=properties_combined.merge(grouped, on='regionidzip_2017', how='left')"
   ]
  },
  {
   "cell_type": "code",
   "execution_count": 62,
   "metadata": {},
   "outputs": [
    {
     "data": {
      "text/html": [
       "<div>\n",
       "<style>\n",
       "    .dataframe thead tr:only-child th {\n",
       "        text-align: right;\n",
       "    }\n",
       "\n",
       "    .dataframe thead th {\n",
       "        text-align: left;\n",
       "    }\n",
       "\n",
       "    .dataframe tbody tr th {\n",
       "        vertical-align: top;\n",
       "    }\n",
       "</style>\n",
       "<table border=\"1\" class=\"dataframe\">\n",
       "  <thead>\n",
       "    <tr style=\"text-align: right;\">\n",
       "      <th></th>\n",
       "      <th>parcelid</th>\n",
       "      <th>bedroomcnt_2017</th>\n",
       "      <th>bathroomcnt_2017</th>\n",
       "      <th>calculatedfinishedsquarefeet_2017</th>\n",
       "      <th>poolcnt_2017</th>\n",
       "      <th>yearbuilt_2017</th>\n",
       "      <th>lotsizesquarefeet_2017</th>\n",
       "      <th>propertylandusetypeid_2017</th>\n",
       "      <th>latitude_2017</th>\n",
       "      <th>longitude_2017</th>\n",
       "      <th>...</th>\n",
       "      <th>taxamount_2017</th>\n",
       "      <th>taxvaluedollarcnt_2017</th>\n",
       "      <th>taxdelinquencyflag_2017</th>\n",
       "      <th>landtaxvaluedollarcnt_2016</th>\n",
       "      <th>structuretaxvaluedollarcnt_2016</th>\n",
       "      <th>taxamount_2016</th>\n",
       "      <th>taxvaluedollarcnt_2016</th>\n",
       "      <th>taxdelinquencyflag_2016</th>\n",
       "      <th>taxamount_mean_2017</th>\n",
       "      <th>taxamount_mean_2016</th>\n",
       "    </tr>\n",
       "  </thead>\n",
       "  <tbody>\n",
       "    <tr>\n",
       "      <th>0</th>\n",
       "      <td>10754147</td>\n",
       "      <td>0.0</td>\n",
       "      <td>0.0</td>\n",
       "      <td>NaN</td>\n",
       "      <td>0.0</td>\n",
       "      <td>1963.0</td>\n",
       "      <td>85768.0</td>\n",
       "      <td>269.0</td>\n",
       "      <td>34.144442</td>\n",
       "      <td>-118.654084</td>\n",
       "      <td>...</td>\n",
       "      <td>NaN</td>\n",
       "      <td>9.0</td>\n",
       "      <td>0</td>\n",
       "      <td>9.0</td>\n",
       "      <td>NaN</td>\n",
       "      <td>NaN</td>\n",
       "      <td>9.0</td>\n",
       "      <td>0</td>\n",
       "      <td>12789.835052</td>\n",
       "      <td>12773.728669</td>\n",
       "    </tr>\n",
       "    <tr>\n",
       "      <th>1</th>\n",
       "      <td>10759547</td>\n",
       "      <td>0.0</td>\n",
       "      <td>0.0</td>\n",
       "      <td>NaN</td>\n",
       "      <td>0.0</td>\n",
       "      <td>1963.0</td>\n",
       "      <td>4083.0</td>\n",
       "      <td>261.0</td>\n",
       "      <td>34.140430</td>\n",
       "      <td>-118.625364</td>\n",
       "      <td>...</td>\n",
       "      <td>NaN</td>\n",
       "      <td>27516.0</td>\n",
       "      <td>0</td>\n",
       "      <td>27516.0</td>\n",
       "      <td>NaN</td>\n",
       "      <td>NaN</td>\n",
       "      <td>27516.0</td>\n",
       "      <td>0</td>\n",
       "      <td>12789.835052</td>\n",
       "      <td>12773.728669</td>\n",
       "    </tr>\n",
       "  </tbody>\n",
       "</table>\n",
       "<p>2 rows × 28 columns</p>\n",
       "</div>"
      ],
      "text/plain": [
       "   parcelid  bedroomcnt_2017  bathroomcnt_2017  \\\n",
       "0  10754147              0.0               0.0   \n",
       "1  10759547              0.0               0.0   \n",
       "\n",
       "   calculatedfinishedsquarefeet_2017  poolcnt_2017  yearbuilt_2017  \\\n",
       "0                                NaN           0.0          1963.0   \n",
       "1                                NaN           0.0          1963.0   \n",
       "\n",
       "   lotsizesquarefeet_2017  propertylandusetypeid_2017  latitude_2017  \\\n",
       "0                 85768.0                       269.0      34.144442   \n",
       "1                  4083.0                       261.0      34.140430   \n",
       "\n",
       "   longitude_2017         ...           taxamount_2017  \\\n",
       "0     -118.654084         ...                      NaN   \n",
       "1     -118.625364         ...                      NaN   \n",
       "\n",
       "   taxvaluedollarcnt_2017  taxdelinquencyflag_2017  \\\n",
       "0                     9.0                        0   \n",
       "1                 27516.0                        0   \n",
       "\n",
       "   landtaxvaluedollarcnt_2016  structuretaxvaluedollarcnt_2016  \\\n",
       "0                         9.0                              NaN   \n",
       "1                     27516.0                              NaN   \n",
       "\n",
       "   taxamount_2016  taxvaluedollarcnt_2016  taxdelinquencyflag_2016  \\\n",
       "0             NaN                     9.0                        0   \n",
       "1             NaN                 27516.0                        0   \n",
       "\n",
       "   taxamount_mean_2017  taxamount_mean_2016  \n",
       "0         12789.835052         12773.728669  \n",
       "1         12789.835052         12773.728669  \n",
       "\n",
       "[2 rows x 28 columns]"
      ]
     },
     "execution_count": 62,
     "metadata": {},
     "output_type": "execute_result"
    }
   ],
   "source": [
    "properties_combined.head(2)"
   ]
  },
  {
   "cell_type": "code",
   "execution_count": 63,
   "metadata": {},
   "outputs": [
    {
     "data": {
      "text/plain": [
       "22752"
      ]
     },
     "execution_count": 63,
     "metadata": {},
     "output_type": "execute_result"
    }
   ],
   "source": [
    "properties_combined.taxamount_2017.isnull().sum()"
   ]
  },
  {
   "cell_type": "code",
   "execution_count": 64,
   "metadata": {
    "collapsed": true
   },
   "outputs": [],
   "source": [
    "properties_combined.taxamount_2017.fillna(properties_combined['taxamount_mean_2017'], inplace=True)"
   ]
  },
  {
   "cell_type": "code",
   "execution_count": 65,
   "metadata": {},
   "outputs": [
    {
     "data": {
      "text/plain": [
       "40"
      ]
     },
     "execution_count": 65,
     "metadata": {},
     "output_type": "execute_result"
    }
   ],
   "source": [
    "properties_combined.taxamount_2017.isnull().sum()"
   ]
  },
  {
   "cell_type": "code",
   "execution_count": 66,
   "metadata": {
    "collapsed": true
   },
   "outputs": [],
   "source": [
    "# Use overall mean (not by zip code) for the small number NaNs remaining  \n",
    "properties_combined.taxamount_2017.fillna(properties_combined.taxamount_2017.mean(), inplace=True)"
   ]
  },
  {
   "cell_type": "code",
   "execution_count": 67,
   "metadata": {},
   "outputs": [
    {
     "data": {
      "text/plain": [
       "0"
      ]
     },
     "execution_count": 67,
     "metadata": {},
     "output_type": "execute_result"
    }
   ],
   "source": [
    "properties_combined.taxamount_2017.isnull().sum()"
   ]
  },
  {
   "cell_type": "code",
   "execution_count": 68,
   "metadata": {},
   "outputs": [
    {
     "data": {
      "text/plain": [
       "31250"
      ]
     },
     "execution_count": 68,
     "metadata": {},
     "output_type": "execute_result"
    }
   ],
   "source": [
    "# Repeat for 2016 \n",
    "properties_combined.taxamount_2016.isnull().sum()"
   ]
  },
  {
   "cell_type": "code",
   "execution_count": 69,
   "metadata": {
    "collapsed": true
   },
   "outputs": [],
   "source": [
    "properties_combined.taxamount_2016.fillna(properties_combined['taxamount_mean_2016'], inplace=True)"
   ]
  },
  {
   "cell_type": "code",
   "execution_count": 70,
   "metadata": {},
   "outputs": [
    {
     "data": {
      "text/plain": [
       "40"
      ]
     },
     "execution_count": 70,
     "metadata": {},
     "output_type": "execute_result"
    }
   ],
   "source": [
    "properties_combined.taxamount_2016.isnull().sum()"
   ]
  },
  {
   "cell_type": "code",
   "execution_count": 71,
   "metadata": {},
   "outputs": [
    {
     "data": {
      "text/plain": [
       "0"
      ]
     },
     "execution_count": 71,
     "metadata": {},
     "output_type": "execute_result"
    }
   ],
   "source": [
    "properties_combined.taxamount_2016.fillna(properties_combined.taxamount_2016.mean(), inplace=True)\n",
    "properties_combined.taxamount_2016.isnull().sum()"
   ]
  },
  {
   "cell_type": "code",
   "execution_count": null,
   "metadata": {
    "collapsed": true
   },
   "outputs": [],
   "source": [
    "# Same process for taxvalue dollar count \n",
    "grouped=properties_combined.groupby('regionidzip_2017')['taxvaluedollarcnt_2017'].aggregate({'taxvaluedollarcnt_2017_mean': np.mean}).reset_index()\n",
    "properties_combined=properties_combined.merge(grouped, on='regionidzip_2017', how='left')\n",
    "properties_combined.taxvaluedollarcnt_2017.fillna(properties_combined['taxvaluedollarcnt_2017_mean'], inplace=True)\n",
    "properties_combined.taxvaluedollarcnt_2017.fillna(properties_combined.taxvaluedollarcnt_2017.mean(), inplace=True)\n",
    "properties_combined.taxvaluedollarcnt_2017.isnull().sum()"
   ]
  },
  {
   "cell_type": "code",
   "execution_count": null,
   "metadata": {
    "collapsed": true
   },
   "outputs": [],
   "source": [
    "grouped=properties_combined.groupby('regionidzip_2017')['taxvaluedollarcnt_2016'].aggregate({'taxvaluedollarcnt_2016_mean': np.mean}).reset_index()\n",
    "properties_combined=properties_combined.merge(grouped, on='regionidzip_2017', how='left')\n",
    "properties_combined.taxvaluedollarcnt_2016.fillna(properties_combined['taxvaluedollarcnt_2016_mean'], inplace=True)\n",
    "properties_combined.taxvaluedollarcnt_2016.fillna(properties_combined.taxvaluedollarcnt_2016.mean(), inplace=True)\n",
    "properties_combined.taxvaluedollarcnt_2016.isnull().sum()"
   ]
  },
  {
   "cell_type": "code",
   "execution_count": null,
   "metadata": {
    "collapsed": true
   },
   "outputs": [],
   "source": [
    "# Same imputing method with landtaxvaluedollarcnt and structuretaxvaluedollarcnt  \n",
    "grouped=properties_combined.groupby('regionidzip_2017')['landtaxvaluedollarcnt_2016'].aggregate({'landtaxvaluedollarcnt_2016_mean': np.mean}).reset_index()\n",
    "properties_combined=properties_combined.merge(grouped, on='regionidzip_2017', how='left')\n",
    "properties_combined.landtaxvaluedollarcnt_2016.fillna(properties_combined['landtaxvaluedollarcnt_2016_mean'], inplace=True)\n",
    "properties_combined.landtaxvaluedollarcnt_2016.fillna(properties_combined.landtaxvaluedollarcnt_2016.mean(), inplace=True)\n",
    "properties_combined.landtaxvaluedollarcnt_2016.isnull().sum()\n"
   ]
  },
  {
   "cell_type": "code",
   "execution_count": null,
   "metadata": {
    "collapsed": true
   },
   "outputs": [],
   "source": [
    "grouped=properties_combined.groupby('regionidzip_2017')['landtaxvaluedollarcnt_2017'].aggregate({'landtaxvaluedollarcnt_2017_mean': np.mean}).reset_index()\n",
    "properties_combined=properties_combined.merge(grouped, on='regionidzip_2017', how='left')\n",
    "properties_combined.landtaxvaluedollarcnt_2017.fillna(properties_combined['landtaxvaluedollarcnt_2017_mean'], inplace=True)\n",
    "properties_combined.landtaxvaluedollarcnt_2017.fillna(properties_combined.landtaxvaluedollarcnt_2017.mean(), inplace=True)\n",
    "properties_combined.landtaxvaluedollarcnt_2017.isnull().sum()"
   ]
  },
  {
   "cell_type": "code",
   "execution_count": null,
   "metadata": {
    "collapsed": true
   },
   "outputs": [],
   "source": [
    "grouped=properties_combined.groupby('regionidzip_2017')['structuretaxvaluedollarcnt_2016'].aggregate({'structuretaxvaluedollarcnt_2016_mean': np.mean}).reset_index()\n",
    "properties_combined=properties_combined.merge(grouped, on='regionidzip_2017', how='left')\n",
    "properties_combined.structuretaxvaluedollarcnt_2016.fillna(properties_combined['structuretaxvaluedollarcnt_2016_mean'], inplace=True)\n",
    "properties_combined.structuretaxvaluedollarcnt_2016.fillna(properties_combined.structuretaxvaluedollarcnt_2016.mean(), inplace=True)\n",
    "properties_combined.structuretaxvaluedollarcnt_2016.isnull().sum()"
   ]
  },
  {
   "cell_type": "code",
   "execution_count": null,
   "metadata": {
    "collapsed": true
   },
   "outputs": [],
   "source": [
    "grouped=properties_combined.groupby('regionidzip_2017')['structuretaxvaluedollarcnt_2017'].aggregate({'structuretaxvaluedollarcnt_2017_mean': np.mean}).reset_index()\n",
    "properties_combined=properties_combined.merge(grouped, on='regionidzip_2017', how='left')\n",
    "properties_combined.structuretaxvaluedollarcnt_2017.fillna(properties_combined['structuretaxvaluedollarcnt_2017_mean'], inplace=True)\n",
    "properties_combined.structuretaxvaluedollarcnt_2017.fillna(properties_combined.structuretaxvaluedollarcnt_2017.mean(), inplace=True)\n",
    "properties_combined.structuretaxvaluedollarcnt_2017.isnull().sum()"
   ]
  },
  {
   "cell_type": "code",
   "execution_count": 78,
   "metadata": {
    "collapsed": true
   },
   "outputs": [],
   "source": [
    "del grouped; gc.collect()\n",
    "properties_combined.to_csv('properties_combined_base3A', index=False)"
   ]
  },
  {
   "cell_type": "code",
   "execution_count": 79,
   "metadata": {
    "collapsed": true
   },
   "outputs": [],
   "source": [
    "# Back up \n",
    "# properties_combined=pd.read_csv('properties_combined_base3')"
   ]
  },
  {
   "cell_type": "markdown",
   "metadata": {},
   "source": [
    "Tax amount is likely a multiple of calculatedfinishedsquarefeet and lotsizesquarefeet; here we will take the avg of calculatedfinishedsquarefeet/taxamount by zip code, and then multiply that by actual tax amount to come up with an imputed calculatedfinishedsquarefeet estimate. Same for lotsizesquarefeet, which is more problematic due to inconsistencies in reporting this (eg, how to handle coops/condos?)"
   ]
  },
  {
   "cell_type": "code",
   "execution_count": null,
   "metadata": {
    "collapsed": true
   },
   "outputs": [],
   "source": [
    "grouped=properties_combined.groupby('regionidzip_2017')['calculatedfinishedsquarefeet_2017'].aggregate({'calculatedfinishedsquarefeet_2017_mean': np.mean}).reset_index()"
   ]
  },
  {
   "cell_type": "code",
   "execution_count": 81,
   "metadata": {},
   "outputs": [
    {
     "data": {
      "text/html": [
       "<div>\n",
       "<style>\n",
       "    .dataframe thead tr:only-child th {\n",
       "        text-align: right;\n",
       "    }\n",
       "\n",
       "    .dataframe thead th {\n",
       "        text-align: left;\n",
       "    }\n",
       "\n",
       "    .dataframe tbody tr th {\n",
       "        vertical-align: top;\n",
       "    }\n",
       "</style>\n",
       "<table border=\"1\" class=\"dataframe\">\n",
       "  <thead>\n",
       "    <tr style=\"text-align: right;\">\n",
       "      <th></th>\n",
       "      <th>regionidzip_2017</th>\n",
       "      <th>calculatedfinishedsquarefeet_2017_mean</th>\n",
       "    </tr>\n",
       "  </thead>\n",
       "  <tbody>\n",
       "    <tr>\n",
       "      <th>0</th>\n",
       "      <td>90022.0</td>\n",
       "      <td>3753.0</td>\n",
       "    </tr>\n",
       "    <tr>\n",
       "      <th>1</th>\n",
       "      <td>90024.0</td>\n",
       "      <td>3060.5</td>\n",
       "    </tr>\n",
       "    <tr>\n",
       "      <th>2</th>\n",
       "      <td>90025.0</td>\n",
       "      <td>816.0</td>\n",
       "    </tr>\n",
       "    <tr>\n",
       "      <th>3</th>\n",
       "      <td>90028.0</td>\n",
       "      <td>2159.0</td>\n",
       "    </tr>\n",
       "    <tr>\n",
       "      <th>4</th>\n",
       "      <td>90031.0</td>\n",
       "      <td>1438.5</td>\n",
       "    </tr>\n",
       "  </tbody>\n",
       "</table>\n",
       "</div>"
      ],
      "text/plain": [
       "   regionidzip_2017  calculatedfinishedsquarefeet_2017_mean\n",
       "0           90022.0                                  3753.0\n",
       "1           90024.0                                  3060.5\n",
       "2           90025.0                                   816.0\n",
       "3           90028.0                                  2159.0\n",
       "4           90031.0                                  1438.5"
      ]
     },
     "execution_count": 81,
     "metadata": {},
     "output_type": "execute_result"
    }
   ],
   "source": [
    "grouped.head()"
   ]
  },
  {
   "cell_type": "code",
   "execution_count": 82,
   "metadata": {
    "collapsed": true
   },
   "outputs": [],
   "source": [
    "properties_combined=properties_combined.merge(grouped, on='regionidzip_2017', how='left')"
   ]
  },
  {
   "cell_type": "code",
   "execution_count": 83,
   "metadata": {},
   "outputs": [
    {
     "data": {
      "text/plain": [
       "Index(['parcelid', 'bedroomcnt_2017', 'bathroomcnt_2017',\n",
       "       'calculatedfinishedsquarefeet_2017', 'poolcnt_2017', 'yearbuilt_2017',\n",
       "       'lotsizesquarefeet_2017', 'propertylandusetypeid_2017', 'latitude_2017',\n",
       "       'longitude_2017', 'rawcensustractandblock_2017',\n",
       "       'censustractandblock_2017', 'regionidneighborhood_2017',\n",
       "       'regionidcity_2017', 'regionidcounty_2017', 'regionidzip_2017',\n",
       "       'landtaxvaluedollarcnt_2017', 'structuretaxvaluedollarcnt_2017',\n",
       "       'taxamount_2017', 'taxvaluedollarcnt_2017', 'taxdelinquencyflag_2017',\n",
       "       'landtaxvaluedollarcnt_2016', 'structuretaxvaluedollarcnt_2016',\n",
       "       'taxamount_2016', 'taxvaluedollarcnt_2016', 'taxdelinquencyflag_2016',\n",
       "       'taxamount_mean_2017', 'taxamount_mean_2016',\n",
       "       'taxvaluedollarcnt_2017_mean', 'taxvaluedollarcnt_2016_mean',\n",
       "       'landtaxvaluedollarcnt_2016_mean', 'landtaxvaluedollarcnt_2017_mean',\n",
       "       'structuretaxvaluedollarcnt_2016_mean',\n",
       "       'structuretaxvaluedollarcnt_2017_mean',\n",
       "       'calculatedfinishedsquarefeet_2017_mean'],\n",
       "      dtype='object')"
      ]
     },
     "execution_count": 83,
     "metadata": {},
     "output_type": "execute_result"
    }
   ],
   "source": [
    "properties_combined.columns"
   ]
  },
  {
   "cell_type": "code",
   "execution_count": 84,
   "metadata": {
    "collapsed": true
   },
   "outputs": [],
   "source": [
    "properties_combined['taxpersqft_2017']=properties_combined.apply(lambda row: row['taxamount_mean_2017'] / row['calculatedfinishedsquarefeet_2017_mean'], axis=1)"
   ]
  },
  {
   "cell_type": "code",
   "execution_count": 85,
   "metadata": {
    "collapsed": true
   },
   "outputs": [],
   "source": [
    "properties_combined.calculatedfinishedsquarefeet_2017.fillna(properties_combined.taxamount_2017*\n",
    "                                                             properties_combined.taxpersqft_2017, inplace=True)"
   ]
  },
  {
   "cell_type": "code",
   "execution_count": 86,
   "metadata": {
    "collapsed": true
   },
   "outputs": [],
   "source": [
    "properties_combined.calculatedfinishedsquarefeet_2017.fillna(properties_combined.calculatedfinishedsquarefeet_2017.mean(),\n",
    "                                                             inplace=True)"
   ]
  },
  {
   "cell_type": "code",
   "execution_count": 87,
   "metadata": {},
   "outputs": [
    {
     "data": {
      "text/plain": [
       "0"
      ]
     },
     "execution_count": 87,
     "metadata": {},
     "output_type": "execute_result"
    }
   ],
   "source": [
    "properties_combined.calculatedfinishedsquarefeet_2017.isnull().sum()"
   ]
  },
  {
   "cell_type": "code",
   "execution_count": null,
   "metadata": {
    "collapsed": true
   },
   "outputs": [],
   "source": [
    "grouped=properties_combined.groupby('regionidzip_2017')['lotsizesquarefeet_2017'].aggregate({'lotsizesquarefeet_2017_mean': np.mean}).reset_index()"
   ]
  },
  {
   "cell_type": "code",
   "execution_count": 89,
   "metadata": {
    "collapsed": true
   },
   "outputs": [],
   "source": [
    "properties_combined=properties_combined.merge(grouped, on='regionidzip_2017', how='left')"
   ]
  },
  {
   "cell_type": "code",
   "execution_count": 90,
   "metadata": {
    "collapsed": true
   },
   "outputs": [],
   "source": [
    "properties_combined['taxperlotsizesqft_2017']=properties_combined.apply(lambda row: row['taxamount_mean_2017'] / row['lotsizesquarefeet_2017_mean'], axis=1)"
   ]
  },
  {
   "cell_type": "code",
   "execution_count": 91,
   "metadata": {
    "collapsed": true
   },
   "outputs": [],
   "source": [
    "properties_combined.lotsizesquarefeet_2017.fillna(properties_combined.taxamount_2017*properties_combined.taxperlotsizesqft_2017, inplace=True)"
   ]
  },
  {
   "cell_type": "code",
   "execution_count": 92,
   "metadata": {
    "collapsed": true
   },
   "outputs": [],
   "source": [
    "properties_combined.lotsizesquarefeet_2017.fillna(properties_combined.lotsizesquarefeet_2017.mean(), inplace=True)"
   ]
  },
  {
   "cell_type": "code",
   "execution_count": 93,
   "metadata": {},
   "outputs": [
    {
     "data": {
      "text/plain": [
       "parcelid                                        0\n",
       "bedroomcnt_2017                              2945\n",
       "bathroomcnt_2017                             2957\n",
       "calculatedfinishedsquarefeet_2017               0\n",
       "poolcnt_2017                                    0\n",
       "yearbuilt_2017                                  0\n",
       "lotsizesquarefeet_2017                          0\n",
       "propertylandusetypeid_2017                   2932\n",
       "latitude_2017                                2932\n",
       "longitude_2017                               2932\n",
       "rawcensustractandblock_2017                  2932\n",
       "censustractandblock_2017                    74985\n",
       "regionidneighborhood_2017                 1828476\n",
       "regionidcity_2017                           62128\n",
       "regionidcounty_2017                          2932\n",
       "regionidzip_2017                                0\n",
       "landtaxvaluedollarcnt_2017                      0\n",
       "structuretaxvaluedollarcnt_2017                 0\n",
       "taxamount_2017                                  0\n",
       "taxvaluedollarcnt_2017                          0\n",
       "taxdelinquencyflag_2017                         0\n",
       "landtaxvaluedollarcnt_2016                      0\n",
       "structuretaxvaluedollarcnt_2016                 0\n",
       "taxamount_2016                                  0\n",
       "taxvaluedollarcnt_2016                          0\n",
       "taxdelinquencyflag_2016                         0\n",
       "taxamount_mean_2017                            40\n",
       "taxamount_mean_2016                            40\n",
       "taxvaluedollarcnt_2017_mean                    16\n",
       "taxvaluedollarcnt_2016_mean                    16\n",
       "landtaxvaluedollarcnt_2016_mean                34\n",
       "landtaxvaluedollarcnt_2017_mean                34\n",
       "structuretaxvaluedollarcnt_2016_mean           38\n",
       "structuretaxvaluedollarcnt_2017_mean           38\n",
       "calculatedfinishedsquarefeet_2017_mean         90\n",
       "taxpersqft_2017                               108\n",
       "lotsizesquarefeet_2017_mean                   223\n",
       "taxperlotsizesqft_2017                        242\n",
       "dtype: int64"
      ]
     },
     "execution_count": 93,
     "metadata": {},
     "output_type": "execute_result"
    }
   ],
   "source": [
    "properties_combined.isnull().sum()"
   ]
  },
  {
   "cell_type": "code",
   "execution_count": 94,
   "metadata": {
    "collapsed": true
   },
   "outputs": [],
   "source": [
    "# Some final imputed data; any other columns with NaNs will not be used in training \n",
    "properties_combined.bedroomcnt_2017.fillna(properties_combined.bedroomcnt_2017.mean(), inplace=True)"
   ]
  },
  {
   "cell_type": "code",
   "execution_count": 95,
   "metadata": {
    "collapsed": true
   },
   "outputs": [],
   "source": [
    "properties_combined.bathroomcnt_2017.fillna(properties_combined.bathroomcnt_2017.mean(), inplace=True)"
   ]
  },
  {
   "cell_type": "code",
   "execution_count": 96,
   "metadata": {},
   "outputs": [
    {
     "data": {
      "text/plain": [
       "261.0    2152863\n",
       "266.0     483789\n",
       "246.0     114415\n",
       "269.0      61559\n",
       "263.0      59344\n",
       "248.0      40731\n",
       "247.0      39977\n",
       "31.0        9487\n",
       "265.0       9421\n",
       "47.0        4379\n",
       "260.0       2996\n",
       "267.0       1808\n",
       "275.0       1219\n",
       "264.0        260\n",
       "270.0         36\n",
       "279.0          1\n",
       "Name: propertylandusetypeid_2017, dtype: int64"
      ]
     },
     "execution_count": 96,
     "metadata": {},
     "output_type": "execute_result"
    }
   ],
   "source": [
    "properties_combined.propertylandusetypeid_2017.value_counts()"
   ]
  },
  {
   "cell_type": "code",
   "execution_count": 97,
   "metadata": {
    "collapsed": true
   },
   "outputs": [],
   "source": [
    "properties_combined.propertylandusetypeid_2017.fillna(0, inplace=True)"
   ]
  },
  {
   "cell_type": "code",
   "execution_count": 98,
   "metadata": {
    "collapsed": true
   },
   "outputs": [],
   "source": [
    "properties_combined.longitude_2017.fillna(properties_combined.longitude_2017.mean(), inplace=True)\n",
    "properties_combined.latitude_2017.fillna(properties_combined.latitude_2017.mean(), inplace=True)"
   ]
  },
  {
   "cell_type": "code",
   "execution_count": 99,
   "metadata": {},
   "outputs": [
    {
     "data": {
      "text/plain": [
       "parcelid                                        0\n",
       "bedroomcnt_2017                                 0\n",
       "bathroomcnt_2017                                0\n",
       "calculatedfinishedsquarefeet_2017               0\n",
       "poolcnt_2017                                    0\n",
       "yearbuilt_2017                                  0\n",
       "lotsizesquarefeet_2017                          0\n",
       "propertylandusetypeid_2017                      0\n",
       "latitude_2017                                   0\n",
       "longitude_2017                                  0\n",
       "rawcensustractandblock_2017                  2932\n",
       "censustractandblock_2017                    74985\n",
       "regionidneighborhood_2017                 1828476\n",
       "regionidcity_2017                           62128\n",
       "regionidcounty_2017                          2932\n",
       "regionidzip_2017                                0\n",
       "landtaxvaluedollarcnt_2017                      0\n",
       "structuretaxvaluedollarcnt_2017                 0\n",
       "taxamount_2017                                  0\n",
       "taxvaluedollarcnt_2017                          0\n",
       "taxdelinquencyflag_2017                         0\n",
       "landtaxvaluedollarcnt_2016                      0\n",
       "structuretaxvaluedollarcnt_2016                 0\n",
       "taxamount_2016                                  0\n",
       "taxvaluedollarcnt_2016                          0\n",
       "taxdelinquencyflag_2016                         0\n",
       "taxamount_mean_2017                            40\n",
       "taxamount_mean_2016                            40\n",
       "taxvaluedollarcnt_2017_mean                    16\n",
       "taxvaluedollarcnt_2016_mean                    16\n",
       "landtaxvaluedollarcnt_2016_mean                34\n",
       "landtaxvaluedollarcnt_2017_mean                34\n",
       "structuretaxvaluedollarcnt_2016_mean           38\n",
       "structuretaxvaluedollarcnt_2017_mean           38\n",
       "calculatedfinishedsquarefeet_2017_mean         90\n",
       "taxpersqft_2017                               108\n",
       "lotsizesquarefeet_2017_mean                   223\n",
       "taxperlotsizesqft_2017                        242\n",
       "dtype: int64"
      ]
     },
     "execution_count": 99,
     "metadata": {},
     "output_type": "execute_result"
    }
   ],
   "source": [
    "properties_combined.isnull().sum()"
   ]
  },
  {
   "cell_type": "code",
   "execution_count": 100,
   "metadata": {
    "collapsed": true
   },
   "outputs": [],
   "source": [
    "# # Back up\n",
    "# properties_combined.to_csv(\"properties_combined_base4A\", index=False)"
   ]
  },
  {
   "cell_type": "code",
   "execution_count": 101,
   "metadata": {},
   "outputs": [
    {
     "data": {
      "text/html": [
       "<div>\n",
       "<style>\n",
       "    .dataframe thead tr:only-child th {\n",
       "        text-align: right;\n",
       "    }\n",
       "\n",
       "    .dataframe thead th {\n",
       "        text-align: left;\n",
       "    }\n",
       "\n",
       "    .dataframe tbody tr th {\n",
       "        vertical-align: top;\n",
       "    }\n",
       "</style>\n",
       "<table border=\"1\" class=\"dataframe\">\n",
       "  <thead>\n",
       "    <tr style=\"text-align: right;\">\n",
       "      <th></th>\n",
       "      <th>parcelid</th>\n",
       "      <th>bedroomcnt_2017</th>\n",
       "      <th>bathroomcnt_2017</th>\n",
       "      <th>calculatedfinishedsquarefeet_2017</th>\n",
       "      <th>poolcnt_2017</th>\n",
       "      <th>yearbuilt_2017</th>\n",
       "      <th>lotsizesquarefeet_2017</th>\n",
       "      <th>propertylandusetypeid_2017</th>\n",
       "      <th>latitude_2017</th>\n",
       "      <th>longitude_2017</th>\n",
       "      <th>...</th>\n",
       "      <th>taxvaluedollarcnt_2017_mean</th>\n",
       "      <th>taxvaluedollarcnt_2016_mean</th>\n",
       "      <th>landtaxvaluedollarcnt_2016_mean</th>\n",
       "      <th>landtaxvaluedollarcnt_2017_mean</th>\n",
       "      <th>structuretaxvaluedollarcnt_2016_mean</th>\n",
       "      <th>structuretaxvaluedollarcnt_2017_mean</th>\n",
       "      <th>calculatedfinishedsquarefeet_2017_mean</th>\n",
       "      <th>taxpersqft_2017</th>\n",
       "      <th>lotsizesquarefeet_2017_mean</th>\n",
       "      <th>taxperlotsizesqft_2017</th>\n",
       "    </tr>\n",
       "  </thead>\n",
       "  <tbody>\n",
       "    <tr>\n",
       "      <th>0</th>\n",
       "      <td>10754147</td>\n",
       "      <td>0.0</td>\n",
       "      <td>0.0</td>\n",
       "      <td>50073.210996</td>\n",
       "      <td>0.0</td>\n",
       "      <td>1963.0</td>\n",
       "      <td>85768.0</td>\n",
       "      <td>269.0</td>\n",
       "      <td>34.144442</td>\n",
       "      <td>-118.654084</td>\n",
       "      <td>...</td>\n",
       "      <td>1.039463e+06</td>\n",
       "      <td>998472.184590</td>\n",
       "      <td>528612.676789</td>\n",
       "      <td>551440.077930</td>\n",
       "      <td>485708.517420</td>\n",
       "      <td>504592.075532</td>\n",
       "      <td>3266.814279</td>\n",
       "      <td>3.915079</td>\n",
       "      <td>60737.068949</td>\n",
       "      <td>0.210577</td>\n",
       "    </tr>\n",
       "    <tr>\n",
       "      <th>1</th>\n",
       "      <td>10759547</td>\n",
       "      <td>0.0</td>\n",
       "      <td>0.0</td>\n",
       "      <td>50073.210996</td>\n",
       "      <td>0.0</td>\n",
       "      <td>1963.0</td>\n",
       "      <td>4083.0</td>\n",
       "      <td>261.0</td>\n",
       "      <td>34.140430</td>\n",
       "      <td>-118.625364</td>\n",
       "      <td>...</td>\n",
       "      <td>1.039463e+06</td>\n",
       "      <td>998472.184590</td>\n",
       "      <td>528612.676789</td>\n",
       "      <td>551440.077930</td>\n",
       "      <td>485708.517420</td>\n",
       "      <td>504592.075532</td>\n",
       "      <td>3266.814279</td>\n",
       "      <td>3.915079</td>\n",
       "      <td>60737.068949</td>\n",
       "      <td>0.210577</td>\n",
       "    </tr>\n",
       "    <tr>\n",
       "      <th>2</th>\n",
       "      <td>10843547</td>\n",
       "      <td>0.0</td>\n",
       "      <td>0.0</td>\n",
       "      <td>73026.000000</td>\n",
       "      <td>0.0</td>\n",
       "      <td>1959.0</td>\n",
       "      <td>63085.0</td>\n",
       "      <td>47.0</td>\n",
       "      <td>33.989359</td>\n",
       "      <td>-118.394633</td>\n",
       "      <td>...</td>\n",
       "      <td>3.833084e+05</td>\n",
       "      <td>359634.598529</td>\n",
       "      <td>229009.244591</td>\n",
       "      <td>244471.324563</td>\n",
       "      <td>130904.378511</td>\n",
       "      <td>139118.655139</td>\n",
       "      <td>1408.784849</td>\n",
       "      <td>3.410213</td>\n",
       "      <td>82139.117171</td>\n",
       "      <td>0.058489</td>\n",
       "    </tr>\n",
       "    <tr>\n",
       "      <th>3</th>\n",
       "      <td>10859147</td>\n",
       "      <td>0.0</td>\n",
       "      <td>0.0</td>\n",
       "      <td>5068.000000</td>\n",
       "      <td>0.0</td>\n",
       "      <td>1948.0</td>\n",
       "      <td>7521.0</td>\n",
       "      <td>47.0</td>\n",
       "      <td>34.148863</td>\n",
       "      <td>-118.437206</td>\n",
       "      <td>...</td>\n",
       "      <td>6.180562e+05</td>\n",
       "      <td>578047.275853</td>\n",
       "      <td>343733.921745</td>\n",
       "      <td>366159.969161</td>\n",
       "      <td>234788.273499</td>\n",
       "      <td>252374.714955</td>\n",
       "      <td>2041.361160</td>\n",
       "      <td>3.689034</td>\n",
       "      <td>16125.141004</td>\n",
       "      <td>0.467013</td>\n",
       "    </tr>\n",
       "    <tr>\n",
       "      <th>4</th>\n",
       "      <td>10879947</td>\n",
       "      <td>0.0</td>\n",
       "      <td>0.0</td>\n",
       "      <td>1776.000000</td>\n",
       "      <td>0.0</td>\n",
       "      <td>1947.0</td>\n",
       "      <td>8512.0</td>\n",
       "      <td>31.0</td>\n",
       "      <td>34.194168</td>\n",
       "      <td>-118.385816</td>\n",
       "      <td>...</td>\n",
       "      <td>2.893545e+05</td>\n",
       "      <td>275735.793427</td>\n",
       "      <td>147695.846896</td>\n",
       "      <td>155988.736348</td>\n",
       "      <td>128357.995816</td>\n",
       "      <td>133626.972708</td>\n",
       "      <td>1570.397823</td>\n",
       "      <td>2.285011</td>\n",
       "      <td>18881.895456</td>\n",
       "      <td>0.190043</td>\n",
       "    </tr>\n",
       "  </tbody>\n",
       "</table>\n",
       "<p>5 rows × 38 columns</p>\n",
       "</div>"
      ],
      "text/plain": [
       "   parcelid  bedroomcnt_2017  bathroomcnt_2017  \\\n",
       "0  10754147              0.0               0.0   \n",
       "1  10759547              0.0               0.0   \n",
       "2  10843547              0.0               0.0   \n",
       "3  10859147              0.0               0.0   \n",
       "4  10879947              0.0               0.0   \n",
       "\n",
       "   calculatedfinishedsquarefeet_2017  poolcnt_2017  yearbuilt_2017  \\\n",
       "0                       50073.210996           0.0          1963.0   \n",
       "1                       50073.210996           0.0          1963.0   \n",
       "2                       73026.000000           0.0          1959.0   \n",
       "3                        5068.000000           0.0          1948.0   \n",
       "4                        1776.000000           0.0          1947.0   \n",
       "\n",
       "   lotsizesquarefeet_2017  propertylandusetypeid_2017  latitude_2017  \\\n",
       "0                 85768.0                       269.0      34.144442   \n",
       "1                  4083.0                       261.0      34.140430   \n",
       "2                 63085.0                        47.0      33.989359   \n",
       "3                  7521.0                        47.0      34.148863   \n",
       "4                  8512.0                        31.0      34.194168   \n",
       "\n",
       "   longitude_2017           ...            taxvaluedollarcnt_2017_mean  \\\n",
       "0     -118.654084           ...                           1.039463e+06   \n",
       "1     -118.625364           ...                           1.039463e+06   \n",
       "2     -118.394633           ...                           3.833084e+05   \n",
       "3     -118.437206           ...                           6.180562e+05   \n",
       "4     -118.385816           ...                           2.893545e+05   \n",
       "\n",
       "   taxvaluedollarcnt_2016_mean  landtaxvaluedollarcnt_2016_mean  \\\n",
       "0                998472.184590                    528612.676789   \n",
       "1                998472.184590                    528612.676789   \n",
       "2                359634.598529                    229009.244591   \n",
       "3                578047.275853                    343733.921745   \n",
       "4                275735.793427                    147695.846896   \n",
       "\n",
       "   landtaxvaluedollarcnt_2017_mean  structuretaxvaluedollarcnt_2016_mean  \\\n",
       "0                    551440.077930                         485708.517420   \n",
       "1                    551440.077930                         485708.517420   \n",
       "2                    244471.324563                         130904.378511   \n",
       "3                    366159.969161                         234788.273499   \n",
       "4                    155988.736348                         128357.995816   \n",
       "\n",
       "   structuretaxvaluedollarcnt_2017_mean  \\\n",
       "0                         504592.075532   \n",
       "1                         504592.075532   \n",
       "2                         139118.655139   \n",
       "3                         252374.714955   \n",
       "4                         133626.972708   \n",
       "\n",
       "   calculatedfinishedsquarefeet_2017_mean  taxpersqft_2017  \\\n",
       "0                             3266.814279         3.915079   \n",
       "1                             3266.814279         3.915079   \n",
       "2                             1408.784849         3.410213   \n",
       "3                             2041.361160         3.689034   \n",
       "4                             1570.397823         2.285011   \n",
       "\n",
       "   lotsizesquarefeet_2017_mean  taxperlotsizesqft_2017  \n",
       "0                 60737.068949                0.210577  \n",
       "1                 60737.068949                0.210577  \n",
       "2                 82139.117171                0.058489  \n",
       "3                 16125.141004                0.467013  \n",
       "4                 18881.895456                0.190043  \n",
       "\n",
       "[5 rows x 38 columns]"
      ]
     },
     "execution_count": 101,
     "metadata": {},
     "output_type": "execute_result"
    }
   ],
   "source": [
    "properties_combined.head()"
   ]
  },
  {
   "cell_type": "code",
   "execution_count": 102,
   "metadata": {
    "collapsed": true
   },
   "outputs": [],
   "source": [
    "# Parse out the census tract and block column "
   ]
  },
  {
   "cell_type": "code",
   "execution_count": 103,
   "metadata": {},
   "outputs": [
    {
     "data": {
      "text/plain": [
       "0    6.037800e+07\n",
       "1    6.037800e+07\n",
       "2    6.037703e+07\n",
       "3    6.037141e+07\n",
       "4    6.037123e+07\n",
       "Name: rawcensustractandblock_2017, dtype: float64"
      ]
     },
     "execution_count": 103,
     "metadata": {},
     "output_type": "execute_result"
    }
   ],
   "source": [
    "properties_combined.rawcensustractandblock_2017[:5]"
   ]
  },
  {
   "cell_type": "code",
   "execution_count": 104,
   "metadata": {},
   "outputs": [
    {
     "data": {
      "text/plain": [
       "numpy.float64"
      ]
     },
     "execution_count": 104,
     "metadata": {},
     "output_type": "execute_result"
    }
   ],
   "source": [
    "type(properties_combined.rawcensustractandblock_2017[4])"
   ]
  },
  {
   "cell_type": "code",
   "execution_count": 105,
   "metadata": {
    "collapsed": true
   },
   "outputs": [],
   "source": [
    "properties_combined.rawcensustractandblock_2017=properties_combined.rawcensustractandblock_2017.round(3)"
   ]
  },
  {
   "cell_type": "code",
   "execution_count": 106,
   "metadata": {},
   "outputs": [
    {
     "data": {
      "text/plain": [
       "'60371232.052'"
      ]
     },
     "execution_count": 106,
     "metadata": {},
     "output_type": "execute_result"
    }
   ],
   "source": [
    "test=str(properties_combined.rawcensustractandblock_2017[4])\n",
    "test"
   ]
  },
  {
   "cell_type": "code",
   "execution_count": 107,
   "metadata": {},
   "outputs": [
    {
     "data": {
      "text/plain": [
       "12"
      ]
     },
     "execution_count": 107,
     "metadata": {},
     "output_type": "execute_result"
    }
   ],
   "source": [
    "len(test)"
   ]
  },
  {
   "cell_type": "code",
   "execution_count": 108,
   "metadata": {},
   "outputs": [
    {
     "data": {
      "text/plain": [
       "'6037'"
      ]
     },
     "execution_count": 108,
     "metadata": {},
     "output_type": "execute_result"
    }
   ],
   "source": [
    "county=test[:4]\n",
    "county"
   ]
  },
  {
   "cell_type": "code",
   "execution_count": 109,
   "metadata": {},
   "outputs": [
    {
     "data": {
      "text/plain": [
       "'1232.05'"
      ]
     },
     "execution_count": 109,
     "metadata": {},
     "output_type": "execute_result"
    }
   ],
   "source": [
    "tract=test[4:11]\n",
    "tract"
   ]
  },
  {
   "cell_type": "code",
   "execution_count": 110,
   "metadata": {},
   "outputs": [
    {
     "data": {
      "text/plain": [
       "'2'"
      ]
     },
     "execution_count": 110,
     "metadata": {},
     "output_type": "execute_result"
    }
   ],
   "source": [
    "block=test[11]\n",
    "block"
   ]
  },
  {
   "cell_type": "code",
   "execution_count": 111,
   "metadata": {
    "collapsed": true
   },
   "outputs": [],
   "source": [
    "# change type of census tract column to string \n",
    "properties_combined.rawcensustractandblock_2017=properties_combined.rawcensustractandblock_2017.astype(str) "
   ]
  },
  {
   "cell_type": "code",
   "execution_count": 112,
   "metadata": {},
   "outputs": [
    {
     "data": {
      "text/plain": [
       "0    60378002.041\n",
       "1    60378001.011\n",
       "2    60377030.012\n",
       "3    60371412.023\n",
       "4    60371232.052\n",
       "Name: rawcensustractandblock_2017, dtype: object"
      ]
     },
     "execution_count": 112,
     "metadata": {},
     "output_type": "execute_result"
    }
   ],
   "source": [
    "properties_combined.rawcensustractandblock_2017.head()"
   ]
  },
  {
   "cell_type": "code",
   "execution_count": 113,
   "metadata": {},
   "outputs": [
    {
     "data": {
      "text/plain": [
       "0"
      ]
     },
     "execution_count": 113,
     "metadata": {},
     "output_type": "execute_result"
    }
   ],
   "source": [
    "properties_combined.rawcensustractandblock_2017.isnull().sum()"
   ]
  },
  {
   "cell_type": "code",
   "execution_count": 114,
   "metadata": {
    "collapsed": true
   },
   "outputs": [],
   "source": [
    "properties_combined['census_county']=properties_combined.rawcensustractandblock_2017.apply(lambda x: x[:4])       "
   ]
  },
  {
   "cell_type": "code",
   "execution_count": 115,
   "metadata": {},
   "outputs": [
    {
     "data": {
      "text/plain": [
       "0    6037\n",
       "1    6037\n",
       "2    6037\n",
       "3    6037\n",
       "4    6037\n",
       "Name: census_county, dtype: object"
      ]
     },
     "execution_count": 115,
     "metadata": {},
     "output_type": "execute_result"
    }
   ],
   "source": [
    "properties_combined.census_county[:5]"
   ]
  },
  {
   "cell_type": "code",
   "execution_count": 116,
   "metadata": {
    "collapsed": true
   },
   "outputs": [],
   "source": [
    "properties_combined['census_tract']=properties_combined.rawcensustractandblock_2017.apply(lambda x: x[4:11])"
   ]
  },
  {
   "cell_type": "code",
   "execution_count": 117,
   "metadata": {},
   "outputs": [
    {
     "data": {
      "text/plain": [
       "0    8002.04\n",
       "1    8001.01\n",
       "2    7030.01\n",
       "3    1412.02\n",
       "4    1232.05\n",
       "Name: census_tract, dtype: object"
      ]
     },
     "execution_count": 117,
     "metadata": {},
     "output_type": "execute_result"
    }
   ],
   "source": [
    "properties_combined['census_tract'][:5]"
   ]
  },
  {
   "cell_type": "code",
   "execution_count": 118,
   "metadata": {
    "collapsed": true
   },
   "outputs": [],
   "source": [
    "properties_combined['census_block']=properties_combined.rawcensustractandblock_2017.apply(lambda x: x[11:])"
   ]
  },
  {
   "cell_type": "code",
   "execution_count": 119,
   "metadata": {},
   "outputs": [
    {
     "data": {
      "text/plain": [
       "0    1\n",
       "1    1\n",
       "2    2\n",
       "3    3\n",
       "4    2\n",
       "5    1\n",
       "6    1\n",
       "7    3\n",
       "8    3\n",
       "9    3\n",
       "Name: census_block, dtype: object"
      ]
     },
     "execution_count": 119,
     "metadata": {},
     "output_type": "execute_result"
    }
   ],
   "source": [
    "properties_combined['census_block'][:10]"
   ]
  },
  {
   "cell_type": "code",
   "execution_count": 120,
   "metadata": {},
   "outputs": [
    {
     "data": {
      "text/plain": [
       "1    1130530\n",
       "2     959628\n",
       "3     559434\n",
       "4     234671\n",
       "5      73214\n",
       "6      18684\n",
       "7       4335\n",
       "        3196\n",
       "8        841\n",
       "9        684\n",
       "Name: census_block, dtype: int64"
      ]
     },
     "execution_count": 120,
     "metadata": {},
     "output_type": "execute_result"
    }
   ],
   "source": [
    "properties_combined.census_block.value_counts()"
   ]
  },
  {
   "cell_type": "code",
   "execution_count": 121,
   "metadata": {},
   "outputs": [
    {
     "data": {
      "text/plain": [
       "Index(['parcelid', 'bedroomcnt_2017', 'bathroomcnt_2017',\n",
       "       'calculatedfinishedsquarefeet_2017', 'poolcnt_2017', 'yearbuilt_2017',\n",
       "       'lotsizesquarefeet_2017', 'propertylandusetypeid_2017', 'latitude_2017',\n",
       "       'longitude_2017', 'rawcensustractandblock_2017',\n",
       "       'censustractandblock_2017', 'regionidneighborhood_2017',\n",
       "       'regionidcity_2017', 'regionidcounty_2017', 'regionidzip_2017',\n",
       "       'landtaxvaluedollarcnt_2017', 'structuretaxvaluedollarcnt_2017',\n",
       "       'taxamount_2017', 'taxvaluedollarcnt_2017', 'taxdelinquencyflag_2017',\n",
       "       'landtaxvaluedollarcnt_2016', 'structuretaxvaluedollarcnt_2016',\n",
       "       'taxamount_2016', 'taxvaluedollarcnt_2016', 'taxdelinquencyflag_2016',\n",
       "       'taxamount_mean_2017', 'taxamount_mean_2016',\n",
       "       'taxvaluedollarcnt_2017_mean', 'taxvaluedollarcnt_2016_mean',\n",
       "       'landtaxvaluedollarcnt_2016_mean', 'landtaxvaluedollarcnt_2017_mean',\n",
       "       'structuretaxvaluedollarcnt_2016_mean',\n",
       "       'structuretaxvaluedollarcnt_2017_mean',\n",
       "       'calculatedfinishedsquarefeet_2017_mean', 'taxpersqft_2017',\n",
       "       'lotsizesquarefeet_2017_mean', 'taxperlotsizesqft_2017',\n",
       "       'census_county', 'census_tract', 'census_block'],\n",
       "      dtype='object')"
      ]
     },
     "execution_count": 121,
     "metadata": {},
     "output_type": "execute_result"
    }
   ],
   "source": [
    "properties_combined.columns"
   ]
  },
  {
   "cell_type": "code",
   "execution_count": 122,
   "metadata": {},
   "outputs": [
    {
     "name": "stdout",
     "output_type": "stream",
     "text": [
      "<class 'pandas.core.frame.DataFrame'>\n",
      "Int64Index: 2985217 entries, 0 to 2985216\n",
      "Data columns (total 41 columns):\n",
      "parcelid                                  int64\n",
      "bedroomcnt_2017                           float64\n",
      "bathroomcnt_2017                          float64\n",
      "calculatedfinishedsquarefeet_2017         float64\n",
      "poolcnt_2017                              float64\n",
      "yearbuilt_2017                            float64\n",
      "lotsizesquarefeet_2017                    float64\n",
      "propertylandusetypeid_2017                float64\n",
      "latitude_2017                             float64\n",
      "longitude_2017                            float64\n",
      "rawcensustractandblock_2017               object\n",
      "censustractandblock_2017                  float64\n",
      "regionidneighborhood_2017                 float64\n",
      "regionidcity_2017                         float64\n",
      "regionidcounty_2017                       float64\n",
      "regionidzip_2017                          float64\n",
      "landtaxvaluedollarcnt_2017                float64\n",
      "structuretaxvaluedollarcnt_2017           float64\n",
      "taxamount_2017                            float64\n",
      "taxvaluedollarcnt_2017                    float64\n",
      "taxdelinquencyflag_2017                   int64\n",
      "landtaxvaluedollarcnt_2016                float64\n",
      "structuretaxvaluedollarcnt_2016           float64\n",
      "taxamount_2016                            float64\n",
      "taxvaluedollarcnt_2016                    float64\n",
      "taxdelinquencyflag_2016                   int64\n",
      "taxamount_mean_2017                       float64\n",
      "taxamount_mean_2016                       float64\n",
      "taxvaluedollarcnt_2017_mean               float64\n",
      "taxvaluedollarcnt_2016_mean               float64\n",
      "landtaxvaluedollarcnt_2016_mean           float64\n",
      "landtaxvaluedollarcnt_2017_mean           float64\n",
      "structuretaxvaluedollarcnt_2016_mean      float64\n",
      "structuretaxvaluedollarcnt_2017_mean      float64\n",
      "calculatedfinishedsquarefeet_2017_mean    float64\n",
      "taxpersqft_2017                           float64\n",
      "lotsizesquarefeet_2017_mean               float64\n",
      "taxperlotsizesqft_2017                    float64\n",
      "census_county                             object\n",
      "census_tract                              object\n",
      "census_block                              object\n",
      "dtypes: float64(34), int64(3), object(4)\n",
      "memory usage: 956.6+ MB\n"
     ]
    }
   ],
   "source": [
    "properties_combined.info()"
   ]
  },
  {
   "cell_type": "code",
   "execution_count": 123,
   "metadata": {},
   "outputs": [
    {
     "data": {
      "text/plain": [
       "str"
      ]
     },
     "execution_count": 123,
     "metadata": {},
     "output_type": "execute_result"
    }
   ],
   "source": [
    "type(properties_combined.census_county[4])"
   ]
  },
  {
   "cell_type": "code",
   "execution_count": 124,
   "metadata": {
    "collapsed": true
   },
   "outputs": [],
   "source": [
    "properties_combined.census_county = pd.to_numeric(properties_combined.census_county, errors='coerce')"
   ]
  },
  {
   "cell_type": "code",
   "execution_count": 125,
   "metadata": {},
   "outputs": [
    {
     "data": {
      "text/plain": [
       "numpy.float64"
      ]
     },
     "execution_count": 125,
     "metadata": {},
     "output_type": "execute_result"
    }
   ],
   "source": [
    "type(properties_combined.census_county[4])"
   ]
  },
  {
   "cell_type": "code",
   "execution_count": 126,
   "metadata": {},
   "outputs": [
    {
     "data": {
      "text/plain": [
       "6037.0"
      ]
     },
     "execution_count": 126,
     "metadata": {},
     "output_type": "execute_result"
    }
   ],
   "source": [
    "properties_combined.census_county[4]"
   ]
  },
  {
   "cell_type": "code",
   "execution_count": 127,
   "metadata": {
    "collapsed": true
   },
   "outputs": [],
   "source": [
    "properties_combined.census_tract = pd.to_numeric(properties_combined.census_tract, errors='coerce')\n",
    "properties_combined.census_block = pd.to_numeric(properties_combined.census_block, errors='coerce')"
   ]
  },
  {
   "cell_type": "code",
   "execution_count": 128,
   "metadata": {},
   "outputs": [
    {
     "data": {
      "text/plain": [
       "2.0"
      ]
     },
     "execution_count": 128,
     "metadata": {},
     "output_type": "execute_result"
    }
   ],
   "source": [
    "properties_combined.census_block[4]"
   ]
  },
  {
   "cell_type": "code",
   "execution_count": 129,
   "metadata": {
    "collapsed": true
   },
   "outputs": [],
   "source": [
    "properties_combined.census_county.fillna(0,inplace=True)\n",
    "properties_combined.census_tract.fillna(0,inplace=True)\n",
    "properties_combined.census_block.fillna(0,inplace=True)"
   ]
  },
  {
   "cell_type": "code",
   "execution_count": 130,
   "metadata": {},
   "outputs": [
    {
     "data": {
      "text/plain": [
       "parcelid                                        0\n",
       "bedroomcnt_2017                                 0\n",
       "bathroomcnt_2017                                0\n",
       "calculatedfinishedsquarefeet_2017               0\n",
       "poolcnt_2017                                    0\n",
       "yearbuilt_2017                                  0\n",
       "lotsizesquarefeet_2017                          0\n",
       "propertylandusetypeid_2017                      0\n",
       "latitude_2017                                   0\n",
       "longitude_2017                                  0\n",
       "rawcensustractandblock_2017                     0\n",
       "censustractandblock_2017                    74985\n",
       "regionidneighborhood_2017                 1828476\n",
       "regionidcity_2017                           62128\n",
       "regionidcounty_2017                          2932\n",
       "regionidzip_2017                                0\n",
       "landtaxvaluedollarcnt_2017                      0\n",
       "structuretaxvaluedollarcnt_2017                 0\n",
       "taxamount_2017                                  0\n",
       "taxvaluedollarcnt_2017                          0\n",
       "taxdelinquencyflag_2017                         0\n",
       "landtaxvaluedollarcnt_2016                      0\n",
       "structuretaxvaluedollarcnt_2016                 0\n",
       "taxamount_2016                                  0\n",
       "taxvaluedollarcnt_2016                          0\n",
       "taxdelinquencyflag_2016                         0\n",
       "taxamount_mean_2017                            40\n",
       "taxamount_mean_2016                            40\n",
       "taxvaluedollarcnt_2017_mean                    16\n",
       "taxvaluedollarcnt_2016_mean                    16\n",
       "landtaxvaluedollarcnt_2016_mean                34\n",
       "landtaxvaluedollarcnt_2017_mean                34\n",
       "structuretaxvaluedollarcnt_2016_mean           38\n",
       "structuretaxvaluedollarcnt_2017_mean           38\n",
       "calculatedfinishedsquarefeet_2017_mean         90\n",
       "taxpersqft_2017                               108\n",
       "lotsizesquarefeet_2017_mean                   223\n",
       "taxperlotsizesqft_2017                        242\n",
       "census_county                                   0\n",
       "census_tract                                    0\n",
       "census_block                                    0\n",
       "dtype: int64"
      ]
     },
     "execution_count": 130,
     "metadata": {},
     "output_type": "execute_result"
    }
   ],
   "source": [
    "properties_combined.isnull().sum()"
   ]
  },
  {
   "cell_type": "code",
   "execution_count": 131,
   "metadata": {},
   "outputs": [
    {
     "data": {
      "text/plain": [
       "Index(['parcelid', 'bedroomcnt_2017', 'bathroomcnt_2017',\n",
       "       'calculatedfinishedsquarefeet_2017', 'poolcnt_2017', 'yearbuilt_2017',\n",
       "       'lotsizesquarefeet_2017', 'propertylandusetypeid_2017', 'latitude_2017',\n",
       "       'longitude_2017', 'rawcensustractandblock_2017',\n",
       "       'censustractandblock_2017', 'regionidneighborhood_2017',\n",
       "       'regionidcity_2017', 'regionidcounty_2017', 'regionidzip_2017',\n",
       "       'landtaxvaluedollarcnt_2017', 'structuretaxvaluedollarcnt_2017',\n",
       "       'taxamount_2017', 'taxvaluedollarcnt_2017', 'taxdelinquencyflag_2017',\n",
       "       'landtaxvaluedollarcnt_2016', 'structuretaxvaluedollarcnt_2016',\n",
       "       'taxamount_2016', 'taxvaluedollarcnt_2016', 'taxdelinquencyflag_2016',\n",
       "       'taxamount_mean_2017', 'taxamount_mean_2016',\n",
       "       'taxvaluedollarcnt_2017_mean', 'taxvaluedollarcnt_2016_mean',\n",
       "       'landtaxvaluedollarcnt_2016_mean', 'landtaxvaluedollarcnt_2017_mean',\n",
       "       'structuretaxvaluedollarcnt_2016_mean',\n",
       "       'structuretaxvaluedollarcnt_2017_mean',\n",
       "       'calculatedfinishedsquarefeet_2017_mean', 'taxpersqft_2017',\n",
       "       'lotsizesquarefeet_2017_mean', 'taxperlotsizesqft_2017',\n",
       "       'census_county', 'census_tract', 'census_block'],\n",
       "      dtype='object')"
      ]
     },
     "execution_count": 131,
     "metadata": {},
     "output_type": "execute_result"
    }
   ],
   "source": [
    "# Reorder columns into more intuitive sequence of rows \n",
    "properties_combined.columns"
   ]
  },
  {
   "cell_type": "code",
   "execution_count": 132,
   "metadata": {
    "collapsed": true
   },
   "outputs": [],
   "source": [
    "properties_combined=properties_combined[['parcelid', \n",
    "                                         'calculatedfinishedsquarefeet_2017',\n",
    "                                         'bedroomcnt_2017', \n",
    "                                         'bathroomcnt_2017',\n",
    "                                         'poolcnt_2017', \n",
    "                                         'lotsizesquarefeet_2017',\n",
    "                                         'yearbuilt_2017',\n",
    "                                         'propertylandusetypeid_2017',                                      \n",
    "                                         'latitude_2017',\n",
    "                                         'longitude_2017', \n",
    "                                         'regionidzip_2017', \n",
    "                                         'census_county', \n",
    "                                         'census_tract', \n",
    "                                         'census_block',\n",
    "                                         # 2016 values \n",
    "                                         'landtaxvaluedollarcnt_2016', \n",
    "                                         'structuretaxvaluedollarcnt_2016',\n",
    "                                         'taxvaluedollarcnt_2016', \n",
    "                                         'taxdelinquencyflag_2016',\n",
    "                                         'taxamount_2016',                                                                \n",
    "                                         # 2017 values \n",
    "                                         'landtaxvaluedollarcnt_2017', \n",
    "                                         'structuretaxvaluedollarcnt_2017',                                        \n",
    "                                         'taxvaluedollarcnt_2017', \n",
    "                                         'taxdelinquencyflag_2017',\n",
    "                                         'taxamount_2017',                                                                  \n",
    "                                         # Remove when training \n",
    "                                         'rawcensustractandblock_2017',\n",
    "                                         'censustractandblock_2017', \n",
    "                                         'regionidneighborhood_2017',\n",
    "                                         'regionidcity_2017', \n",
    "                                         'regionidcounty_2017',\n",
    "                                         'taxamount_mean_2017', \n",
    "                                         'taxamount_mean_2016',\n",
    "                                         'taxvaluedollarcnt_2017_mean',\n",
    "                                         'taxvaluedollarcnt_2016_mean',\n",
    "                                         'landtaxvaluedollarcnt_2016_mean',\n",
    "                                         'landtaxvaluedollarcnt_2017_mean',\n",
    "                                         'structuretaxvaluedollarcnt_2016_mean',\n",
    "                                         'structuretaxvaluedollarcnt_2017_mean',\n",
    "                                         'calculatedfinishedsquarefeet_2017_mean',\n",
    "                                         'taxpersqft_2017',\n",
    "                                         'lotsizesquarefeet_2017_mean', \n",
    "                                         'taxperlotsizesqft_2017'                        \n",
    "                                         ]] "
   ]
  },
  {
   "cell_type": "code",
   "execution_count": 133,
   "metadata": {},
   "outputs": [
    {
     "data": {
      "text/plain": [
       "(2985217, 41)"
      ]
     },
     "execution_count": 133,
     "metadata": {},
     "output_type": "execute_result"
    }
   ],
   "source": [
    "properties_combined.shape"
   ]
  },
  {
   "cell_type": "code",
   "execution_count": 34,
   "metadata": {
    "collapsed": true
   },
   "outputs": [],
   "source": [
    "# Back up/read in as needed  \n",
    "# properties_combined.to_csv(\"properties_combined_base5A\", index=False)\n",
    "# properties_combined=pd.read_csv(\"properties_combined_base5A\")"
   ]
  },
  {
   "cell_type": "code",
   "execution_count": 29,
   "metadata": {},
   "outputs": [
    {
     "data": {
      "text/plain": [
       "parcelid                                    int64\n",
       "calculatedfinishedsquarefeet_2017         float64\n",
       "bedroomcnt_2017                           float64\n",
       "bathroomcnt_2017                          float64\n",
       "poolcnt_2017                              float64\n",
       "lotsizesquarefeet_2017                    float64\n",
       "yearbuilt_2017                            float64\n",
       "propertylandusetypeid_2017                float64\n",
       "latitude_2017                             float64\n",
       "longitude_2017                            float64\n",
       "regionidzip_2017                          float64\n",
       "census_county                             float64\n",
       "census_tract                              float64\n",
       "census_block                              float64\n",
       "landtaxvaluedollarcnt_2016                float64\n",
       "structuretaxvaluedollarcnt_2016           float64\n",
       "taxvaluedollarcnt_2016                    float64\n",
       "taxdelinquencyflag_2016                     int64\n",
       "taxamount_2016                            float64\n",
       "landtaxvaluedollarcnt_2017                float64\n",
       "structuretaxvaluedollarcnt_2017           float64\n",
       "taxvaluedollarcnt_2017                    float64\n",
       "taxdelinquencyflag_2017                     int64\n",
       "taxamount_2017                            float64\n",
       "rawcensustractandblock_2017               float64\n",
       "censustractandblock_2017                  float64\n",
       "regionidneighborhood_2017                 float64\n",
       "regionidcity_2017                         float64\n",
       "regionidcounty_2017                       float64\n",
       "taxamount_mean_2017                       float64\n",
       "taxamount_mean_2016                       float64\n",
       "taxvaluedollarcnt_2017_mean               float64\n",
       "taxvaluedollarcnt_2016_mean               float64\n",
       "landtaxvaluedollarcnt_2016_mean           float64\n",
       "landtaxvaluedollarcnt_2017_mean           float64\n",
       "structuretaxvaluedollarcnt_2016_mean      float64\n",
       "structuretaxvaluedollarcnt_2017_mean      float64\n",
       "calculatedfinishedsquarefeet_2017_mean    float64\n",
       "taxpersqft_2017                           float64\n",
       "lotsizesquarefeet_2017_mean               float64\n",
       "taxperlotsizesqft_2017                    float64\n",
       "dtype: object"
      ]
     },
     "execution_count": 29,
     "metadata": {},
     "output_type": "execute_result"
    }
   ],
   "source": [
    "properties_combined.dtypes"
   ]
  },
  {
   "cell_type": "code",
   "execution_count": 41,
   "metadata": {
    "collapsed": true
   },
   "outputs": [],
   "source": [
    "# Change dtypes of categorical features to int; needed for use in model \n",
    "cat_feat=  ['poolcnt_2017' , 'propertylandusetypeid_2017', 'taxdelinquencyflag_2017', 'taxdelinquencyflag_2016', \n",
    "            'regionidzip_2017', 'census_tract', 'census_county', 'census_block']"
   ]
  },
  {
   "cell_type": "code",
   "execution_count": 35,
   "metadata": {
    "collapsed": true
   },
   "outputs": [],
   "source": [
    "# Need to change census_tract back to string to remove the decimal \n",
    "properties_combined['census_tract']=properties_combined['census_tract'].astype(str)"
   ]
  },
  {
   "cell_type": "code",
   "execution_count": 36,
   "metadata": {},
   "outputs": [
    {
     "data": {
      "text/plain": [
       "0    8002.04\n",
       "1    8001.01\n",
       "2    7030.01\n",
       "3    1412.02\n",
       "4    1232.05\n",
       "Name: census_tract, dtype: object"
      ]
     },
     "execution_count": 36,
     "metadata": {},
     "output_type": "execute_result"
    }
   ],
   "source": [
    "properties_combined['census_tract'][:5]"
   ]
  },
  {
   "cell_type": "code",
   "execution_count": 39,
   "metadata": {
    "collapsed": true
   },
   "outputs": [],
   "source": [
    "properties_combined['census_tract']=properties_combined['census_tract'].str.replace(\".\",'')"
   ]
  },
  {
   "cell_type": "code",
   "execution_count": 40,
   "metadata": {},
   "outputs": [
    {
     "data": {
      "text/plain": [
       "0    800204\n",
       "1    800101\n",
       "2    703001\n",
       "3    141202\n",
       "4    123205\n",
       "Name: census_tract, dtype: object"
      ]
     },
     "execution_count": 40,
     "metadata": {},
     "output_type": "execute_result"
    }
   ],
   "source": [
    "properties_combined['census_tract'][:5]"
   ]
  },
  {
   "cell_type": "code",
   "execution_count": 42,
   "metadata": {
    "collapsed": true
   },
   "outputs": [],
   "source": [
    "properties_combined[cat_feat]=properties_combined[cat_feat].astype(int)"
   ]
  },
  {
   "cell_type": "code",
   "execution_count": 43,
   "metadata": {},
   "outputs": [
    {
     "data": {
      "text/plain": [
       "parcelid                                    int64\n",
       "calculatedfinishedsquarefeet_2017         float64\n",
       "bedroomcnt_2017                           float64\n",
       "bathroomcnt_2017                          float64\n",
       "poolcnt_2017                                int32\n",
       "lotsizesquarefeet_2017                    float64\n",
       "yearbuilt_2017                            float64\n",
       "propertylandusetypeid_2017                  int32\n",
       "latitude_2017                             float64\n",
       "longitude_2017                            float64\n",
       "regionidzip_2017                            int32\n",
       "census_county                               int32\n",
       "census_tract                                int32\n",
       "census_block                                int32\n",
       "landtaxvaluedollarcnt_2016                float64\n",
       "structuretaxvaluedollarcnt_2016           float64\n",
       "taxvaluedollarcnt_2016                    float64\n",
       "taxdelinquencyflag_2016                     int32\n",
       "taxamount_2016                            float64\n",
       "landtaxvaluedollarcnt_2017                float64\n",
       "structuretaxvaluedollarcnt_2017           float64\n",
       "taxvaluedollarcnt_2017                    float64\n",
       "taxdelinquencyflag_2017                     int32\n",
       "taxamount_2017                            float64\n",
       "rawcensustractandblock_2017               float64\n",
       "censustractandblock_2017                  float64\n",
       "regionidneighborhood_2017                 float64\n",
       "regionidcity_2017                         float64\n",
       "regionidcounty_2017                       float64\n",
       "taxamount_mean_2017                       float64\n",
       "taxamount_mean_2016                       float64\n",
       "taxvaluedollarcnt_2017_mean               float64\n",
       "taxvaluedollarcnt_2016_mean               float64\n",
       "landtaxvaluedollarcnt_2016_mean           float64\n",
       "landtaxvaluedollarcnt_2017_mean           float64\n",
       "structuretaxvaluedollarcnt_2016_mean      float64\n",
       "structuretaxvaluedollarcnt_2017_mean      float64\n",
       "calculatedfinishedsquarefeet_2017_mean    float64\n",
       "taxpersqft_2017                           float64\n",
       "lotsizesquarefeet_2017_mean               float64\n",
       "taxperlotsizesqft_2017                    float64\n",
       "dtype: object"
      ]
     },
     "execution_count": 43,
     "metadata": {},
     "output_type": "execute_result"
    }
   ],
   "source": [
    "properties_combined.dtypes"
   ]
  },
  {
   "cell_type": "markdown",
   "metadata": {},
   "source": [
    "Now all columns with categorical features can be treated as such in the LGB model "
   ]
  },
  {
   "cell_type": "code",
   "execution_count": 262,
   "metadata": {
    "collapsed": true
   },
   "outputs": [],
   "source": [
    "# # Back up/read in as needed \n",
    "# properties_combined.to_csv(\"properties_combined_base5A\", index=False)\n",
    "# properties_combined=pd.read_csv(\"properties_combined_base5A\")"
   ]
  },
  {
   "cell_type": "markdown",
   "metadata": {},
   "source": [
    "We now have the core data; where we still have NaNs, the columns were for calc purposes only or will be ignored."
   ]
  },
  {
   "cell_type": "markdown",
   "metadata": {},
   "source": [
    "Training datasets....\n",
    "These contain transaction data -- the logerror from Zillow's predictions vs. actuals and transaction dates.\n",
    "Merge the original training dataset with the Oct 2 update, and then parse the date for additional features. "
   ]
  },
  {
   "cell_type": "code",
   "execution_count": 263,
   "metadata": {
    "collapsed": true
   },
   "outputs": [],
   "source": [
    "train_2016=pd.read_csv(\"train_2016_v2.csv\", dtype={'parcelid': np.int32, 'logerror' : np.float32, 'transactiondate': object},       \n",
    "                     parse_dates=['transactiondate'])"
   ]
  },
  {
   "cell_type": "code",
   "execution_count": 264,
   "metadata": {},
   "outputs": [
    {
     "data": {
      "text/html": [
       "<div>\n",
       "<style>\n",
       "    .dataframe thead tr:only-child th {\n",
       "        text-align: right;\n",
       "    }\n",
       "\n",
       "    .dataframe thead th {\n",
       "        text-align: left;\n",
       "    }\n",
       "\n",
       "    .dataframe tbody tr th {\n",
       "        vertical-align: top;\n",
       "    }\n",
       "</style>\n",
       "<table border=\"1\" class=\"dataframe\">\n",
       "  <thead>\n",
       "    <tr style=\"text-align: right;\">\n",
       "      <th></th>\n",
       "      <th>parcelid</th>\n",
       "      <th>logerror</th>\n",
       "      <th>transactiondate</th>\n",
       "    </tr>\n",
       "  </thead>\n",
       "  <tbody>\n",
       "    <tr>\n",
       "      <th>0</th>\n",
       "      <td>11016594</td>\n",
       "      <td>0.0276</td>\n",
       "      <td>2016-01-01</td>\n",
       "    </tr>\n",
       "    <tr>\n",
       "      <th>1</th>\n",
       "      <td>14366692</td>\n",
       "      <td>-0.1684</td>\n",
       "      <td>2016-01-01</td>\n",
       "    </tr>\n",
       "  </tbody>\n",
       "</table>\n",
       "</div>"
      ],
      "text/plain": [
       "   parcelid  logerror transactiondate\n",
       "0  11016594    0.0276      2016-01-01\n",
       "1  14366692   -0.1684      2016-01-01"
      ]
     },
     "execution_count": 264,
     "metadata": {},
     "output_type": "execute_result"
    }
   ],
   "source": [
    "train_2016.head(2)"
   ]
  },
  {
   "cell_type": "code",
   "execution_count": 265,
   "metadata": {},
   "outputs": [
    {
     "data": {
      "text/plain": [
       "(90275, 3)"
      ]
     },
     "execution_count": 265,
     "metadata": {},
     "output_type": "execute_result"
    }
   ],
   "source": [
    "train_2016.shape"
   ]
  },
  {
   "cell_type": "code",
   "execution_count": 266,
   "metadata": {
    "collapsed": true
   },
   "outputs": [],
   "source": [
    "train_2017=pd.read_csv(\"train_2017.csv\", dtype={'parcelid': np.int32, 'logerror' : np.float32, 'transactiondate': object},       \n",
    "                     parse_dates=['transactiondate'])"
   ]
  },
  {
   "cell_type": "code",
   "execution_count": 267,
   "metadata": {},
   "outputs": [
    {
     "data": {
      "text/html": [
       "<div>\n",
       "<style>\n",
       "    .dataframe thead tr:only-child th {\n",
       "        text-align: right;\n",
       "    }\n",
       "\n",
       "    .dataframe thead th {\n",
       "        text-align: left;\n",
       "    }\n",
       "\n",
       "    .dataframe tbody tr th {\n",
       "        vertical-align: top;\n",
       "    }\n",
       "</style>\n",
       "<table border=\"1\" class=\"dataframe\">\n",
       "  <thead>\n",
       "    <tr style=\"text-align: right;\">\n",
       "      <th></th>\n",
       "      <th>parcelid</th>\n",
       "      <th>logerror</th>\n",
       "      <th>transactiondate</th>\n",
       "    </tr>\n",
       "  </thead>\n",
       "  <tbody>\n",
       "    <tr>\n",
       "      <th>0</th>\n",
       "      <td>14297519</td>\n",
       "      <td>0.025595</td>\n",
       "      <td>2017-01-01</td>\n",
       "    </tr>\n",
       "    <tr>\n",
       "      <th>1</th>\n",
       "      <td>17052889</td>\n",
       "      <td>0.055619</td>\n",
       "      <td>2017-01-01</td>\n",
       "    </tr>\n",
       "  </tbody>\n",
       "</table>\n",
       "</div>"
      ],
      "text/plain": [
       "   parcelid  logerror transactiondate\n",
       "0  14297519  0.025595      2017-01-01\n",
       "1  17052889  0.055619      2017-01-01"
      ]
     },
     "execution_count": 267,
     "metadata": {},
     "output_type": "execute_result"
    }
   ],
   "source": [
    "train_2017.head(2)"
   ]
  },
  {
   "cell_type": "code",
   "execution_count": 268,
   "metadata": {},
   "outputs": [
    {
     "data": {
      "text/plain": [
       "(77613, 3)"
      ]
     },
     "execution_count": 268,
     "metadata": {},
     "output_type": "execute_result"
    }
   ],
   "source": [
    "train_2017.shape"
   ]
  },
  {
   "cell_type": "code",
   "execution_count": 269,
   "metadata": {
    "collapsed": true
   },
   "outputs": [],
   "source": [
    "train_combined=train_2016.append(train_2017, ignore_index=True)"
   ]
  },
  {
   "cell_type": "code",
   "execution_count": 270,
   "metadata": {},
   "outputs": [
    {
     "data": {
      "text/html": [
       "<div>\n",
       "<style>\n",
       "    .dataframe thead tr:only-child th {\n",
       "        text-align: right;\n",
       "    }\n",
       "\n",
       "    .dataframe thead th {\n",
       "        text-align: left;\n",
       "    }\n",
       "\n",
       "    .dataframe tbody tr th {\n",
       "        vertical-align: top;\n",
       "    }\n",
       "</style>\n",
       "<table border=\"1\" class=\"dataframe\">\n",
       "  <thead>\n",
       "    <tr style=\"text-align: right;\">\n",
       "      <th></th>\n",
       "      <th>parcelid</th>\n",
       "      <th>logerror</th>\n",
       "      <th>transactiondate</th>\n",
       "    </tr>\n",
       "  </thead>\n",
       "  <tbody>\n",
       "    <tr>\n",
       "      <th>0</th>\n",
       "      <td>11016594</td>\n",
       "      <td>0.0276</td>\n",
       "      <td>2016-01-01</td>\n",
       "    </tr>\n",
       "    <tr>\n",
       "      <th>1</th>\n",
       "      <td>14366692</td>\n",
       "      <td>-0.1684</td>\n",
       "      <td>2016-01-01</td>\n",
       "    </tr>\n",
       "  </tbody>\n",
       "</table>\n",
       "</div>"
      ],
      "text/plain": [
       "   parcelid  logerror transactiondate\n",
       "0  11016594    0.0276      2016-01-01\n",
       "1  14366692   -0.1684      2016-01-01"
      ]
     },
     "execution_count": 270,
     "metadata": {},
     "output_type": "execute_result"
    }
   ],
   "source": [
    "train_combined.head(2)"
   ]
  },
  {
   "cell_type": "code",
   "execution_count": 271,
   "metadata": {},
   "outputs": [
    {
     "data": {
      "text/plain": [
       "(167888, 3)"
      ]
     },
     "execution_count": 271,
     "metadata": {},
     "output_type": "execute_result"
    }
   ],
   "source": [
    "train_combined.shape"
   ]
  },
  {
   "cell_type": "code",
   "execution_count": 272,
   "metadata": {
    "collapsed": true
   },
   "outputs": [],
   "source": [
    "train_combined['trans_month']=train_combined['transactiondate'].dt.month"
   ]
  },
  {
   "cell_type": "code",
   "execution_count": 273,
   "metadata": {
    "collapsed": true
   },
   "outputs": [],
   "source": [
    "train_combined['trans_year']=train_combined['transactiondate'].dt.year"
   ]
  },
  {
   "cell_type": "code",
   "execution_count": 274,
   "metadata": {
    "collapsed": true
   },
   "outputs": [],
   "source": [
    "train_combined.trans_year.replace(to_replace=[2016,2017], value=[0, 1], inplace=True)"
   ]
  },
  {
   "cell_type": "code",
   "execution_count": 275,
   "metadata": {
    "collapsed": true
   },
   "outputs": [],
   "source": [
    "equiv = {1:1, 2:1, 3:1, 4:2, 5:2, 6:2, 7:3, 8:3, 9:3, 10:4, 11:4, 12:4}\n",
    "train_combined['trans_qtr']= train_combined['trans_month'].map(equiv)"
   ]
  },
  {
   "cell_type": "code",
   "execution_count": 276,
   "metadata": {},
   "outputs": [
    {
     "data": {
      "text/html": [
       "<div>\n",
       "<style>\n",
       "    .dataframe thead tr:only-child th {\n",
       "        text-align: right;\n",
       "    }\n",
       "\n",
       "    .dataframe thead th {\n",
       "        text-align: left;\n",
       "    }\n",
       "\n",
       "    .dataframe tbody tr th {\n",
       "        vertical-align: top;\n",
       "    }\n",
       "</style>\n",
       "<table border=\"1\" class=\"dataframe\">\n",
       "  <thead>\n",
       "    <tr style=\"text-align: right;\">\n",
       "      <th></th>\n",
       "      <th>parcelid</th>\n",
       "      <th>logerror</th>\n",
       "      <th>transactiondate</th>\n",
       "      <th>trans_month</th>\n",
       "      <th>trans_year</th>\n",
       "      <th>trans_qtr</th>\n",
       "    </tr>\n",
       "  </thead>\n",
       "  <tbody>\n",
       "    <tr>\n",
       "      <th>0</th>\n",
       "      <td>11016594</td>\n",
       "      <td>0.0276</td>\n",
       "      <td>2016-01-01</td>\n",
       "      <td>1</td>\n",
       "      <td>0</td>\n",
       "      <td>1</td>\n",
       "    </tr>\n",
       "    <tr>\n",
       "      <th>1</th>\n",
       "      <td>14366692</td>\n",
       "      <td>-0.1684</td>\n",
       "      <td>2016-01-01</td>\n",
       "      <td>1</td>\n",
       "      <td>0</td>\n",
       "      <td>1</td>\n",
       "    </tr>\n",
       "  </tbody>\n",
       "</table>\n",
       "</div>"
      ],
      "text/plain": [
       "   parcelid  logerror transactiondate  trans_month  trans_year  trans_qtr\n",
       "0  11016594    0.0276      2016-01-01            1           0          1\n",
       "1  14366692   -0.1684      2016-01-01            1           0          1"
      ]
     },
     "execution_count": 276,
     "metadata": {},
     "output_type": "execute_result"
    }
   ],
   "source": [
    "train_combined.head(2)"
   ]
  },
  {
   "cell_type": "code",
   "execution_count": 277,
   "metadata": {},
   "outputs": [
    {
     "data": {
      "text/plain": [
       "(167888, 6)"
      ]
     },
     "execution_count": 277,
     "metadata": {},
     "output_type": "execute_result"
    }
   ],
   "source": [
    "train_combined.shape"
   ]
  },
  {
   "cell_type": "code",
   "execution_count": 278,
   "metadata": {},
   "outputs": [
    {
     "data": {
      "text/plain": [
       "0    90275\n",
       "1    77613\n",
       "Name: trans_year, dtype: int64"
      ]
     },
     "execution_count": 278,
     "metadata": {},
     "output_type": "execute_result"
    }
   ],
   "source": [
    "train_combined.trans_year.value_counts()"
   ]
  },
  {
   "cell_type": "markdown",
   "metadata": {},
   "source": [
    "Merge the training data(transctions) with the properties data (core features) to build the final training dataset "
   ]
  },
  {
   "cell_type": "code",
   "execution_count": 279,
   "metadata": {
    "collapsed": true
   },
   "outputs": [],
   "source": [
    "df_train = train_combined.merge(properties_combined, how='left', on='parcelid') "
   ]
  },
  {
   "cell_type": "code",
   "execution_count": 280,
   "metadata": {},
   "outputs": [
    {
     "data": {
      "text/plain": [
       "(167888, 46)"
      ]
     },
     "execution_count": 280,
     "metadata": {},
     "output_type": "execute_result"
    }
   ],
   "source": [
    "df_train.shape"
   ]
  },
  {
   "cell_type": "code",
   "execution_count": 281,
   "metadata": {},
   "outputs": [
    {
     "data": {
      "text/html": [
       "<div>\n",
       "<style>\n",
       "    .dataframe thead tr:only-child th {\n",
       "        text-align: right;\n",
       "    }\n",
       "\n",
       "    .dataframe thead th {\n",
       "        text-align: left;\n",
       "    }\n",
       "\n",
       "    .dataframe tbody tr th {\n",
       "        vertical-align: top;\n",
       "    }\n",
       "</style>\n",
       "<table border=\"1\" class=\"dataframe\">\n",
       "  <thead>\n",
       "    <tr style=\"text-align: right;\">\n",
       "      <th></th>\n",
       "      <th>parcelid</th>\n",
       "      <th>logerror</th>\n",
       "      <th>transactiondate</th>\n",
       "      <th>trans_month</th>\n",
       "      <th>trans_year</th>\n",
       "      <th>trans_qtr</th>\n",
       "      <th>calculatedfinishedsquarefeet_2017</th>\n",
       "      <th>bedroomcnt_2017</th>\n",
       "      <th>bathroomcnt_2017</th>\n",
       "      <th>poolcnt_2017</th>\n",
       "      <th>...</th>\n",
       "      <th>taxvaluedollarcnt_2017_mean</th>\n",
       "      <th>taxvaluedollarcnt_2016_mean</th>\n",
       "      <th>landtaxvaluedollarcnt_2016_mean</th>\n",
       "      <th>landtaxvaluedollarcnt_2017_mean</th>\n",
       "      <th>structuretaxvaluedollarcnt_2016_mean</th>\n",
       "      <th>structuretaxvaluedollarcnt_2017_mean</th>\n",
       "      <th>calculatedfinishedsquarefeet_2017_mean</th>\n",
       "      <th>taxpersqft_2017</th>\n",
       "      <th>lotsizesquarefeet_2017_mean</th>\n",
       "      <th>taxperlotsizesqft_2017</th>\n",
       "    </tr>\n",
       "  </thead>\n",
       "  <tbody>\n",
       "    <tr>\n",
       "      <th>0</th>\n",
       "      <td>11016594</td>\n",
       "      <td>0.0276</td>\n",
       "      <td>2016-01-01</td>\n",
       "      <td>1</td>\n",
       "      <td>0</td>\n",
       "      <td>1</td>\n",
       "      <td>1684.0</td>\n",
       "      <td>3.0</td>\n",
       "      <td>2.0</td>\n",
       "      <td>0</td>\n",
       "      <td>...</td>\n",
       "      <td>374814.534783</td>\n",
       "      <td>359583.270368</td>\n",
       "      <td>186401.330230</td>\n",
       "      <td>197131.115761</td>\n",
       "      <td>173229.022837</td>\n",
       "      <td>177731.715684</td>\n",
       "      <td>1932.308435</td>\n",
       "      <td>2.425492</td>\n",
       "      <td>20927.554764</td>\n",
       "      <td>0.223953</td>\n",
       "    </tr>\n",
       "    <tr>\n",
       "      <th>1</th>\n",
       "      <td>14366692</td>\n",
       "      <td>-0.1684</td>\n",
       "      <td>2016-01-01</td>\n",
       "      <td>1</td>\n",
       "      <td>0</td>\n",
       "      <td>1</td>\n",
       "      <td>2263.0</td>\n",
       "      <td>4.0</td>\n",
       "      <td>3.5</td>\n",
       "      <td>0</td>\n",
       "      <td>...</td>\n",
       "      <td>362939.593701</td>\n",
       "      <td>341396.562758</td>\n",
       "      <td>222749.951286</td>\n",
       "      <td>239483.506153</td>\n",
       "      <td>132784.392839</td>\n",
       "      <td>138008.663032</td>\n",
       "      <td>1750.986164</td>\n",
       "      <td>2.198684</td>\n",
       "      <td>6326.747053</td>\n",
       "      <td>0.608506</td>\n",
       "    </tr>\n",
       "  </tbody>\n",
       "</table>\n",
       "<p>2 rows × 46 columns</p>\n",
       "</div>"
      ],
      "text/plain": [
       "   parcelid  logerror transactiondate  trans_month  trans_year  trans_qtr  \\\n",
       "0  11016594    0.0276      2016-01-01            1           0          1   \n",
       "1  14366692   -0.1684      2016-01-01            1           0          1   \n",
       "\n",
       "   calculatedfinishedsquarefeet_2017  bedroomcnt_2017  bathroomcnt_2017  \\\n",
       "0                             1684.0              3.0               2.0   \n",
       "1                             2263.0              4.0               3.5   \n",
       "\n",
       "   poolcnt_2017           ...            taxvaluedollarcnt_2017_mean  \\\n",
       "0             0           ...                          374814.534783   \n",
       "1             0           ...                          362939.593701   \n",
       "\n",
       "   taxvaluedollarcnt_2016_mean  landtaxvaluedollarcnt_2016_mean  \\\n",
       "0                359583.270368                    186401.330230   \n",
       "1                341396.562758                    222749.951286   \n",
       "\n",
       "   landtaxvaluedollarcnt_2017_mean  structuretaxvaluedollarcnt_2016_mean  \\\n",
       "0                    197131.115761                         173229.022837   \n",
       "1                    239483.506153                         132784.392839   \n",
       "\n",
       "   structuretaxvaluedollarcnt_2017_mean  \\\n",
       "0                         177731.715684   \n",
       "1                         138008.663032   \n",
       "\n",
       "   calculatedfinishedsquarefeet_2017_mean  taxpersqft_2017  \\\n",
       "0                             1932.308435         2.425492   \n",
       "1                             1750.986164         2.198684   \n",
       "\n",
       "   lotsizesquarefeet_2017_mean  taxperlotsizesqft_2017  \n",
       "0                 20927.554764                0.223953  \n",
       "1                  6326.747053                0.608506  \n",
       "\n",
       "[2 rows x 46 columns]"
      ]
     },
     "execution_count": 281,
     "metadata": {},
     "output_type": "execute_result"
    }
   ],
   "source": [
    "df_train.head(2)"
   ]
  },
  {
   "cell_type": "code",
   "execution_count": 282,
   "metadata": {},
   "outputs": [
    {
     "data": {
      "text/plain": [
       "parcelid                                       0\n",
       "logerror                                       0\n",
       "transactiondate                                0\n",
       "trans_month                                    0\n",
       "trans_year                                     0\n",
       "trans_qtr                                      0\n",
       "calculatedfinishedsquarefeet_2017              0\n",
       "bedroomcnt_2017                                0\n",
       "bathroomcnt_2017                               0\n",
       "poolcnt_2017                                   0\n",
       "lotsizesquarefeet_2017                         0\n",
       "yearbuilt_2017                                 0\n",
       "propertylandusetypeid_2017                     0\n",
       "latitude_2017                                  0\n",
       "longitude_2017                                 0\n",
       "regionidzip_2017                               0\n",
       "census_county                                  0\n",
       "census_tract                                   0\n",
       "census_block                                   0\n",
       "landtaxvaluedollarcnt_2016                     0\n",
       "structuretaxvaluedollarcnt_2016                0\n",
       "taxvaluedollarcnt_2016                         0\n",
       "taxdelinquencyflag_2016                        0\n",
       "taxamount_2016                                 0\n",
       "landtaxvaluedollarcnt_2017                     0\n",
       "structuretaxvaluedollarcnt_2017                0\n",
       "taxvaluedollarcnt_2017                         0\n",
       "taxdelinquencyflag_2017                        0\n",
       "taxamount_2017                                 0\n",
       "rawcensustractandblock_2017                   51\n",
       "censustractandblock_2017                     903\n",
       "regionidneighborhood_2017                 100913\n",
       "regionidcity_2017                           3326\n",
       "regionidcounty_2017                           51\n",
       "taxamount_mean_2017                            0\n",
       "taxamount_mean_2016                            0\n",
       "taxvaluedollarcnt_2017_mean                    0\n",
       "taxvaluedollarcnt_2016_mean                    0\n",
       "landtaxvaluedollarcnt_2016_mean                0\n",
       "landtaxvaluedollarcnt_2017_mean                0\n",
       "structuretaxvaluedollarcnt_2016_mean           0\n",
       "structuretaxvaluedollarcnt_2017_mean           0\n",
       "calculatedfinishedsquarefeet_2017_mean         2\n",
       "taxpersqft_2017                                2\n",
       "lotsizesquarefeet_2017_mean                    9\n",
       "taxperlotsizesqft_2017                         9\n",
       "dtype: int64"
      ]
     },
     "execution_count": 282,
     "metadata": {},
     "output_type": "execute_result"
    }
   ],
   "source": [
    "df_train.isnull().sum()"
   ]
  },
  {
   "cell_type": "code",
   "execution_count": 283,
   "metadata": {
    "collapsed": true
   },
   "outputs": [],
   "source": [
    "# We need to keep 2016 tax info with 2016 transactions, per Zillow guidance; same for 2017\n",
    "df_train_2016= df_train.loc[df_train.trans_year==0]"
   ]
  },
  {
   "cell_type": "code",
   "execution_count": 284,
   "metadata": {},
   "outputs": [
    {
     "data": {
      "text/plain": [
       "(90275, 46)"
      ]
     },
     "execution_count": 284,
     "metadata": {},
     "output_type": "execute_result"
    }
   ],
   "source": [
    "df_train_2016.shape"
   ]
  },
  {
   "cell_type": "code",
   "execution_count": 285,
   "metadata": {},
   "outputs": [
    {
     "data": {
      "text/plain": [
       "(77613, 46)"
      ]
     },
     "execution_count": 285,
     "metadata": {},
     "output_type": "execute_result"
    }
   ],
   "source": [
    "df_train_2017= df_train.loc[df_train.trans_year==1]\n",
    "df_train_2017.shape"
   ]
  },
  {
   "cell_type": "code",
   "execution_count": 286,
   "metadata": {},
   "outputs": [
    {
     "data": {
      "text/plain": [
       "Index(['parcelid', 'logerror', 'transactiondate', 'trans_month', 'trans_year',\n",
       "       'trans_qtr', 'calculatedfinishedsquarefeet_2017', 'bedroomcnt_2017',\n",
       "       'bathroomcnt_2017', 'poolcnt_2017', 'lotsizesquarefeet_2017',\n",
       "       'yearbuilt_2017', 'propertylandusetypeid_2017', 'latitude_2017',\n",
       "       'longitude_2017', 'regionidzip_2017', 'census_county', 'census_tract',\n",
       "       'census_block', 'landtaxvaluedollarcnt_2016',\n",
       "       'structuretaxvaluedollarcnt_2016', 'taxvaluedollarcnt_2016',\n",
       "       'taxdelinquencyflag_2016', 'taxamount_2016',\n",
       "       'landtaxvaluedollarcnt_2017', 'structuretaxvaluedollarcnt_2017',\n",
       "       'taxvaluedollarcnt_2017', 'taxdelinquencyflag_2017', 'taxamount_2017',\n",
       "       'rawcensustractandblock_2017', 'censustractandblock_2017',\n",
       "       'regionidneighborhood_2017', 'regionidcity_2017', 'regionidcounty_2017',\n",
       "       'taxamount_mean_2017', 'taxamount_mean_2016',\n",
       "       'taxvaluedollarcnt_2017_mean', 'taxvaluedollarcnt_2016_mean',\n",
       "       'landtaxvaluedollarcnt_2016_mean', 'landtaxvaluedollarcnt_2017_mean',\n",
       "       'structuretaxvaluedollarcnt_2016_mean',\n",
       "       'structuretaxvaluedollarcnt_2017_mean',\n",
       "       'calculatedfinishedsquarefeet_2017_mean', 'taxpersqft_2017',\n",
       "       'lotsizesquarefeet_2017_mean', 'taxperlotsizesqft_2017'],\n",
       "      dtype='object')"
      ]
     },
     "execution_count": 286,
     "metadata": {},
     "output_type": "execute_result"
    }
   ],
   "source": [
    "df_train_2017.columns"
   ]
  },
  {
   "cell_type": "code",
   "execution_count": 287,
   "metadata": {
    "collapsed": true
   },
   "outputs": [],
   "source": [
    "dropcols_2016=[                                                                             \n",
    "                                         # 2017 values \n",
    "                                         'landtaxvaluedollarcnt_2017', \n",
    "                                         'structuretaxvaluedollarcnt_2017',                                        \n",
    "                                         'taxvaluedollarcnt_2017', \n",
    "                                         'taxdelinquencyflag_2017',\n",
    "                                         'taxamount_2017',                                                                  \n",
    "                                         # Remove when training \n",
    "                                         'rawcensustractandblock_2017',\n",
    "                                         'censustractandblock_2017', \n",
    "                                         'regionidneighborhood_2017',\n",
    "                                         'regionidcity_2017', \n",
    "                                         'regionidcounty_2017',\n",
    "                                         'taxamount_mean_2017', \n",
    "                                         'taxamount_mean_2016',\n",
    "                                         'taxvaluedollarcnt_2017_mean',\n",
    "                                         'taxvaluedollarcnt_2016_mean',\n",
    "                                         'landtaxvaluedollarcnt_2016_mean',\n",
    "                                         'landtaxvaluedollarcnt_2017_mean',\n",
    "                                         'structuretaxvaluedollarcnt_2016_mean',\n",
    "                                         'structuretaxvaluedollarcnt_2017_mean',\n",
    "                                         'calculatedfinishedsquarefeet_2017_mean',\n",
    "                                         'taxpersqft_2017',\n",
    "                                         'lotsizesquarefeet_2017_mean', \n",
    "                                         'taxperlotsizesqft_2017' ]                      \n",
    "                                         \n",
    "\n",
    "\n",
    "dropcols_2017=[\n",
    "                                         # 2016 values \n",
    "                                         'landtaxvaluedollarcnt_2016', \n",
    "                                         'structuretaxvaluedollarcnt_2016',\n",
    "                                         'taxvaluedollarcnt_2016', \n",
    "                                         'taxdelinquencyflag_2016',\n",
    "                                         'taxamount_2016',                                                                \n",
    "                                                                                                \n",
    "                                         # Remove when training \n",
    "                                         'rawcensustractandblock_2017',\n",
    "                                         'censustractandblock_2017', \n",
    "                                         'regionidneighborhood_2017',\n",
    "                                         'regionidcity_2017', \n",
    "                                         'regionidcounty_2017',\n",
    "                                         'taxamount_mean_2017', \n",
    "                                         'taxamount_mean_2016',\n",
    "                                         'taxvaluedollarcnt_2017_mean',\n",
    "                                         'taxvaluedollarcnt_2016_mean',\n",
    "                                         'landtaxvaluedollarcnt_2016_mean',\n",
    "                                         'landtaxvaluedollarcnt_2017_mean',\n",
    "                                         'structuretaxvaluedollarcnt_2016_mean',\n",
    "                                         'structuretaxvaluedollarcnt_2017_mean',\n",
    "                                         'calculatedfinishedsquarefeet_2017_mean',\n",
    "                                         'taxpersqft_2017',\n",
    "                                         'lotsizesquarefeet_2017_mean', \n",
    "                                         'taxperlotsizesqft_2017' ]      \n",
    "\n",
    "\n",
    "\n"
   ]
  },
  {
   "cell_type": "code",
   "execution_count": 288,
   "metadata": {},
   "outputs": [
    {
     "data": {
      "text/plain": [
       "(90275, 24)"
      ]
     },
     "execution_count": 288,
     "metadata": {},
     "output_type": "execute_result"
    }
   ],
   "source": [
    "df_train_2016=df_train_2016.drop(dropcols_2016, axis=1)\n",
    "df_train_2016.shape"
   ]
  },
  {
   "cell_type": "code",
   "execution_count": 289,
   "metadata": {},
   "outputs": [
    {
     "data": {
      "text/plain": [
       "(77613, 24)"
      ]
     },
     "execution_count": 289,
     "metadata": {},
     "output_type": "execute_result"
    }
   ],
   "source": [
    "df_train_2017=df_train_2017.drop(dropcols_2016, axis=1)\n",
    "df_train_2017.shape"
   ]
  },
  {
   "cell_type": "code",
   "execution_count": 290,
   "metadata": {
    "collapsed": true
   },
   "outputs": [],
   "source": [
    "# Leave out these addl columns from the training set...(Note: only using trans_quarter, not month)\n",
    "dropcols_final=['parcelid', 'logerror', 'transactiondate', 'trans_month', 'trans_year']"
   ]
  },
  {
   "cell_type": "markdown",
   "metadata": {},
   "source": [
    "Modeling....\n",
    "In previous notebooks, explored use of Random Forests and experimented with parameter tuning; based on results, \n",
    "focusing on the Light GBM model here "
   ]
  },
  {
   "cell_type": "code",
   "execution_count": 291,
   "metadata": {
    "collapsed": true
   },
   "outputs": [],
   "source": [
    "import lightgbm as lgb"
   ]
  },
  {
   "cell_type": "code",
   "execution_count": 292,
   "metadata": {},
   "outputs": [
    {
     "name": "stdout",
     "output_type": "stream",
     "text": [
      "(90275, 19) (90275,)\n"
     ]
    }
   ],
   "source": [
    "X_6 = df_train_2016.drop(dropcols_final, axis=1).values\n",
    "y_6 = df_train_2016['logerror'].values\n",
    "train_columns_6=df_train_2016.drop(dropcols_final, axis=1).columns\n",
    "print(X_6.shape, y_6.shape)"
   ]
  },
  {
   "cell_type": "code",
   "execution_count": 293,
   "metadata": {
    "collapsed": true
   },
   "outputs": [],
   "source": [
    "from sklearn.model_selection import train_test_split\n",
    "X_train, X_test, y_train, y_test = train_test_split(X_6, y_6, test_size=0.20)"
   ]
  },
  {
   "cell_type": "code",
   "execution_count": 294,
   "metadata": {
    "collapsed": true
   },
   "outputs": [],
   "source": [
    "cat_feat_6=['poolcnt_2017',\n",
    " 'propertylandusetypeid_2017',\n",
    " 'taxdelinquencyflag_2016',\n",
    " 'regionidzip_2017',\n",
    " 'census_tract',\n",
    " 'census_county',\n",
    " 'census_block']\n",
    "cat_feat_7=['poolcnt_2017',\n",
    " 'propertylandusetypeid_2017',\n",
    " 'taxdelinquencyflag_2017',\n",
    " 'regionidzip_2017',\n",
    " 'census_tract',\n",
    " 'census_county',\n",
    " 'census_block']"
   ]
  },
  {
   "cell_type": "code",
   "execution_count": 295,
   "metadata": {
    "collapsed": true
   },
   "outputs": [],
   "source": [
    "lgb_train = lgb.Dataset(X_train, label=y_train, feature_name=train_columns_6, categorical_feature=cat_feat_6, free_raw_data=False )\n",
    "lgb_eval = lgb.Dataset(X_test, label=y_test, feature_name=train_columns_6, categorical_feature=cat_feat_6,free_raw_data=False )"
   ]
  },
  {
   "cell_type": "code",
   "execution_count": null,
   "metadata": {
    "collapsed": true
   },
   "outputs": [],
   "source": [
    "from sklearn.model_selection import GridSearchCV\n",
    "from sklearn import metrics\n",
    "from sklearn import cross_validation"
   ]
  },
  {
   "cell_type": "code",
   "execution_count": null,
   "metadata": {},
   "outputs": [],
   "source": [
    "params = {'boosting_type': 'gbdt',\n",
    "          'max_depth' : -1,\n",
    "          'objective': 'regression_l1', \n",
    "          'nthread': 5, \n",
    "          'n_estimators': 20, \n",
    "          'num_leaves': 64, \n",
    "          'min_data_in_leaf': 100, \n",
    "          'learning_rate': 0.002, \n",
    "          'metric' : 'mae',\n",
    "          'max_bin': 512, \n",
    "          'subsample_for_bin': 200,\n",
    "          'subsample': 1, \n",
    "          'subsample_freq': 1, \n",
    "          'colsample_bytree': 0.8, \n",
    "          'reg_alpha': 5, \n",
    "          'reg_lambda': 10,\n",
    "          'min_split_gain': 0.5, \n",
    "          'min_child_weight': 1, \n",
    "          'min_child_samples': 5, \n",
    "          'scale_pos_weight': 1,\n",
    "          'num_class' : 1,\n",
    "          'sub_feature': 0.5,\n",
    "          'num_leaves': 60,\n",
    "          'min_data': 500,\n",
    "          'min_hessian': 1\n",
    "          }\n",
    "\n",
    "\n",
    "# Create parameters to search\n",
    "gridParams = {\n",
    "    'learning_rate': [0.05, 0.1, 0.16],\n",
    "    'n_estimators': [8,24,48],\n",
    "    'num_leaves': [6,12,18],\n",
    "    'min_data_in_leaf': [50, 100,500],\n",
    "    'max_depth' : [5, 10, 20],\n",
    "    'max_bin' : [300, 500, 750], \n",
    "    'boosting_type' : ['gbdt'],\n",
    "    'objective' : ['regression_l1'],\n",
    "    'seed' : [500],\n",
    "    'colsample_bytree' : [0.65, 0.75, 0.8],\n",
    "    'subsample' : [0.7,0.75],\n",
    "    'reg_alpha' : [1,2],\n",
    "    'reg_lambda' : [1,2],\n",
    "    }\n",
    "\n",
    "# Create classifier to use. \n",
    "mdl = lgb.LGBMRegressor(boosting_type= 'gbdt', \n",
    "          objective = 'regression_l1', \n",
    "          nthread = 5, \n",
    "          silent = True,\n",
    "          max_depth = params['max_depth'],\n",
    "          max_bin = params['max_bin'], \n",
    "          subsample_for_bin = params['subsample_for_bin'],\n",
    "          subsample = params['subsample'], \n",
    "          subsample_freq = params['subsample_freq'], \n",
    "          min_split_gain = params['min_split_gain'], \n",
    "          min_child_weight = params['min_child_weight'], \n",
    "          min_child_samples = params['min_child_samples'], \n",
    "          scale_pos_weight = params['scale_pos_weight'])\n",
    "\n",
    "# To view the default model params:\n",
    "mdl.get_params().keys()\n",
    "\n",
    "# Create the grid\n",
    "grid = GridSearchCV(mdl, gridParams, verbose=1, cv=4, n_jobs=-1)\n",
    "# Run the grid\n",
    "grid.fit(X_train, y_train)\n",
    "\n",
    "# Print the best parameters found\n",
    "print(grid.best_params_)\n",
    "print(grid.best_score_)\n",
    "grid.grid_scores_"
   ]
  },
  {
   "cell_type": "code",
   "execution_count": 305,
   "metadata": {
    "collapsed": true
   },
   "outputs": [],
   "source": [
    "best_lgb_6=grid.best_estimator_"
   ]
  },
  {
   "cell_type": "code",
   "execution_count": 306,
   "metadata": {},
   "outputs": [
    {
     "data": {
      "text/plain": [
       "LGBMRegressor(boosting_type='gbdt', colsample_bytree=0.8, learning_rate=0.16,\n",
       "       max_bin=750, max_depth=5, min_child_samples=5, min_child_weight=1,\n",
       "       min_data_in_leaf=50, min_split_gain=0.5, n_estimators=48, nthread=5,\n",
       "       num_leaves=18, objective='regression_l1', reg_alpha=2, reg_lambda=2,\n",
       "       scale_pos_weight=1, seed=500, silent=True, subsample=0.7,\n",
       "       subsample_for_bin=200, subsample_freq=1)"
      ]
     },
     "execution_count": 306,
     "metadata": {},
     "output_type": "execute_result"
    }
   ],
   "source": [
    "best_lgb_6"
   ]
  },
  {
   "cell_type": "code",
   "execution_count": 259,
   "metadata": {
    "collapsed": true
   },
   "outputs": [],
   "source": [
    "# # After further manual testing of the model \n",
    "# best_lgb_6=lgb.LGBMRegressor(boosting_type='gbdt', colsample_bytree=0.8, learning_rate=0.16,\n",
    "#        max_bin=750, max_depth=10, min_child_samples=5, min_child_weight=1,\n",
    "#        min_data_in_leaf=50, min_split_gain=0.5, n_estimators=48, nthread=5,\n",
    "#        num_leaves=12, objective='regression_l1', reg_alpha=1, reg_lambda=1,\n",
    "#        scale_pos_weight=1, seed=500, silent=True, subsample=0.75,\n",
    "#        subsample_for_bin=200, subsample_freq=1)"
   ]
  },
  {
   "cell_type": "code",
   "execution_count": 307,
   "metadata": {},
   "outputs": [
    {
     "name": "stdout",
     "output_type": "stream",
     "text": [
      "Start predicting...\n"
     ]
    }
   ],
   "source": [
    "best_lgb_6.fit(X_train, y_train)\n",
    "print('Start predicting...')\n",
    "# predict\n",
    "y_pred = best_lgb_6.predict(X_test, num_iteration=best_lgb_6.best_iteration)\n"
   ]
  },
  {
   "cell_type": "code",
   "execution_count": 308,
   "metadata": {},
   "outputs": [
    {
     "name": "stdout",
     "output_type": "stream",
     "text": [
      "The mean absolute error of prediction is: 0.0687120775343\n"
     ]
    }
   ],
   "source": [
    "from sklearn.metrics import mean_absolute_error\n",
    "print('The mean absolute error of prediction is:', mean_absolute_error(y_test, y_pred) )"
   ]
  },
  {
   "cell_type": "code",
   "execution_count": 309,
   "metadata": {},
   "outputs": [
    {
     "data": {
      "text/plain": [
       "[('calculatedfinishedsquarefeet_2017', 30),\n",
       " ('taxamount_2016', 27),\n",
       " ('regionidzip_2017', 20),\n",
       " ('lotsizesquarefeet_2017', 19),\n",
       " ('yearbuilt_2017', 18),\n",
       " ('trans_qtr', 17),\n",
       " ('landtaxvaluedollarcnt_2016', 16),\n",
       " ('poolcnt_2017', 12),\n",
       " ('latitude_2017', 12),\n",
       " ('taxvaluedollarcnt_2016', 11),\n",
       " ('bathroomcnt_2017', 8),\n",
       " ('structuretaxvaluedollarcnt_2016', 6),\n",
       " ('propertylandusetypeid_2017', 4),\n",
       " ('taxdelinquencyflag_2016', 4),\n",
       " ('bedroomcnt_2017', 3),\n",
       " ('census_tract', 3),\n",
       " ('longitude_2017', 1),\n",
       " ('census_county', 0),\n",
       " ('census_block', 0)]"
      ]
     },
     "execution_count": 309,
     "metadata": {},
     "output_type": "execute_result"
    }
   ],
   "source": [
    "from operator import itemgetter\n",
    "sorted(list(zip(train_columns_6,best_lgb_6.feature_importances_)), key=itemgetter(1), reverse=True)"
   ]
  },
  {
   "cell_type": "code",
   "execution_count": 310,
   "metadata": {
    "collapsed": true
   },
   "outputs": [],
   "source": [
    "import pickle\n",
    "pickle.dump(best_lgb_6, open('lgb_clf_6_v3.pickle', 'wb'))\n",
    "# #RF_clf = pickle.load(open('RF_clf_09_29_A.pickle', 'rb'))"
   ]
  },
  {
   "cell_type": "code",
   "execution_count": 311,
   "metadata": {
    "collapsed": true
   },
   "outputs": [],
   "source": [
    "# Now fit 2017 data "
   ]
  },
  {
   "cell_type": "code",
   "execution_count": 312,
   "metadata": {},
   "outputs": [
    {
     "name": "stdout",
     "output_type": "stream",
     "text": [
      "(77613, 19) (77613,)\n"
     ]
    }
   ],
   "source": [
    "X_7 = df_train_2017.drop(dropcols_final, axis=1).values\n",
    "y_7 = df_train_2017['logerror'].values\n",
    "train_columns_7=df_train_2017.drop(dropcols_final, axis=1).columns\n",
    "print(X_7.shape, y_7.shape)"
   ]
  },
  {
   "cell_type": "code",
   "execution_count": 313,
   "metadata": {
    "collapsed": true
   },
   "outputs": [],
   "source": [
    "X_train, X_test, y_train, y_test = train_test_split(X_7, y_7, test_size=0.20)"
   ]
  },
  {
   "cell_type": "code",
   "execution_count": 314,
   "metadata": {
    "collapsed": true
   },
   "outputs": [],
   "source": [
    "lgb_train = lgb.Dataset(X_train, label=y_train, feature_name=train_columns_7, categorical_feature=cat_feat_7,free_raw_data=False )\n",
    "lgb_eval = lgb.Dataset(X_test, label=y_test, feature_name=train_columns_7, categorical_feature=cat_feat_7,free_raw_data=False )"
   ]
  },
  {
   "cell_type": "code",
   "execution_count": null,
   "metadata": {},
   "outputs": [],
   "source": [
    "# Create classifier to use.\n",
    "mdl = lgb.LGBMRegressor(boosting_type= 'gbdt', \n",
    "          objective = 'regression_l1', \n",
    "          nthread = 5, \n",
    "          silent = True,\n",
    "          max_depth = params['max_depth'],\n",
    "          max_bin = params['max_bin'], \n",
    "          subsample_for_bin = params['subsample_for_bin'],\n",
    "          subsample = params['subsample'], \n",
    "          subsample_freq = params['subsample_freq'], \n",
    "          min_split_gain = params['min_split_gain'], \n",
    "          min_child_weight = params['min_child_weight'], \n",
    "          min_child_samples = params['min_child_samples'], \n",
    "          scale_pos_weight = params['scale_pos_weight'])\n",
    "\n",
    "# To view the default model params:\n",
    "mdl.get_params().keys()\n",
    "\n",
    "# Create the grid\n",
    "grid = GridSearchCV(mdl, gridParams, verbose=1, cv=4, n_jobs=-1)\n",
    "# Run the grid\n",
    "grid.fit(X_train, y_train)\n",
    "\n",
    "# Print the best parameters found\n",
    "print(grid.best_params_)\n",
    "print(grid.best_score_)\n",
    "grid.grid_scores_"
   ]
  },
  {
   "cell_type": "code",
   "execution_count": 316,
   "metadata": {
    "collapsed": true
   },
   "outputs": [],
   "source": [
    "best_lgb_7=grid.best_estimator_"
   ]
  },
  {
   "cell_type": "code",
   "execution_count": 317,
   "metadata": {},
   "outputs": [
    {
     "data": {
      "text/plain": [
       "LGBMRegressor(boosting_type='gbdt', colsample_bytree=0.75, learning_rate=0.1,\n",
       "       max_bin=750, max_depth=5, min_child_samples=5, min_child_weight=1,\n",
       "       min_data_in_leaf=50, min_split_gain=0.5, n_estimators=8, nthread=5,\n",
       "       num_leaves=18, objective='regression_l1', reg_alpha=1, reg_lambda=2,\n",
       "       scale_pos_weight=1, seed=500, silent=True, subsample=0.7,\n",
       "       subsample_for_bin=200, subsample_freq=1)"
      ]
     },
     "execution_count": 317,
     "metadata": {},
     "output_type": "execute_result"
    }
   ],
   "source": [
    "best_lgb_7"
   ]
  },
  {
   "cell_type": "code",
   "execution_count": 175,
   "metadata": {
    "collapsed": true
   },
   "outputs": [],
   "source": [
    "# # After further manual parameter tuning\n",
    "# best_lgb_7=lgb.LGBMRegressor(boosting_type='gbdt', colsample_bytree=0.8, learning_rate=0.05,\n",
    "#        max_bin=300, max_depth=8, min_child_samples=5, min_child_weight=1,\n",
    "#        min_data_in_leaf=50, min_split_gain=0.5, n_estimators=50, nthread=5,\n",
    "#        num_leaves=12, objective='regression_l1', reg_alpha=1, reg_lambda=2,\n",
    "#        scale_pos_weight=1, seed=500, silent=True, subsample=0.75,\n",
    "#        subsample_for_bin=200, subsample_freq=1, metric='mae')"
   ]
  },
  {
   "cell_type": "code",
   "execution_count": 318,
   "metadata": {},
   "outputs": [
    {
     "name": "stdout",
     "output_type": "stream",
     "text": [
      "Start predicting...\n",
      "The mean absolute error of prediction is: 0.0676915787245\n"
     ]
    }
   ],
   "source": [
    "best_lgb_7.fit(X_train, y_train)\n",
    "print('Start predicting...')\n",
    "# predict\n",
    "y_pred = best_lgb_7.predict(X_test, num_iteration=best_lgb_7.best_iteration)\n",
    "# eval\n",
    "print('The mean absolute error of prediction is:', mean_absolute_error(y_test, y_pred) )"
   ]
  },
  {
   "cell_type": "code",
   "execution_count": 319,
   "metadata": {},
   "outputs": [
    {
     "data": {
      "text/plain": [
       "[('calculatedfinishedsquarefeet_2017', 27),\n",
       " ('latitude_2017', 16),\n",
       " ('lotsizesquarefeet_2017', 12),\n",
       " ('landtaxvaluedollarcnt_2016', 10),\n",
       " ('trans_qtr', 9),\n",
       " ('longitude_2017', 9),\n",
       " ('structuretaxvaluedollarcnt_2016', 9),\n",
       " ('taxamount_2016', 9),\n",
       " ('poolcnt_2017', 6),\n",
       " ('yearbuilt_2017', 5),\n",
       " ('regionidzip_2017', 5),\n",
       " ('bathroomcnt_2017', 3),\n",
       " ('census_block', 3),\n",
       " ('taxvaluedollarcnt_2016', 3),\n",
       " ('taxdelinquencyflag_2016', 3),\n",
       " ('bedroomcnt_2017', 1),\n",
       " ('propertylandusetypeid_2017', 1),\n",
       " ('census_tract', 1),\n",
       " ('census_county', 0)]"
      ]
     },
     "execution_count": 319,
     "metadata": {},
     "output_type": "execute_result"
    }
   ],
   "source": [
    "sorted(list(zip(train_columns_7,best_lgb_7.feature_importances_)), key=itemgetter(1), reverse=True)"
   ]
  },
  {
   "cell_type": "code",
   "execution_count": 320,
   "metadata": {
    "collapsed": true
   },
   "outputs": [],
   "source": [
    "pickle.dump(best_lgb_7, open('lgb_clf_7_v3.pickle', 'wb'))\n",
    "# #RF_clf = pickle.load(open('RF_clf_09_29_A.pickle', 'rb'))"
   ]
  },
  {
   "cell_type": "markdown",
   "metadata": {},
   "source": [
    "Submission....................................................................................................................."
   ]
  },
  {
   "cell_type": "code",
   "execution_count": 321,
   "metadata": {
    "collapsed": true
   },
   "outputs": [],
   "source": [
    "# Read in the submission file\n",
    "sub = pd.read_csv('sample_submission.csv')"
   ]
  },
  {
   "cell_type": "code",
   "execution_count": 322,
   "metadata": {},
   "outputs": [
    {
     "data": {
      "text/plain": [
       "(2985217, 7)"
      ]
     },
     "execution_count": 322,
     "metadata": {},
     "output_type": "execute_result"
    }
   ],
   "source": [
    "sub.shape"
   ]
  },
  {
   "cell_type": "code",
   "execution_count": 323,
   "metadata": {},
   "outputs": [
    {
     "data": {
      "text/html": [
       "<div>\n",
       "<style>\n",
       "    .dataframe thead tr:only-child th {\n",
       "        text-align: right;\n",
       "    }\n",
       "\n",
       "    .dataframe thead th {\n",
       "        text-align: left;\n",
       "    }\n",
       "\n",
       "    .dataframe tbody tr th {\n",
       "        vertical-align: top;\n",
       "    }\n",
       "</style>\n",
       "<table border=\"1\" class=\"dataframe\">\n",
       "  <thead>\n",
       "    <tr style=\"text-align: right;\">\n",
       "      <th></th>\n",
       "      <th>ParcelId</th>\n",
       "      <th>201610</th>\n",
       "      <th>201611</th>\n",
       "      <th>201612</th>\n",
       "      <th>201710</th>\n",
       "      <th>201711</th>\n",
       "      <th>201712</th>\n",
       "    </tr>\n",
       "  </thead>\n",
       "  <tbody>\n",
       "    <tr>\n",
       "      <th>0</th>\n",
       "      <td>10754147</td>\n",
       "      <td>0</td>\n",
       "      <td>0</td>\n",
       "      <td>0</td>\n",
       "      <td>0</td>\n",
       "      <td>0</td>\n",
       "      <td>0</td>\n",
       "    </tr>\n",
       "    <tr>\n",
       "      <th>1</th>\n",
       "      <td>10759547</td>\n",
       "      <td>0</td>\n",
       "      <td>0</td>\n",
       "      <td>0</td>\n",
       "      <td>0</td>\n",
       "      <td>0</td>\n",
       "      <td>0</td>\n",
       "    </tr>\n",
       "  </tbody>\n",
       "</table>\n",
       "</div>"
      ],
      "text/plain": [
       "   ParcelId  201610  201611  201612  201710  201711  201712\n",
       "0  10754147       0       0       0       0       0       0\n",
       "1  10759547       0       0       0       0       0       0"
      ]
     },
     "execution_count": 323,
     "metadata": {},
     "output_type": "execute_result"
    }
   ],
   "source": [
    "sub.head(2)"
   ]
  },
  {
   "cell_type": "markdown",
   "metadata": {},
   "source": [
    "Prep the full property dataset for prediction"
   ]
  },
  {
   "cell_type": "code",
   "execution_count": 324,
   "metadata": {
    "collapsed": true
   },
   "outputs": [],
   "source": [
    "# Read in as needed \n",
    "#properties_combined=pd.read_csv(\"properties_combined_base5A\")\n",
    "df_pred_2016=properties_combined"
   ]
  },
  {
   "cell_type": "code",
   "execution_count": 325,
   "metadata": {},
   "outputs": [
    {
     "data": {
      "text/plain": [
       "Index(['trans_qtr', 'calculatedfinishedsquarefeet_2017', 'bedroomcnt_2017',\n",
       "       'bathroomcnt_2017', 'poolcnt_2017', 'lotsizesquarefeet_2017',\n",
       "       'yearbuilt_2017', 'propertylandusetypeid_2017', 'latitude_2017',\n",
       "       'longitude_2017', 'regionidzip_2017', 'census_county', 'census_tract',\n",
       "       'census_block', 'landtaxvaluedollarcnt_2016',\n",
       "       'structuretaxvaluedollarcnt_2016', 'taxvaluedollarcnt_2016',\n",
       "       'taxdelinquencyflag_2016', 'taxamount_2016'],\n",
       "      dtype='object')"
      ]
     },
     "execution_count": 325,
     "metadata": {},
     "output_type": "execute_result"
    }
   ],
   "source": [
    "# These were the final train columns (19)\n",
    "train_columns"
   ]
  },
  {
   "cell_type": "code",
   "execution_count": 326,
   "metadata": {},
   "outputs": [
    {
     "data": {
      "text/plain": [
       "['landtaxvaluedollarcnt_2017',\n",
       " 'structuretaxvaluedollarcnt_2017',\n",
       " 'taxvaluedollarcnt_2017',\n",
       " 'taxdelinquencyflag_2017',\n",
       " 'taxamount_2017',\n",
       " 'rawcensustractandblock_2017',\n",
       " 'censustractandblock_2017',\n",
       " 'regionidneighborhood_2017',\n",
       " 'regionidcity_2017',\n",
       " 'regionidcounty_2017',\n",
       " 'taxamount_mean_2017',\n",
       " 'taxamount_mean_2016',\n",
       " 'taxvaluedollarcnt_2017_mean',\n",
       " 'taxvaluedollarcnt_2016_mean',\n",
       " 'landtaxvaluedollarcnt_2016_mean',\n",
       " 'landtaxvaluedollarcnt_2017_mean',\n",
       " 'structuretaxvaluedollarcnt_2016_mean',\n",
       " 'structuretaxvaluedollarcnt_2017_mean',\n",
       " 'calculatedfinishedsquarefeet_2017_mean',\n",
       " 'taxpersqft_2017',\n",
       " 'lotsizesquarefeet_2017_mean',\n",
       " 'taxperlotsizesqft_2017']"
      ]
     },
     "execution_count": 326,
     "metadata": {},
     "output_type": "execute_result"
    }
   ],
   "source": [
    "# These were the dropped cols\n",
    "dropcols_2016"
   ]
  },
  {
   "cell_type": "code",
   "execution_count": 327,
   "metadata": {
    "collapsed": true
   },
   "outputs": [],
   "source": [
    "df_pred_2016.drop(dropcols_2016, axis=1, inplace=True)"
   ]
  },
  {
   "cell_type": "code",
   "execution_count": 328,
   "metadata": {},
   "outputs": [
    {
     "data": {
      "text/plain": [
       "(2985217, 19)"
      ]
     },
     "execution_count": 328,
     "metadata": {},
     "output_type": "execute_result"
    }
   ],
   "source": [
    "df_pred_2016.shape"
   ]
  },
  {
   "cell_type": "code",
   "execution_count": 329,
   "metadata": {},
   "outputs": [
    {
     "data": {
      "text/plain": [
       "Index(['parcelid', 'calculatedfinishedsquarefeet_2017', 'bedroomcnt_2017',\n",
       "       'bathroomcnt_2017', 'poolcnt_2017', 'lotsizesquarefeet_2017',\n",
       "       'yearbuilt_2017', 'propertylandusetypeid_2017', 'latitude_2017',\n",
       "       'longitude_2017', 'regionidzip_2017', 'census_county', 'census_tract',\n",
       "       'census_block', 'landtaxvaluedollarcnt_2016',\n",
       "       'structuretaxvaluedollarcnt_2016', 'taxvaluedollarcnt_2016',\n",
       "       'taxdelinquencyflag_2016', 'taxamount_2016'],\n",
       "      dtype='object')"
      ]
     },
     "execution_count": 329,
     "metadata": {},
     "output_type": "execute_result"
    }
   ],
   "source": [
    "df_pred_2016.columns"
   ]
  },
  {
   "cell_type": "code",
   "execution_count": 330,
   "metadata": {
    "collapsed": true
   },
   "outputs": [],
   "source": [
    "# Add trans_qtr (4)\n",
    "df_pred_2016['trans_qtr']=4"
   ]
  },
  {
   "cell_type": "code",
   "execution_count": 331,
   "metadata": {
    "collapsed": true
   },
   "outputs": [],
   "source": [
    "# Ensure columns in same order as train \n",
    "df_pred_2016=df_pred_2016[train_columns]"
   ]
  },
  {
   "cell_type": "code",
   "execution_count": 332,
   "metadata": {},
   "outputs": [
    {
     "data": {
      "text/plain": [
       "(2985217, 19)"
      ]
     },
     "execution_count": 332,
     "metadata": {},
     "output_type": "execute_result"
    }
   ],
   "source": [
    "df_pred_2016.shape"
   ]
  },
  {
   "cell_type": "code",
   "execution_count": 333,
   "metadata": {
    "collapsed": true
   },
   "outputs": [],
   "source": [
    "X_test_6 = df_pred_2016.values"
   ]
  },
  {
   "cell_type": "code",
   "execution_count": 334,
   "metadata": {},
   "outputs": [
    {
     "name": "stdout",
     "output_type": "stream",
     "text": [
      "Start predicting...\n"
     ]
    }
   ],
   "source": [
    "print('Start predicting...')\n",
    "y_pred_2016 = best_lgb_6.predict(X_test_6)"
   ]
  },
  {
   "cell_type": "code",
   "execution_count": 335,
   "metadata": {},
   "outputs": [
    {
     "data": {
      "text/plain": [
       "2985217"
      ]
     },
     "execution_count": 335,
     "metadata": {},
     "output_type": "execute_result"
    }
   ],
   "source": [
    "len(y_pred_2016)"
   ]
  },
  {
   "cell_type": "code",
   "execution_count": 336,
   "metadata": {},
   "outputs": [
    {
     "data": {
      "text/plain": [
       "214"
      ]
     },
     "execution_count": 336,
     "metadata": {},
     "output_type": "execute_result"
    }
   ],
   "source": [
    "gc.collect()"
   ]
  },
  {
   "cell_type": "code",
   "execution_count": 337,
   "metadata": {
    "collapsed": true
   },
   "outputs": [],
   "source": [
    "prop7A=properties_combined"
   ]
  },
  {
   "cell_type": "code",
   "execution_count": 338,
   "metadata": {
    "collapsed": true
   },
   "outputs": [],
   "source": [
    "# Append predictions to dataframe\n",
    "prop7A['y_pred_2016']=y_pred_2016"
   ]
  },
  {
   "cell_type": "code",
   "execution_count": 339,
   "metadata": {},
   "outputs": [
    {
     "data": {
      "text/html": [
       "<div>\n",
       "<style>\n",
       "    .dataframe thead tr:only-child th {\n",
       "        text-align: right;\n",
       "    }\n",
       "\n",
       "    .dataframe thead th {\n",
       "        text-align: left;\n",
       "    }\n",
       "\n",
       "    .dataframe tbody tr th {\n",
       "        vertical-align: top;\n",
       "    }\n",
       "</style>\n",
       "<table border=\"1\" class=\"dataframe\">\n",
       "  <thead>\n",
       "    <tr style=\"text-align: right;\">\n",
       "      <th></th>\n",
       "      <th>parcelid</th>\n",
       "      <th>calculatedfinishedsquarefeet_2017</th>\n",
       "      <th>bedroomcnt_2017</th>\n",
       "      <th>bathroomcnt_2017</th>\n",
       "      <th>poolcnt_2017</th>\n",
       "      <th>lotsizesquarefeet_2017</th>\n",
       "      <th>yearbuilt_2017</th>\n",
       "      <th>propertylandusetypeid_2017</th>\n",
       "      <th>latitude_2017</th>\n",
       "      <th>longitude_2017</th>\n",
       "      <th>...</th>\n",
       "      <th>census_county</th>\n",
       "      <th>census_tract</th>\n",
       "      <th>census_block</th>\n",
       "      <th>landtaxvaluedollarcnt_2016</th>\n",
       "      <th>structuretaxvaluedollarcnt_2016</th>\n",
       "      <th>taxvaluedollarcnt_2016</th>\n",
       "      <th>taxdelinquencyflag_2016</th>\n",
       "      <th>taxamount_2016</th>\n",
       "      <th>trans_qtr</th>\n",
       "      <th>y_pred_2016</th>\n",
       "    </tr>\n",
       "  </thead>\n",
       "  <tbody>\n",
       "    <tr>\n",
       "      <th>0</th>\n",
       "      <td>10754147</td>\n",
       "      <td>50073.210996</td>\n",
       "      <td>0.0</td>\n",
       "      <td>0.0</td>\n",
       "      <td>0</td>\n",
       "      <td>85768.0</td>\n",
       "      <td>1963.0</td>\n",
       "      <td>269</td>\n",
       "      <td>34.144442</td>\n",
       "      <td>-118.654084</td>\n",
       "      <td>...</td>\n",
       "      <td>6037</td>\n",
       "      <td>800204</td>\n",
       "      <td>1</td>\n",
       "      <td>9.0</td>\n",
       "      <td>485708.51742</td>\n",
       "      <td>9.0</td>\n",
       "      <td>0</td>\n",
       "      <td>12773.728669</td>\n",
       "      <td>4</td>\n",
       "      <td>0.024910</td>\n",
       "    </tr>\n",
       "    <tr>\n",
       "      <th>1</th>\n",
       "      <td>10759547</td>\n",
       "      <td>50073.210996</td>\n",
       "      <td>0.0</td>\n",
       "      <td>0.0</td>\n",
       "      <td>0</td>\n",
       "      <td>4083.0</td>\n",
       "      <td>1963.0</td>\n",
       "      <td>261</td>\n",
       "      <td>34.140430</td>\n",
       "      <td>-118.625364</td>\n",
       "      <td>...</td>\n",
       "      <td>6037</td>\n",
       "      <td>800101</td>\n",
       "      <td>1</td>\n",
       "      <td>27516.0</td>\n",
       "      <td>485708.51742</td>\n",
       "      <td>27516.0</td>\n",
       "      <td>0</td>\n",
       "      <td>12773.728669</td>\n",
       "      <td>4</td>\n",
       "      <td>0.007709</td>\n",
       "    </tr>\n",
       "  </tbody>\n",
       "</table>\n",
       "<p>2 rows × 21 columns</p>\n",
       "</div>"
      ],
      "text/plain": [
       "   parcelid  calculatedfinishedsquarefeet_2017  bedroomcnt_2017  \\\n",
       "0  10754147                       50073.210996              0.0   \n",
       "1  10759547                       50073.210996              0.0   \n",
       "\n",
       "   bathroomcnt_2017  poolcnt_2017  lotsizesquarefeet_2017  yearbuilt_2017  \\\n",
       "0               0.0             0                 85768.0          1963.0   \n",
       "1               0.0             0                  4083.0          1963.0   \n",
       "\n",
       "   propertylandusetypeid_2017  latitude_2017  longitude_2017     ...       \\\n",
       "0                         269      34.144442     -118.654084     ...        \n",
       "1                         261      34.140430     -118.625364     ...        \n",
       "\n",
       "   census_county  census_tract  census_block  landtaxvaluedollarcnt_2016  \\\n",
       "0           6037        800204             1                         9.0   \n",
       "1           6037        800101             1                     27516.0   \n",
       "\n",
       "   structuretaxvaluedollarcnt_2016  taxvaluedollarcnt_2016  \\\n",
       "0                     485708.51742                     9.0   \n",
       "1                     485708.51742                 27516.0   \n",
       "\n",
       "   taxdelinquencyflag_2016  taxamount_2016  trans_qtr  y_pred_2016  \n",
       "0                        0    12773.728669          4     0.024910  \n",
       "1                        0    12773.728669          4     0.007709  \n",
       "\n",
       "[2 rows x 21 columns]"
      ]
     },
     "execution_count": 339,
     "metadata": {},
     "output_type": "execute_result"
    }
   ],
   "source": [
    "prop7A.head(2)"
   ]
  },
  {
   "cell_type": "markdown",
   "metadata": {},
   "source": [
    "Repeat predictions for 2017 "
   ]
  },
  {
   "cell_type": "code",
   "execution_count": 340,
   "metadata": {
    "collapsed": true
   },
   "outputs": [],
   "source": [
    "# Read in as needed \n",
    "df_pred_2017=pd.read_csv(\"properties_combined_base5A\")"
   ]
  },
  {
   "cell_type": "code",
   "execution_count": 341,
   "metadata": {},
   "outputs": [
    {
     "data": {
      "text/plain": [
       "(2985217, 41)"
      ]
     },
     "execution_count": 341,
     "metadata": {},
     "output_type": "execute_result"
    }
   ],
   "source": [
    "df_pred_2017.shape"
   ]
  },
  {
   "cell_type": "code",
   "execution_count": 342,
   "metadata": {},
   "outputs": [
    {
     "data": {
      "text/plain": [
       "Index(['trans_qtr', 'calculatedfinishedsquarefeet_2017', 'bedroomcnt_2017',\n",
       "       'bathroomcnt_2017', 'poolcnt_2017', 'lotsizesquarefeet_2017',\n",
       "       'yearbuilt_2017', 'propertylandusetypeid_2017', 'latitude_2017',\n",
       "       'longitude_2017', 'regionidzip_2017', 'census_county', 'census_tract',\n",
       "       'census_block', 'landtaxvaluedollarcnt_2016',\n",
       "       'structuretaxvaluedollarcnt_2016', 'taxvaluedollarcnt_2016',\n",
       "       'taxdelinquencyflag_2016', 'taxamount_2016'],\n",
       "      dtype='object')"
      ]
     },
     "execution_count": 342,
     "metadata": {},
     "output_type": "execute_result"
    }
   ],
   "source": [
    "# These were the final train columns (19)\n",
    "train_columns"
   ]
  },
  {
   "cell_type": "code",
   "execution_count": 343,
   "metadata": {},
   "outputs": [
    {
     "data": {
      "text/plain": [
       "['landtaxvaluedollarcnt_2016',\n",
       " 'structuretaxvaluedollarcnt_2016',\n",
       " 'taxvaluedollarcnt_2016',\n",
       " 'taxdelinquencyflag_2016',\n",
       " 'taxamount_2016',\n",
       " 'rawcensustractandblock_2017',\n",
       " 'censustractandblock_2017',\n",
       " 'regionidneighborhood_2017',\n",
       " 'regionidcity_2017',\n",
       " 'regionidcounty_2017',\n",
       " 'taxamount_mean_2017',\n",
       " 'taxamount_mean_2016',\n",
       " 'taxvaluedollarcnt_2017_mean',\n",
       " 'taxvaluedollarcnt_2016_mean',\n",
       " 'landtaxvaluedollarcnt_2016_mean',\n",
       " 'landtaxvaluedollarcnt_2017_mean',\n",
       " 'structuretaxvaluedollarcnt_2016_mean',\n",
       " 'structuretaxvaluedollarcnt_2017_mean',\n",
       " 'calculatedfinishedsquarefeet_2017_mean',\n",
       " 'taxpersqft_2017',\n",
       " 'lotsizesquarefeet_2017_mean',\n",
       " 'taxperlotsizesqft_2017']"
      ]
     },
     "execution_count": 343,
     "metadata": {},
     "output_type": "execute_result"
    }
   ],
   "source": [
    "# These were the dropped cols\n",
    "dropcols_2017"
   ]
  },
  {
   "cell_type": "code",
   "execution_count": 344,
   "metadata": {
    "collapsed": true
   },
   "outputs": [],
   "source": [
    "df_pred_2017.drop(dropcols_2017, axis=1, inplace=True)"
   ]
  },
  {
   "cell_type": "code",
   "execution_count": 345,
   "metadata": {},
   "outputs": [
    {
     "data": {
      "text/plain": [
       "(2985217, 19)"
      ]
     },
     "execution_count": 345,
     "metadata": {},
     "output_type": "execute_result"
    }
   ],
   "source": [
    "df_pred_2017.shape"
   ]
  },
  {
   "cell_type": "code",
   "execution_count": 346,
   "metadata": {},
   "outputs": [
    {
     "data": {
      "text/plain": [
       "Index(['parcelid', 'calculatedfinishedsquarefeet_2017', 'bedroomcnt_2017',\n",
       "       'bathroomcnt_2017', 'poolcnt_2017', 'lotsizesquarefeet_2017',\n",
       "       'yearbuilt_2017', 'propertylandusetypeid_2017', 'latitude_2017',\n",
       "       'longitude_2017', 'regionidzip_2017', 'census_county', 'census_tract',\n",
       "       'census_block', 'landtaxvaluedollarcnt_2017',\n",
       "       'structuretaxvaluedollarcnt_2017', 'taxvaluedollarcnt_2017',\n",
       "       'taxdelinquencyflag_2017', 'taxamount_2017'],\n",
       "      dtype='object')"
      ]
     },
     "execution_count": 346,
     "metadata": {},
     "output_type": "execute_result"
    }
   ],
   "source": [
    "df_pred_2017.columns"
   ]
  },
  {
   "cell_type": "code",
   "execution_count": 347,
   "metadata": {
    "collapsed": true
   },
   "outputs": [],
   "source": [
    "# Add trans_qtr (4)\n",
    "df_pred_2017['trans_qtr']=4"
   ]
  },
  {
   "cell_type": "code",
   "execution_count": 348,
   "metadata": {},
   "outputs": [
    {
     "data": {
      "text/plain": [
       "Index(['trans_qtr', 'calculatedfinishedsquarefeet_2017', 'bedroomcnt_2017',\n",
       "       'bathroomcnt_2017', 'poolcnt_2017', 'lotsizesquarefeet_2017',\n",
       "       'yearbuilt_2017', 'propertylandusetypeid_2017', 'latitude_2017',\n",
       "       'longitude_2017', 'regionidzip_2017', 'census_county', 'census_tract',\n",
       "       'census_block', 'landtaxvaluedollarcnt_2016',\n",
       "       'structuretaxvaluedollarcnt_2016', 'taxvaluedollarcnt_2016',\n",
       "       'taxdelinquencyflag_2016', 'taxamount_2016'],\n",
       "      dtype='object')"
      ]
     },
     "execution_count": 348,
     "metadata": {},
     "output_type": "execute_result"
    }
   ],
   "source": [
    "train_columns"
   ]
  },
  {
   "cell_type": "code",
   "execution_count": 349,
   "metadata": {},
   "outputs": [
    {
     "data": {
      "text/plain": [
       "Index(['parcelid', 'calculatedfinishedsquarefeet_2017', 'bedroomcnt_2017',\n",
       "       'bathroomcnt_2017', 'poolcnt_2017', 'lotsizesquarefeet_2017',\n",
       "       'yearbuilt_2017', 'propertylandusetypeid_2017', 'latitude_2017',\n",
       "       'longitude_2017', 'regionidzip_2017', 'census_county', 'census_tract',\n",
       "       'census_block', 'landtaxvaluedollarcnt_2017',\n",
       "       'structuretaxvaluedollarcnt_2017', 'taxvaluedollarcnt_2017',\n",
       "       'taxdelinquencyflag_2017', 'taxamount_2017', 'trans_qtr'],\n",
       "      dtype='object')"
      ]
     },
     "execution_count": 349,
     "metadata": {},
     "output_type": "execute_result"
    }
   ],
   "source": [
    "df_pred_2017.columns"
   ]
  },
  {
   "cell_type": "code",
   "execution_count": 350,
   "metadata": {
    "collapsed": true
   },
   "outputs": [],
   "source": [
    "train_columns_7=['trans_qtr', 'calculatedfinishedsquarefeet_2017', 'bedroomcnt_2017',\n",
    "       'bathroomcnt_2017', 'poolcnt_2017', 'lotsizesquarefeet_2017',\n",
    "       'yearbuilt_2017', 'propertylandusetypeid_2017', 'latitude_2017',\n",
    "       'longitude_2017', 'regionidzip_2017', 'census_county', 'census_tract',\n",
    "       'census_block', 'landtaxvaluedollarcnt_2017',\n",
    "       'structuretaxvaluedollarcnt_2017', 'taxvaluedollarcnt_2017',\n",
    "       'taxdelinquencyflag_2017', 'taxamount_2017']"
   ]
  },
  {
   "cell_type": "code",
   "execution_count": 351,
   "metadata": {
    "collapsed": true
   },
   "outputs": [],
   "source": [
    "# Ensure columns in same order as train \n",
    "df_pred_2017=df_pred_2017[train_columns_7]"
   ]
  },
  {
   "cell_type": "code",
   "execution_count": 352,
   "metadata": {},
   "outputs": [
    {
     "data": {
      "text/plain": [
       "(2985217, 19)"
      ]
     },
     "execution_count": 352,
     "metadata": {},
     "output_type": "execute_result"
    }
   ],
   "source": [
    "df_pred_2017.shape"
   ]
  },
  {
   "cell_type": "code",
   "execution_count": 353,
   "metadata": {
    "collapsed": true
   },
   "outputs": [],
   "source": [
    "X_test_7 = df_pred_2017.values"
   ]
  },
  {
   "cell_type": "code",
   "execution_count": 354,
   "metadata": {},
   "outputs": [
    {
     "name": "stdout",
     "output_type": "stream",
     "text": [
      "Start predicting...\n"
     ]
    }
   ],
   "source": [
    "print('Start predicting...')\n",
    "y_pred_2017 = best_lgb_7.predict(X_test_7)"
   ]
  },
  {
   "cell_type": "code",
   "execution_count": 355,
   "metadata": {},
   "outputs": [
    {
     "data": {
      "text/plain": [
       "2985217"
      ]
     },
     "execution_count": 355,
     "metadata": {},
     "output_type": "execute_result"
    }
   ],
   "source": [
    "len(y_pred_2017)"
   ]
  },
  {
   "cell_type": "code",
   "execution_count": 356,
   "metadata": {},
   "outputs": [
    {
     "data": {
      "text/plain": [
       "310"
      ]
     },
     "execution_count": 356,
     "metadata": {},
     "output_type": "execute_result"
    }
   ],
   "source": [
    "gc.collect()"
   ]
  },
  {
   "cell_type": "code",
   "execution_count": 357,
   "metadata": {
    "collapsed": true
   },
   "outputs": [],
   "source": [
    "prop7A['y_pred_2017']=y_pred_2017"
   ]
  },
  {
   "cell_type": "markdown",
   "metadata": {},
   "source": [
    "Make new df with only the parcelids and predictions "
   ]
  },
  {
   "cell_type": "code",
   "execution_count": 358,
   "metadata": {
    "collapsed": true
   },
   "outputs": [],
   "source": [
    "prop8=prop7A[['parcelid', 'y_pred_2016', 'y_pred_2017']]"
   ]
  },
  {
   "cell_type": "code",
   "execution_count": 359,
   "metadata": {},
   "outputs": [
    {
     "data": {
      "text/plain": [
       "(2985217, 3)"
      ]
     },
     "execution_count": 359,
     "metadata": {},
     "output_type": "execute_result"
    }
   ],
   "source": [
    "prop8.shape"
   ]
  },
  {
   "cell_type": "code",
   "execution_count": null,
   "metadata": {
    "collapsed": true
   },
   "outputs": [],
   "source": [
    "prop8['ParcelId']=prop8['parcelid']"
   ]
  },
  {
   "cell_type": "markdown",
   "metadata": {},
   "source": [
    "Now attach prediction back into sub(mission)"
   ]
  },
  {
   "cell_type": "code",
   "execution_count": 361,
   "metadata": {
    "collapsed": true
   },
   "outputs": [],
   "source": [
    "finalsub=sub.merge(prop8, how='left', on='ParcelId')"
   ]
  },
  {
   "cell_type": "code",
   "execution_count": 362,
   "metadata": {},
   "outputs": [
    {
     "data": {
      "text/html": [
       "<div>\n",
       "<style>\n",
       "    .dataframe thead tr:only-child th {\n",
       "        text-align: right;\n",
       "    }\n",
       "\n",
       "    .dataframe thead th {\n",
       "        text-align: left;\n",
       "    }\n",
       "\n",
       "    .dataframe tbody tr th {\n",
       "        vertical-align: top;\n",
       "    }\n",
       "</style>\n",
       "<table border=\"1\" class=\"dataframe\">\n",
       "  <thead>\n",
       "    <tr style=\"text-align: right;\">\n",
       "      <th></th>\n",
       "      <th>ParcelId</th>\n",
       "      <th>201610</th>\n",
       "      <th>201611</th>\n",
       "      <th>201612</th>\n",
       "      <th>201710</th>\n",
       "      <th>201711</th>\n",
       "      <th>201712</th>\n",
       "      <th>parcelid</th>\n",
       "      <th>y_pred_2016</th>\n",
       "      <th>y_pred_2017</th>\n",
       "    </tr>\n",
       "  </thead>\n",
       "  <tbody>\n",
       "    <tr>\n",
       "      <th>0</th>\n",
       "      <td>10754147</td>\n",
       "      <td>0</td>\n",
       "      <td>0</td>\n",
       "      <td>0</td>\n",
       "      <td>0</td>\n",
       "      <td>0</td>\n",
       "      <td>0</td>\n",
       "      <td>10754147</td>\n",
       "      <td>0.024910</td>\n",
       "      <td>0.028620</td>\n",
       "    </tr>\n",
       "    <tr>\n",
       "      <th>1</th>\n",
       "      <td>10759547</td>\n",
       "      <td>0</td>\n",
       "      <td>0</td>\n",
       "      <td>0</td>\n",
       "      <td>0</td>\n",
       "      <td>0</td>\n",
       "      <td>0</td>\n",
       "      <td>10759547</td>\n",
       "      <td>0.007709</td>\n",
       "      <td>0.027806</td>\n",
       "    </tr>\n",
       "    <tr>\n",
       "      <th>2</th>\n",
       "      <td>10843547</td>\n",
       "      <td>0</td>\n",
       "      <td>0</td>\n",
       "      <td>0</td>\n",
       "      <td>0</td>\n",
       "      <td>0</td>\n",
       "      <td>0</td>\n",
       "      <td>10843547</td>\n",
       "      <td>0.028230</td>\n",
       "      <td>0.031595</td>\n",
       "    </tr>\n",
       "    <tr>\n",
       "      <th>3</th>\n",
       "      <td>10859147</td>\n",
       "      <td>0</td>\n",
       "      <td>0</td>\n",
       "      <td>0</td>\n",
       "      <td>0</td>\n",
       "      <td>0</td>\n",
       "      <td>0</td>\n",
       "      <td>10859147</td>\n",
       "      <td>0.016676</td>\n",
       "      <td>0.025814</td>\n",
       "    </tr>\n",
       "    <tr>\n",
       "      <th>4</th>\n",
       "      <td>10879947</td>\n",
       "      <td>0</td>\n",
       "      <td>0</td>\n",
       "      <td>0</td>\n",
       "      <td>0</td>\n",
       "      <td>0</td>\n",
       "      <td>0</td>\n",
       "      <td>10879947</td>\n",
       "      <td>0.007101</td>\n",
       "      <td>0.012655</td>\n",
       "    </tr>\n",
       "  </tbody>\n",
       "</table>\n",
       "</div>"
      ],
      "text/plain": [
       "   ParcelId  201610  201611  201612  201710  201711  201712  parcelid  \\\n",
       "0  10754147       0       0       0       0       0       0  10754147   \n",
       "1  10759547       0       0       0       0       0       0  10759547   \n",
       "2  10843547       0       0       0       0       0       0  10843547   \n",
       "3  10859147       0       0       0       0       0       0  10859147   \n",
       "4  10879947       0       0       0       0       0       0  10879947   \n",
       "\n",
       "   y_pred_2016  y_pred_2017  \n",
       "0     0.024910     0.028620  \n",
       "1     0.007709     0.027806  \n",
       "2     0.028230     0.031595  \n",
       "3     0.016676     0.025814  \n",
       "4     0.007101     0.012655  "
      ]
     },
     "execution_count": 362,
     "metadata": {},
     "output_type": "execute_result"
    }
   ],
   "source": [
    "finalsub.head()"
   ]
  },
  {
   "cell_type": "code",
   "execution_count": 363,
   "metadata": {
    "collapsed": true
   },
   "outputs": [],
   "source": [
    "finalsub.drop('parcelid', axis=1, inplace=True)"
   ]
  },
  {
   "cell_type": "code",
   "execution_count": 364,
   "metadata": {},
   "outputs": [
    {
     "data": {
      "text/plain": [
       "Index(['ParcelId', '201610', '201611', '201612', '201710', '201711', '201712',\n",
       "       'y_pred_2016', 'y_pred_2017'],\n",
       "      dtype='object')"
      ]
     },
     "execution_count": 364,
     "metadata": {},
     "output_type": "execute_result"
    }
   ],
   "source": [
    "finalsub.columns"
   ]
  },
  {
   "cell_type": "code",
   "execution_count": 365,
   "metadata": {},
   "outputs": [
    {
     "data": {
      "text/html": [
       "<div>\n",
       "<style>\n",
       "    .dataframe thead tr:only-child th {\n",
       "        text-align: right;\n",
       "    }\n",
       "\n",
       "    .dataframe thead th {\n",
       "        text-align: left;\n",
       "    }\n",
       "\n",
       "    .dataframe tbody tr th {\n",
       "        vertical-align: top;\n",
       "    }\n",
       "</style>\n",
       "<table border=\"1\" class=\"dataframe\">\n",
       "  <thead>\n",
       "    <tr style=\"text-align: right;\">\n",
       "      <th></th>\n",
       "      <th>ParcelId</th>\n",
       "      <th>201610</th>\n",
       "      <th>201611</th>\n",
       "      <th>201612</th>\n",
       "      <th>201710</th>\n",
       "      <th>201711</th>\n",
       "      <th>201712</th>\n",
       "      <th>y_pred_2016</th>\n",
       "      <th>y_pred_2017</th>\n",
       "    </tr>\n",
       "  </thead>\n",
       "  <tbody>\n",
       "    <tr>\n",
       "      <th>0</th>\n",
       "      <td>10754147</td>\n",
       "      <td>0</td>\n",
       "      <td>0</td>\n",
       "      <td>0</td>\n",
       "      <td>0</td>\n",
       "      <td>0</td>\n",
       "      <td>0</td>\n",
       "      <td>0.024910</td>\n",
       "      <td>0.028620</td>\n",
       "    </tr>\n",
       "    <tr>\n",
       "      <th>1</th>\n",
       "      <td>10759547</td>\n",
       "      <td>0</td>\n",
       "      <td>0</td>\n",
       "      <td>0</td>\n",
       "      <td>0</td>\n",
       "      <td>0</td>\n",
       "      <td>0</td>\n",
       "      <td>0.007709</td>\n",
       "      <td>0.027806</td>\n",
       "    </tr>\n",
       "    <tr>\n",
       "      <th>2</th>\n",
       "      <td>10843547</td>\n",
       "      <td>0</td>\n",
       "      <td>0</td>\n",
       "      <td>0</td>\n",
       "      <td>0</td>\n",
       "      <td>0</td>\n",
       "      <td>0</td>\n",
       "      <td>0.028230</td>\n",
       "      <td>0.031595</td>\n",
       "    </tr>\n",
       "    <tr>\n",
       "      <th>3</th>\n",
       "      <td>10859147</td>\n",
       "      <td>0</td>\n",
       "      <td>0</td>\n",
       "      <td>0</td>\n",
       "      <td>0</td>\n",
       "      <td>0</td>\n",
       "      <td>0</td>\n",
       "      <td>0.016676</td>\n",
       "      <td>0.025814</td>\n",
       "    </tr>\n",
       "    <tr>\n",
       "      <th>4</th>\n",
       "      <td>10879947</td>\n",
       "      <td>0</td>\n",
       "      <td>0</td>\n",
       "      <td>0</td>\n",
       "      <td>0</td>\n",
       "      <td>0</td>\n",
       "      <td>0</td>\n",
       "      <td>0.007101</td>\n",
       "      <td>0.012655</td>\n",
       "    </tr>\n",
       "    <tr>\n",
       "      <th>5</th>\n",
       "      <td>10898347</td>\n",
       "      <td>0</td>\n",
       "      <td>0</td>\n",
       "      <td>0</td>\n",
       "      <td>0</td>\n",
       "      <td>0</td>\n",
       "      <td>0</td>\n",
       "      <td>0.006142</td>\n",
       "      <td>0.015294</td>\n",
       "    </tr>\n",
       "    <tr>\n",
       "      <th>6</th>\n",
       "      <td>10933547</td>\n",
       "      <td>0</td>\n",
       "      <td>0</td>\n",
       "      <td>0</td>\n",
       "      <td>0</td>\n",
       "      <td>0</td>\n",
       "      <td>0</td>\n",
       "      <td>0.012873</td>\n",
       "      <td>0.022680</td>\n",
       "    </tr>\n",
       "    <tr>\n",
       "      <th>7</th>\n",
       "      <td>10940747</td>\n",
       "      <td>0</td>\n",
       "      <td>0</td>\n",
       "      <td>0</td>\n",
       "      <td>0</td>\n",
       "      <td>0</td>\n",
       "      <td>0</td>\n",
       "      <td>0.011346</td>\n",
       "      <td>0.015661</td>\n",
       "    </tr>\n",
       "    <tr>\n",
       "      <th>8</th>\n",
       "      <td>10954547</td>\n",
       "      <td>0</td>\n",
       "      <td>0</td>\n",
       "      <td>0</td>\n",
       "      <td>0</td>\n",
       "      <td>0</td>\n",
       "      <td>0</td>\n",
       "      <td>0.019853</td>\n",
       "      <td>0.017549</td>\n",
       "    </tr>\n",
       "    <tr>\n",
       "      <th>9</th>\n",
       "      <td>10976347</td>\n",
       "      <td>0</td>\n",
       "      <td>0</td>\n",
       "      <td>0</td>\n",
       "      <td>0</td>\n",
       "      <td>0</td>\n",
       "      <td>0</td>\n",
       "      <td>0.010362</td>\n",
       "      <td>0.014657</td>\n",
       "    </tr>\n",
       "    <tr>\n",
       "      <th>10</th>\n",
       "      <td>11073947</td>\n",
       "      <td>0</td>\n",
       "      <td>0</td>\n",
       "      <td>0</td>\n",
       "      <td>0</td>\n",
       "      <td>0</td>\n",
       "      <td>0</td>\n",
       "      <td>0.006080</td>\n",
       "      <td>0.013151</td>\n",
       "    </tr>\n",
       "    <tr>\n",
       "      <th>11</th>\n",
       "      <td>11114347</td>\n",
       "      <td>0</td>\n",
       "      <td>0</td>\n",
       "      <td>0</td>\n",
       "      <td>0</td>\n",
       "      <td>0</td>\n",
       "      <td>0</td>\n",
       "      <td>0.019453</td>\n",
       "      <td>0.019096</td>\n",
       "    </tr>\n",
       "    <tr>\n",
       "      <th>12</th>\n",
       "      <td>11116947</td>\n",
       "      <td>0</td>\n",
       "      <td>0</td>\n",
       "      <td>0</td>\n",
       "      <td>0</td>\n",
       "      <td>0</td>\n",
       "      <td>0</td>\n",
       "      <td>0.011384</td>\n",
       "      <td>0.015766</td>\n",
       "    </tr>\n",
       "    <tr>\n",
       "      <th>13</th>\n",
       "      <td>11142747</td>\n",
       "      <td>0</td>\n",
       "      <td>0</td>\n",
       "      <td>0</td>\n",
       "      <td>0</td>\n",
       "      <td>0</td>\n",
       "      <td>0</td>\n",
       "      <td>0.006606</td>\n",
       "      <td>0.017136</td>\n",
       "    </tr>\n",
       "    <tr>\n",
       "      <th>14</th>\n",
       "      <td>11193347</td>\n",
       "      <td>0</td>\n",
       "      <td>0</td>\n",
       "      <td>0</td>\n",
       "      <td>0</td>\n",
       "      <td>0</td>\n",
       "      <td>0</td>\n",
       "      <td>0.000611</td>\n",
       "      <td>0.014000</td>\n",
       "    </tr>\n",
       "    <tr>\n",
       "      <th>15</th>\n",
       "      <td>11215747</td>\n",
       "      <td>0</td>\n",
       "      <td>0</td>\n",
       "      <td>0</td>\n",
       "      <td>0</td>\n",
       "      <td>0</td>\n",
       "      <td>0</td>\n",
       "      <td>0.000611</td>\n",
       "      <td>0.011701</td>\n",
       "    </tr>\n",
       "    <tr>\n",
       "      <th>16</th>\n",
       "      <td>11229347</td>\n",
       "      <td>0</td>\n",
       "      <td>0</td>\n",
       "      <td>0</td>\n",
       "      <td>0</td>\n",
       "      <td>0</td>\n",
       "      <td>0</td>\n",
       "      <td>0.025297</td>\n",
       "      <td>0.010271</td>\n",
       "    </tr>\n",
       "    <tr>\n",
       "      <th>17</th>\n",
       "      <td>11287347</td>\n",
       "      <td>0</td>\n",
       "      <td>0</td>\n",
       "      <td>0</td>\n",
       "      <td>0</td>\n",
       "      <td>0</td>\n",
       "      <td>0</td>\n",
       "      <td>0.006963</td>\n",
       "      <td>0.009301</td>\n",
       "    </tr>\n",
       "    <tr>\n",
       "      <th>18</th>\n",
       "      <td>11288547</td>\n",
       "      <td>0</td>\n",
       "      <td>0</td>\n",
       "      <td>0</td>\n",
       "      <td>0</td>\n",
       "      <td>0</td>\n",
       "      <td>0</td>\n",
       "      <td>0.009034</td>\n",
       "      <td>0.008508</td>\n",
       "    </tr>\n",
       "    <tr>\n",
       "      <th>19</th>\n",
       "      <td>11324547</td>\n",
       "      <td>0</td>\n",
       "      <td>0</td>\n",
       "      <td>0</td>\n",
       "      <td>0</td>\n",
       "      <td>0</td>\n",
       "      <td>0</td>\n",
       "      <td>0.010716</td>\n",
       "      <td>0.010193</td>\n",
       "    </tr>\n",
       "    <tr>\n",
       "      <th>20</th>\n",
       "      <td>11391347</td>\n",
       "      <td>0</td>\n",
       "      <td>0</td>\n",
       "      <td>0</td>\n",
       "      <td>0</td>\n",
       "      <td>0</td>\n",
       "      <td>0</td>\n",
       "      <td>0.010180</td>\n",
       "      <td>0.015136</td>\n",
       "    </tr>\n",
       "    <tr>\n",
       "      <th>21</th>\n",
       "      <td>11395747</td>\n",
       "      <td>0</td>\n",
       "      <td>0</td>\n",
       "      <td>0</td>\n",
       "      <td>0</td>\n",
       "      <td>0</td>\n",
       "      <td>0</td>\n",
       "      <td>0.003668</td>\n",
       "      <td>0.011847</td>\n",
       "    </tr>\n",
       "    <tr>\n",
       "      <th>22</th>\n",
       "      <td>11404347</td>\n",
       "      <td>0</td>\n",
       "      <td>0</td>\n",
       "      <td>0</td>\n",
       "      <td>0</td>\n",
       "      <td>0</td>\n",
       "      <td>0</td>\n",
       "      <td>0.010018</td>\n",
       "      <td>0.017450</td>\n",
       "    </tr>\n",
       "    <tr>\n",
       "      <th>23</th>\n",
       "      <td>11405747</td>\n",
       "      <td>0</td>\n",
       "      <td>0</td>\n",
       "      <td>0</td>\n",
       "      <td>0</td>\n",
       "      <td>0</td>\n",
       "      <td>0</td>\n",
       "      <td>0.003174</td>\n",
       "      <td>0.011635</td>\n",
       "    </tr>\n",
       "    <tr>\n",
       "      <th>24</th>\n",
       "      <td>11417147</td>\n",
       "      <td>0</td>\n",
       "      <td>0</td>\n",
       "      <td>0</td>\n",
       "      <td>0</td>\n",
       "      <td>0</td>\n",
       "      <td>0</td>\n",
       "      <td>0.019093</td>\n",
       "      <td>0.014963</td>\n",
       "    </tr>\n",
       "    <tr>\n",
       "      <th>25</th>\n",
       "      <td>11457547</td>\n",
       "      <td>0</td>\n",
       "      <td>0</td>\n",
       "      <td>0</td>\n",
       "      <td>0</td>\n",
       "      <td>0</td>\n",
       "      <td>0</td>\n",
       "      <td>0.005402</td>\n",
       "      <td>0.016875</td>\n",
       "    </tr>\n",
       "    <tr>\n",
       "      <th>26</th>\n",
       "      <td>11488147</td>\n",
       "      <td>0</td>\n",
       "      <td>0</td>\n",
       "      <td>0</td>\n",
       "      <td>0</td>\n",
       "      <td>0</td>\n",
       "      <td>0</td>\n",
       "      <td>0.020145</td>\n",
       "      <td>0.017298</td>\n",
       "    </tr>\n",
       "    <tr>\n",
       "      <th>27</th>\n",
       "      <td>11520747</td>\n",
       "      <td>0</td>\n",
       "      <td>0</td>\n",
       "      <td>0</td>\n",
       "      <td>0</td>\n",
       "      <td>0</td>\n",
       "      <td>0</td>\n",
       "      <td>0.013193</td>\n",
       "      <td>0.014482</td>\n",
       "    </tr>\n",
       "    <tr>\n",
       "      <th>28</th>\n",
       "      <td>11524947</td>\n",
       "      <td>0</td>\n",
       "      <td>0</td>\n",
       "      <td>0</td>\n",
       "      <td>0</td>\n",
       "      <td>0</td>\n",
       "      <td>0</td>\n",
       "      <td>0.006414</td>\n",
       "      <td>0.008428</td>\n",
       "    </tr>\n",
       "    <tr>\n",
       "      <th>29</th>\n",
       "      <td>11544747</td>\n",
       "      <td>0</td>\n",
       "      <td>0</td>\n",
       "      <td>0</td>\n",
       "      <td>0</td>\n",
       "      <td>0</td>\n",
       "      <td>0</td>\n",
       "      <td>0.005944</td>\n",
       "      <td>0.012499</td>\n",
       "    </tr>\n",
       "    <tr>\n",
       "      <th>...</th>\n",
       "      <td>...</td>\n",
       "      <td>...</td>\n",
       "      <td>...</td>\n",
       "      <td>...</td>\n",
       "      <td>...</td>\n",
       "      <td>...</td>\n",
       "      <td>...</td>\n",
       "      <td>...</td>\n",
       "      <td>...</td>\n",
       "    </tr>\n",
       "    <tr>\n",
       "      <th>2985187</th>\n",
       "      <td>167636430</td>\n",
       "      <td>0</td>\n",
       "      <td>0</td>\n",
       "      <td>0</td>\n",
       "      <td>0</td>\n",
       "      <td>0</td>\n",
       "      <td>0</td>\n",
       "      <td>0.012774</td>\n",
       "      <td>0.020792</td>\n",
       "    </tr>\n",
       "    <tr>\n",
       "      <th>2985188</th>\n",
       "      <td>167690630</td>\n",
       "      <td>0</td>\n",
       "      <td>0</td>\n",
       "      <td>0</td>\n",
       "      <td>0</td>\n",
       "      <td>0</td>\n",
       "      <td>0</td>\n",
       "      <td>0.008115</td>\n",
       "      <td>0.008455</td>\n",
       "    </tr>\n",
       "    <tr>\n",
       "      <th>2985189</th>\n",
       "      <td>167636630</td>\n",
       "      <td>0</td>\n",
       "      <td>0</td>\n",
       "      <td>0</td>\n",
       "      <td>0</td>\n",
       "      <td>0</td>\n",
       "      <td>0</td>\n",
       "      <td>0.012774</td>\n",
       "      <td>0.020792</td>\n",
       "    </tr>\n",
       "    <tr>\n",
       "      <th>2985190</th>\n",
       "      <td>10834030</td>\n",
       "      <td>0</td>\n",
       "      <td>0</td>\n",
       "      <td>0</td>\n",
       "      <td>0</td>\n",
       "      <td>0</td>\n",
       "      <td>0</td>\n",
       "      <td>0.011636</td>\n",
       "      <td>0.013277</td>\n",
       "    </tr>\n",
       "    <tr>\n",
       "      <th>2985191</th>\n",
       "      <td>167637430</td>\n",
       "      <td>0</td>\n",
       "      <td>0</td>\n",
       "      <td>0</td>\n",
       "      <td>0</td>\n",
       "      <td>0</td>\n",
       "      <td>0</td>\n",
       "      <td>0.001022</td>\n",
       "      <td>0.007030</td>\n",
       "    </tr>\n",
       "    <tr>\n",
       "      <th>2985192</th>\n",
       "      <td>167637630</td>\n",
       "      <td>0</td>\n",
       "      <td>0</td>\n",
       "      <td>0</td>\n",
       "      <td>0</td>\n",
       "      <td>0</td>\n",
       "      <td>0</td>\n",
       "      <td>0.028142</td>\n",
       "      <td>0.028456</td>\n",
       "    </tr>\n",
       "    <tr>\n",
       "      <th>2985193</th>\n",
       "      <td>167637230</td>\n",
       "      <td>0</td>\n",
       "      <td>0</td>\n",
       "      <td>0</td>\n",
       "      <td>0</td>\n",
       "      <td>0</td>\n",
       "      <td>0</td>\n",
       "      <td>0.004558</td>\n",
       "      <td>0.013020</td>\n",
       "    </tr>\n",
       "    <tr>\n",
       "      <th>2985194</th>\n",
       "      <td>11645030</td>\n",
       "      <td>0</td>\n",
       "      <td>0</td>\n",
       "      <td>0</td>\n",
       "      <td>0</td>\n",
       "      <td>0</td>\n",
       "      <td>0</td>\n",
       "      <td>0.011567</td>\n",
       "      <td>0.009610</td>\n",
       "    </tr>\n",
       "    <tr>\n",
       "      <th>2985195</th>\n",
       "      <td>167689030</td>\n",
       "      <td>0</td>\n",
       "      <td>0</td>\n",
       "      <td>0</td>\n",
       "      <td>0</td>\n",
       "      <td>0</td>\n",
       "      <td>0</td>\n",
       "      <td>0.013174</td>\n",
       "      <td>0.015949</td>\n",
       "    </tr>\n",
       "    <tr>\n",
       "      <th>2985196</th>\n",
       "      <td>167638630</td>\n",
       "      <td>0</td>\n",
       "      <td>0</td>\n",
       "      <td>0</td>\n",
       "      <td>0</td>\n",
       "      <td>0</td>\n",
       "      <td>0</td>\n",
       "      <td>0.013174</td>\n",
       "      <td>0.020590</td>\n",
       "    </tr>\n",
       "    <tr>\n",
       "      <th>2985197</th>\n",
       "      <td>167638430</td>\n",
       "      <td>0</td>\n",
       "      <td>0</td>\n",
       "      <td>0</td>\n",
       "      <td>0</td>\n",
       "      <td>0</td>\n",
       "      <td>0</td>\n",
       "      <td>0.005350</td>\n",
       "      <td>0.012593</td>\n",
       "    </tr>\n",
       "    <tr>\n",
       "      <th>2985198</th>\n",
       "      <td>14342030</td>\n",
       "      <td>0</td>\n",
       "      <td>0</td>\n",
       "      <td>0</td>\n",
       "      <td>0</td>\n",
       "      <td>0</td>\n",
       "      <td>0</td>\n",
       "      <td>0.021615</td>\n",
       "      <td>0.039071</td>\n",
       "    </tr>\n",
       "    <tr>\n",
       "      <th>2985199</th>\n",
       "      <td>167638230</td>\n",
       "      <td>0</td>\n",
       "      <td>0</td>\n",
       "      <td>0</td>\n",
       "      <td>0</td>\n",
       "      <td>0</td>\n",
       "      <td>0</td>\n",
       "      <td>0.012324</td>\n",
       "      <td>0.026972</td>\n",
       "    </tr>\n",
       "    <tr>\n",
       "      <th>2985200</th>\n",
       "      <td>167637830</td>\n",
       "      <td>0</td>\n",
       "      <td>0</td>\n",
       "      <td>0</td>\n",
       "      <td>0</td>\n",
       "      <td>0</td>\n",
       "      <td>0</td>\n",
       "      <td>0.001785</td>\n",
       "      <td>0.010087</td>\n",
       "    </tr>\n",
       "    <tr>\n",
       "      <th>2985201</th>\n",
       "      <td>167639230</td>\n",
       "      <td>0</td>\n",
       "      <td>0</td>\n",
       "      <td>0</td>\n",
       "      <td>0</td>\n",
       "      <td>0</td>\n",
       "      <td>0</td>\n",
       "      <td>0.005033</td>\n",
       "      <td>0.014255</td>\n",
       "    </tr>\n",
       "    <tr>\n",
       "      <th>2985202</th>\n",
       "      <td>14341030</td>\n",
       "      <td>0</td>\n",
       "      <td>0</td>\n",
       "      <td>0</td>\n",
       "      <td>0</td>\n",
       "      <td>0</td>\n",
       "      <td>0</td>\n",
       "      <td>0.018942</td>\n",
       "      <td>0.021235</td>\n",
       "    </tr>\n",
       "    <tr>\n",
       "      <th>2985203</th>\n",
       "      <td>14341630</td>\n",
       "      <td>0</td>\n",
       "      <td>0</td>\n",
       "      <td>0</td>\n",
       "      <td>0</td>\n",
       "      <td>0</td>\n",
       "      <td>0</td>\n",
       "      <td>0.011944</td>\n",
       "      <td>0.022126</td>\n",
       "    </tr>\n",
       "    <tr>\n",
       "      <th>2985204</th>\n",
       "      <td>14367630</td>\n",
       "      <td>0</td>\n",
       "      <td>0</td>\n",
       "      <td>0</td>\n",
       "      <td>0</td>\n",
       "      <td>0</td>\n",
       "      <td>0</td>\n",
       "      <td>0.005980</td>\n",
       "      <td>0.015157</td>\n",
       "    </tr>\n",
       "    <tr>\n",
       "      <th>2985205</th>\n",
       "      <td>167638830</td>\n",
       "      <td>0</td>\n",
       "      <td>0</td>\n",
       "      <td>0</td>\n",
       "      <td>0</td>\n",
       "      <td>0</td>\n",
       "      <td>0</td>\n",
       "      <td>0.009425</td>\n",
       "      <td>0.010264</td>\n",
       "    </tr>\n",
       "    <tr>\n",
       "      <th>2985206</th>\n",
       "      <td>12572230</td>\n",
       "      <td>0</td>\n",
       "      <td>0</td>\n",
       "      <td>0</td>\n",
       "      <td>0</td>\n",
       "      <td>0</td>\n",
       "      <td>0</td>\n",
       "      <td>0.010608</td>\n",
       "      <td>0.015461</td>\n",
       "    </tr>\n",
       "    <tr>\n",
       "      <th>2985207</th>\n",
       "      <td>14460030</td>\n",
       "      <td>0</td>\n",
       "      <td>0</td>\n",
       "      <td>0</td>\n",
       "      <td>0</td>\n",
       "      <td>0</td>\n",
       "      <td>0</td>\n",
       "      <td>0.003103</td>\n",
       "      <td>0.012421</td>\n",
       "    </tr>\n",
       "    <tr>\n",
       "      <th>2985208</th>\n",
       "      <td>14284830</td>\n",
       "      <td>0</td>\n",
       "      <td>0</td>\n",
       "      <td>0</td>\n",
       "      <td>0</td>\n",
       "      <td>0</td>\n",
       "      <td>0</td>\n",
       "      <td>0.013174</td>\n",
       "      <td>0.021053</td>\n",
       "    </tr>\n",
       "    <tr>\n",
       "      <th>2985209</th>\n",
       "      <td>14285230</td>\n",
       "      <td>0</td>\n",
       "      <td>0</td>\n",
       "      <td>0</td>\n",
       "      <td>0</td>\n",
       "      <td>0</td>\n",
       "      <td>0</td>\n",
       "      <td>0.020787</td>\n",
       "      <td>0.015174</td>\n",
       "    </tr>\n",
       "    <tr>\n",
       "      <th>2985210</th>\n",
       "      <td>14455630</td>\n",
       "      <td>0</td>\n",
       "      <td>0</td>\n",
       "      <td>0</td>\n",
       "      <td>0</td>\n",
       "      <td>0</td>\n",
       "      <td>0</td>\n",
       "      <td>0.017381</td>\n",
       "      <td>0.027358</td>\n",
       "    </tr>\n",
       "    <tr>\n",
       "      <th>2985211</th>\n",
       "      <td>11117630</td>\n",
       "      <td>0</td>\n",
       "      <td>0</td>\n",
       "      <td>0</td>\n",
       "      <td>0</td>\n",
       "      <td>0</td>\n",
       "      <td>0</td>\n",
       "      <td>0.007844</td>\n",
       "      <td>0.015581</td>\n",
       "    </tr>\n",
       "    <tr>\n",
       "      <th>2985212</th>\n",
       "      <td>168176230</td>\n",
       "      <td>0</td>\n",
       "      <td>0</td>\n",
       "      <td>0</td>\n",
       "      <td>0</td>\n",
       "      <td>0</td>\n",
       "      <td>0</td>\n",
       "      <td>0.013174</td>\n",
       "      <td>0.009705</td>\n",
       "    </tr>\n",
       "    <tr>\n",
       "      <th>2985213</th>\n",
       "      <td>14273630</td>\n",
       "      <td>0</td>\n",
       "      <td>0</td>\n",
       "      <td>0</td>\n",
       "      <td>0</td>\n",
       "      <td>0</td>\n",
       "      <td>0</td>\n",
       "      <td>0.003103</td>\n",
       "      <td>0.013157</td>\n",
       "    </tr>\n",
       "    <tr>\n",
       "      <th>2985214</th>\n",
       "      <td>168040630</td>\n",
       "      <td>0</td>\n",
       "      <td>0</td>\n",
       "      <td>0</td>\n",
       "      <td>0</td>\n",
       "      <td>0</td>\n",
       "      <td>0</td>\n",
       "      <td>0.001190</td>\n",
       "      <td>0.010521</td>\n",
       "    </tr>\n",
       "    <tr>\n",
       "      <th>2985215</th>\n",
       "      <td>168040830</td>\n",
       "      <td>0</td>\n",
       "      <td>0</td>\n",
       "      <td>0</td>\n",
       "      <td>0</td>\n",
       "      <td>0</td>\n",
       "      <td>0</td>\n",
       "      <td>0.004343</td>\n",
       "      <td>0.015157</td>\n",
       "    </tr>\n",
       "    <tr>\n",
       "      <th>2985216</th>\n",
       "      <td>168040430</td>\n",
       "      <td>0</td>\n",
       "      <td>0</td>\n",
       "      <td>0</td>\n",
       "      <td>0</td>\n",
       "      <td>0</td>\n",
       "      <td>0</td>\n",
       "      <td>0.003253</td>\n",
       "      <td>0.009446</td>\n",
       "    </tr>\n",
       "  </tbody>\n",
       "</table>\n",
       "<p>2985217 rows × 9 columns</p>\n",
       "</div>"
      ],
      "text/plain": [
       "          ParcelId  201610  201611  201612  201710  201711  201712  \\\n",
       "0         10754147       0       0       0       0       0       0   \n",
       "1         10759547       0       0       0       0       0       0   \n",
       "2         10843547       0       0       0       0       0       0   \n",
       "3         10859147       0       0       0       0       0       0   \n",
       "4         10879947       0       0       0       0       0       0   \n",
       "5         10898347       0       0       0       0       0       0   \n",
       "6         10933547       0       0       0       0       0       0   \n",
       "7         10940747       0       0       0       0       0       0   \n",
       "8         10954547       0       0       0       0       0       0   \n",
       "9         10976347       0       0       0       0       0       0   \n",
       "10        11073947       0       0       0       0       0       0   \n",
       "11        11114347       0       0       0       0       0       0   \n",
       "12        11116947       0       0       0       0       0       0   \n",
       "13        11142747       0       0       0       0       0       0   \n",
       "14        11193347       0       0       0       0       0       0   \n",
       "15        11215747       0       0       0       0       0       0   \n",
       "16        11229347       0       0       0       0       0       0   \n",
       "17        11287347       0       0       0       0       0       0   \n",
       "18        11288547       0       0       0       0       0       0   \n",
       "19        11324547       0       0       0       0       0       0   \n",
       "20        11391347       0       0       0       0       0       0   \n",
       "21        11395747       0       0       0       0       0       0   \n",
       "22        11404347       0       0       0       0       0       0   \n",
       "23        11405747       0       0       0       0       0       0   \n",
       "24        11417147       0       0       0       0       0       0   \n",
       "25        11457547       0       0       0       0       0       0   \n",
       "26        11488147       0       0       0       0       0       0   \n",
       "27        11520747       0       0       0       0       0       0   \n",
       "28        11524947       0       0       0       0       0       0   \n",
       "29        11544747       0       0       0       0       0       0   \n",
       "...            ...     ...     ...     ...     ...     ...     ...   \n",
       "2985187  167636430       0       0       0       0       0       0   \n",
       "2985188  167690630       0       0       0       0       0       0   \n",
       "2985189  167636630       0       0       0       0       0       0   \n",
       "2985190   10834030       0       0       0       0       0       0   \n",
       "2985191  167637430       0       0       0       0       0       0   \n",
       "2985192  167637630       0       0       0       0       0       0   \n",
       "2985193  167637230       0       0       0       0       0       0   \n",
       "2985194   11645030       0       0       0       0       0       0   \n",
       "2985195  167689030       0       0       0       0       0       0   \n",
       "2985196  167638630       0       0       0       0       0       0   \n",
       "2985197  167638430       0       0       0       0       0       0   \n",
       "2985198   14342030       0       0       0       0       0       0   \n",
       "2985199  167638230       0       0       0       0       0       0   \n",
       "2985200  167637830       0       0       0       0       0       0   \n",
       "2985201  167639230       0       0       0       0       0       0   \n",
       "2985202   14341030       0       0       0       0       0       0   \n",
       "2985203   14341630       0       0       0       0       0       0   \n",
       "2985204   14367630       0       0       0       0       0       0   \n",
       "2985205  167638830       0       0       0       0       0       0   \n",
       "2985206   12572230       0       0       0       0       0       0   \n",
       "2985207   14460030       0       0       0       0       0       0   \n",
       "2985208   14284830       0       0       0       0       0       0   \n",
       "2985209   14285230       0       0       0       0       0       0   \n",
       "2985210   14455630       0       0       0       0       0       0   \n",
       "2985211   11117630       0       0       0       0       0       0   \n",
       "2985212  168176230       0       0       0       0       0       0   \n",
       "2985213   14273630       0       0       0       0       0       0   \n",
       "2985214  168040630       0       0       0       0       0       0   \n",
       "2985215  168040830       0       0       0       0       0       0   \n",
       "2985216  168040430       0       0       0       0       0       0   \n",
       "\n",
       "         y_pred_2016  y_pred_2017  \n",
       "0           0.024910     0.028620  \n",
       "1           0.007709     0.027806  \n",
       "2           0.028230     0.031595  \n",
       "3           0.016676     0.025814  \n",
       "4           0.007101     0.012655  \n",
       "5           0.006142     0.015294  \n",
       "6           0.012873     0.022680  \n",
       "7           0.011346     0.015661  \n",
       "8           0.019853     0.017549  \n",
       "9           0.010362     0.014657  \n",
       "10          0.006080     0.013151  \n",
       "11          0.019453     0.019096  \n",
       "12          0.011384     0.015766  \n",
       "13          0.006606     0.017136  \n",
       "14          0.000611     0.014000  \n",
       "15          0.000611     0.011701  \n",
       "16          0.025297     0.010271  \n",
       "17          0.006963     0.009301  \n",
       "18          0.009034     0.008508  \n",
       "19          0.010716     0.010193  \n",
       "20          0.010180     0.015136  \n",
       "21          0.003668     0.011847  \n",
       "22          0.010018     0.017450  \n",
       "23          0.003174     0.011635  \n",
       "24          0.019093     0.014963  \n",
       "25          0.005402     0.016875  \n",
       "26          0.020145     0.017298  \n",
       "27          0.013193     0.014482  \n",
       "28          0.006414     0.008428  \n",
       "29          0.005944     0.012499  \n",
       "...              ...          ...  \n",
       "2985187     0.012774     0.020792  \n",
       "2985188     0.008115     0.008455  \n",
       "2985189     0.012774     0.020792  \n",
       "2985190     0.011636     0.013277  \n",
       "2985191     0.001022     0.007030  \n",
       "2985192     0.028142     0.028456  \n",
       "2985193     0.004558     0.013020  \n",
       "2985194     0.011567     0.009610  \n",
       "2985195     0.013174     0.015949  \n",
       "2985196     0.013174     0.020590  \n",
       "2985197     0.005350     0.012593  \n",
       "2985198     0.021615     0.039071  \n",
       "2985199     0.012324     0.026972  \n",
       "2985200     0.001785     0.010087  \n",
       "2985201     0.005033     0.014255  \n",
       "2985202     0.018942     0.021235  \n",
       "2985203     0.011944     0.022126  \n",
       "2985204     0.005980     0.015157  \n",
       "2985205     0.009425     0.010264  \n",
       "2985206     0.010608     0.015461  \n",
       "2985207     0.003103     0.012421  \n",
       "2985208     0.013174     0.021053  \n",
       "2985209     0.020787     0.015174  \n",
       "2985210     0.017381     0.027358  \n",
       "2985211     0.007844     0.015581  \n",
       "2985212     0.013174     0.009705  \n",
       "2985213     0.003103     0.013157  \n",
       "2985214     0.001190     0.010521  \n",
       "2985215     0.004343     0.015157  \n",
       "2985216     0.003253     0.009446  \n",
       "\n",
       "[2985217 rows x 9 columns]"
      ]
     },
     "execution_count": 365,
     "metadata": {},
     "output_type": "execute_result"
    }
   ],
   "source": [
    "finalsub.fillna(0)"
   ]
  },
  {
   "cell_type": "code",
   "execution_count": 366,
   "metadata": {
    "collapsed": true
   },
   "outputs": [],
   "source": [
    "finalsub['201610']=finalsub.y_pred_2016\n",
    "finalsub['201611']=finalsub.y_pred_2016\n",
    "finalsub['201612']=finalsub.y_pred_2016\n",
    "finalsub['201710']=finalsub.y_pred_2017\n",
    "finalsub['201711']=finalsub.y_pred_2017\n",
    "finalsub['201712']=finalsub.y_pred_2017"
   ]
  },
  {
   "cell_type": "code",
   "execution_count": 367,
   "metadata": {},
   "outputs": [
    {
     "data": {
      "text/html": [
       "<div>\n",
       "<style>\n",
       "    .dataframe thead tr:only-child th {\n",
       "        text-align: right;\n",
       "    }\n",
       "\n",
       "    .dataframe thead th {\n",
       "        text-align: left;\n",
       "    }\n",
       "\n",
       "    .dataframe tbody tr th {\n",
       "        vertical-align: top;\n",
       "    }\n",
       "</style>\n",
       "<table border=\"1\" class=\"dataframe\">\n",
       "  <thead>\n",
       "    <tr style=\"text-align: right;\">\n",
       "      <th></th>\n",
       "      <th>ParcelId</th>\n",
       "      <th>201610</th>\n",
       "      <th>201611</th>\n",
       "      <th>201612</th>\n",
       "      <th>201710</th>\n",
       "      <th>201711</th>\n",
       "      <th>201712</th>\n",
       "      <th>y_pred_2016</th>\n",
       "      <th>y_pred_2017</th>\n",
       "    </tr>\n",
       "  </thead>\n",
       "  <tbody>\n",
       "    <tr>\n",
       "      <th>0</th>\n",
       "      <td>10754147</td>\n",
       "      <td>0.024910</td>\n",
       "      <td>0.024910</td>\n",
       "      <td>0.024910</td>\n",
       "      <td>0.028620</td>\n",
       "      <td>0.028620</td>\n",
       "      <td>0.028620</td>\n",
       "      <td>0.024910</td>\n",
       "      <td>0.028620</td>\n",
       "    </tr>\n",
       "    <tr>\n",
       "      <th>1</th>\n",
       "      <td>10759547</td>\n",
       "      <td>0.007709</td>\n",
       "      <td>0.007709</td>\n",
       "      <td>0.007709</td>\n",
       "      <td>0.027806</td>\n",
       "      <td>0.027806</td>\n",
       "      <td>0.027806</td>\n",
       "      <td>0.007709</td>\n",
       "      <td>0.027806</td>\n",
       "    </tr>\n",
       "    <tr>\n",
       "      <th>2</th>\n",
       "      <td>10843547</td>\n",
       "      <td>0.028230</td>\n",
       "      <td>0.028230</td>\n",
       "      <td>0.028230</td>\n",
       "      <td>0.031595</td>\n",
       "      <td>0.031595</td>\n",
       "      <td>0.031595</td>\n",
       "      <td>0.028230</td>\n",
       "      <td>0.031595</td>\n",
       "    </tr>\n",
       "    <tr>\n",
       "      <th>3</th>\n",
       "      <td>10859147</td>\n",
       "      <td>0.016676</td>\n",
       "      <td>0.016676</td>\n",
       "      <td>0.016676</td>\n",
       "      <td>0.025814</td>\n",
       "      <td>0.025814</td>\n",
       "      <td>0.025814</td>\n",
       "      <td>0.016676</td>\n",
       "      <td>0.025814</td>\n",
       "    </tr>\n",
       "    <tr>\n",
       "      <th>4</th>\n",
       "      <td>10879947</td>\n",
       "      <td>0.007101</td>\n",
       "      <td>0.007101</td>\n",
       "      <td>0.007101</td>\n",
       "      <td>0.012655</td>\n",
       "      <td>0.012655</td>\n",
       "      <td>0.012655</td>\n",
       "      <td>0.007101</td>\n",
       "      <td>0.012655</td>\n",
       "    </tr>\n",
       "  </tbody>\n",
       "</table>\n",
       "</div>"
      ],
      "text/plain": [
       "   ParcelId    201610    201611    201612    201710    201711    201712  \\\n",
       "0  10754147  0.024910  0.024910  0.024910  0.028620  0.028620  0.028620   \n",
       "1  10759547  0.007709  0.007709  0.007709  0.027806  0.027806  0.027806   \n",
       "2  10843547  0.028230  0.028230  0.028230  0.031595  0.031595  0.031595   \n",
       "3  10859147  0.016676  0.016676  0.016676  0.025814  0.025814  0.025814   \n",
       "4  10879947  0.007101  0.007101  0.007101  0.012655  0.012655  0.012655   \n",
       "\n",
       "   y_pred_2016  y_pred_2017  \n",
       "0     0.024910     0.028620  \n",
       "1     0.007709     0.027806  \n",
       "2     0.028230     0.031595  \n",
       "3     0.016676     0.025814  \n",
       "4     0.007101     0.012655  "
      ]
     },
     "execution_count": 367,
     "metadata": {},
     "output_type": "execute_result"
    }
   ],
   "source": [
    "finalsub.head()"
   ]
  },
  {
   "cell_type": "code",
   "execution_count": 368,
   "metadata": {
    "collapsed": true
   },
   "outputs": [],
   "source": [
    "finalsub=finalsub[['ParcelId', '201610', '201611', '201612', '201710', '201711', '201712']]"
   ]
  },
  {
   "cell_type": "code",
   "execution_count": 369,
   "metadata": {},
   "outputs": [
    {
     "data": {
      "text/html": [
       "<div>\n",
       "<style>\n",
       "    .dataframe thead tr:only-child th {\n",
       "        text-align: right;\n",
       "    }\n",
       "\n",
       "    .dataframe thead th {\n",
       "        text-align: left;\n",
       "    }\n",
       "\n",
       "    .dataframe tbody tr th {\n",
       "        vertical-align: top;\n",
       "    }\n",
       "</style>\n",
       "<table border=\"1\" class=\"dataframe\">\n",
       "  <thead>\n",
       "    <tr style=\"text-align: right;\">\n",
       "      <th></th>\n",
       "      <th>ParcelId</th>\n",
       "      <th>201610</th>\n",
       "      <th>201611</th>\n",
       "      <th>201612</th>\n",
       "      <th>201710</th>\n",
       "      <th>201711</th>\n",
       "      <th>201712</th>\n",
       "    </tr>\n",
       "  </thead>\n",
       "  <tbody>\n",
       "    <tr>\n",
       "      <th>2985212</th>\n",
       "      <td>168176230</td>\n",
       "      <td>0.013174</td>\n",
       "      <td>0.013174</td>\n",
       "      <td>0.013174</td>\n",
       "      <td>0.009705</td>\n",
       "      <td>0.009705</td>\n",
       "      <td>0.009705</td>\n",
       "    </tr>\n",
       "    <tr>\n",
       "      <th>2985213</th>\n",
       "      <td>14273630</td>\n",
       "      <td>0.003103</td>\n",
       "      <td>0.003103</td>\n",
       "      <td>0.003103</td>\n",
       "      <td>0.013157</td>\n",
       "      <td>0.013157</td>\n",
       "      <td>0.013157</td>\n",
       "    </tr>\n",
       "    <tr>\n",
       "      <th>2985214</th>\n",
       "      <td>168040630</td>\n",
       "      <td>0.001190</td>\n",
       "      <td>0.001190</td>\n",
       "      <td>0.001190</td>\n",
       "      <td>0.010521</td>\n",
       "      <td>0.010521</td>\n",
       "      <td>0.010521</td>\n",
       "    </tr>\n",
       "    <tr>\n",
       "      <th>2985215</th>\n",
       "      <td>168040830</td>\n",
       "      <td>0.004343</td>\n",
       "      <td>0.004343</td>\n",
       "      <td>0.004343</td>\n",
       "      <td>0.015157</td>\n",
       "      <td>0.015157</td>\n",
       "      <td>0.015157</td>\n",
       "    </tr>\n",
       "    <tr>\n",
       "      <th>2985216</th>\n",
       "      <td>168040430</td>\n",
       "      <td>0.003253</td>\n",
       "      <td>0.003253</td>\n",
       "      <td>0.003253</td>\n",
       "      <td>0.009446</td>\n",
       "      <td>0.009446</td>\n",
       "      <td>0.009446</td>\n",
       "    </tr>\n",
       "  </tbody>\n",
       "</table>\n",
       "</div>"
      ],
      "text/plain": [
       "          ParcelId    201610    201611    201612    201710    201711    201712\n",
       "2985212  168176230  0.013174  0.013174  0.013174  0.009705  0.009705  0.009705\n",
       "2985213   14273630  0.003103  0.003103  0.003103  0.013157  0.013157  0.013157\n",
       "2985214  168040630  0.001190  0.001190  0.001190  0.010521  0.010521  0.010521\n",
       "2985215  168040830  0.004343  0.004343  0.004343  0.015157  0.015157  0.015157\n",
       "2985216  168040430  0.003253  0.003253  0.003253  0.009446  0.009446  0.009446"
      ]
     },
     "execution_count": 369,
     "metadata": {},
     "output_type": "execute_result"
    }
   ],
   "source": [
    "finalsub.tail()"
   ]
  },
  {
   "cell_type": "code",
   "execution_count": 370,
   "metadata": {
    "collapsed": true
   },
   "outputs": [],
   "source": [
    "finalsub.fillna(0, inplace=True)"
   ]
  },
  {
   "cell_type": "code",
   "execution_count": 371,
   "metadata": {},
   "outputs": [
    {
     "data": {
      "text/plain": [
       "ParcelId      int64\n",
       "201610      float64\n",
       "201611      float64\n",
       "201612      float64\n",
       "201710      float64\n",
       "201711      float64\n",
       "201712      float64\n",
       "dtype: object"
      ]
     },
     "execution_count": 371,
     "metadata": {},
     "output_type": "execute_result"
    }
   ],
   "source": [
    "finalsub.dtypes"
   ]
  },
  {
   "cell_type": "code",
   "execution_count": 372,
   "metadata": {},
   "outputs": [
    {
     "data": {
      "text/plain": [
       "ParcelId    1.251849e+07\n",
       "201610     -4.198778e-03\n",
       "201611     -4.198778e-03\n",
       "201612     -4.198778e-03\n",
       "201710      7.629418e-03\n",
       "201711      7.629418e-03\n",
       "201712      7.629418e-03\n",
       "Name: 1048578, dtype: float64"
      ]
     },
     "execution_count": 372,
     "metadata": {},
     "output_type": "execute_result"
    }
   ],
   "source": [
    "finalsub.iloc[1048578]"
   ]
  },
  {
   "cell_type": "code",
   "execution_count": 373,
   "metadata": {},
   "outputs": [
    {
     "data": {
      "text/plain": [
       "(2985217, 7)"
      ]
     },
     "execution_count": 373,
     "metadata": {},
     "output_type": "execute_result"
    }
   ],
   "source": [
    "finalsub.shape"
   ]
  },
  {
   "cell_type": "code",
   "execution_count": 374,
   "metadata": {
    "collapsed": true
   },
   "outputs": [],
   "source": [
    "finalsub.to_csv('Zillow_submission_v14_lgb.csv', index=False, float_format='%.4f')"
   ]
  },
  {
   "cell_type": "markdown",
   "metadata": {},
   "source": [
    "Selected results from Kaggle scoring:\n",
    "\n",
    "V3 - LGB w/o categoricals flagged \n",
    "Your submission scored 0.0658515, which is an improvement of your previous score of 0.0663010. Great job!\n",
    "\n",
    "V4 - LGB w/categoricals flagged\n",
    "Your submission scored 0.0658497, which is an improvement of your previous score of 0.0658515. Great job!\n",
    "\n",
    "V5 - With some very basic tuning \n",
    "Your submission scored 0.0657437, which is an improvement of your previous score of 0.0658497. Great job!\n",
    "\n",
    "V6 - RF, tuned \n",
    "Your submission scored 0.0657550, which is not an improvement of your best score. Keep trying!\n",
    "\n",
    "V7 - RF, tuned, with transmonth added\n",
    "Your submission scored 0.0658066, which is not an improvement of your best score. Keep trying!\n",
    "\n",
    "V8 - RF, trans_qtr used instead\n",
    "\n",
    "V9 -- Back to LGB\n",
    "Your submission scored 0.0658543, which is not an improvement of your best score. Keep trying!\n",
    "\n",
    "V10 - LGB with separate 2016/17 predictions \n",
    "Your submission scored 0.0649959, which is an improvement of your previous score of 0.0657437. Great job!\n",
    "\n",
    "V11 - LGB, mostly same as above, but some updated 2016 property features \n",
    "Your submission scored 0.0649798, which is an improvement of your previous score of 0.0649959. Great job!\n",
    "\n",
    "V12 - LGB, categorical features noted, boosted learning rate\n",
    "Your submission scored 0.0649512, which is an improvement of your previous score of 0.0649798. Great job!\n",
    "\n",
    "V13 - LGB, with regression_l1 parameter \n",
    "Your submission scored 0.0647780, which is an improvement of your previous score of 0.0649512. Great job!\n",
    "\n",
    "V14 - LGB, after another roundof grid search\n",
    "Your submission scored 0.0646781, which is an improvement of your previous score of 0.0647780. Great job!"
   ]
  }
 ],
 "metadata": {
  "anaconda-cloud": {},
  "kernelspec": {
   "display_name": "Python 3",
   "language": "python",
   "name": "python3"
  },
  "language_info": {
   "codemirror_mode": {
    "name": "ipython",
    "version": 3
   },
   "file_extension": ".py",
   "mimetype": "text/x-python",
   "name": "python",
   "nbconvert_exporter": "python",
   "pygments_lexer": "ipython3",
   "version": "3.6.1"
  }
 },
 "nbformat": 4,
 "nbformat_minor": 1
}
