{
 "cells": [
  {
   "cell_type": "markdown",
   "metadata": {},
   "source": [
    "Instacart Kaggle Competition \n",
    "\n",
    "This notebook was developed for a Kaggle competition on predicting repeat product purchases on Instacart, an online grocery ordering site.\n",
    "\n",
    "Here is a link to details on the Instacart competition, including core datasets:\n",
    "https://www.kaggle.com/c/instacart-market-basket-analysis\n",
    "\n",
    "Data: The datasets included information on 3.4M orders and 49.7K unique products.  The orders were further broken down into “prior”, “train” and “test” sets. The prior orders covered the five (or more, as available) most recent orders leading up to the final order in the dataset.  The train set covered the final order.  The test set included user IDs and a few temporal attributes for the final order (but not the ordered products, which is what we were predicting). \n",
    "\n",
    "Approach:  I first conducted exploratory data analysis(EDA), using code posted by other Kaggle competitors as well as my own code. I engineered additional features based on products (e.g., how often the item was reordered), users (e.g., how many items  he/she typically ordered) and product/user combination characteristics (e.g., how often a user bought a specific product). I then added those features to the train dataset, and in turn used the trained classifier on the test dataset.  \n",
    "\n",
    "I tested a variety of classifiers and regression models, ultimately using a Random Forest classifier for my final submission.  "
   ]
  },
  {
   "cell_type": "code",
   "execution_count": 1,
   "metadata": {
    "collapsed": true
   },
   "outputs": [],
   "source": [
    "import numpy as np\n",
    "import pandas as pd\n",
    "import gc"
   ]
  },
  {
   "cell_type": "code",
   "execution_count": null,
   "metadata": {
    "collapsed": true
   },
   "outputs": [],
   "source": [
    "from sklearn import preprocessing\n",
    "from sklearn.model_selection import cross_val_predict, cross_val_score, GridSearchCV\n",
    "\n",
    "import matplotlib.pylab as plt\n",
    "%matplotlib inline\n",
    "from matplotlib.pylab import rcParams\n",
    "rcParams['figure.figsize'] = 12, 4"
   ]
  },
  {
   "cell_type": "code",
   "execution_count": 36,
   "metadata": {
    "collapsed": true
   },
   "outputs": [],
   "source": [
    "# Read the input -- these were the core files supplied by Instacart \n",
    "\n",
    "# orders with products identified - train dataset; 1.4M records\n",
    "orders_train = pd.read_csv('Instacart_order_products__train.csv')\n",
    "\n",
    "# orders with products identified - prior dataset; 32.4M records  \n",
    "orders_prior = pd.read_csv('Instacart_order_products__prior.csv')\n",
    "\n",
    "# all orders (w/o) products; prior,train and test; test incl. NaNs; 3.4M records\n",
    "orders = pd.read_csv('Instacart_orders.csv')\n",
    "\n",
    "# product info; 49.7K records\n",
    "products = pd.read_csv('Instacart_products.csv')\n",
    "\n",
    "# aisle info \n",
    "aisles = pd.read_csv('Instacart_aisles.csv')\n",
    "\n",
    "# dept info \n",
    "departments = pd.read_csv('Instacart_departments.csv')"
   ]
  },
  {
   "cell_type": "markdown",
   "metadata": {
    "collapsed": true
   },
   "source": [
    "This notebook picks up extensive data preparation and feature processing work conducted in earlier notebooks.  It focuses on some final features related to whether a product was in a user's last three orders (rather than all orders).  "
   ]
  },
  {
   "cell_type": "code",
   "execution_count": 3,
   "metadata": {
    "collapsed": true
   },
   "outputs": [],
   "source": [
    "# Read in previously processes feature data \n",
    "dfA=pd.read_csv('master_all_products_ordered.csv')"
   ]
  },
  {
   "cell_type": "code",
   "execution_count": 4,
   "metadata": {},
   "outputs": [
    {
     "data": {
      "text/plain": [
       "(33894106, 11)"
      ]
     },
     "execution_count": 4,
     "metadata": {},
     "output_type": "execute_result"
    }
   ],
   "source": [
    "dfA.shape"
   ]
  },
  {
   "cell_type": "code",
   "execution_count": null,
   "metadata": {},
   "outputs": [
    {
     "data": {
      "text/html": [
       "<div>\n",
       "<style>\n",
       "    .dataframe thead tr:only-child th {\n",
       "        text-align: right;\n",
       "    }\n",
       "\n",
       "    .dataframe thead th {\n",
       "        text-align: left;\n",
       "    }\n",
       "\n",
       "    .dataframe tbody tr th {\n",
       "        vertical-align: top;\n",
       "    }\n",
       "</style>\n",
       "<table border=\"1\" class=\"dataframe\">\n",
       "  <thead>\n",
       "    <tr style=\"text-align: right;\">\n",
       "      <th></th>\n",
       "      <th>Unnamed: 0</th>\n",
       "      <th>order_id</th>\n",
       "      <th>product_id</th>\n",
       "      <th>add_to_cart_order</th>\n",
       "      <th>reordered</th>\n",
       "      <th>user_id</th>\n",
       "      <th>eval_set</th>\n",
       "      <th>order_number</th>\n",
       "      <th>order_dow</th>\n",
       "      <th>order_hour_of_day</th>\n",
       "      <th>days_since_prior_order</th>\n",
       "    </tr>\n",
       "  </thead>\n",
       "  <tbody>\n",
       "    <tr>\n",
       "      <th>0</th>\n",
       "      <td>0</td>\n",
       "      <td>2.0</td>\n",
       "      <td>33120.0</td>\n",
       "      <td>1.0</td>\n",
       "      <td>1.0</td>\n",
       "      <td>202279</td>\n",
       "      <td>prior</td>\n",
       "      <td>3</td>\n",
       "      <td>5</td>\n",
       "      <td>9</td>\n",
       "      <td>8.0</td>\n",
       "    </tr>\n",
       "    <tr>\n",
       "      <th>1</th>\n",
       "      <td>1</td>\n",
       "      <td>2.0</td>\n",
       "      <td>28985.0</td>\n",
       "      <td>2.0</td>\n",
       "      <td>1.0</td>\n",
       "      <td>202279</td>\n",
       "      <td>prior</td>\n",
       "      <td>3</td>\n",
       "      <td>5</td>\n",
       "      <td>9</td>\n",
       "      <td>8.0</td>\n",
       "    </tr>\n",
       "  </tbody>\n",
       "</table>\n",
       "</div>"
      ],
      "text/plain": [
       "   Unnamed: 0  order_id  product_id  add_to_cart_order  reordered  user_id  \\\n",
       "0           0       2.0     33120.0                1.0        1.0   202279   \n",
       "1           1       2.0     28985.0                2.0        1.0   202279   \n",
       "\n",
       "  eval_set  order_number  order_dow  order_hour_of_day  days_since_prior_order  \n",
       "0    prior             3          5                  9                     8.0  \n",
       "1    prior             3          5                  9                     8.0  "
      ]
     },
     "execution_count": 5,
     "metadata": {},
     "output_type": "execute_result"
    }
   ],
   "source": [
    "dfA.head(2)"
   ]
  },
  {
   "cell_type": "code",
   "execution_count": null,
   "metadata": {
    "collapsed": true
   },
   "outputs": [],
   "source": [
    "dfB=dfA.loc[dfA['eval_set']=='prior'].reset_index()"
   ]
  },
  {
   "cell_type": "code",
   "execution_count": 7,
   "metadata": {},
   "outputs": [
    {
     "data": {
      "text/plain": [
       "(32434489, 12)"
      ]
     },
     "execution_count": 7,
     "metadata": {},
     "output_type": "execute_result"
    }
   ],
   "source": [
    "dfB.shape"
   ]
  },
  {
   "cell_type": "code",
   "execution_count": 8,
   "metadata": {},
   "outputs": [
    {
     "data": {
      "text/plain": [
       "array(['index', 'Unnamed: 0', 'order_id', 'product_id',\n",
       "       'add_to_cart_order', 'reordered', 'user_id', 'eval_set',\n",
       "       'order_number', 'order_dow', 'order_hour_of_day',\n",
       "       'days_since_prior_order'], dtype=object)"
      ]
     },
     "execution_count": 8,
     "metadata": {},
     "output_type": "execute_result"
    }
   ],
   "source": [
    "dfB.columns.values"
   ]
  },
  {
   "cell_type": "code",
   "execution_count": 9,
   "metadata": {
    "collapsed": true
   },
   "outputs": [],
   "source": [
    "dfB= dfB.drop(['index', 'Unnamed: 0', 'add_to_cart_order', 'reordered', 'eval_set', 'order_dow', 'order_hour_of_day'],axis=1)"
   ]
  },
  {
   "cell_type": "code",
   "execution_count": 10,
   "metadata": {},
   "outputs": [
    {
     "data": {
      "text/html": [
       "<div>\n",
       "<style>\n",
       "    .dataframe thead tr:only-child th {\n",
       "        text-align: right;\n",
       "    }\n",
       "\n",
       "    .dataframe thead th {\n",
       "        text-align: left;\n",
       "    }\n",
       "\n",
       "    .dataframe tbody tr th {\n",
       "        vertical-align: top;\n",
       "    }\n",
       "</style>\n",
       "<table border=\"1\" class=\"dataframe\">\n",
       "  <thead>\n",
       "    <tr style=\"text-align: right;\">\n",
       "      <th></th>\n",
       "      <th>order_id</th>\n",
       "      <th>product_id</th>\n",
       "      <th>user_id</th>\n",
       "      <th>order_number</th>\n",
       "      <th>days_since_prior_order</th>\n",
       "    </tr>\n",
       "  </thead>\n",
       "  <tbody>\n",
       "    <tr>\n",
       "      <th>0</th>\n",
       "      <td>2.0</td>\n",
       "      <td>33120.0</td>\n",
       "      <td>202279</td>\n",
       "      <td>3</td>\n",
       "      <td>8.0</td>\n",
       "    </tr>\n",
       "    <tr>\n",
       "      <th>1</th>\n",
       "      <td>2.0</td>\n",
       "      <td>28985.0</td>\n",
       "      <td>202279</td>\n",
       "      <td>3</td>\n",
       "      <td>8.0</td>\n",
       "    </tr>\n",
       "    <tr>\n",
       "      <th>2</th>\n",
       "      <td>2.0</td>\n",
       "      <td>9327.0</td>\n",
       "      <td>202279</td>\n",
       "      <td>3</td>\n",
       "      <td>8.0</td>\n",
       "    </tr>\n",
       "    <tr>\n",
       "      <th>3</th>\n",
       "      <td>2.0</td>\n",
       "      <td>45918.0</td>\n",
       "      <td>202279</td>\n",
       "      <td>3</td>\n",
       "      <td>8.0</td>\n",
       "    </tr>\n",
       "    <tr>\n",
       "      <th>4</th>\n",
       "      <td>2.0</td>\n",
       "      <td>30035.0</td>\n",
       "      <td>202279</td>\n",
       "      <td>3</td>\n",
       "      <td>8.0</td>\n",
       "    </tr>\n",
       "  </tbody>\n",
       "</table>\n",
       "</div>"
      ],
      "text/plain": [
       "   order_id  product_id  user_id  order_number  days_since_prior_order\n",
       "0       2.0     33120.0   202279             3                     8.0\n",
       "1       2.0     28985.0   202279             3                     8.0\n",
       "2       2.0      9327.0   202279             3                     8.0\n",
       "3       2.0     45918.0   202279             3                     8.0\n",
       "4       2.0     30035.0   202279             3                     8.0"
      ]
     },
     "execution_count": 10,
     "metadata": {},
     "output_type": "execute_result"
    }
   ],
   "source": [
    "dfB.head()"
   ]
  },
  {
   "cell_type": "code",
   "execution_count": 11,
   "metadata": {
    "collapsed": true
   },
   "outputs": [],
   "source": [
    "dfB['order_number_max']=dfB.groupby(['user_id'])['order_number'].transform('max')"
   ]
  },
  {
   "cell_type": "code",
   "execution_count": 12,
   "metadata": {},
   "outputs": [
    {
     "data": {
      "text/html": [
       "<div>\n",
       "<style>\n",
       "    .dataframe thead tr:only-child th {\n",
       "        text-align: right;\n",
       "    }\n",
       "\n",
       "    .dataframe thead th {\n",
       "        text-align: left;\n",
       "    }\n",
       "\n",
       "    .dataframe tbody tr th {\n",
       "        vertical-align: top;\n",
       "    }\n",
       "</style>\n",
       "<table border=\"1\" class=\"dataframe\">\n",
       "  <thead>\n",
       "    <tr style=\"text-align: right;\">\n",
       "      <th></th>\n",
       "      <th>order_id</th>\n",
       "      <th>product_id</th>\n",
       "      <th>user_id</th>\n",
       "      <th>order_number</th>\n",
       "      <th>days_since_prior_order</th>\n",
       "      <th>order_number_max</th>\n",
       "    </tr>\n",
       "  </thead>\n",
       "  <tbody>\n",
       "    <tr>\n",
       "      <th>0</th>\n",
       "      <td>2.0</td>\n",
       "      <td>33120.0</td>\n",
       "      <td>202279</td>\n",
       "      <td>3</td>\n",
       "      <td>8.0</td>\n",
       "      <td>8</td>\n",
       "    </tr>\n",
       "    <tr>\n",
       "      <th>1</th>\n",
       "      <td>2.0</td>\n",
       "      <td>28985.0</td>\n",
       "      <td>202279</td>\n",
       "      <td>3</td>\n",
       "      <td>8.0</td>\n",
       "      <td>8</td>\n",
       "    </tr>\n",
       "    <tr>\n",
       "      <th>2</th>\n",
       "      <td>2.0</td>\n",
       "      <td>9327.0</td>\n",
       "      <td>202279</td>\n",
       "      <td>3</td>\n",
       "      <td>8.0</td>\n",
       "      <td>8</td>\n",
       "    </tr>\n",
       "    <tr>\n",
       "      <th>3</th>\n",
       "      <td>2.0</td>\n",
       "      <td>45918.0</td>\n",
       "      <td>202279</td>\n",
       "      <td>3</td>\n",
       "      <td>8.0</td>\n",
       "      <td>8</td>\n",
       "    </tr>\n",
       "    <tr>\n",
       "      <th>4</th>\n",
       "      <td>2.0</td>\n",
       "      <td>30035.0</td>\n",
       "      <td>202279</td>\n",
       "      <td>3</td>\n",
       "      <td>8.0</td>\n",
       "      <td>8</td>\n",
       "    </tr>\n",
       "  </tbody>\n",
       "</table>\n",
       "</div>"
      ],
      "text/plain": [
       "   order_id  product_id  user_id  order_number  days_since_prior_order  \\\n",
       "0       2.0     33120.0   202279             3                     8.0   \n",
       "1       2.0     28985.0   202279             3                     8.0   \n",
       "2       2.0      9327.0   202279             3                     8.0   \n",
       "3       2.0     45918.0   202279             3                     8.0   \n",
       "4       2.0     30035.0   202279             3                     8.0   \n",
       "\n",
       "   order_number_max  \n",
       "0                 8  \n",
       "1                 8  \n",
       "2                 8  \n",
       "3                 8  \n",
       "4                 8  "
      ]
     },
     "execution_count": 12,
     "metadata": {},
     "output_type": "execute_result"
    }
   ],
   "source": [
    "dfB.head()"
   ]
  },
  {
   "cell_type": "code",
   "execution_count": 13,
   "metadata": {},
   "outputs": [
    {
     "data": {
      "text/plain": [
       "(32434489, 6)"
      ]
     },
     "execution_count": 13,
     "metadata": {},
     "output_type": "execute_result"
    }
   ],
   "source": [
    "dfB.shape"
   ]
  },
  {
   "cell_type": "code",
   "execution_count": 14,
   "metadata": {
    "collapsed": true
   },
   "outputs": [],
   "source": [
    "dfB['order_number_max_minus_1']=dfB['order_number_max']- 1\n",
    "dfB['order_number_max_minus_2']=dfB['order_number_max']- 2"
   ]
  },
  {
   "cell_type": "code",
   "execution_count": 15,
   "metadata": {},
   "outputs": [
    {
     "data": {
      "text/html": [
       "<div>\n",
       "<style>\n",
       "    .dataframe thead tr:only-child th {\n",
       "        text-align: right;\n",
       "    }\n",
       "\n",
       "    .dataframe thead th {\n",
       "        text-align: left;\n",
       "    }\n",
       "\n",
       "    .dataframe tbody tr th {\n",
       "        vertical-align: top;\n",
       "    }\n",
       "</style>\n",
       "<table border=\"1\" class=\"dataframe\">\n",
       "  <thead>\n",
       "    <tr style=\"text-align: right;\">\n",
       "      <th></th>\n",
       "      <th>order_id</th>\n",
       "      <th>product_id</th>\n",
       "      <th>user_id</th>\n",
       "      <th>order_number</th>\n",
       "      <th>days_since_prior_order</th>\n",
       "      <th>order_number_max</th>\n",
       "      <th>order_number_max_minus_1</th>\n",
       "      <th>order_number_max_minus_2</th>\n",
       "    </tr>\n",
       "  </thead>\n",
       "  <tbody>\n",
       "    <tr>\n",
       "      <th>0</th>\n",
       "      <td>2.0</td>\n",
       "      <td>33120.0</td>\n",
       "      <td>202279</td>\n",
       "      <td>3</td>\n",
       "      <td>8.0</td>\n",
       "      <td>8</td>\n",
       "      <td>7</td>\n",
       "      <td>6</td>\n",
       "    </tr>\n",
       "    <tr>\n",
       "      <th>1</th>\n",
       "      <td>2.0</td>\n",
       "      <td>28985.0</td>\n",
       "      <td>202279</td>\n",
       "      <td>3</td>\n",
       "      <td>8.0</td>\n",
       "      <td>8</td>\n",
       "      <td>7</td>\n",
       "      <td>6</td>\n",
       "    </tr>\n",
       "  </tbody>\n",
       "</table>\n",
       "</div>"
      ],
      "text/plain": [
       "   order_id  product_id  user_id  order_number  days_since_prior_order  \\\n",
       "0       2.0     33120.0   202279             3                     8.0   \n",
       "1       2.0     28985.0   202279             3                     8.0   \n",
       "\n",
       "   order_number_max  order_number_max_minus_1  order_number_max_minus_2  \n",
       "0                 8                         7                         6  \n",
       "1                 8                         7                         6  "
      ]
     },
     "execution_count": 15,
     "metadata": {},
     "output_type": "execute_result"
    }
   ],
   "source": [
    "dfB.head(2)"
   ]
  },
  {
   "cell_type": "code",
   "execution_count": 16,
   "metadata": {
    "collapsed": true
   },
   "outputs": [],
   "source": [
    "dfB['in_last_order']=np.where( dfB['order_number']==dfB['order_number_max'], 1, 0 )"
   ]
  },
  {
   "cell_type": "code",
   "execution_count": 17,
   "metadata": {},
   "outputs": [
    {
     "data": {
      "text/html": [
       "<div>\n",
       "<style>\n",
       "    .dataframe thead tr:only-child th {\n",
       "        text-align: right;\n",
       "    }\n",
       "\n",
       "    .dataframe thead th {\n",
       "        text-align: left;\n",
       "    }\n",
       "\n",
       "    .dataframe tbody tr th {\n",
       "        vertical-align: top;\n",
       "    }\n",
       "</style>\n",
       "<table border=\"1\" class=\"dataframe\">\n",
       "  <thead>\n",
       "    <tr style=\"text-align: right;\">\n",
       "      <th></th>\n",
       "      <th>order_id</th>\n",
       "      <th>product_id</th>\n",
       "      <th>user_id</th>\n",
       "      <th>order_number</th>\n",
       "      <th>days_since_prior_order</th>\n",
       "      <th>order_number_max</th>\n",
       "      <th>order_number_max_minus_1</th>\n",
       "      <th>order_number_max_minus_2</th>\n",
       "      <th>in_last_order</th>\n",
       "    </tr>\n",
       "  </thead>\n",
       "  <tbody>\n",
       "    <tr>\n",
       "      <th>0</th>\n",
       "      <td>2.0</td>\n",
       "      <td>33120.0</td>\n",
       "      <td>202279</td>\n",
       "      <td>3</td>\n",
       "      <td>8.0</td>\n",
       "      <td>8</td>\n",
       "      <td>7</td>\n",
       "      <td>6</td>\n",
       "      <td>0</td>\n",
       "    </tr>\n",
       "    <tr>\n",
       "      <th>1</th>\n",
       "      <td>2.0</td>\n",
       "      <td>28985.0</td>\n",
       "      <td>202279</td>\n",
       "      <td>3</td>\n",
       "      <td>8.0</td>\n",
       "      <td>8</td>\n",
       "      <td>7</td>\n",
       "      <td>6</td>\n",
       "      <td>0</td>\n",
       "    </tr>\n",
       "  </tbody>\n",
       "</table>\n",
       "</div>"
      ],
      "text/plain": [
       "   order_id  product_id  user_id  order_number  days_since_prior_order  \\\n",
       "0       2.0     33120.0   202279             3                     8.0   \n",
       "1       2.0     28985.0   202279             3                     8.0   \n",
       "\n",
       "   order_number_max  order_number_max_minus_1  order_number_max_minus_2  \\\n",
       "0                 8                         7                         6   \n",
       "1                 8                         7                         6   \n",
       "\n",
       "   in_last_order  \n",
       "0              0  \n",
       "1              0  "
      ]
     },
     "execution_count": 17,
     "metadata": {},
     "output_type": "execute_result"
    }
   ],
   "source": [
    "dfB.head(2)"
   ]
  },
  {
   "cell_type": "code",
   "execution_count": 18,
   "metadata": {},
   "outputs": [
    {
     "data": {
      "text/html": [
       "<div>\n",
       "<style>\n",
       "    .dataframe thead tr:only-child th {\n",
       "        text-align: right;\n",
       "    }\n",
       "\n",
       "    .dataframe thead th {\n",
       "        text-align: left;\n",
       "    }\n",
       "\n",
       "    .dataframe tbody tr th {\n",
       "        vertical-align: top;\n",
       "    }\n",
       "</style>\n",
       "<table border=\"1\" class=\"dataframe\">\n",
       "  <thead>\n",
       "    <tr style=\"text-align: right;\">\n",
       "      <th></th>\n",
       "      <th>order_id</th>\n",
       "      <th>product_id</th>\n",
       "      <th>user_id</th>\n",
       "      <th>order_number</th>\n",
       "      <th>days_since_prior_order</th>\n",
       "      <th>order_number_max</th>\n",
       "      <th>order_number_max_minus_1</th>\n",
       "      <th>order_number_max_minus_2</th>\n",
       "      <th>in_last_order</th>\n",
       "    </tr>\n",
       "  </thead>\n",
       "  <tbody>\n",
       "    <tr>\n",
       "      <th>219</th>\n",
       "      <td>25.0</td>\n",
       "      <td>9755.0</td>\n",
       "      <td>59897</td>\n",
       "      <td>19</td>\n",
       "      <td>25.0</td>\n",
       "      <td>19</td>\n",
       "      <td>18</td>\n",
       "      <td>17</td>\n",
       "      <td>1</td>\n",
       "    </tr>\n",
       "    <tr>\n",
       "      <th>220</th>\n",
       "      <td>25.0</td>\n",
       "      <td>31487.0</td>\n",
       "      <td>59897</td>\n",
       "      <td>19</td>\n",
       "      <td>25.0</td>\n",
       "      <td>19</td>\n",
       "      <td>18</td>\n",
       "      <td>17</td>\n",
       "      <td>1</td>\n",
       "    </tr>\n",
       "    <tr>\n",
       "      <th>221</th>\n",
       "      <td>25.0</td>\n",
       "      <td>37510.0</td>\n",
       "      <td>59897</td>\n",
       "      <td>19</td>\n",
       "      <td>25.0</td>\n",
       "      <td>19</td>\n",
       "      <td>18</td>\n",
       "      <td>17</td>\n",
       "      <td>1</td>\n",
       "    </tr>\n",
       "    <tr>\n",
       "      <th>222</th>\n",
       "      <td>25.0</td>\n",
       "      <td>14576.0</td>\n",
       "      <td>59897</td>\n",
       "      <td>19</td>\n",
       "      <td>25.0</td>\n",
       "      <td>19</td>\n",
       "      <td>18</td>\n",
       "      <td>17</td>\n",
       "      <td>1</td>\n",
       "    </tr>\n",
       "    <tr>\n",
       "      <th>223</th>\n",
       "      <td>25.0</td>\n",
       "      <td>22105.0</td>\n",
       "      <td>59897</td>\n",
       "      <td>19</td>\n",
       "      <td>25.0</td>\n",
       "      <td>19</td>\n",
       "      <td>18</td>\n",
       "      <td>17</td>\n",
       "      <td>1</td>\n",
       "    </tr>\n",
       "  </tbody>\n",
       "</table>\n",
       "</div>"
      ],
      "text/plain": [
       "     order_id  product_id  user_id  order_number  days_since_prior_order  \\\n",
       "219      25.0      9755.0    59897            19                    25.0   \n",
       "220      25.0     31487.0    59897            19                    25.0   \n",
       "221      25.0     37510.0    59897            19                    25.0   \n",
       "222      25.0     14576.0    59897            19                    25.0   \n",
       "223      25.0     22105.0    59897            19                    25.0   \n",
       "\n",
       "     order_number_max  order_number_max_minus_1  order_number_max_minus_2  \\\n",
       "219                19                        18                        17   \n",
       "220                19                        18                        17   \n",
       "221                19                        18                        17   \n",
       "222                19                        18                        17   \n",
       "223                19                        18                        17   \n",
       "\n",
       "     in_last_order  \n",
       "219              1  \n",
       "220              1  \n",
       "221              1  \n",
       "222              1  \n",
       "223              1  "
      ]
     },
     "execution_count": 18,
     "metadata": {},
     "output_type": "execute_result"
    }
   ],
   "source": [
    "dfB.loc[dfB['in_last_order']==1][:5]"
   ]
  },
  {
   "cell_type": "code",
   "execution_count": 19,
   "metadata": {
    "collapsed": true
   },
   "outputs": [],
   "source": [
    "dfB['in_2nd_last_order']=np.where( dfB['order_number']==dfB['order_number_max_minus_1'], 1, 0 )\n",
    "dfB['in_3rd_last_order']=np.where( dfB['order_number']==dfB['order_number_max_minus_2'], 1, 0 )"
   ]
  },
  {
   "cell_type": "code",
   "execution_count": 20,
   "metadata": {},
   "outputs": [
    {
     "data": {
      "text/html": [
       "<div>\n",
       "<style>\n",
       "    .dataframe thead tr:only-child th {\n",
       "        text-align: right;\n",
       "    }\n",
       "\n",
       "    .dataframe thead th {\n",
       "        text-align: left;\n",
       "    }\n",
       "\n",
       "    .dataframe tbody tr th {\n",
       "        vertical-align: top;\n",
       "    }\n",
       "</style>\n",
       "<table border=\"1\" class=\"dataframe\">\n",
       "  <thead>\n",
       "    <tr style=\"text-align: right;\">\n",
       "      <th></th>\n",
       "      <th>order_id</th>\n",
       "      <th>product_id</th>\n",
       "      <th>user_id</th>\n",
       "      <th>order_number</th>\n",
       "      <th>days_since_prior_order</th>\n",
       "      <th>order_number_max</th>\n",
       "      <th>order_number_max_minus_1</th>\n",
       "      <th>order_number_max_minus_2</th>\n",
       "      <th>in_last_order</th>\n",
       "      <th>in_2nd_last_order</th>\n",
       "      <th>in_3rd_last_order</th>\n",
       "    </tr>\n",
       "  </thead>\n",
       "  <tbody>\n",
       "    <tr>\n",
       "      <th>59</th>\n",
       "      <td>7.0</td>\n",
       "      <td>34050.0</td>\n",
       "      <td>142903</td>\n",
       "      <td>11</td>\n",
       "      <td>30.0</td>\n",
       "      <td>12</td>\n",
       "      <td>11</td>\n",
       "      <td>10</td>\n",
       "      <td>0</td>\n",
       "      <td>1</td>\n",
       "      <td>0</td>\n",
       "    </tr>\n",
       "    <tr>\n",
       "      <th>60</th>\n",
       "      <td>7.0</td>\n",
       "      <td>46802.0</td>\n",
       "      <td>142903</td>\n",
       "      <td>11</td>\n",
       "      <td>30.0</td>\n",
       "      <td>12</td>\n",
       "      <td>11</td>\n",
       "      <td>10</td>\n",
       "      <td>0</td>\n",
       "      <td>1</td>\n",
       "      <td>0</td>\n",
       "    </tr>\n",
       "    <tr>\n",
       "      <th>141</th>\n",
       "      <td>16.0</td>\n",
       "      <td>9755.0</td>\n",
       "      <td>174840</td>\n",
       "      <td>18</td>\n",
       "      <td>13.0</td>\n",
       "      <td>19</td>\n",
       "      <td>18</td>\n",
       "      <td>17</td>\n",
       "      <td>0</td>\n",
       "      <td>1</td>\n",
       "      <td>0</td>\n",
       "    </tr>\n",
       "    <tr>\n",
       "      <th>142</th>\n",
       "      <td>16.0</td>\n",
       "      <td>25466.0</td>\n",
       "      <td>174840</td>\n",
       "      <td>18</td>\n",
       "      <td>13.0</td>\n",
       "      <td>19</td>\n",
       "      <td>18</td>\n",
       "      <td>17</td>\n",
       "      <td>0</td>\n",
       "      <td>1</td>\n",
       "      <td>0</td>\n",
       "    </tr>\n",
       "    <tr>\n",
       "      <th>143</th>\n",
       "      <td>16.0</td>\n",
       "      <td>45437.0</td>\n",
       "      <td>174840</td>\n",
       "      <td>18</td>\n",
       "      <td>13.0</td>\n",
       "      <td>19</td>\n",
       "      <td>18</td>\n",
       "      <td>17</td>\n",
       "      <td>0</td>\n",
       "      <td>1</td>\n",
       "      <td>0</td>\n",
       "    </tr>\n",
       "  </tbody>\n",
       "</table>\n",
       "</div>"
      ],
      "text/plain": [
       "     order_id  product_id  user_id  order_number  days_since_prior_order  \\\n",
       "59        7.0     34050.0   142903            11                    30.0   \n",
       "60        7.0     46802.0   142903            11                    30.0   \n",
       "141      16.0      9755.0   174840            18                    13.0   \n",
       "142      16.0     25466.0   174840            18                    13.0   \n",
       "143      16.0     45437.0   174840            18                    13.0   \n",
       "\n",
       "     order_number_max  order_number_max_minus_1  order_number_max_minus_2  \\\n",
       "59                 12                        11                        10   \n",
       "60                 12                        11                        10   \n",
       "141                19                        18                        17   \n",
       "142                19                        18                        17   \n",
       "143                19                        18                        17   \n",
       "\n",
       "     in_last_order  in_2nd_last_order  in_3rd_last_order  \n",
       "59               0                  1                  0  \n",
       "60               0                  1                  0  \n",
       "141              0                  1                  0  \n",
       "142              0                  1                  0  \n",
       "143              0                  1                  0  "
      ]
     },
     "execution_count": 20,
     "metadata": {},
     "output_type": "execute_result"
    }
   ],
   "source": [
    "dfB.loc[dfB['in_2nd_last_order']==1][:5]"
   ]
  },
  {
   "cell_type": "code",
   "execution_count": 21,
   "metadata": {},
   "outputs": [
    {
     "data": {
      "text/html": [
       "<div>\n",
       "<style>\n",
       "    .dataframe thead tr:only-child th {\n",
       "        text-align: right;\n",
       "    }\n",
       "\n",
       "    .dataframe thead th {\n",
       "        text-align: left;\n",
       "    }\n",
       "\n",
       "    .dataframe tbody tr th {\n",
       "        vertical-align: top;\n",
       "    }\n",
       "</style>\n",
       "<table border=\"1\" class=\"dataframe\">\n",
       "  <thead>\n",
       "    <tr style=\"text-align: right;\">\n",
       "      <th></th>\n",
       "      <th>order_id</th>\n",
       "      <th>product_id</th>\n",
       "      <th>user_id</th>\n",
       "      <th>order_number</th>\n",
       "      <th>days_since_prior_order</th>\n",
       "      <th>order_number_max</th>\n",
       "      <th>order_number_max_minus_1</th>\n",
       "      <th>order_number_max_minus_2</th>\n",
       "      <th>in_last_order</th>\n",
       "      <th>in_2nd_last_order</th>\n",
       "      <th>in_3rd_last_order</th>\n",
       "    </tr>\n",
       "  </thead>\n",
       "  <tbody>\n",
       "    <tr>\n",
       "      <th>125</th>\n",
       "      <td>14.0</td>\n",
       "      <td>20392.0</td>\n",
       "      <td>18194</td>\n",
       "      <td>49</td>\n",
       "      <td>3.0</td>\n",
       "      <td>51</td>\n",
       "      <td>50</td>\n",
       "      <td>49</td>\n",
       "      <td>0</td>\n",
       "      <td>0</td>\n",
       "      <td>1</td>\n",
       "    </tr>\n",
       "    <tr>\n",
       "      <th>126</th>\n",
       "      <td>14.0</td>\n",
       "      <td>27845.0</td>\n",
       "      <td>18194</td>\n",
       "      <td>49</td>\n",
       "      <td>3.0</td>\n",
       "      <td>51</td>\n",
       "      <td>50</td>\n",
       "      <td>49</td>\n",
       "      <td>0</td>\n",
       "      <td>0</td>\n",
       "      <td>1</td>\n",
       "    </tr>\n",
       "    <tr>\n",
       "      <th>127</th>\n",
       "      <td>14.0</td>\n",
       "      <td>162.0</td>\n",
       "      <td>18194</td>\n",
       "      <td>49</td>\n",
       "      <td>3.0</td>\n",
       "      <td>51</td>\n",
       "      <td>50</td>\n",
       "      <td>49</td>\n",
       "      <td>0</td>\n",
       "      <td>0</td>\n",
       "      <td>1</td>\n",
       "    </tr>\n",
       "    <tr>\n",
       "      <th>128</th>\n",
       "      <td>14.0</td>\n",
       "      <td>2452.0</td>\n",
       "      <td>18194</td>\n",
       "      <td>49</td>\n",
       "      <td>3.0</td>\n",
       "      <td>51</td>\n",
       "      <td>50</td>\n",
       "      <td>49</td>\n",
       "      <td>0</td>\n",
       "      <td>0</td>\n",
       "      <td>1</td>\n",
       "    </tr>\n",
       "    <tr>\n",
       "      <th>129</th>\n",
       "      <td>14.0</td>\n",
       "      <td>8575.0</td>\n",
       "      <td>18194</td>\n",
       "      <td>49</td>\n",
       "      <td>3.0</td>\n",
       "      <td>51</td>\n",
       "      <td>50</td>\n",
       "      <td>49</td>\n",
       "      <td>0</td>\n",
       "      <td>0</td>\n",
       "      <td>1</td>\n",
       "    </tr>\n",
       "  </tbody>\n",
       "</table>\n",
       "</div>"
      ],
      "text/plain": [
       "     order_id  product_id  user_id  order_number  days_since_prior_order  \\\n",
       "125      14.0     20392.0    18194            49                     3.0   \n",
       "126      14.0     27845.0    18194            49                     3.0   \n",
       "127      14.0       162.0    18194            49                     3.0   \n",
       "128      14.0      2452.0    18194            49                     3.0   \n",
       "129      14.0      8575.0    18194            49                     3.0   \n",
       "\n",
       "     order_number_max  order_number_max_minus_1  order_number_max_minus_2  \\\n",
       "125                51                        50                        49   \n",
       "126                51                        50                        49   \n",
       "127                51                        50                        49   \n",
       "128                51                        50                        49   \n",
       "129                51                        50                        49   \n",
       "\n",
       "     in_last_order  in_2nd_last_order  in_3rd_last_order  \n",
       "125              0                  0                  1  \n",
       "126              0                  0                  1  \n",
       "127              0                  0                  1  \n",
       "128              0                  0                  1  \n",
       "129              0                  0                  1  "
      ]
     },
     "execution_count": 21,
     "metadata": {},
     "output_type": "execute_result"
    }
   ],
   "source": [
    "dfB.loc[dfB['in_3rd_last_order']==1][:5]"
   ]
  },
  {
   "cell_type": "code",
   "execution_count": null,
   "metadata": {
    "collapsed": true
   },
   "outputs": [],
   "source": [
    "# # Save/read in as needed  \n",
    "# dfB.to_csv('master_last_3_orders', index=False)"
   ]
  },
  {
   "cell_type": "code",
   "execution_count": 22,
   "metadata": {
    "collapsed": true
   },
   "outputs": [],
   "source": [
    "dfC=dfB.groupby(['user_id', 'product_id'])['in_last_order'].transform('count')"
   ]
  },
  {
   "cell_type": "code",
   "execution_count": 23,
   "metadata": {
    "collapsed": true
   },
   "outputs": [],
   "source": [
    "dfB['last_order']=dfB.groupby(['user_id', 'product_id'])['in_last_order'].transform('sum')"
   ]
  },
  {
   "cell_type": "code",
   "execution_count": 24,
   "metadata": {},
   "outputs": [
    {
     "data": {
      "text/html": [
       "<div>\n",
       "<style>\n",
       "    .dataframe thead tr:only-child th {\n",
       "        text-align: right;\n",
       "    }\n",
       "\n",
       "    .dataframe thead th {\n",
       "        text-align: left;\n",
       "    }\n",
       "\n",
       "    .dataframe tbody tr th {\n",
       "        vertical-align: top;\n",
       "    }\n",
       "</style>\n",
       "<table border=\"1\" class=\"dataframe\">\n",
       "  <thead>\n",
       "    <tr style=\"text-align: right;\">\n",
       "      <th></th>\n",
       "      <th>order_id</th>\n",
       "      <th>product_id</th>\n",
       "      <th>user_id</th>\n",
       "      <th>order_number</th>\n",
       "      <th>days_since_prior_order</th>\n",
       "      <th>order_number_max</th>\n",
       "      <th>order_number_max_minus_1</th>\n",
       "      <th>order_number_max_minus_2</th>\n",
       "      <th>in_last_order</th>\n",
       "      <th>in_2nd_last_order</th>\n",
       "      <th>in_3rd_last_order</th>\n",
       "      <th>last_order</th>\n",
       "    </tr>\n",
       "  </thead>\n",
       "  <tbody>\n",
       "    <tr>\n",
       "      <th>0</th>\n",
       "      <td>2.0</td>\n",
       "      <td>33120.0</td>\n",
       "      <td>202279</td>\n",
       "      <td>3</td>\n",
       "      <td>8.0</td>\n",
       "      <td>8</td>\n",
       "      <td>7</td>\n",
       "      <td>6</td>\n",
       "      <td>0</td>\n",
       "      <td>0</td>\n",
       "      <td>0</td>\n",
       "      <td>1</td>\n",
       "    </tr>\n",
       "    <tr>\n",
       "      <th>1</th>\n",
       "      <td>2.0</td>\n",
       "      <td>28985.0</td>\n",
       "      <td>202279</td>\n",
       "      <td>3</td>\n",
       "      <td>8.0</td>\n",
       "      <td>8</td>\n",
       "      <td>7</td>\n",
       "      <td>6</td>\n",
       "      <td>0</td>\n",
       "      <td>0</td>\n",
       "      <td>0</td>\n",
       "      <td>0</td>\n",
       "    </tr>\n",
       "    <tr>\n",
       "      <th>2</th>\n",
       "      <td>2.0</td>\n",
       "      <td>9327.0</td>\n",
       "      <td>202279</td>\n",
       "      <td>3</td>\n",
       "      <td>8.0</td>\n",
       "      <td>8</td>\n",
       "      <td>7</td>\n",
       "      <td>6</td>\n",
       "      <td>0</td>\n",
       "      <td>0</td>\n",
       "      <td>0</td>\n",
       "      <td>0</td>\n",
       "    </tr>\n",
       "    <tr>\n",
       "      <th>3</th>\n",
       "      <td>2.0</td>\n",
       "      <td>45918.0</td>\n",
       "      <td>202279</td>\n",
       "      <td>3</td>\n",
       "      <td>8.0</td>\n",
       "      <td>8</td>\n",
       "      <td>7</td>\n",
       "      <td>6</td>\n",
       "      <td>0</td>\n",
       "      <td>0</td>\n",
       "      <td>0</td>\n",
       "      <td>0</td>\n",
       "    </tr>\n",
       "    <tr>\n",
       "      <th>4</th>\n",
       "      <td>2.0</td>\n",
       "      <td>30035.0</td>\n",
       "      <td>202279</td>\n",
       "      <td>3</td>\n",
       "      <td>8.0</td>\n",
       "      <td>8</td>\n",
       "      <td>7</td>\n",
       "      <td>6</td>\n",
       "      <td>0</td>\n",
       "      <td>0</td>\n",
       "      <td>0</td>\n",
       "      <td>0</td>\n",
       "    </tr>\n",
       "  </tbody>\n",
       "</table>\n",
       "</div>"
      ],
      "text/plain": [
       "   order_id  product_id  user_id  order_number  days_since_prior_order  \\\n",
       "0       2.0     33120.0   202279             3                     8.0   \n",
       "1       2.0     28985.0   202279             3                     8.0   \n",
       "2       2.0      9327.0   202279             3                     8.0   \n",
       "3       2.0     45918.0   202279             3                     8.0   \n",
       "4       2.0     30035.0   202279             3                     8.0   \n",
       "\n",
       "   order_number_max  order_number_max_minus_1  order_number_max_minus_2  \\\n",
       "0                 8                         7                         6   \n",
       "1                 8                         7                         6   \n",
       "2                 8                         7                         6   \n",
       "3                 8                         7                         6   \n",
       "4                 8                         7                         6   \n",
       "\n",
       "   in_last_order  in_2nd_last_order  in_3rd_last_order  last_order  \n",
       "0              0                  0                  0           1  \n",
       "1              0                  0                  0           0  \n",
       "2              0                  0                  0           0  \n",
       "3              0                  0                  0           0  \n",
       "4              0                  0                  0           0  "
      ]
     },
     "execution_count": 24,
     "metadata": {},
     "output_type": "execute_result"
    }
   ],
   "source": [
    "dfB.head()"
   ]
  },
  {
   "cell_type": "code",
   "execution_count": 25,
   "metadata": {
    "collapsed": true
   },
   "outputs": [],
   "source": [
    "dfB['2nd_last_order']=dfB.groupby(['user_id', 'product_id'])['in_2nd_last_order'].transform('sum')\n",
    "dfB['3rd_last_order']=dfB.groupby(['user_id', 'product_id'])['in_3rd_last_order'].transform('sum')"
   ]
  },
  {
   "cell_type": "code",
   "execution_count": 26,
   "metadata": {},
   "outputs": [
    {
     "data": {
      "text/html": [
       "<div>\n",
       "<style>\n",
       "    .dataframe thead tr:only-child th {\n",
       "        text-align: right;\n",
       "    }\n",
       "\n",
       "    .dataframe thead th {\n",
       "        text-align: left;\n",
       "    }\n",
       "\n",
       "    .dataframe tbody tr th {\n",
       "        vertical-align: top;\n",
       "    }\n",
       "</style>\n",
       "<table border=\"1\" class=\"dataframe\">\n",
       "  <thead>\n",
       "    <tr style=\"text-align: right;\">\n",
       "      <th></th>\n",
       "      <th>order_id</th>\n",
       "      <th>product_id</th>\n",
       "      <th>user_id</th>\n",
       "      <th>order_number</th>\n",
       "      <th>days_since_prior_order</th>\n",
       "      <th>order_number_max</th>\n",
       "      <th>order_number_max_minus_1</th>\n",
       "      <th>order_number_max_minus_2</th>\n",
       "      <th>in_last_order</th>\n",
       "      <th>in_2nd_last_order</th>\n",
       "      <th>in_3rd_last_order</th>\n",
       "      <th>last_order</th>\n",
       "      <th>2nd_last_order</th>\n",
       "      <th>3rd_last_order</th>\n",
       "    </tr>\n",
       "  </thead>\n",
       "  <tbody>\n",
       "    <tr>\n",
       "      <th>0</th>\n",
       "      <td>2.0</td>\n",
       "      <td>33120.0</td>\n",
       "      <td>202279</td>\n",
       "      <td>3</td>\n",
       "      <td>8.0</td>\n",
       "      <td>8</td>\n",
       "      <td>7</td>\n",
       "      <td>6</td>\n",
       "      <td>0</td>\n",
       "      <td>0</td>\n",
       "      <td>0</td>\n",
       "      <td>1</td>\n",
       "      <td>0</td>\n",
       "      <td>1</td>\n",
       "    </tr>\n",
       "    <tr>\n",
       "      <th>1</th>\n",
       "      <td>2.0</td>\n",
       "      <td>28985.0</td>\n",
       "      <td>202279</td>\n",
       "      <td>3</td>\n",
       "      <td>8.0</td>\n",
       "      <td>8</td>\n",
       "      <td>7</td>\n",
       "      <td>6</td>\n",
       "      <td>0</td>\n",
       "      <td>0</td>\n",
       "      <td>0</td>\n",
       "      <td>0</td>\n",
       "      <td>0</td>\n",
       "      <td>1</td>\n",
       "    </tr>\n",
       "    <tr>\n",
       "      <th>2</th>\n",
       "      <td>2.0</td>\n",
       "      <td>9327.0</td>\n",
       "      <td>202279</td>\n",
       "      <td>3</td>\n",
       "      <td>8.0</td>\n",
       "      <td>8</td>\n",
       "      <td>7</td>\n",
       "      <td>6</td>\n",
       "      <td>0</td>\n",
       "      <td>0</td>\n",
       "      <td>0</td>\n",
       "      <td>0</td>\n",
       "      <td>0</td>\n",
       "      <td>0</td>\n",
       "    </tr>\n",
       "    <tr>\n",
       "      <th>3</th>\n",
       "      <td>2.0</td>\n",
       "      <td>45918.0</td>\n",
       "      <td>202279</td>\n",
       "      <td>3</td>\n",
       "      <td>8.0</td>\n",
       "      <td>8</td>\n",
       "      <td>7</td>\n",
       "      <td>6</td>\n",
       "      <td>0</td>\n",
       "      <td>0</td>\n",
       "      <td>0</td>\n",
       "      <td>0</td>\n",
       "      <td>1</td>\n",
       "      <td>1</td>\n",
       "    </tr>\n",
       "    <tr>\n",
       "      <th>4</th>\n",
       "      <td>2.0</td>\n",
       "      <td>30035.0</td>\n",
       "      <td>202279</td>\n",
       "      <td>3</td>\n",
       "      <td>8.0</td>\n",
       "      <td>8</td>\n",
       "      <td>7</td>\n",
       "      <td>6</td>\n",
       "      <td>0</td>\n",
       "      <td>0</td>\n",
       "      <td>0</td>\n",
       "      <td>0</td>\n",
       "      <td>1</td>\n",
       "      <td>0</td>\n",
       "    </tr>\n",
       "    <tr>\n",
       "      <th>5</th>\n",
       "      <td>2.0</td>\n",
       "      <td>17794.0</td>\n",
       "      <td>202279</td>\n",
       "      <td>3</td>\n",
       "      <td>8.0</td>\n",
       "      <td>8</td>\n",
       "      <td>7</td>\n",
       "      <td>6</td>\n",
       "      <td>0</td>\n",
       "      <td>0</td>\n",
       "      <td>0</td>\n",
       "      <td>0</td>\n",
       "      <td>1</td>\n",
       "      <td>1</td>\n",
       "    </tr>\n",
       "    <tr>\n",
       "      <th>6</th>\n",
       "      <td>2.0</td>\n",
       "      <td>40141.0</td>\n",
       "      <td>202279</td>\n",
       "      <td>3</td>\n",
       "      <td>8.0</td>\n",
       "      <td>8</td>\n",
       "      <td>7</td>\n",
       "      <td>6</td>\n",
       "      <td>0</td>\n",
       "      <td>0</td>\n",
       "      <td>0</td>\n",
       "      <td>0</td>\n",
       "      <td>0</td>\n",
       "      <td>1</td>\n",
       "    </tr>\n",
       "    <tr>\n",
       "      <th>7</th>\n",
       "      <td>2.0</td>\n",
       "      <td>1819.0</td>\n",
       "      <td>202279</td>\n",
       "      <td>3</td>\n",
       "      <td>8.0</td>\n",
       "      <td>8</td>\n",
       "      <td>7</td>\n",
       "      <td>6</td>\n",
       "      <td>0</td>\n",
       "      <td>0</td>\n",
       "      <td>0</td>\n",
       "      <td>0</td>\n",
       "      <td>0</td>\n",
       "      <td>0</td>\n",
       "    </tr>\n",
       "    <tr>\n",
       "      <th>8</th>\n",
       "      <td>2.0</td>\n",
       "      <td>43668.0</td>\n",
       "      <td>202279</td>\n",
       "      <td>3</td>\n",
       "      <td>8.0</td>\n",
       "      <td>8</td>\n",
       "      <td>7</td>\n",
       "      <td>6</td>\n",
       "      <td>0</td>\n",
       "      <td>0</td>\n",
       "      <td>0</td>\n",
       "      <td>0</td>\n",
       "      <td>0</td>\n",
       "      <td>1</td>\n",
       "    </tr>\n",
       "    <tr>\n",
       "      <th>9</th>\n",
       "      <td>3.0</td>\n",
       "      <td>33754.0</td>\n",
       "      <td>205970</td>\n",
       "      <td>16</td>\n",
       "      <td>12.0</td>\n",
       "      <td>25</td>\n",
       "      <td>24</td>\n",
       "      <td>23</td>\n",
       "      <td>0</td>\n",
       "      <td>0</td>\n",
       "      <td>0</td>\n",
       "      <td>1</td>\n",
       "      <td>1</td>\n",
       "      <td>1</td>\n",
       "    </tr>\n",
       "    <tr>\n",
       "      <th>10</th>\n",
       "      <td>3.0</td>\n",
       "      <td>24838.0</td>\n",
       "      <td>205970</td>\n",
       "      <td>16</td>\n",
       "      <td>12.0</td>\n",
       "      <td>25</td>\n",
       "      <td>24</td>\n",
       "      <td>23</td>\n",
       "      <td>0</td>\n",
       "      <td>0</td>\n",
       "      <td>0</td>\n",
       "      <td>1</td>\n",
       "      <td>1</td>\n",
       "      <td>0</td>\n",
       "    </tr>\n",
       "    <tr>\n",
       "      <th>11</th>\n",
       "      <td>3.0</td>\n",
       "      <td>17704.0</td>\n",
       "      <td>205970</td>\n",
       "      <td>16</td>\n",
       "      <td>12.0</td>\n",
       "      <td>25</td>\n",
       "      <td>24</td>\n",
       "      <td>23</td>\n",
       "      <td>0</td>\n",
       "      <td>0</td>\n",
       "      <td>0</td>\n",
       "      <td>1</td>\n",
       "      <td>1</td>\n",
       "      <td>1</td>\n",
       "    </tr>\n",
       "    <tr>\n",
       "      <th>12</th>\n",
       "      <td>3.0</td>\n",
       "      <td>21903.0</td>\n",
       "      <td>205970</td>\n",
       "      <td>16</td>\n",
       "      <td>12.0</td>\n",
       "      <td>25</td>\n",
       "      <td>24</td>\n",
       "      <td>23</td>\n",
       "      <td>0</td>\n",
       "      <td>0</td>\n",
       "      <td>0</td>\n",
       "      <td>1</td>\n",
       "      <td>0</td>\n",
       "      <td>1</td>\n",
       "    </tr>\n",
       "    <tr>\n",
       "      <th>13</th>\n",
       "      <td>3.0</td>\n",
       "      <td>17668.0</td>\n",
       "      <td>205970</td>\n",
       "      <td>16</td>\n",
       "      <td>12.0</td>\n",
       "      <td>25</td>\n",
       "      <td>24</td>\n",
       "      <td>23</td>\n",
       "      <td>0</td>\n",
       "      <td>0</td>\n",
       "      <td>0</td>\n",
       "      <td>0</td>\n",
       "      <td>0</td>\n",
       "      <td>0</td>\n",
       "    </tr>\n",
       "    <tr>\n",
       "      <th>14</th>\n",
       "      <td>3.0</td>\n",
       "      <td>46667.0</td>\n",
       "      <td>205970</td>\n",
       "      <td>16</td>\n",
       "      <td>12.0</td>\n",
       "      <td>25</td>\n",
       "      <td>24</td>\n",
       "      <td>23</td>\n",
       "      <td>0</td>\n",
       "      <td>0</td>\n",
       "      <td>0</td>\n",
       "      <td>1</td>\n",
       "      <td>1</td>\n",
       "      <td>0</td>\n",
       "    </tr>\n",
       "    <tr>\n",
       "      <th>15</th>\n",
       "      <td>3.0</td>\n",
       "      <td>17461.0</td>\n",
       "      <td>205970</td>\n",
       "      <td>16</td>\n",
       "      <td>12.0</td>\n",
       "      <td>25</td>\n",
       "      <td>24</td>\n",
       "      <td>23</td>\n",
       "      <td>0</td>\n",
       "      <td>0</td>\n",
       "      <td>0</td>\n",
       "      <td>0</td>\n",
       "      <td>1</td>\n",
       "      <td>0</td>\n",
       "    </tr>\n",
       "    <tr>\n",
       "      <th>16</th>\n",
       "      <td>3.0</td>\n",
       "      <td>32665.0</td>\n",
       "      <td>205970</td>\n",
       "      <td>16</td>\n",
       "      <td>12.0</td>\n",
       "      <td>25</td>\n",
       "      <td>24</td>\n",
       "      <td>23</td>\n",
       "      <td>0</td>\n",
       "      <td>0</td>\n",
       "      <td>0</td>\n",
       "      <td>0</td>\n",
       "      <td>1</td>\n",
       "      <td>0</td>\n",
       "    </tr>\n",
       "    <tr>\n",
       "      <th>17</th>\n",
       "      <td>4.0</td>\n",
       "      <td>46842.0</td>\n",
       "      <td>178520</td>\n",
       "      <td>36</td>\n",
       "      <td>7.0</td>\n",
       "      <td>56</td>\n",
       "      <td>55</td>\n",
       "      <td>54</td>\n",
       "      <td>0</td>\n",
       "      <td>0</td>\n",
       "      <td>0</td>\n",
       "      <td>0</td>\n",
       "      <td>1</td>\n",
       "      <td>1</td>\n",
       "    </tr>\n",
       "    <tr>\n",
       "      <th>18</th>\n",
       "      <td>4.0</td>\n",
       "      <td>26434.0</td>\n",
       "      <td>178520</td>\n",
       "      <td>36</td>\n",
       "      <td>7.0</td>\n",
       "      <td>56</td>\n",
       "      <td>55</td>\n",
       "      <td>54</td>\n",
       "      <td>0</td>\n",
       "      <td>0</td>\n",
       "      <td>0</td>\n",
       "      <td>0</td>\n",
       "      <td>0</td>\n",
       "      <td>0</td>\n",
       "    </tr>\n",
       "    <tr>\n",
       "      <th>19</th>\n",
       "      <td>4.0</td>\n",
       "      <td>39758.0</td>\n",
       "      <td>178520</td>\n",
       "      <td>36</td>\n",
       "      <td>7.0</td>\n",
       "      <td>56</td>\n",
       "      <td>55</td>\n",
       "      <td>54</td>\n",
       "      <td>0</td>\n",
       "      <td>0</td>\n",
       "      <td>0</td>\n",
       "      <td>1</td>\n",
       "      <td>1</td>\n",
       "      <td>0</td>\n",
       "    </tr>\n",
       "    <tr>\n",
       "      <th>20</th>\n",
       "      <td>4.0</td>\n",
       "      <td>27761.0</td>\n",
       "      <td>178520</td>\n",
       "      <td>36</td>\n",
       "      <td>7.0</td>\n",
       "      <td>56</td>\n",
       "      <td>55</td>\n",
       "      <td>54</td>\n",
       "      <td>0</td>\n",
       "      <td>0</td>\n",
       "      <td>0</td>\n",
       "      <td>1</td>\n",
       "      <td>1</td>\n",
       "      <td>1</td>\n",
       "    </tr>\n",
       "    <tr>\n",
       "      <th>21</th>\n",
       "      <td>4.0</td>\n",
       "      <td>10054.0</td>\n",
       "      <td>178520</td>\n",
       "      <td>36</td>\n",
       "      <td>7.0</td>\n",
       "      <td>56</td>\n",
       "      <td>55</td>\n",
       "      <td>54</td>\n",
       "      <td>0</td>\n",
       "      <td>0</td>\n",
       "      <td>0</td>\n",
       "      <td>1</td>\n",
       "      <td>1</td>\n",
       "      <td>1</td>\n",
       "    </tr>\n",
       "    <tr>\n",
       "      <th>22</th>\n",
       "      <td>4.0</td>\n",
       "      <td>21351.0</td>\n",
       "      <td>178520</td>\n",
       "      <td>36</td>\n",
       "      <td>7.0</td>\n",
       "      <td>56</td>\n",
       "      <td>55</td>\n",
       "      <td>54</td>\n",
       "      <td>0</td>\n",
       "      <td>0</td>\n",
       "      <td>0</td>\n",
       "      <td>0</td>\n",
       "      <td>1</td>\n",
       "      <td>0</td>\n",
       "    </tr>\n",
       "    <tr>\n",
       "      <th>23</th>\n",
       "      <td>4.0</td>\n",
       "      <td>22598.0</td>\n",
       "      <td>178520</td>\n",
       "      <td>36</td>\n",
       "      <td>7.0</td>\n",
       "      <td>56</td>\n",
       "      <td>55</td>\n",
       "      <td>54</td>\n",
       "      <td>0</td>\n",
       "      <td>0</td>\n",
       "      <td>0</td>\n",
       "      <td>0</td>\n",
       "      <td>1</td>\n",
       "      <td>0</td>\n",
       "    </tr>\n",
       "    <tr>\n",
       "      <th>24</th>\n",
       "      <td>4.0</td>\n",
       "      <td>34862.0</td>\n",
       "      <td>178520</td>\n",
       "      <td>36</td>\n",
       "      <td>7.0</td>\n",
       "      <td>56</td>\n",
       "      <td>55</td>\n",
       "      <td>54</td>\n",
       "      <td>0</td>\n",
       "      <td>0</td>\n",
       "      <td>0</td>\n",
       "      <td>0</td>\n",
       "      <td>0</td>\n",
       "      <td>1</td>\n",
       "    </tr>\n",
       "  </tbody>\n",
       "</table>\n",
       "</div>"
      ],
      "text/plain": [
       "    order_id  product_id  user_id  order_number  days_since_prior_order  \\\n",
       "0        2.0     33120.0   202279             3                     8.0   \n",
       "1        2.0     28985.0   202279             3                     8.0   \n",
       "2        2.0      9327.0   202279             3                     8.0   \n",
       "3        2.0     45918.0   202279             3                     8.0   \n",
       "4        2.0     30035.0   202279             3                     8.0   \n",
       "5        2.0     17794.0   202279             3                     8.0   \n",
       "6        2.0     40141.0   202279             3                     8.0   \n",
       "7        2.0      1819.0   202279             3                     8.0   \n",
       "8        2.0     43668.0   202279             3                     8.0   \n",
       "9        3.0     33754.0   205970            16                    12.0   \n",
       "10       3.0     24838.0   205970            16                    12.0   \n",
       "11       3.0     17704.0   205970            16                    12.0   \n",
       "12       3.0     21903.0   205970            16                    12.0   \n",
       "13       3.0     17668.0   205970            16                    12.0   \n",
       "14       3.0     46667.0   205970            16                    12.0   \n",
       "15       3.0     17461.0   205970            16                    12.0   \n",
       "16       3.0     32665.0   205970            16                    12.0   \n",
       "17       4.0     46842.0   178520            36                     7.0   \n",
       "18       4.0     26434.0   178520            36                     7.0   \n",
       "19       4.0     39758.0   178520            36                     7.0   \n",
       "20       4.0     27761.0   178520            36                     7.0   \n",
       "21       4.0     10054.0   178520            36                     7.0   \n",
       "22       4.0     21351.0   178520            36                     7.0   \n",
       "23       4.0     22598.0   178520            36                     7.0   \n",
       "24       4.0     34862.0   178520            36                     7.0   \n",
       "\n",
       "    order_number_max  order_number_max_minus_1  order_number_max_minus_2  \\\n",
       "0                  8                         7                         6   \n",
       "1                  8                         7                         6   \n",
       "2                  8                         7                         6   \n",
       "3                  8                         7                         6   \n",
       "4                  8                         7                         6   \n",
       "5                  8                         7                         6   \n",
       "6                  8                         7                         6   \n",
       "7                  8                         7                         6   \n",
       "8                  8                         7                         6   \n",
       "9                 25                        24                        23   \n",
       "10                25                        24                        23   \n",
       "11                25                        24                        23   \n",
       "12                25                        24                        23   \n",
       "13                25                        24                        23   \n",
       "14                25                        24                        23   \n",
       "15                25                        24                        23   \n",
       "16                25                        24                        23   \n",
       "17                56                        55                        54   \n",
       "18                56                        55                        54   \n",
       "19                56                        55                        54   \n",
       "20                56                        55                        54   \n",
       "21                56                        55                        54   \n",
       "22                56                        55                        54   \n",
       "23                56                        55                        54   \n",
       "24                56                        55                        54   \n",
       "\n",
       "    in_last_order  in_2nd_last_order  in_3rd_last_order  last_order  \\\n",
       "0               0                  0                  0           1   \n",
       "1               0                  0                  0           0   \n",
       "2               0                  0                  0           0   \n",
       "3               0                  0                  0           0   \n",
       "4               0                  0                  0           0   \n",
       "5               0                  0                  0           0   \n",
       "6               0                  0                  0           0   \n",
       "7               0                  0                  0           0   \n",
       "8               0                  0                  0           0   \n",
       "9               0                  0                  0           1   \n",
       "10              0                  0                  0           1   \n",
       "11              0                  0                  0           1   \n",
       "12              0                  0                  0           1   \n",
       "13              0                  0                  0           0   \n",
       "14              0                  0                  0           1   \n",
       "15              0                  0                  0           0   \n",
       "16              0                  0                  0           0   \n",
       "17              0                  0                  0           0   \n",
       "18              0                  0                  0           0   \n",
       "19              0                  0                  0           1   \n",
       "20              0                  0                  0           1   \n",
       "21              0                  0                  0           1   \n",
       "22              0                  0                  0           0   \n",
       "23              0                  0                  0           0   \n",
       "24              0                  0                  0           0   \n",
       "\n",
       "    2nd_last_order  3rd_last_order  \n",
       "0                0               1  \n",
       "1                0               1  \n",
       "2                0               0  \n",
       "3                1               1  \n",
       "4                1               0  \n",
       "5                1               1  \n",
       "6                0               1  \n",
       "7                0               0  \n",
       "8                0               1  \n",
       "9                1               1  \n",
       "10               1               0  \n",
       "11               1               1  \n",
       "12               0               1  \n",
       "13               0               0  \n",
       "14               1               0  \n",
       "15               1               0  \n",
       "16               1               0  \n",
       "17               1               1  \n",
       "18               0               0  \n",
       "19               1               0  \n",
       "20               1               1  \n",
       "21               1               1  \n",
       "22               1               0  \n",
       "23               1               0  \n",
       "24               0               1  "
      ]
     },
     "execution_count": 26,
     "metadata": {},
     "output_type": "execute_result"
    }
   ],
   "source": [
    "dfB.head(25)"
   ]
  },
  {
   "cell_type": "code",
   "execution_count": 27,
   "metadata": {},
   "outputs": [
    {
     "data": {
      "text/plain": [
       "(32434489, 14)"
      ]
     },
     "execution_count": 27,
     "metadata": {},
     "output_type": "execute_result"
    }
   ],
   "source": [
    "dfB.shape"
   ]
  },
  {
   "cell_type": "code",
   "execution_count": 28,
   "metadata": {},
   "outputs": [
    {
     "data": {
      "text/plain": [
       "array(['order_id', 'product_id', 'user_id', 'order_number',\n",
       "       'days_since_prior_order', 'order_number_max',\n",
       "       'order_number_max_minus_1', 'order_number_max_minus_2',\n",
       "       'in_last_order', 'in_2nd_last_order', 'in_3rd_last_order',\n",
       "       'last_order', '2nd_last_order', '3rd_last_order'], dtype=object)"
      ]
     },
     "execution_count": 28,
     "metadata": {},
     "output_type": "execute_result"
    }
   ],
   "source": [
    "dfB.columns.values"
   ]
  },
  {
   "cell_type": "code",
   "execution_count": null,
   "metadata": {
    "collapsed": true
   },
   "outputs": [],
   "source": [
    "# Build dataset of last2 and last3 ordered(we already have all ordered and last ordered); then we need a features set\n",
    "# of last1, last 2 and last3 ordered by each product/user pair "
   ]
  },
  {
   "cell_type": "code",
   "execution_count": 29,
   "metadata": {
    "collapsed": true
   },
   "outputs": [],
   "source": [
    "dfLast2=dfB[(dfB['last_order']==1) | (dfB['2nd_last_order']==1)]"
   ]
  },
  {
   "cell_type": "code",
   "execution_count": 30,
   "metadata": {},
   "outputs": [
    {
     "data": {
      "text/plain": [
       "(12840758, 14)"
      ]
     },
     "execution_count": 30,
     "metadata": {},
     "output_type": "execute_result"
    }
   ],
   "source": [
    "dfLast2.shape"
   ]
  },
  {
   "cell_type": "code",
   "execution_count": 31,
   "metadata": {
    "collapsed": true
   },
   "outputs": [],
   "source": [
    "dfLast3=dfB[(dfB['last_order']==1) | (dfB['2nd_last_order']==1)  | (dfB['3rd_last_order']==1) ]"
   ]
  },
  {
   "cell_type": "code",
   "execution_count": 32,
   "metadata": {},
   "outputs": [
    {
     "data": {
      "text/plain": [
       "(15869574, 14)"
      ]
     },
     "execution_count": 32,
     "metadata": {},
     "output_type": "execute_result"
    }
   ],
   "source": [
    "dfLast3.shape"
   ]
  },
  {
   "cell_type": "code",
   "execution_count": 33,
   "metadata": {
    "collapsed": true
   },
   "outputs": [],
   "source": [
    "dfLast2rev=dfLast2[['product_id', 'user_id', 'last_order', '2nd_last_order', '3rd_last_order']]"
   ]
  },
  {
   "cell_type": "code",
   "execution_count": 34,
   "metadata": {},
   "outputs": [
    {
     "data": {
      "text/plain": [
       "(12840758, 5)"
      ]
     },
     "execution_count": 34,
     "metadata": {},
     "output_type": "execute_result"
    }
   ],
   "source": [
    "dfLast2rev.shape"
   ]
  },
  {
   "cell_type": "code",
   "execution_count": null,
   "metadata": {
    "collapsed": true
   },
   "outputs": [],
   "source": [
    "dfLast2rev.reset_index()[:5]"
   ]
  },
  {
   "cell_type": "code",
   "execution_count": 36,
   "metadata": {},
   "outputs": [
    {
     "data": {
      "text/plain": [
       "array(['product_id', 'user_id', 'last_order', '2nd_last_order',\n",
       "       '3rd_last_order'], dtype=object)"
      ]
     },
     "execution_count": 36,
     "metadata": {},
     "output_type": "execute_result"
    }
   ],
   "source": [
    "dfLast2rev.columns.values"
   ]
  },
  {
   "cell_type": "code",
   "execution_count": null,
   "metadata": {
    "collapsed": true
   },
   "outputs": [],
   "source": [
    "dfLast2rev.drop_duplicates(inplace=True)"
   ]
  },
  {
   "cell_type": "code",
   "execution_count": 38,
   "metadata": {},
   "outputs": [
    {
     "data": {
      "text/plain": [
       "(3661801, 5)"
      ]
     },
     "execution_count": 38,
     "metadata": {},
     "output_type": "execute_result"
    }
   ],
   "source": [
    "dfLast2rev.shape"
   ]
  },
  {
   "cell_type": "code",
   "execution_count": 39,
   "metadata": {},
   "outputs": [
    {
     "data": {
      "text/html": [
       "<div>\n",
       "<style>\n",
       "    .dataframe thead tr:only-child th {\n",
       "        text-align: right;\n",
       "    }\n",
       "\n",
       "    .dataframe thead th {\n",
       "        text-align: left;\n",
       "    }\n",
       "\n",
       "    .dataframe tbody tr th {\n",
       "        vertical-align: top;\n",
       "    }\n",
       "</style>\n",
       "<table border=\"1\" class=\"dataframe\">\n",
       "  <thead>\n",
       "    <tr style=\"text-align: right;\">\n",
       "      <th></th>\n",
       "      <th>product_id</th>\n",
       "      <th>user_id</th>\n",
       "      <th>last_order</th>\n",
       "      <th>2nd_last_order</th>\n",
       "      <th>3rd_last_order</th>\n",
       "    </tr>\n",
       "  </thead>\n",
       "  <tbody>\n",
       "    <tr>\n",
       "      <th>0</th>\n",
       "      <td>33120.0</td>\n",
       "      <td>202279</td>\n",
       "      <td>1</td>\n",
       "      <td>0</td>\n",
       "      <td>1</td>\n",
       "    </tr>\n",
       "    <tr>\n",
       "      <th>3</th>\n",
       "      <td>45918.0</td>\n",
       "      <td>202279</td>\n",
       "      <td>0</td>\n",
       "      <td>1</td>\n",
       "      <td>1</td>\n",
       "    </tr>\n",
       "    <tr>\n",
       "      <th>4</th>\n",
       "      <td>30035.0</td>\n",
       "      <td>202279</td>\n",
       "      <td>0</td>\n",
       "      <td>1</td>\n",
       "      <td>0</td>\n",
       "    </tr>\n",
       "    <tr>\n",
       "      <th>5</th>\n",
       "      <td>17794.0</td>\n",
       "      <td>202279</td>\n",
       "      <td>0</td>\n",
       "      <td>1</td>\n",
       "      <td>1</td>\n",
       "    </tr>\n",
       "    <tr>\n",
       "      <th>9</th>\n",
       "      <td>33754.0</td>\n",
       "      <td>205970</td>\n",
       "      <td>1</td>\n",
       "      <td>1</td>\n",
       "      <td>1</td>\n",
       "    </tr>\n",
       "  </tbody>\n",
       "</table>\n",
       "</div>"
      ],
      "text/plain": [
       "   product_id  user_id  last_order  2nd_last_order  3rd_last_order\n",
       "0     33120.0   202279           1               0               1\n",
       "3     45918.0   202279           0               1               1\n",
       "4     30035.0   202279           0               1               0\n",
       "5     17794.0   202279           0               1               1\n",
       "9     33754.0   205970           1               1               1"
      ]
     },
     "execution_count": 39,
     "metadata": {},
     "output_type": "execute_result"
    }
   ],
   "source": [
    "dfLast2rev.head()"
   ]
  },
  {
   "cell_type": "code",
   "execution_count": null,
   "metadata": {
    "collapsed": true
   },
   "outputs": [],
   "source": [
    "# # Save/read in as needed\n",
    "# dfLast2rev.to_csv('master_products_by_user_last2_orders', index=False)"
   ]
  },
  {
   "cell_type": "code",
   "execution_count": 40,
   "metadata": {
    "collapsed": true
   },
   "outputs": [],
   "source": [
    "dfLast3rev=dfLast3[['product_id', 'user_id', 'last_order', '2nd_last_order', '3rd_last_order']].reset_index()"
   ]
  },
  {
   "cell_type": "code",
   "execution_count": 41,
   "metadata": {},
   "outputs": [
    {
     "data": {
      "text/plain": [
       "(15869574, 6)"
      ]
     },
     "execution_count": 41,
     "metadata": {},
     "output_type": "execute_result"
    }
   ],
   "source": [
    "dfLast3rev.shape"
   ]
  },
  {
   "cell_type": "code",
   "execution_count": 42,
   "metadata": {},
   "outputs": [
    {
     "data": {
      "text/plain": [
       "array(['index', 'product_id', 'user_id', 'last_order', '2nd_last_order',\n",
       "       '3rd_last_order'], dtype=object)"
      ]
     },
     "execution_count": 42,
     "metadata": {},
     "output_type": "execute_result"
    }
   ],
   "source": [
    "dfLast3rev.columns.values"
   ]
  },
  {
   "cell_type": "code",
   "execution_count": 43,
   "metadata": {
    "collapsed": true
   },
   "outputs": [],
   "source": [
    "dfLast3rev=dfLast3rev.drop('index',1)"
   ]
  },
  {
   "cell_type": "code",
   "execution_count": 44,
   "metadata": {},
   "outputs": [
    {
     "data": {
      "text/html": [
       "<div>\n",
       "<style>\n",
       "    .dataframe thead tr:only-child th {\n",
       "        text-align: right;\n",
       "    }\n",
       "\n",
       "    .dataframe thead th {\n",
       "        text-align: left;\n",
       "    }\n",
       "\n",
       "    .dataframe tbody tr th {\n",
       "        vertical-align: top;\n",
       "    }\n",
       "</style>\n",
       "<table border=\"1\" class=\"dataframe\">\n",
       "  <thead>\n",
       "    <tr style=\"text-align: right;\">\n",
       "      <th></th>\n",
       "      <th>product_id</th>\n",
       "      <th>user_id</th>\n",
       "      <th>last_order</th>\n",
       "      <th>2nd_last_order</th>\n",
       "      <th>3rd_last_order</th>\n",
       "    </tr>\n",
       "  </thead>\n",
       "  <tbody>\n",
       "    <tr>\n",
       "      <th>0</th>\n",
       "      <td>33120.0</td>\n",
       "      <td>202279</td>\n",
       "      <td>1</td>\n",
       "      <td>0</td>\n",
       "      <td>1</td>\n",
       "    </tr>\n",
       "    <tr>\n",
       "      <th>1</th>\n",
       "      <td>28985.0</td>\n",
       "      <td>202279</td>\n",
       "      <td>0</td>\n",
       "      <td>0</td>\n",
       "      <td>1</td>\n",
       "    </tr>\n",
       "    <tr>\n",
       "      <th>2</th>\n",
       "      <td>45918.0</td>\n",
       "      <td>202279</td>\n",
       "      <td>0</td>\n",
       "      <td>1</td>\n",
       "      <td>1</td>\n",
       "    </tr>\n",
       "    <tr>\n",
       "      <th>3</th>\n",
       "      <td>30035.0</td>\n",
       "      <td>202279</td>\n",
       "      <td>0</td>\n",
       "      <td>1</td>\n",
       "      <td>0</td>\n",
       "    </tr>\n",
       "    <tr>\n",
       "      <th>4</th>\n",
       "      <td>17794.0</td>\n",
       "      <td>202279</td>\n",
       "      <td>0</td>\n",
       "      <td>1</td>\n",
       "      <td>1</td>\n",
       "    </tr>\n",
       "  </tbody>\n",
       "</table>\n",
       "</div>"
      ],
      "text/plain": [
       "   product_id  user_id  last_order  2nd_last_order  3rd_last_order\n",
       "0     33120.0   202279           1               0               1\n",
       "1     28985.0   202279           0               0               1\n",
       "2     45918.0   202279           0               1               1\n",
       "3     30035.0   202279           0               1               0\n",
       "4     17794.0   202279           0               1               1"
      ]
     },
     "execution_count": 44,
     "metadata": {},
     "output_type": "execute_result"
    }
   ],
   "source": [
    "dfLast3rev.head()"
   ]
  },
  {
   "cell_type": "code",
   "execution_count": 45,
   "metadata": {
    "collapsed": true
   },
   "outputs": [],
   "source": [
    "dfLast3rev.drop_duplicates(inplace=True)"
   ]
  },
  {
   "cell_type": "code",
   "execution_count": 46,
   "metadata": {},
   "outputs": [
    {
     "data": {
      "text/plain": [
       "(4925215, 5)"
      ]
     },
     "execution_count": 46,
     "metadata": {},
     "output_type": "execute_result"
    }
   ],
   "source": [
    "dfLast3rev.shape"
   ]
  },
  {
   "cell_type": "code",
   "execution_count": 47,
   "metadata": {},
   "outputs": [
    {
     "data": {
      "text/html": [
       "<div>\n",
       "<style>\n",
       "    .dataframe thead tr:only-child th {\n",
       "        text-align: right;\n",
       "    }\n",
       "\n",
       "    .dataframe thead th {\n",
       "        text-align: left;\n",
       "    }\n",
       "\n",
       "    .dataframe tbody tr th {\n",
       "        vertical-align: top;\n",
       "    }\n",
       "</style>\n",
       "<table border=\"1\" class=\"dataframe\">\n",
       "  <thead>\n",
       "    <tr style=\"text-align: right;\">\n",
       "      <th></th>\n",
       "      <th>product_id</th>\n",
       "      <th>user_id</th>\n",
       "      <th>last_order</th>\n",
       "      <th>2nd_last_order</th>\n",
       "      <th>3rd_last_order</th>\n",
       "    </tr>\n",
       "  </thead>\n",
       "  <tbody>\n",
       "    <tr>\n",
       "      <th>0</th>\n",
       "      <td>33120.0</td>\n",
       "      <td>202279</td>\n",
       "      <td>1</td>\n",
       "      <td>0</td>\n",
       "      <td>1</td>\n",
       "    </tr>\n",
       "    <tr>\n",
       "      <th>1</th>\n",
       "      <td>28985.0</td>\n",
       "      <td>202279</td>\n",
       "      <td>0</td>\n",
       "      <td>0</td>\n",
       "      <td>1</td>\n",
       "    </tr>\n",
       "    <tr>\n",
       "      <th>2</th>\n",
       "      <td>45918.0</td>\n",
       "      <td>202279</td>\n",
       "      <td>0</td>\n",
       "      <td>1</td>\n",
       "      <td>1</td>\n",
       "    </tr>\n",
       "    <tr>\n",
       "      <th>3</th>\n",
       "      <td>30035.0</td>\n",
       "      <td>202279</td>\n",
       "      <td>0</td>\n",
       "      <td>1</td>\n",
       "      <td>0</td>\n",
       "    </tr>\n",
       "    <tr>\n",
       "      <th>4</th>\n",
       "      <td>17794.0</td>\n",
       "      <td>202279</td>\n",
       "      <td>0</td>\n",
       "      <td>1</td>\n",
       "      <td>1</td>\n",
       "    </tr>\n",
       "  </tbody>\n",
       "</table>\n",
       "</div>"
      ],
      "text/plain": [
       "   product_id  user_id  last_order  2nd_last_order  3rd_last_order\n",
       "0     33120.0   202279           1               0               1\n",
       "1     28985.0   202279           0               0               1\n",
       "2     45918.0   202279           0               1               1\n",
       "3     30035.0   202279           0               1               0\n",
       "4     17794.0   202279           0               1               1"
      ]
     },
     "execution_count": 47,
     "metadata": {},
     "output_type": "execute_result"
    }
   ],
   "source": [
    "dfLast3rev.head()"
   ]
  },
  {
   "cell_type": "code",
   "execution_count": null,
   "metadata": {
    "collapsed": true
   },
   "outputs": [],
   "source": [
    "# Save/read in as needed \n",
    "# dfLast3rev.to_csv('master_products_by_user_last3_orders', index=False)"
   ]
  },
  {
   "cell_type": "code",
   "execution_count": 48,
   "metadata": {},
   "outputs": [
    {
     "data": {
      "text/plain": [
       "(32434489, 14)"
      ]
     },
     "execution_count": 48,
     "metadata": {},
     "output_type": "execute_result"
    }
   ],
   "source": [
    "dfB.shape"
   ]
  },
  {
   "cell_type": "code",
   "execution_count": 49,
   "metadata": {
    "collapsed": true
   },
   "outputs": [],
   "source": [
    "dfB=dfB[['product_id', 'user_id', 'last_order', '2nd_last_order', '3rd_last_order']].reset_index()"
   ]
  },
  {
   "cell_type": "code",
   "execution_count": 50,
   "metadata": {},
   "outputs": [
    {
     "data": {
      "text/plain": [
       "array(['index', 'product_id', 'user_id', 'last_order', '2nd_last_order',\n",
       "       '3rd_last_order'], dtype=object)"
      ]
     },
     "execution_count": 50,
     "metadata": {},
     "output_type": "execute_result"
    }
   ],
   "source": [
    "dfB.columns.values"
   ]
  },
  {
   "cell_type": "code",
   "execution_count": 51,
   "metadata": {
    "collapsed": true
   },
   "outputs": [],
   "source": [
    "dfB=dfB.drop('index',1)"
   ]
  },
  {
   "cell_type": "code",
   "execution_count": 52,
   "metadata": {
    "collapsed": true
   },
   "outputs": [],
   "source": [
    "dfB.drop_duplicates(inplace=True)"
   ]
  },
  {
   "cell_type": "code",
   "execution_count": 53,
   "metadata": {},
   "outputs": [
    {
     "data": {
      "text/plain": [
       "(13307953, 5)"
      ]
     },
     "execution_count": 53,
     "metadata": {},
     "output_type": "execute_result"
    }
   ],
   "source": [
    "dfB.shape"
   ]
  },
  {
   "cell_type": "code",
   "execution_count": null,
   "metadata": {
    "collapsed": true
   },
   "outputs": [],
   "source": [
    "# Save/read in as needed \n",
    "# dfB.to_csv('master_products_by_user_all_orders_with_last3_orders_flagged', index=False)"
   ]
  },
  {
   "cell_type": "code",
   "execution_count": null,
   "metadata": {
    "collapsed": true
   },
   "outputs": [],
   "source": [
    "# Adding additional features -- \"add to cart\" order and avg order size. "
   ]
  },
  {
   "cell_type": "code",
   "execution_count": 54,
   "metadata": {},
   "outputs": [
    {
     "data": {
      "text/plain": [
       "135"
      ]
     },
     "execution_count": 54,
     "metadata": {},
     "output_type": "execute_result"
    }
   ],
   "source": [
    "gc.collect()"
   ]
  },
  {
   "cell_type": "code",
   "execution_count": null,
   "metadata": {
    "collapsed": true
   },
   "outputs": [],
   "source": [
    "# # Read in as needed \n",
    "# dfB=pd.read_csv(\"master_all_products_ordered.csv\")"
   ]
  },
  {
   "cell_type": "code",
   "execution_count": 75,
   "metadata": {},
   "outputs": [
    {
     "data": {
      "text/plain": [
       "(33894106, 5)"
      ]
     },
     "execution_count": 75,
     "metadata": {},
     "output_type": "execute_result"
    }
   ],
   "source": [
    "dfB.shape"
   ]
  },
  {
   "cell_type": "code",
   "execution_count": 76,
   "metadata": {},
   "outputs": [
    {
     "data": {
      "text/plain": [
       "array(['order_id', 'product_id', 'user_id', 'eval_set', 'add_to_cart_order'], dtype=object)"
      ]
     },
     "execution_count": 76,
     "metadata": {},
     "output_type": "execute_result"
    }
   ],
   "source": [
    "dfB.columns.values"
   ]
  },
  {
   "cell_type": "code",
   "execution_count": 77,
   "metadata": {
    "collapsed": true
   },
   "outputs": [],
   "source": [
    "dfB=dfB[['order_id', 'product_id', 'user_id','eval_set', 'add_to_cart_order']]      "
   ]
  },
  {
   "cell_type": "code",
   "execution_count": 78,
   "metadata": {},
   "outputs": [
    {
     "data": {
      "text/plain": [
       "(33894106, 5)"
      ]
     },
     "execution_count": 78,
     "metadata": {},
     "output_type": "execute_result"
    }
   ],
   "source": [
    "dfB.shape"
   ]
  },
  {
   "cell_type": "code",
   "execution_count": 79,
   "metadata": {},
   "outputs": [
    {
     "data": {
      "text/html": [
       "<div>\n",
       "<style>\n",
       "    .dataframe thead tr:only-child th {\n",
       "        text-align: right;\n",
       "    }\n",
       "\n",
       "    .dataframe thead th {\n",
       "        text-align: left;\n",
       "    }\n",
       "\n",
       "    .dataframe tbody tr th {\n",
       "        vertical-align: top;\n",
       "    }\n",
       "</style>\n",
       "<table border=\"1\" class=\"dataframe\">\n",
       "  <thead>\n",
       "    <tr style=\"text-align: right;\">\n",
       "      <th></th>\n",
       "      <th>order_id</th>\n",
       "      <th>product_id</th>\n",
       "      <th>user_id</th>\n",
       "      <th>eval_set</th>\n",
       "      <th>add_to_cart_order</th>\n",
       "    </tr>\n",
       "  </thead>\n",
       "  <tbody>\n",
       "    <tr>\n",
       "      <th>0</th>\n",
       "      <td>2.0</td>\n",
       "      <td>33120.0</td>\n",
       "      <td>202279</td>\n",
       "      <td>prior</td>\n",
       "      <td>1.0</td>\n",
       "    </tr>\n",
       "    <tr>\n",
       "      <th>1</th>\n",
       "      <td>2.0</td>\n",
       "      <td>28985.0</td>\n",
       "      <td>202279</td>\n",
       "      <td>prior</td>\n",
       "      <td>2.0</td>\n",
       "    </tr>\n",
       "    <tr>\n",
       "      <th>2</th>\n",
       "      <td>2.0</td>\n",
       "      <td>9327.0</td>\n",
       "      <td>202279</td>\n",
       "      <td>prior</td>\n",
       "      <td>3.0</td>\n",
       "    </tr>\n",
       "    <tr>\n",
       "      <th>3</th>\n",
       "      <td>2.0</td>\n",
       "      <td>45918.0</td>\n",
       "      <td>202279</td>\n",
       "      <td>prior</td>\n",
       "      <td>4.0</td>\n",
       "    </tr>\n",
       "    <tr>\n",
       "      <th>4</th>\n",
       "      <td>2.0</td>\n",
       "      <td>30035.0</td>\n",
       "      <td>202279</td>\n",
       "      <td>prior</td>\n",
       "      <td>5.0</td>\n",
       "    </tr>\n",
       "  </tbody>\n",
       "</table>\n",
       "</div>"
      ],
      "text/plain": [
       "   order_id  product_id  user_id eval_set  add_to_cart_order\n",
       "0       2.0     33120.0   202279    prior                1.0\n",
       "1       2.0     28985.0   202279    prior                2.0\n",
       "2       2.0      9327.0   202279    prior                3.0\n",
       "3       2.0     45918.0   202279    prior                4.0\n",
       "4       2.0     30035.0   202279    prior                5.0"
      ]
     },
     "execution_count": 79,
     "metadata": {},
     "output_type": "execute_result"
    }
   ],
   "source": [
    "dfB.head()"
   ]
  },
  {
   "cell_type": "code",
   "execution_count": 80,
   "metadata": {
    "collapsed": true
   },
   "outputs": [],
   "source": [
    "dfC=dfB.loc[dfB['eval_set']!='test'].reset_index()"
   ]
  },
  {
   "cell_type": "code",
   "execution_count": 81,
   "metadata": {},
   "outputs": [
    {
     "data": {
      "text/plain": [
       "(33819106, 6)"
      ]
     },
     "execution_count": 81,
     "metadata": {},
     "output_type": "execute_result"
    }
   ],
   "source": [
    "dfC.shape"
   ]
  },
  {
   "cell_type": "code",
   "execution_count": 82,
   "metadata": {
    "collapsed": true
   },
   "outputs": [],
   "source": [
    "dfC['avg_add_to_cart_order']=dfC.groupby(['product_id', 'user_id'])['add_to_cart_order'].transform(np.mean)"
   ]
  },
  {
   "cell_type": "code",
   "execution_count": 84,
   "metadata": {},
   "outputs": [
    {
     "data": {
      "text/plain": [
       "61"
      ]
     },
     "execution_count": 84,
     "metadata": {},
     "output_type": "execute_result"
    }
   ],
   "source": [
    "del dfA, dfB; gc.collect()"
   ]
  },
  {
   "cell_type": "code",
   "execution_count": 85,
   "metadata": {},
   "outputs": [
    {
     "data": {
      "text/html": [
       "<div>\n",
       "<style>\n",
       "    .dataframe thead tr:only-child th {\n",
       "        text-align: right;\n",
       "    }\n",
       "\n",
       "    .dataframe thead th {\n",
       "        text-align: left;\n",
       "    }\n",
       "\n",
       "    .dataframe tbody tr th {\n",
       "        vertical-align: top;\n",
       "    }\n",
       "</style>\n",
       "<table border=\"1\" class=\"dataframe\">\n",
       "  <thead>\n",
       "    <tr style=\"text-align: right;\">\n",
       "      <th></th>\n",
       "      <th>index</th>\n",
       "      <th>order_id</th>\n",
       "      <th>product_id</th>\n",
       "      <th>user_id</th>\n",
       "      <th>eval_set</th>\n",
       "      <th>add_to_cart_order</th>\n",
       "      <th>avg_add_to_cart_order</th>\n",
       "    </tr>\n",
       "  </thead>\n",
       "  <tbody>\n",
       "    <tr>\n",
       "      <th>0</th>\n",
       "      <td>0</td>\n",
       "      <td>2.0</td>\n",
       "      <td>33120.0</td>\n",
       "      <td>202279</td>\n",
       "      <td>prior</td>\n",
       "      <td>1.0</td>\n",
       "      <td>1.833333</td>\n",
       "    </tr>\n",
       "    <tr>\n",
       "      <th>1</th>\n",
       "      <td>1</td>\n",
       "      <td>2.0</td>\n",
       "      <td>28985.0</td>\n",
       "      <td>202279</td>\n",
       "      <td>prior</td>\n",
       "      <td>2.0</td>\n",
       "      <td>3.200000</td>\n",
       "    </tr>\n",
       "    <tr>\n",
       "      <th>2</th>\n",
       "      <td>2</td>\n",
       "      <td>2.0</td>\n",
       "      <td>9327.0</td>\n",
       "      <td>202279</td>\n",
       "      <td>prior</td>\n",
       "      <td>3.0</td>\n",
       "      <td>3.000000</td>\n",
       "    </tr>\n",
       "    <tr>\n",
       "      <th>3</th>\n",
       "      <td>3</td>\n",
       "      <td>2.0</td>\n",
       "      <td>45918.0</td>\n",
       "      <td>202279</td>\n",
       "      <td>prior</td>\n",
       "      <td>4.0</td>\n",
       "      <td>4.800000</td>\n",
       "    </tr>\n",
       "    <tr>\n",
       "      <th>4</th>\n",
       "      <td>4</td>\n",
       "      <td>2.0</td>\n",
       "      <td>30035.0</td>\n",
       "      <td>202279</td>\n",
       "      <td>prior</td>\n",
       "      <td>5.0</td>\n",
       "      <td>4.666667</td>\n",
       "    </tr>\n",
       "  </tbody>\n",
       "</table>\n",
       "</div>"
      ],
      "text/plain": [
       "   index  order_id  product_id  user_id eval_set  add_to_cart_order  \\\n",
       "0      0       2.0     33120.0   202279    prior                1.0   \n",
       "1      1       2.0     28985.0   202279    prior                2.0   \n",
       "2      2       2.0      9327.0   202279    prior                3.0   \n",
       "3      3       2.0     45918.0   202279    prior                4.0   \n",
       "4      4       2.0     30035.0   202279    prior                5.0   \n",
       "\n",
       "   avg_add_to_cart_order  \n",
       "0               1.833333  \n",
       "1               3.200000  \n",
       "2               3.000000  \n",
       "3               4.800000  \n",
       "4               4.666667  "
      ]
     },
     "execution_count": 85,
     "metadata": {},
     "output_type": "execute_result"
    }
   ],
   "source": [
    "dfC.head()"
   ]
  },
  {
   "cell_type": "code",
   "execution_count": 86,
   "metadata": {},
   "outputs": [
    {
     "data": {
      "text/html": [
       "<div>\n",
       "<style>\n",
       "    .dataframe thead tr:only-child th {\n",
       "        text-align: right;\n",
       "    }\n",
       "\n",
       "    .dataframe thead th {\n",
       "        text-align: left;\n",
       "    }\n",
       "\n",
       "    .dataframe tbody tr th {\n",
       "        vertical-align: top;\n",
       "    }\n",
       "</style>\n",
       "<table border=\"1\" class=\"dataframe\">\n",
       "  <thead>\n",
       "    <tr style=\"text-align: right;\">\n",
       "      <th></th>\n",
       "      <th>index</th>\n",
       "      <th>order_id</th>\n",
       "      <th>product_id</th>\n",
       "      <th>user_id</th>\n",
       "      <th>eval_set</th>\n",
       "      <th>add_to_cart_order</th>\n",
       "      <th>avg_add_to_cart_order</th>\n",
       "    </tr>\n",
       "  </thead>\n",
       "  <tbody>\n",
       "    <tr>\n",
       "      <th>1</th>\n",
       "      <td>1</td>\n",
       "      <td>2.0</td>\n",
       "      <td>28985.0</td>\n",
       "      <td>202279</td>\n",
       "      <td>prior</td>\n",
       "      <td>2.0</td>\n",
       "      <td>3.2</td>\n",
       "    </tr>\n",
       "    <tr>\n",
       "      <th>1254955</th>\n",
       "      <td>1254955</td>\n",
       "      <td>132412.0</td>\n",
       "      <td>28985.0</td>\n",
       "      <td>202279</td>\n",
       "      <td>prior</td>\n",
       "      <td>7.0</td>\n",
       "      <td>3.2</td>\n",
       "    </tr>\n",
       "    <tr>\n",
       "      <th>14214768</th>\n",
       "      <td>14214768</td>\n",
       "      <td>1500071.0</td>\n",
       "      <td>28985.0</td>\n",
       "      <td>202279</td>\n",
       "      <td>prior</td>\n",
       "      <td>1.0</td>\n",
       "      <td>3.2</td>\n",
       "    </tr>\n",
       "    <tr>\n",
       "      <th>26635933</th>\n",
       "      <td>26635933</td>\n",
       "      <td>2808715.0</td>\n",
       "      <td>28985.0</td>\n",
       "      <td>202279</td>\n",
       "      <td>prior</td>\n",
       "      <td>2.0</td>\n",
       "      <td>3.2</td>\n",
       "    </tr>\n",
       "    <tr>\n",
       "      <th>27453972</th>\n",
       "      <td>27453972</td>\n",
       "      <td>2894949.0</td>\n",
       "      <td>28985.0</td>\n",
       "      <td>202279</td>\n",
       "      <td>prior</td>\n",
       "      <td>4.0</td>\n",
       "      <td>3.2</td>\n",
       "    </tr>\n",
       "  </tbody>\n",
       "</table>\n",
       "</div>"
      ],
      "text/plain": [
       "             index   order_id  product_id  user_id eval_set  \\\n",
       "1                1        2.0     28985.0   202279    prior   \n",
       "1254955    1254955   132412.0     28985.0   202279    prior   \n",
       "14214768  14214768  1500071.0     28985.0   202279    prior   \n",
       "26635933  26635933  2808715.0     28985.0   202279    prior   \n",
       "27453972  27453972  2894949.0     28985.0   202279    prior   \n",
       "\n",
       "          add_to_cart_order  avg_add_to_cart_order  \n",
       "1                       2.0                    3.2  \n",
       "1254955                 7.0                    3.2  \n",
       "14214768                1.0                    3.2  \n",
       "26635933                2.0                    3.2  \n",
       "27453972                4.0                    3.2  "
      ]
     },
     "execution_count": 86,
     "metadata": {},
     "output_type": "execute_result"
    }
   ],
   "source": [
    "dfC.loc[(dfC['user_id']==202279) & (dfC['product_id']==28985)]"
   ]
  },
  {
   "cell_type": "code",
   "execution_count": 87,
   "metadata": {},
   "outputs": [
    {
     "data": {
      "text/plain": [
       "(33819106, 7)"
      ]
     },
     "execution_count": 87,
     "metadata": {},
     "output_type": "execute_result"
    }
   ],
   "source": [
    "dfC.shape"
   ]
  },
  {
   "cell_type": "code",
   "execution_count": 88,
   "metadata": {
    "collapsed": true
   },
   "outputs": [],
   "source": [
    "dfC['order_count']=dfC.groupby('order_id')['product_id'].transform('count')"
   ]
  },
  {
   "cell_type": "code",
   "execution_count": 89,
   "metadata": {},
   "outputs": [
    {
     "data": {
      "text/html": [
       "<div>\n",
       "<style>\n",
       "    .dataframe thead tr:only-child th {\n",
       "        text-align: right;\n",
       "    }\n",
       "\n",
       "    .dataframe thead th {\n",
       "        text-align: left;\n",
       "    }\n",
       "\n",
       "    .dataframe tbody tr th {\n",
       "        vertical-align: top;\n",
       "    }\n",
       "</style>\n",
       "<table border=\"1\" class=\"dataframe\">\n",
       "  <thead>\n",
       "    <tr style=\"text-align: right;\">\n",
       "      <th></th>\n",
       "      <th>index</th>\n",
       "      <th>order_id</th>\n",
       "      <th>product_id</th>\n",
       "      <th>user_id</th>\n",
       "      <th>eval_set</th>\n",
       "      <th>add_to_cart_order</th>\n",
       "      <th>avg_add_to_cart_order</th>\n",
       "      <th>order_count</th>\n",
       "    </tr>\n",
       "  </thead>\n",
       "  <tbody>\n",
       "    <tr>\n",
       "      <th>0</th>\n",
       "      <td>0</td>\n",
       "      <td>2.0</td>\n",
       "      <td>33120.0</td>\n",
       "      <td>202279</td>\n",
       "      <td>prior</td>\n",
       "      <td>1.0</td>\n",
       "      <td>1.833333</td>\n",
       "      <td>9.0</td>\n",
       "    </tr>\n",
       "    <tr>\n",
       "      <th>1</th>\n",
       "      <td>1</td>\n",
       "      <td>2.0</td>\n",
       "      <td>28985.0</td>\n",
       "      <td>202279</td>\n",
       "      <td>prior</td>\n",
       "      <td>2.0</td>\n",
       "      <td>3.200000</td>\n",
       "      <td>9.0</td>\n",
       "    </tr>\n",
       "    <tr>\n",
       "      <th>2</th>\n",
       "      <td>2</td>\n",
       "      <td>2.0</td>\n",
       "      <td>9327.0</td>\n",
       "      <td>202279</td>\n",
       "      <td>prior</td>\n",
       "      <td>3.0</td>\n",
       "      <td>3.000000</td>\n",
       "      <td>9.0</td>\n",
       "    </tr>\n",
       "    <tr>\n",
       "      <th>3</th>\n",
       "      <td>3</td>\n",
       "      <td>2.0</td>\n",
       "      <td>45918.0</td>\n",
       "      <td>202279</td>\n",
       "      <td>prior</td>\n",
       "      <td>4.0</td>\n",
       "      <td>4.800000</td>\n",
       "      <td>9.0</td>\n",
       "    </tr>\n",
       "    <tr>\n",
       "      <th>4</th>\n",
       "      <td>4</td>\n",
       "      <td>2.0</td>\n",
       "      <td>30035.0</td>\n",
       "      <td>202279</td>\n",
       "      <td>prior</td>\n",
       "      <td>5.0</td>\n",
       "      <td>4.666667</td>\n",
       "      <td>9.0</td>\n",
       "    </tr>\n",
       "  </tbody>\n",
       "</table>\n",
       "</div>"
      ],
      "text/plain": [
       "   index  order_id  product_id  user_id eval_set  add_to_cart_order  \\\n",
       "0      0       2.0     33120.0   202279    prior                1.0   \n",
       "1      1       2.0     28985.0   202279    prior                2.0   \n",
       "2      2       2.0      9327.0   202279    prior                3.0   \n",
       "3      3       2.0     45918.0   202279    prior                4.0   \n",
       "4      4       2.0     30035.0   202279    prior                5.0   \n",
       "\n",
       "   avg_add_to_cart_order  order_count  \n",
       "0               1.833333          9.0  \n",
       "1               3.200000          9.0  \n",
       "2               3.000000          9.0  \n",
       "3               4.800000          9.0  \n",
       "4               4.666667          9.0  "
      ]
     },
     "execution_count": 89,
     "metadata": {},
     "output_type": "execute_result"
    }
   ],
   "source": [
    "dfC.head()"
   ]
  },
  {
   "cell_type": "code",
   "execution_count": 90,
   "metadata": {
    "collapsed": true
   },
   "outputs": [],
   "source": [
    "dfC.drop('index', 1, inplace=True)"
   ]
  },
  {
   "cell_type": "code",
   "execution_count": null,
   "metadata": {
    "collapsed": true
   },
   "outputs": [],
   "source": [
    "grouped=dfC.groupby('user_id')['order_id'].aggregate({'num_orders': lambda x: x.nunique(), 'num_products': 'count'}).reset_index()"
   ]
  },
  {
   "cell_type": "code",
   "execution_count": 92,
   "metadata": {},
   "outputs": [
    {
     "data": {
      "text/html": [
       "<div>\n",
       "<style>\n",
       "    .dataframe thead tr:only-child th {\n",
       "        text-align: right;\n",
       "    }\n",
       "\n",
       "    .dataframe thead th {\n",
       "        text-align: left;\n",
       "    }\n",
       "\n",
       "    .dataframe tbody tr th {\n",
       "        vertical-align: top;\n",
       "    }\n",
       "</style>\n",
       "<table border=\"1\" class=\"dataframe\">\n",
       "  <thead>\n",
       "    <tr style=\"text-align: right;\">\n",
       "      <th></th>\n",
       "      <th>user_id</th>\n",
       "      <th>num_orders</th>\n",
       "      <th>num_products</th>\n",
       "    </tr>\n",
       "  </thead>\n",
       "  <tbody>\n",
       "    <tr>\n",
       "      <th>0</th>\n",
       "      <td>1</td>\n",
       "      <td>11.0</td>\n",
       "      <td>70</td>\n",
       "    </tr>\n",
       "    <tr>\n",
       "      <th>1</th>\n",
       "      <td>2</td>\n",
       "      <td>15.0</td>\n",
       "      <td>226</td>\n",
       "    </tr>\n",
       "    <tr>\n",
       "      <th>2</th>\n",
       "      <td>3</td>\n",
       "      <td>12.0</td>\n",
       "      <td>88</td>\n",
       "    </tr>\n",
       "    <tr>\n",
       "      <th>3</th>\n",
       "      <td>4</td>\n",
       "      <td>5.0</td>\n",
       "      <td>18</td>\n",
       "    </tr>\n",
       "    <tr>\n",
       "      <th>4</th>\n",
       "      <td>5</td>\n",
       "      <td>5.0</td>\n",
       "      <td>46</td>\n",
       "    </tr>\n",
       "  </tbody>\n",
       "</table>\n",
       "</div>"
      ],
      "text/plain": [
       "   user_id  num_orders  num_products\n",
       "0        1        11.0            70\n",
       "1        2        15.0           226\n",
       "2        3        12.0            88\n",
       "3        4         5.0            18\n",
       "4        5         5.0            46"
      ]
     },
     "execution_count": 92,
     "metadata": {},
     "output_type": "execute_result"
    }
   ],
   "source": [
    "grouped.head()"
   ]
  },
  {
   "cell_type": "code",
   "execution_count": 93,
   "metadata": {},
   "outputs": [
    {
     "data": {
      "text/html": [
       "<div>\n",
       "<style>\n",
       "    .dataframe thead tr:only-child th {\n",
       "        text-align: right;\n",
       "    }\n",
       "\n",
       "    .dataframe thead th {\n",
       "        text-align: left;\n",
       "    }\n",
       "\n",
       "    .dataframe tbody tr th {\n",
       "        vertical-align: top;\n",
       "    }\n",
       "</style>\n",
       "<table border=\"1\" class=\"dataframe\">\n",
       "  <thead>\n",
       "    <tr style=\"text-align: right;\">\n",
       "      <th></th>\n",
       "      <th>user_id</th>\n",
       "      <th>num_orders</th>\n",
       "      <th>num_products</th>\n",
       "      <th>avg_order_size</th>\n",
       "    </tr>\n",
       "  </thead>\n",
       "  <tbody>\n",
       "    <tr>\n",
       "      <th>0</th>\n",
       "      <td>1</td>\n",
       "      <td>11.0</td>\n",
       "      <td>70</td>\n",
       "      <td>6.363636</td>\n",
       "    </tr>\n",
       "    <tr>\n",
       "      <th>1</th>\n",
       "      <td>2</td>\n",
       "      <td>15.0</td>\n",
       "      <td>226</td>\n",
       "      <td>15.066667</td>\n",
       "    </tr>\n",
       "    <tr>\n",
       "      <th>2</th>\n",
       "      <td>3</td>\n",
       "      <td>12.0</td>\n",
       "      <td>88</td>\n",
       "      <td>7.333333</td>\n",
       "    </tr>\n",
       "    <tr>\n",
       "      <th>3</th>\n",
       "      <td>4</td>\n",
       "      <td>5.0</td>\n",
       "      <td>18</td>\n",
       "      <td>3.600000</td>\n",
       "    </tr>\n",
       "    <tr>\n",
       "      <th>4</th>\n",
       "      <td>5</td>\n",
       "      <td>5.0</td>\n",
       "      <td>46</td>\n",
       "      <td>9.200000</td>\n",
       "    </tr>\n",
       "  </tbody>\n",
       "</table>\n",
       "</div>"
      ],
      "text/plain": [
       "   user_id  num_orders  num_products  avg_order_size\n",
       "0        1        11.0            70        6.363636\n",
       "1        2        15.0           226       15.066667\n",
       "2        3        12.0            88        7.333333\n",
       "3        4         5.0            18        3.600000\n",
       "4        5         5.0            46        9.200000"
      ]
     },
     "execution_count": 93,
     "metadata": {},
     "output_type": "execute_result"
    }
   ],
   "source": [
    "grouped['avg_order_size']=grouped['num_products']/grouped['num_orders']\n",
    "grouped.head()"
   ]
  },
  {
   "cell_type": "code",
   "execution_count": 94,
   "metadata": {
    "collapsed": true
   },
   "outputs": [],
   "source": [
    "dfD=pd.merge(dfC, grouped, how='left', on=['user_id'])"
   ]
  },
  {
   "cell_type": "code",
   "execution_count": 95,
   "metadata": {},
   "outputs": [
    {
     "data": {
      "text/html": [
       "<div>\n",
       "<style>\n",
       "    .dataframe thead tr:only-child th {\n",
       "        text-align: right;\n",
       "    }\n",
       "\n",
       "    .dataframe thead th {\n",
       "        text-align: left;\n",
       "    }\n",
       "\n",
       "    .dataframe tbody tr th {\n",
       "        vertical-align: top;\n",
       "    }\n",
       "</style>\n",
       "<table border=\"1\" class=\"dataframe\">\n",
       "  <thead>\n",
       "    <tr style=\"text-align: right;\">\n",
       "      <th></th>\n",
       "      <th>order_id</th>\n",
       "      <th>product_id</th>\n",
       "      <th>user_id</th>\n",
       "      <th>eval_set</th>\n",
       "      <th>add_to_cart_order</th>\n",
       "      <th>avg_add_to_cart_order</th>\n",
       "      <th>order_count</th>\n",
       "      <th>num_orders</th>\n",
       "      <th>num_products</th>\n",
       "      <th>avg_order_size</th>\n",
       "    </tr>\n",
       "  </thead>\n",
       "  <tbody>\n",
       "    <tr>\n",
       "      <th>0</th>\n",
       "      <td>2.0</td>\n",
       "      <td>33120.0</td>\n",
       "      <td>202279</td>\n",
       "      <td>prior</td>\n",
       "      <td>1.0</td>\n",
       "      <td>1.833333</td>\n",
       "      <td>9.0</td>\n",
       "      <td>9.0</td>\n",
       "      <td>100</td>\n",
       "      <td>11.111111</td>\n",
       "    </tr>\n",
       "    <tr>\n",
       "      <th>1</th>\n",
       "      <td>2.0</td>\n",
       "      <td>28985.0</td>\n",
       "      <td>202279</td>\n",
       "      <td>prior</td>\n",
       "      <td>2.0</td>\n",
       "      <td>3.200000</td>\n",
       "      <td>9.0</td>\n",
       "      <td>9.0</td>\n",
       "      <td>100</td>\n",
       "      <td>11.111111</td>\n",
       "    </tr>\n",
       "    <tr>\n",
       "      <th>2</th>\n",
       "      <td>2.0</td>\n",
       "      <td>9327.0</td>\n",
       "      <td>202279</td>\n",
       "      <td>prior</td>\n",
       "      <td>3.0</td>\n",
       "      <td>3.000000</td>\n",
       "      <td>9.0</td>\n",
       "      <td>9.0</td>\n",
       "      <td>100</td>\n",
       "      <td>11.111111</td>\n",
       "    </tr>\n",
       "    <tr>\n",
       "      <th>3</th>\n",
       "      <td>2.0</td>\n",
       "      <td>45918.0</td>\n",
       "      <td>202279</td>\n",
       "      <td>prior</td>\n",
       "      <td>4.0</td>\n",
       "      <td>4.800000</td>\n",
       "      <td>9.0</td>\n",
       "      <td>9.0</td>\n",
       "      <td>100</td>\n",
       "      <td>11.111111</td>\n",
       "    </tr>\n",
       "    <tr>\n",
       "      <th>4</th>\n",
       "      <td>2.0</td>\n",
       "      <td>30035.0</td>\n",
       "      <td>202279</td>\n",
       "      <td>prior</td>\n",
       "      <td>5.0</td>\n",
       "      <td>4.666667</td>\n",
       "      <td>9.0</td>\n",
       "      <td>9.0</td>\n",
       "      <td>100</td>\n",
       "      <td>11.111111</td>\n",
       "    </tr>\n",
       "  </tbody>\n",
       "</table>\n",
       "</div>"
      ],
      "text/plain": [
       "   order_id  product_id  user_id eval_set  add_to_cart_order  \\\n",
       "0       2.0     33120.0   202279    prior                1.0   \n",
       "1       2.0     28985.0   202279    prior                2.0   \n",
       "2       2.0      9327.0   202279    prior                3.0   \n",
       "3       2.0     45918.0   202279    prior                4.0   \n",
       "4       2.0     30035.0   202279    prior                5.0   \n",
       "\n",
       "   avg_add_to_cart_order  order_count  num_orders  num_products  \\\n",
       "0               1.833333          9.0         9.0           100   \n",
       "1               3.200000          9.0         9.0           100   \n",
       "2               3.000000          9.0         9.0           100   \n",
       "3               4.800000          9.0         9.0           100   \n",
       "4               4.666667          9.0         9.0           100   \n",
       "\n",
       "   avg_order_size  \n",
       "0       11.111111  \n",
       "1       11.111111  \n",
       "2       11.111111  \n",
       "3       11.111111  \n",
       "4       11.111111  "
      ]
     },
     "execution_count": 95,
     "metadata": {},
     "output_type": "execute_result"
    }
   ],
   "source": [
    "dfD.head()"
   ]
  },
  {
   "cell_type": "code",
   "execution_count": null,
   "metadata": {
    "collapsed": true
   },
   "outputs": [],
   "source": [
    "# Save\n",
    "# dfD.to_csv('master_addl_features_addtocart_ordersize', index=False)"
   ]
  },
  {
   "cell_type": "code",
   "execution_count": 99,
   "metadata": {},
   "outputs": [
    {
     "data": {
      "text/plain": [
       "294"
      ]
     },
     "execution_count": 99,
     "metadata": {},
     "output_type": "execute_result"
    }
   ],
   "source": [
    "del grouped; gc.collect()"
   ]
  },
  {
   "cell_type": "code",
   "execution_count": 106,
   "metadata": {},
   "outputs": [
    {
     "data": {
      "text/plain": [
       "366"
      ]
     },
     "execution_count": 106,
     "metadata": {},
     "output_type": "execute_result"
    }
   ],
   "source": [
    "del dfLast2, dfLast2rev, dfLast3, dfLast3rev; gc.collect()"
   ]
  },
  {
   "cell_type": "code",
   "execution_count": null,
   "metadata": {
    "collapsed": true
   },
   "outputs": [],
   "source": [
    "# Read in \n",
    "df8=pd.read_csv('master_features_prior_and_train_incl_boughtornot_v1.csv',index_col=0)"
   ]
  },
  {
   "cell_type": "code",
   "execution_count": 4,
   "metadata": {},
   "outputs": [
    {
     "data": {
      "text/plain": [
       "(13863746, 44)"
      ]
     },
     "execution_count": 4,
     "metadata": {},
     "output_type": "execute_result"
    }
   ],
   "source": [
    "df8.shape"
   ]
  },
  {
   "cell_type": "code",
   "execution_count": 5,
   "metadata": {
    "collapsed": true
   },
   "outputs": [],
   "source": [
    "# Read in\n",
    "df9=pd.read_csv('master_products_by_user_all_orders_with_last3_orders_flagged')"
   ]
  },
  {
   "cell_type": "code",
   "execution_count": 6,
   "metadata": {},
   "outputs": [
    {
     "data": {
      "text/plain": [
       "(13307953, 5)"
      ]
     },
     "execution_count": 6,
     "metadata": {},
     "output_type": "execute_result"
    }
   ],
   "source": [
    "df9.shape"
   ]
  },
  {
   "cell_type": "code",
   "execution_count": 7,
   "metadata": {
    "collapsed": true
   },
   "outputs": [],
   "source": [
    "df10=pd.merge(df8, df9, how='left', on=['product_id', 'user_id'])"
   ]
  },
  {
   "cell_type": "code",
   "execution_count": 8,
   "metadata": {},
   "outputs": [
    {
     "data": {
      "text/plain": [
       "21"
      ]
     },
     "execution_count": 8,
     "metadata": {},
     "output_type": "execute_result"
    }
   ],
   "source": [
    "del df8, df9; gc.collect()"
   ]
  },
  {
   "cell_type": "code",
   "execution_count": 9,
   "metadata": {},
   "outputs": [
    {
     "data": {
      "text/plain": [
       "(13863746, 47)"
      ]
     },
     "execution_count": 9,
     "metadata": {},
     "output_type": "execute_result"
    }
   ],
   "source": [
    "df10.shape"
   ]
  },
  {
   "cell_type": "code",
   "execution_count": 10,
   "metadata": {},
   "outputs": [
    {
     "data": {
      "text/plain": [
       "Index(['order_id', 'product_id', 'product_name', 'user_id', 'eval_set',\n",
       "       'reordered', 'reorder_probability', 'order_number', 'order_dow',\n",
       "       'order_hour_of_day', 'days_since_prior_order',\n",
       "       'cust_reorder_propensity', 'bought', 'department_id_1',\n",
       "       'department_id_2', 'department_id_3', 'department_id_4',\n",
       "       'department_id_5', 'department_id_6', 'department_id_7',\n",
       "       'department_id_8', 'department_id_9', 'department_id_10',\n",
       "       'department_id_11', 'department_id_12', 'department_id_13',\n",
       "       'department_id_14', 'department_id_15', 'department_id_16',\n",
       "       'department_id_17', 'department_id_18', 'department_id_19',\n",
       "       'department_id_20', 'department_id_21', 'aisle_id', 'order_dow_0',\n",
       "       'order_dow_1', 'order_dow_2', 'order_dow_3', 'order_dow_4',\n",
       "       'order_dow_5', 'order_dow_6', 'product_reorder_propensity_by_user',\n",
       "       'in_last_order', 'last_order', '2nd_last_order', '3rd_last_order'],\n",
       "      dtype='object')"
      ]
     },
     "execution_count": 10,
     "metadata": {},
     "output_type": "execute_result"
    }
   ],
   "source": [
    "df10.columns"
   ]
  },
  {
   "cell_type": "code",
   "execution_count": 11,
   "metadata": {
    "collapsed": true
   },
   "outputs": [],
   "source": [
    "# Reducing dataset to those orders/products in last 3 orders \n",
    "df10=df10.loc[(df10['last_order']==1) | (df10['2nd_last_order']==1) | (df10['3rd_last_order']==1)]"
   ]
  },
  {
   "cell_type": "code",
   "execution_count": 12,
   "metadata": {},
   "outputs": [
    {
     "data": {
      "text/plain": [
       "(4925215, 47)"
      ]
     },
     "execution_count": 12,
     "metadata": {},
     "output_type": "execute_result"
    }
   ],
   "source": [
    "df10.shape"
   ]
  },
  {
   "cell_type": "code",
   "execution_count": null,
   "metadata": {
    "collapsed": true
   },
   "outputs": [],
   "source": [
    "# adding the new features in "
   ]
  },
  {
   "cell_type": "code",
   "execution_count": 13,
   "metadata": {
    "collapsed": true
   },
   "outputs": [],
   "source": [
    "dfD=pd.read_csv('master_addl_features_addtocart_ordersize')"
   ]
  },
  {
   "cell_type": "code",
   "execution_count": 14,
   "metadata": {},
   "outputs": [
    {
     "data": {
      "text/plain": [
       "Index(['order_id', 'product_id', 'user_id', 'eval_set', 'add_to_cart_order',\n",
       "       'avg_add_to_cart_order', 'order_count', 'num_products', 'num_orders',\n",
       "       'avg_order_size'],\n",
       "      dtype='object')"
      ]
     },
     "execution_count": 14,
     "metadata": {},
     "output_type": "execute_result"
    }
   ],
   "source": [
    "dfD.columns"
   ]
  },
  {
   "cell_type": "code",
   "execution_count": 15,
   "metadata": {},
   "outputs": [
    {
     "data": {
      "text/html": [
       "<div>\n",
       "<style>\n",
       "    .dataframe thead tr:only-child th {\n",
       "        text-align: right;\n",
       "    }\n",
       "\n",
       "    .dataframe thead th {\n",
       "        text-align: left;\n",
       "    }\n",
       "\n",
       "    .dataframe tbody tr th {\n",
       "        vertical-align: top;\n",
       "    }\n",
       "</style>\n",
       "<table border=\"1\" class=\"dataframe\">\n",
       "  <thead>\n",
       "    <tr style=\"text-align: right;\">\n",
       "      <th></th>\n",
       "      <th>order_id</th>\n",
       "      <th>product_id</th>\n",
       "      <th>user_id</th>\n",
       "      <th>eval_set</th>\n",
       "      <th>add_to_cart_order</th>\n",
       "      <th>avg_add_to_cart_order</th>\n",
       "      <th>order_count</th>\n",
       "      <th>num_products</th>\n",
       "      <th>num_orders</th>\n",
       "      <th>avg_order_size</th>\n",
       "    </tr>\n",
       "  </thead>\n",
       "  <tbody>\n",
       "    <tr>\n",
       "      <th>0</th>\n",
       "      <td>2.0</td>\n",
       "      <td>33120.0</td>\n",
       "      <td>202279</td>\n",
       "      <td>prior</td>\n",
       "      <td>1.0</td>\n",
       "      <td>1.833333</td>\n",
       "      <td>9</td>\n",
       "      <td>100</td>\n",
       "      <td>9.0</td>\n",
       "      <td>11.111111</td>\n",
       "    </tr>\n",
       "  </tbody>\n",
       "</table>\n",
       "</div>"
      ],
      "text/plain": [
       "   order_id  product_id  user_id eval_set  add_to_cart_order  \\\n",
       "0       2.0     33120.0   202279    prior                1.0   \n",
       "\n",
       "   avg_add_to_cart_order  order_count  num_products  num_orders  \\\n",
       "0               1.833333            9           100         9.0   \n",
       "\n",
       "   avg_order_size  \n",
       "0       11.111111  "
      ]
     },
     "execution_count": 15,
     "metadata": {},
     "output_type": "execute_result"
    }
   ],
   "source": [
    "dfD.head(1)"
   ]
  },
  {
   "cell_type": "code",
   "execution_count": 16,
   "metadata": {
    "collapsed": true
   },
   "outputs": [],
   "source": [
    "dfD=dfD[['order_id', 'product_id', 'add_to_cart_order', 'avg_add_to_cart_order', 'order_count',\n",
    "       'num_products', 'num_orders', 'avg_order_size']]"
   ]
  },
  {
   "cell_type": "code",
   "execution_count": 17,
   "metadata": {
    "collapsed": true
   },
   "outputs": [],
   "source": [
    "df11=pd.merge(df10, dfD, how='left', on=['order_id','product_id'])"
   ]
  },
  {
   "cell_type": "code",
   "execution_count": 18,
   "metadata": {},
   "outputs": [
    {
     "data": {
      "text/plain": [
       "(4925215, 53)"
      ]
     },
     "execution_count": 18,
     "metadata": {},
     "output_type": "execute_result"
    }
   ],
   "source": [
    "df11.shape"
   ]
  },
  {
   "cell_type": "code",
   "execution_count": null,
   "metadata": {
    "collapsed": true
   },
   "outputs": [],
   "source": [
    "# Save\n",
    "# df11.to_csv('master_features_prior_and_train_incl_boughtornot_v2.csv', index=False)"
   ]
  },
  {
   "cell_type": "code",
   "execution_count": null,
   "metadata": {
    "collapsed": true
   },
   "outputs": [],
   "source": [
    "# adding in avg elapsed time b/w product purchases feature "
   ]
  },
  {
   "cell_type": "code",
   "execution_count": 19,
   "metadata": {
    "collapsed": true
   },
   "outputs": [],
   "source": [
    "df12=df11"
   ]
  },
  {
   "cell_type": "code",
   "execution_count": 20,
   "metadata": {},
   "outputs": [
    {
     "data": {
      "text/plain": [
       "12"
      ]
     },
     "execution_count": 20,
     "metadata": {},
     "output_type": "execute_result"
    }
   ],
   "source": [
    "del df11; gc.collect()"
   ]
  },
  {
   "cell_type": "code",
   "execution_count": 21,
   "metadata": {},
   "outputs": [
    {
     "data": {
      "text/html": [
       "<div>\n",
       "<style>\n",
       "    .dataframe thead tr:only-child th {\n",
       "        text-align: right;\n",
       "    }\n",
       "\n",
       "    .dataframe thead th {\n",
       "        text-align: left;\n",
       "    }\n",
       "\n",
       "    .dataframe tbody tr th {\n",
       "        vertical-align: top;\n",
       "    }\n",
       "</style>\n",
       "<table border=\"1\" class=\"dataframe\">\n",
       "  <thead>\n",
       "    <tr style=\"text-align: right;\">\n",
       "      <th></th>\n",
       "      <th>order_id</th>\n",
       "      <th>product_id</th>\n",
       "      <th>product_name</th>\n",
       "      <th>user_id</th>\n",
       "      <th>eval_set</th>\n",
       "      <th>reordered</th>\n",
       "      <th>reorder_probability</th>\n",
       "      <th>order_number</th>\n",
       "      <th>order_dow</th>\n",
       "      <th>order_hour_of_day</th>\n",
       "      <th>...</th>\n",
       "      <th>in_last_order</th>\n",
       "      <th>last_order</th>\n",
       "      <th>2nd_last_order</th>\n",
       "      <th>3rd_last_order</th>\n",
       "      <th>add_to_cart_order</th>\n",
       "      <th>avg_add_to_cart_order</th>\n",
       "      <th>order_count</th>\n",
       "      <th>num_products</th>\n",
       "      <th>num_orders</th>\n",
       "      <th>avg_order_size</th>\n",
       "    </tr>\n",
       "  </thead>\n",
       "  <tbody>\n",
       "    <tr>\n",
       "      <th>0</th>\n",
       "      <td>1187899.0</td>\n",
       "      <td>196.0</td>\n",
       "      <td>Soda</td>\n",
       "      <td>1</td>\n",
       "      <td>train</td>\n",
       "      <td>1.0</td>\n",
       "      <td>0.777843</td>\n",
       "      <td>11</td>\n",
       "      <td>4</td>\n",
       "      <td>8</td>\n",
       "      <td>...</td>\n",
       "      <td>1.0</td>\n",
       "      <td>1.0</td>\n",
       "      <td>1.0</td>\n",
       "      <td>1.0</td>\n",
       "      <td>1.0</td>\n",
       "      <td>1.363636</td>\n",
       "      <td>11</td>\n",
       "      <td>70</td>\n",
       "      <td>11.0</td>\n",
       "      <td>6.363636</td>\n",
       "    </tr>\n",
       "    <tr>\n",
       "      <th>1</th>\n",
       "      <td>487368.0</td>\n",
       "      <td>196.0</td>\n",
       "      <td>Soda</td>\n",
       "      <td>15</td>\n",
       "      <td>prior</td>\n",
       "      <td>1.0</td>\n",
       "      <td>0.777843</td>\n",
       "      <td>22</td>\n",
       "      <td>1</td>\n",
       "      <td>10</td>\n",
       "      <td>...</td>\n",
       "      <td>1.0</td>\n",
       "      <td>1.0</td>\n",
       "      <td>1.0</td>\n",
       "      <td>0.0</td>\n",
       "      <td>1.0</td>\n",
       "      <td>2.200000</td>\n",
       "      <td>2</td>\n",
       "      <td>72</td>\n",
       "      <td>22.0</td>\n",
       "      <td>3.272727</td>\n",
       "    </tr>\n",
       "    <tr>\n",
       "      <th>2</th>\n",
       "      <td>532817.0</td>\n",
       "      <td>196.0</td>\n",
       "      <td>Soda</td>\n",
       "      <td>19</td>\n",
       "      <td>prior</td>\n",
       "      <td>1.0</td>\n",
       "      <td>0.777843</td>\n",
       "      <td>7</td>\n",
       "      <td>4</td>\n",
       "      <td>17</td>\n",
       "      <td>...</td>\n",
       "      <td>0.0</td>\n",
       "      <td>0.0</td>\n",
       "      <td>0.0</td>\n",
       "      <td>1.0</td>\n",
       "      <td>1.0</td>\n",
       "      <td>6.333333</td>\n",
       "      <td>42</td>\n",
       "      <td>204</td>\n",
       "      <td>9.0</td>\n",
       "      <td>22.666667</td>\n",
       "    </tr>\n",
       "    <tr>\n",
       "      <th>3</th>\n",
       "      <td>2187180.0</td>\n",
       "      <td>196.0</td>\n",
       "      <td>Soda</td>\n",
       "      <td>43</td>\n",
       "      <td>prior</td>\n",
       "      <td>1.0</td>\n",
       "      <td>0.777843</td>\n",
       "      <td>9</td>\n",
       "      <td>4</td>\n",
       "      <td>12</td>\n",
       "      <td>...</td>\n",
       "      <td>0.0</td>\n",
       "      <td>0.0</td>\n",
       "      <td>0.0</td>\n",
       "      <td>1.0</td>\n",
       "      <td>1.0</td>\n",
       "      <td>5.000000</td>\n",
       "      <td>19</td>\n",
       "      <td>180</td>\n",
       "      <td>12.0</td>\n",
       "      <td>15.000000</td>\n",
       "    </tr>\n",
       "    <tr>\n",
       "      <th>4</th>\n",
       "      <td>2757217.0</td>\n",
       "      <td>196.0</td>\n",
       "      <td>Soda</td>\n",
       "      <td>67</td>\n",
       "      <td>train</td>\n",
       "      <td>1.0</td>\n",
       "      <td>0.777843</td>\n",
       "      <td>25</td>\n",
       "      <td>0</td>\n",
       "      <td>11</td>\n",
       "      <td>...</td>\n",
       "      <td>0.0</td>\n",
       "      <td>0.0</td>\n",
       "      <td>1.0</td>\n",
       "      <td>1.0</td>\n",
       "      <td>1.0</td>\n",
       "      <td>1.400000</td>\n",
       "      <td>3</td>\n",
       "      <td>84</td>\n",
       "      <td>25.0</td>\n",
       "      <td>3.360000</td>\n",
       "    </tr>\n",
       "  </tbody>\n",
       "</table>\n",
       "<p>5 rows × 53 columns</p>\n",
       "</div>"
      ],
      "text/plain": [
       "    order_id  product_id product_name  user_id eval_set  reordered  \\\n",
       "0  1187899.0       196.0         Soda        1    train        1.0   \n",
       "1   487368.0       196.0         Soda       15    prior        1.0   \n",
       "2   532817.0       196.0         Soda       19    prior        1.0   \n",
       "3  2187180.0       196.0         Soda       43    prior        1.0   \n",
       "4  2757217.0       196.0         Soda       67    train        1.0   \n",
       "\n",
       "   reorder_probability  order_number  order_dow  order_hour_of_day  \\\n",
       "0             0.777843            11          4                  8   \n",
       "1             0.777843            22          1                 10   \n",
       "2             0.777843             7          4                 17   \n",
       "3             0.777843             9          4                 12   \n",
       "4             0.777843            25          0                 11   \n",
       "\n",
       "        ...        in_last_order  last_order  2nd_last_order  3rd_last_order  \\\n",
       "0       ...                  1.0         1.0             1.0             1.0   \n",
       "1       ...                  1.0         1.0             1.0             0.0   \n",
       "2       ...                  0.0         0.0             0.0             1.0   \n",
       "3       ...                  0.0         0.0             0.0             1.0   \n",
       "4       ...                  0.0         0.0             1.0             1.0   \n",
       "\n",
       "   add_to_cart_order  avg_add_to_cart_order  order_count  num_products  \\\n",
       "0                1.0               1.363636           11            70   \n",
       "1                1.0               2.200000            2            72   \n",
       "2                1.0               6.333333           42           204   \n",
       "3                1.0               5.000000           19           180   \n",
       "4                1.0               1.400000            3            84   \n",
       "\n",
       "   num_orders  avg_order_size  \n",
       "0        11.0        6.363636  \n",
       "1        22.0        3.272727  \n",
       "2         9.0       22.666667  \n",
       "3        12.0       15.000000  \n",
       "4        25.0        3.360000  \n",
       "\n",
       "[5 rows x 53 columns]"
      ]
     },
     "execution_count": 21,
     "metadata": {},
     "output_type": "execute_result"
    }
   ],
   "source": [
    "df12.head()"
   ]
  },
  {
   "cell_type": "code",
   "execution_count": 22,
   "metadata": {
    "collapsed": true
   },
   "outputs": [],
   "source": [
    "# Read in \n",
    "df13=pd.read_csv('master_elapsedavgordertime_by_product_id_ONLY')"
   ]
  },
  {
   "cell_type": "code",
   "execution_count": 23,
   "metadata": {
    "collapsed": true
   },
   "outputs": [],
   "source": [
    "df14=pd.merge(df12, df13, how='left', on=['product_id'])"
   ]
  },
  {
   "cell_type": "code",
   "execution_count": 24,
   "metadata": {},
   "outputs": [
    {
     "data": {
      "text/plain": [
       "(4925215, 54)"
      ]
     },
     "execution_count": 24,
     "metadata": {},
     "output_type": "execute_result"
    }
   ],
   "source": [
    "df14.shape"
   ]
  },
  {
   "cell_type": "code",
   "execution_count": 25,
   "metadata": {
    "collapsed": true
   },
   "outputs": [],
   "source": [
    "del df12, df13"
   ]
  },
  {
   "cell_type": "code",
   "execution_count": null,
   "metadata": {
    "collapsed": true
   },
   "outputs": [],
   "source": [
    "# Save/read in as needed \n",
    "# df14.to_csv('master_features_prior_and_train_incl_boughtornot_v3.csv', index=False)"
   ]
  },
  {
   "cell_type": "code",
   "execution_count": null,
   "metadata": {
    "collapsed": true
   },
   "outputs": [],
   "source": [
    "# Handling NaNs"
   ]
  },
  {
   "cell_type": "code",
   "execution_count": 26,
   "metadata": {},
   "outputs": [
    {
     "data": {
      "text/plain": [
       "order_id                                 0\n",
       "product_id                               0\n",
       "product_name                             0\n",
       "user_id                                  0\n",
       "eval_set                                 0\n",
       "reordered                                0\n",
       "reorder_probability                      0\n",
       "order_number                             0\n",
       "order_dow                                0\n",
       "order_hour_of_day                        0\n",
       "days_since_prior_order                   0\n",
       "cust_reorder_propensity                  0\n",
       "bought                                   0\n",
       "department_id_1                          0\n",
       "department_id_2                          0\n",
       "department_id_3                          0\n",
       "department_id_4                          0\n",
       "department_id_5                          0\n",
       "department_id_6                          0\n",
       "department_id_7                          0\n",
       "department_id_8                          0\n",
       "department_id_9                          0\n",
       "department_id_10                         0\n",
       "department_id_11                         0\n",
       "department_id_12                         0\n",
       "department_id_13                         0\n",
       "department_id_14                         0\n",
       "department_id_15                         0\n",
       "department_id_16                         0\n",
       "department_id_17                         0\n",
       "department_id_18                         0\n",
       "department_id_19                         0\n",
       "department_id_20                         0\n",
       "department_id_21                         0\n",
       "aisle_id                                 0\n",
       "order_dow_0                              0\n",
       "order_dow_1                              0\n",
       "order_dow_2                              0\n",
       "order_dow_3                              0\n",
       "order_dow_4                              0\n",
       "order_dow_5                              0\n",
       "order_dow_6                              0\n",
       "product_reorder_propensity_by_user       0\n",
       "in_last_order                            0\n",
       "last_order                               0\n",
       "2nd_last_order                           0\n",
       "3rd_last_order                           0\n",
       "add_to_cart_order                        0\n",
       "avg_add_to_cart_order                    0\n",
       "order_count                              0\n",
       "num_products                             0\n",
       "num_orders                               0\n",
       "avg_order_size                           0\n",
       "elapsed_avg                           7673\n",
       "dtype: int64"
      ]
     },
     "execution_count": 26,
     "metadata": {},
     "output_type": "execute_result"
    }
   ],
   "source": [
    "df14.isnull().sum()"
   ]
  },
  {
   "cell_type": "code",
   "execution_count": 27,
   "metadata": {},
   "outputs": [
    {
     "data": {
      "text/plain": [
       "356.0"
      ]
     },
     "execution_count": 27,
     "metadata": {},
     "output_type": "execute_result"
    }
   ],
   "source": [
    "df14.elapsed_avg.max()"
   ]
  },
  {
   "cell_type": "code",
   "execution_count": 28,
   "metadata": {},
   "outputs": [
    {
     "data": {
      "text/plain": [
       "0.0"
      ]
     },
     "execution_count": 28,
     "metadata": {},
     "output_type": "execute_result"
    }
   ],
   "source": [
    "df14.elapsed_avg.min()"
   ]
  },
  {
   "cell_type": "code",
   "execution_count": 29,
   "metadata": {
    "collapsed": true
   },
   "outputs": [],
   "source": [
    "df14.elapsed_avg.fillna(value=365,inplace=True)"
   ]
  },
  {
   "cell_type": "code",
   "execution_count": 30,
   "metadata": {},
   "outputs": [
    {
     "data": {
      "text/plain": [
       "order_id                              0\n",
       "product_id                            0\n",
       "product_name                          0\n",
       "user_id                               0\n",
       "eval_set                              0\n",
       "reordered                             0\n",
       "reorder_probability                   0\n",
       "order_number                          0\n",
       "order_dow                             0\n",
       "order_hour_of_day                     0\n",
       "days_since_prior_order                0\n",
       "cust_reorder_propensity               0\n",
       "bought                                0\n",
       "department_id_1                       0\n",
       "department_id_2                       0\n",
       "department_id_3                       0\n",
       "department_id_4                       0\n",
       "department_id_5                       0\n",
       "department_id_6                       0\n",
       "department_id_7                       0\n",
       "department_id_8                       0\n",
       "department_id_9                       0\n",
       "department_id_10                      0\n",
       "department_id_11                      0\n",
       "department_id_12                      0\n",
       "department_id_13                      0\n",
       "department_id_14                      0\n",
       "department_id_15                      0\n",
       "department_id_16                      0\n",
       "department_id_17                      0\n",
       "department_id_18                      0\n",
       "department_id_19                      0\n",
       "department_id_20                      0\n",
       "department_id_21                      0\n",
       "aisle_id                              0\n",
       "order_dow_0                           0\n",
       "order_dow_1                           0\n",
       "order_dow_2                           0\n",
       "order_dow_3                           0\n",
       "order_dow_4                           0\n",
       "order_dow_5                           0\n",
       "order_dow_6                           0\n",
       "product_reorder_propensity_by_user    0\n",
       "in_last_order                         0\n",
       "last_order                            0\n",
       "2nd_last_order                        0\n",
       "3rd_last_order                        0\n",
       "add_to_cart_order                     0\n",
       "avg_add_to_cart_order                 0\n",
       "order_count                           0\n",
       "num_products                          0\n",
       "num_orders                            0\n",
       "avg_order_size                        0\n",
       "elapsed_avg                           0\n",
       "dtype: int64"
      ]
     },
     "execution_count": 30,
     "metadata": {},
     "output_type": "execute_result"
    }
   ],
   "source": [
    "df14.isnull().sum()"
   ]
  },
  {
   "cell_type": "code",
   "execution_count": null,
   "metadata": {
    "collapsed": true
   },
   "outputs": [],
   "source": [
    "# Save/read in as needed \n",
    "# df14.to_csv('master_features_prior_and_train_incl_boughtornot_v3.csv')\n",
    "# df8=pd.read_csv('master_features_prior_and_train_incl_boughtornot_v3.csv')"
   ]
  },
  {
   "cell_type": "code",
   "execution_count": 33,
   "metadata": {
    "collapsed": true
   },
   "outputs": [],
   "source": [
    "# df14 is the final core dataset; now we move on to preparing the training and test sets "
   ]
  },
  {
   "cell_type": "code",
   "execution_count": null,
   "metadata": {
    "collapsed": true
   },
   "outputs": [],
   "source": [
    "df8=df14\n",
    "del  df14\n",
    "gc.collect()"
   ]
  },
  {
   "cell_type": "code",
   "execution_count": 35,
   "metadata": {},
   "outputs": [
    {
     "data": {
      "text/plain": [
       "(4925215, 54)"
      ]
     },
     "execution_count": 35,
     "metadata": {},
     "output_type": "execute_result"
    }
   ],
   "source": [
    "df8.shape"
   ]
  },
  {
   "cell_type": "code",
   "execution_count": 37,
   "metadata": {
    "collapsed": true
   },
   "outputs": [],
   "source": [
    "featureset3=['reordered', 'reorder_probability', 'order_number',\n",
    "       'order_hour_of_day', 'days_since_prior_order',\n",
    "       'cust_reorder_propensity', 'department_id_1',\n",
    "       'department_id_2', 'department_id_3', 'department_id_4',\n",
    "       'department_id_5', 'department_id_6', 'department_id_7',\n",
    "       'department_id_8', 'department_id_9', 'department_id_10',\n",
    "       'department_id_11', 'department_id_12', 'department_id_13',\n",
    "       'department_id_14', 'department_id_15', 'department_id_16',\n",
    "       'department_id_17', 'department_id_18', 'department_id_19',\n",
    "       'department_id_20', 'department_id_21','product_reorder_propensity_by_user',\n",
    "       'last_order', '2nd_last_order', '3rd_last_order', 'avg_add_to_cart_order', 'avg_order_size', 'elapsed_avg']"
   ]
  },
  {
   "cell_type": "code",
   "execution_count": 38,
   "metadata": {
    "collapsed": true
   },
   "outputs": [],
   "source": [
    "# Note: dropped aisle_id from feature set (among others)\n",
    "X=df8[featureset3].values\n",
    "#X = df8.drop(drop_cols, axis=1).values\n",
    "y = df8['bought'].values"
   ]
  },
  {
   "cell_type": "code",
   "execution_count": 40,
   "metadata": {
    "collapsed": true
   },
   "outputs": [],
   "source": [
    "#Splitting training and testing data... \n",
    "from sklearn.model_selection import train_test_split\n",
    "X_train, X_test, y_train, y_test = train_test_split(X, y,test_size=0.20)"
   ]
  },
  {
   "cell_type": "code",
   "execution_count": 41,
   "metadata": {},
   "outputs": [
    {
     "data": {
      "text/plain": [
       "985043"
      ]
     },
     "execution_count": 41,
     "metadata": {},
     "output_type": "execute_result"
    }
   ],
   "source": [
    "len(X_test)"
   ]
  },
  {
   "cell_type": "markdown",
   "metadata": {
    "collapsed": true
   },
   "source": [
    "Modeling....\n",
    "Experimented with a variety of models-- Decision Tree, Naive Bayes, etc.  Ultimately, used Random Forest classifier for final submission. The classifier predicted which products from a user's last three orders would make it into his/her final basket. F1 score was used in evaluating models  -- but internal f1 scores here did not always align precisely with the competition's scoring.  Thus, I relied more on the competition's scoring mechanism for parameter tuning.    "
   ]
  },
  {
   "cell_type": "code",
   "execution_count": 46,
   "metadata": {},
   "outputs": [
    {
     "name": "stdout",
     "output_type": "stream",
     "text": [
      "             precision    recall  f1-score   support\n",
      "\n",
      "          0       0.99      0.99      0.99    860177\n",
      "          1       0.91      0.91      0.91    124866\n",
      "\n",
      "avg / total       0.98      0.98      0.98    985043\n",
      "\n"
     ]
    }
   ],
   "source": [
    "# Decision Tree\n",
    "from sklearn.tree import DecisionTreeClassifier\n",
    "from sklearn.metrics import classification_report\n",
    "\n",
    "infoGain_clf = DecisionTreeClassifier(criterion='entropy', class_weight='balanced')\n",
    "infoGain_clf.fit (X_train, y_train) \n",
    "predicted = infoGain_clf.predict(X_test)\n",
    "print(classification_report(y_test, predicted))"
   ]
  },
  {
   "cell_type": "code",
   "execution_count": 47,
   "metadata": {},
   "outputs": [
    {
     "name": "stdout",
     "output_type": "stream",
     "text": [
      "[ 0.94134069  0.97277682  0.97943643  0.97978565  0.98387378]\n",
      "0.971442676621\n"
     ]
    }
   ],
   "source": [
    "# Cross validate \n",
    "from sklearn.model_selection import cross_val_score\n",
    "scores = cross_val_score(infoGain_clf, X, y, cv=5)\n",
    "print(scores)\n",
    "print(scores.mean())"
   ]
  },
  {
   "cell_type": "code",
   "execution_count": 48,
   "metadata": {},
   "outputs": [
    {
     "name": "stdout",
     "output_type": "stream",
     "text": [
      "             precision    recall  f1-score   support\n",
      "\n",
      "          0       0.99      0.99      0.99    860177\n",
      "          1       0.91      0.91      0.91    124866\n",
      "\n",
      "avg / total       0.98      0.98      0.98    985043\n",
      "\n"
     ]
    }
   ],
   "source": [
    "# Experiment with lower classification thresholds to boost recall   \n",
    "y_test_probabilities= infoGain_clf.predict_proba(X_test)\n",
    "y_predicted_high_recall = y_test_probabilities[:,1]>0.40\n",
    "print (classification_report(y_test, y_predicted_high_recall))"
   ]
  },
  {
   "cell_type": "code",
   "execution_count": 49,
   "metadata": {},
   "outputs": [
    {
     "data": {
      "text/plain": [
       "[('reordered', 0.33842022374037106),\n",
       " ('reorder_probability', 0.007926402154797705),\n",
       " ('order_number', 0.3990679469166401),\n",
       " ('order_hour_of_day', 0.0059569200353608819),\n",
       " ('days_since_prior_order', 0.0056338563932641535),\n",
       " ('cust_reorder_propensity', 0.0099138879741721506),\n",
       " ('department_id_1', 0.00043001476787072468),\n",
       " ('department_id_2', 2.7224831635541749e-06),\n",
       " ('department_id_3', 0.0004282100423332214),\n",
       " ('department_id_4', 0.00070947952878459863),\n",
       " ('department_id_5', 6.4529449249652837e-05),\n",
       " ('department_id_6', 5.3405092511311479e-05),\n",
       " ('department_id_7', 0.0005963637239594714),\n",
       " ('department_id_8', 3.8443279043575462e-05),\n",
       " ('department_id_9', 0.00015565598134049423),\n",
       " ('department_id_10', 9.4506811589607493e-06),\n",
       " ('department_id_11', 5.5675904821559777e-05),\n",
       " ('department_id_12', 0.00021635132560019743),\n",
       " ('department_id_13', 0.00014097113763138504),\n",
       " ('department_id_14', 0.00018754613610071316),\n",
       " ('department_id_15', 0.00017369081284980729),\n",
       " ('department_id_16', 0.00069549655820698268),\n",
       " ('department_id_17', 0.00011397208062401198),\n",
       " ('department_id_18', 0.00015876029893620509),\n",
       " ('department_id_19', 0.0006319561789350233),\n",
       " ('department_id_20', 0.00033074759741268459),\n",
       " ('department_id_21', 3.301268050493808e-05),\n",
       " ('product_reorder_propensity_by_user', 0.18006375711309064),\n",
       " ('last_order', 0.0092245130915071041),\n",
       " ('2nd_last_order', 0.0053562036603637892),\n",
       " ('3rd_last_order', 0.0038266925739876773),\n",
       " ('avg_add_to_cart_order', 0.0094479399430721454),\n",
       " ('avg_order_size', 0.009347717922951632),\n",
       " ('elapsed_avg', 0.010587482739381924)]"
      ]
     },
     "execution_count": 49,
     "metadata": {},
     "output_type": "execute_result"
    }
   ],
   "source": [
    "importances = infoGain_clf.feature_importances_\n",
    "list(zip(featureset3,importances))"
   ]
  },
  {
   "cell_type": "code",
   "execution_count": 55,
   "metadata": {},
   "outputs": [
    {
     "name": "stdout",
     "output_type": "stream",
     "text": [
      "             precision    recall  f1-score   support\n",
      "\n",
      "          0       0.90      0.99      0.94    860177\n",
      "          1       0.74      0.25      0.38    124866\n",
      "\n",
      "avg / total       0.88      0.89      0.87    985043\n",
      "\n"
     ]
    }
   ],
   "source": [
    "# Gradient Boosting Classifier\n",
    "from sklearn.ensemble import GradientBoostingClassifier\n",
    "# defaults = 100 trees, max depth 3, learning rate 0.01\n",
    "GradientBoosting_clf=GradientBoostingClassifier()\n",
    "GradientBoosting_clf.fit (X_train, y_train) \n",
    "predicted = GradientBoosting_clf.predict(X_test)\n",
    "print (classification_report(y_test, predicted))"
   ]
  },
  {
   "cell_type": "code",
   "execution_count": 51,
   "metadata": {},
   "outputs": [
    {
     "name": "stdout",
     "output_type": "stream",
     "text": [
      "Accuracy on training set: 0.894\n",
      "Accuracy on test set: 0.894\n"
     ]
    }
   ],
   "source": [
    "print (\"Accuracy on training set: {:.3f}\".format(GradientBoosting_clf.score(X_train, y_train)))\n",
    "print (\"Accuracy on test set: {:.3f}\".format(GradientBoosting_clf.score(X_test, y_test)))"
   ]
  },
  {
   "cell_type": "code",
   "execution_count": 52,
   "metadata": {},
   "outputs": [
    {
     "data": {
      "text/plain": [
       "[('reordered', 0.083815040222933956),\n",
       " ('reorder_probability', 0.0),\n",
       " ('order_number', 0.29945442044030485),\n",
       " ('order_hour_of_day', 0.0),\n",
       " ('days_since_prior_order', 0.049672948208404996),\n",
       " ('cust_reorder_propensity', 0.0045496107257348766),\n",
       " ('department_id_1', 0.0),\n",
       " ('department_id_2', 0.0),\n",
       " ('department_id_3', 0.0),\n",
       " ('department_id_4', 0.0017062644663406483),\n",
       " ('department_id_5', 0.0),\n",
       " ('department_id_6', 0.0),\n",
       " ('department_id_7', 0.0),\n",
       " ('department_id_8', 0.0),\n",
       " ('department_id_9', 0.0),\n",
       " ('department_id_10', 0.0),\n",
       " ('department_id_11', 0.0),\n",
       " ('department_id_12', 0.0),\n",
       " ('department_id_13', 0.0),\n",
       " ('department_id_14', 0.0),\n",
       " ('department_id_15', 0.0),\n",
       " ('department_id_16', 0.0),\n",
       " ('department_id_17', 0.0),\n",
       " ('department_id_18', 0.0),\n",
       " ('department_id_19', 0.0),\n",
       " ('department_id_20', 0.0),\n",
       " ('department_id_21', 0.0015974366535915488),\n",
       " ('product_reorder_propensity_by_user', 0.35289471286434554),\n",
       " ('last_order', 0.055689386716361193),\n",
       " ('2nd_last_order', 0.061866991754224616),\n",
       " ('3rd_last_order', 0.059037090610795637),\n",
       " ('avg_add_to_cart_order', 0.013608144033059367),\n",
       " ('avg_order_size', 0.0011388954202370954),\n",
       " ('elapsed_avg', 0.014969057883665673)]"
      ]
     },
     "execution_count": 52,
     "metadata": {},
     "output_type": "execute_result"
    }
   ],
   "source": [
    "importances = GradientBoosting_clf.feature_importances_\n",
    "list(zip(featureset3,importances))"
   ]
  },
  {
   "cell_type": "code",
   "execution_count": 53,
   "metadata": {},
   "outputs": [
    {
     "name": "stdout",
     "output_type": "stream",
     "text": [
      "             precision    recall  f1-score   support\n",
      "\n",
      "          0       0.89      0.99      0.94    860177\n",
      "          1       0.69      0.12      0.20    124866\n",
      "\n",
      "avg / total       0.86      0.88      0.84    985043\n",
      "\n"
     ]
    }
   ],
   "source": [
    "# Some tuning on Gradient Boosting model \n",
    "GradientBoosting_clf=GradientBoostingClassifier(init=None, learning_rate=0.1, loss='deviance',\n",
    "              max_depth=2, max_features='sqrt', max_leaf_nodes=None,\n",
    "              min_samples_leaf=100, min_samples_split=35000,\n",
    "              min_weight_fraction_leaf=0.0, n_estimators=60,\n",
    "              presort='auto', random_state=10, subsample=0.8, verbose=0,\n",
    "              warm_start=False)\n",
    "GradientBoosting_clf.fit (X_train, y_train) \n",
    "predicted = GradientBoosting_clf.predict(X_test)\n",
    "print(classification_report(y_test, predicted))"
   ]
  },
  {
   "cell_type": "code",
   "execution_count": 56,
   "metadata": {},
   "outputs": [
    {
     "name": "stdout",
     "output_type": "stream",
     "text": [
      "             precision    recall  f1-score   support\n",
      "\n",
      "          0       0.91      0.99      0.95    860177\n",
      "          1       0.82      0.31      0.45    124866\n",
      "\n",
      "avg / total       0.90      0.90      0.89    985043\n",
      "\n"
     ]
    }
   ],
   "source": [
    "# Light GBM Model \n",
    "\n",
    "import lightgbm as lgb\n",
    "\n",
    "params = {'boosting_type': 'gbdt',\n",
    "          'max_depth' : 10,\n",
    "          'objective': 'binary', \n",
    "          'nthread': 5, \n",
    "          'silent': True,\n",
    "          'num_leaves': 96, \n",
    "          'learning_rate': 0.1, \n",
    "          'max_bin': 250, \n",
    "          'subsample_for_bin': 200,\n",
    "          'subsample': 1, \n",
    "          'subsample_freq': 1, \n",
    "          'colsample_bytree': 0.8, \n",
    "          'reg_alpha': 5, \n",
    "          'reg_lambda': 10,\n",
    "          'min_split_gain': 0.5, \n",
    "          'min_child_weight': 1, \n",
    "          'min_child_samples': 5, \n",
    "          'scale_pos_weight': 1,\n",
    "          'num_class' : 1,\n",
    "          'metric' : 'auc', \n",
    "          'task': 'train',\n",
    "          'feature_fraction': 0.9,\n",
    "          'bagging_fraction': 0.95,\n",
    "          'bagging_freq': 5\n",
    "          }\n",
    "\n",
    "lgb_clf = lgb.LGBMClassifier(boosting_type= 'gbdt', \n",
    "          objective = 'binary', \n",
    "          nthread = 5, \n",
    "          silent = True,\n",
    "          min_data_in_leaf= 200,                   \n",
    "          max_depth = params['max_depth'],\n",
    "          max_bin = params['max_bin'], \n",
    "          subsample_for_bin = params['subsample_for_bin'],\n",
    "          subsample = params['subsample'], \n",
    "          subsample_freq = params['subsample_freq'], \n",
    "          min_split_gain = params['min_split_gain'], \n",
    "          min_child_weight = params['min_child_weight'], \n",
    "          min_child_samples = params['min_child_samples'], \n",
    "          scale_pos_weight = params['scale_pos_weight'])\n",
    "lgb_clf.fit (X_train, y_train) \n",
    "predicted = lgb_clf.predict(X_test)\n",
    "print (classification_report(y_test, predicted))"
   ]
  },
  {
   "cell_type": "code",
   "execution_count": 58,
   "metadata": {},
   "outputs": [
    {
     "data": {
      "text/plain": [
       "[('order_number', 145),\n",
       " ('product_reorder_propensity_by_user', 105),\n",
       " ('3rd_last_order', 17),\n",
       " ('2nd_last_order', 11),\n",
       " ('reordered', 10),\n",
       " ('last_order', 9),\n",
       " ('elapsed_avg', 3),\n",
       " ('reorder_probability', 0),\n",
       " ('order_hour_of_day', 0),\n",
       " ('days_since_prior_order', 0),\n",
       " ('cust_reorder_propensity', 0),\n",
       " ('department_id_1', 0),\n",
       " ('department_id_2', 0),\n",
       " ('department_id_3', 0),\n",
       " ('department_id_4', 0),\n",
       " ('department_id_5', 0),\n",
       " ('department_id_6', 0),\n",
       " ('department_id_7', 0),\n",
       " ('department_id_8', 0),\n",
       " ('department_id_9', 0),\n",
       " ('department_id_10', 0),\n",
       " ('department_id_11', 0),\n",
       " ('department_id_12', 0),\n",
       " ('department_id_13', 0),\n",
       " ('department_id_14', 0),\n",
       " ('department_id_15', 0),\n",
       " ('department_id_16', 0),\n",
       " ('department_id_17', 0),\n",
       " ('department_id_18', 0),\n",
       " ('department_id_19', 0),\n",
       " ('department_id_20', 0),\n",
       " ('department_id_21', 0),\n",
       " ('avg_add_to_cart_order', 0),\n",
       " ('avg_order_size', 0)]"
      ]
     },
     "execution_count": 58,
     "metadata": {},
     "output_type": "execute_result"
    }
   ],
   "source": [
    "importances = lgb_clf.feature_importances_\n",
    "from operator import itemgetter\n",
    "sorted(list(zip(featureset3,importances)),key=itemgetter(1), reverse=True )"
   ]
  },
  {
   "cell_type": "code",
   "execution_count": 59,
   "metadata": {},
   "outputs": [
    {
     "name": "stdout",
     "output_type": "stream",
     "text": [
      "             precision    recall  f1-score   support\n",
      "\n",
      "          0       0.98      0.60      0.75    860177\n",
      "          1       0.25      0.91      0.39    124866\n",
      "\n",
      "avg / total       0.89      0.64      0.70    985043\n",
      "\n"
     ]
    }
   ],
   "source": [
    "# Naive Bayes\n",
    "from sklearn.naive_bayes import GaussianNB\n",
    "bayes_clf = GaussianNB()\n",
    "bayes_clf.fit (X_train, y_train)\n",
    "predicted = bayes_clf.predict(X_test)\n",
    "print (classification_report(y_test, predicted))"
   ]
  },
  {
   "cell_type": "code",
   "execution_count": null,
   "metadata": {
    "collapsed": true
   },
   "outputs": [],
   "source": [
    "#Random Forest Classifier Model \n",
    "from sklearn.ensemble import RandomForestClassifier\n",
    "RandomForest_clf = RandomForestClassifier( max_depth=9, min_samples_leaf=100, max_features='sqrt',\n",
    "                                          class_weight='balanced_subsample')\n",
    "RandomForest_clf.fit(X_train, y_train)"
   ]
  },
  {
   "cell_type": "code",
   "execution_count": 71,
   "metadata": {},
   "outputs": [
    {
     "name": "stdout",
     "output_type": "stream",
     "text": [
      "Residual sum of squares: 0.30\n",
      "Variance score: 0.70\n",
      "             precision    recall  f1-score   support\n",
      "\n",
      "          0       0.99      0.66      0.79    860177\n",
      "          1       0.29      0.95      0.44    124866\n",
      "\n",
      "avg / total       0.90      0.70      0.75    985043\n",
      "\n",
      "predicted: [1 1 1 1 1 0 1 0 1 1]\n",
      "truth: [0 0 0 0 0 0 1 0 1 0]\n"
     ]
    }
   ],
   "source": [
    "#The mean square error\n",
    "print (\"Residual sum of squares: %.2f\" % np.mean((RandomForest_clf.predict(X_test) - y_test) ** 2))\n",
    "\n",
    "#Explained variance score: 1 is perfect prediction\n",
    "#Returns the mean accuracy on the given test data and labels.\n",
    "print ('Variance score: %.2f' % RandomForest_clf.score(X_test, y_test))\n",
    "print (classification_report(y_test,RandomForest_clf.predict(X_test)))\n",
    "\n",
    "# Added\n",
    "print (\"predicted:\", RandomForest_clf.predict(X_test[-10:,:]))\n",
    "print (\"truth:\", y_test[-10:])"
   ]
  },
  {
   "cell_type": "code",
   "execution_count": 77,
   "metadata": {},
   "outputs": [
    {
     "name": "stdout",
     "output_type": "stream",
     "text": [
      "             precision    recall  f1-score   support\n",
      "\n",
      "          0       1.00      0.57      0.73    860177\n",
      "          1       0.25      1.00      0.40    124866\n",
      "\n",
      "avg / total       0.91      0.62      0.69    985043\n",
      "\n"
     ]
    }
   ],
   "source": [
    "y_test_probabilities= RandomForest_clf.predict_proba(X_test)\n",
    "y_predicted_high_recall = y_test_probabilities[:,1]>0.35\n",
    "print (classification_report(y_test, y_predicted_high_recall))"
   ]
  },
  {
   "cell_type": "markdown",
   "metadata": {
    "collapsed": true
   },
   "source": [
    "Final Submission...\n",
    "- Take same core basket as before \n",
    "- Merge it with test orders -- apply new episodic data from test orders \n",
    "- Run predictions using the classifier fitted on prior/train data \n",
    "- Append predictions and submit "
   ]
  },
  {
   "cell_type": "code",
   "execution_count": 79,
   "metadata": {
    "collapsed": true
   },
   "outputs": [],
   "source": [
    "# Reread \n",
    "dfZ=pd.read_csv('master_final_test_baskets_v4')"
   ]
  },
  {
   "cell_type": "code",
   "execution_count": 80,
   "metadata": {},
   "outputs": [
    {
     "data": {
      "text/plain": [
       "(4833292, 40)"
      ]
     },
     "execution_count": 80,
     "metadata": {},
     "output_type": "execute_result"
    }
   ],
   "source": [
    "dfZ.shape"
   ]
  },
  {
   "cell_type": "code",
   "execution_count": 81,
   "metadata": {},
   "outputs": [
    {
     "data": {
      "text/plain": [
       "Index(['order_id_x', 'user_id', 'product_id', 'reordered',\n",
       "       'reorder_probability', 'order_number', 'order_dow_0', 'order_dow_1',\n",
       "       'order_dow_2', 'order_dow_3', 'order_dow_4', 'order_dow_5',\n",
       "       'order_dow_6', 'order_hour_of_day', 'days_since_prior_order',\n",
       "       'department_id_1', 'department_id_2', 'department_id_3',\n",
       "       'department_id_4', 'department_id_5', 'department_id_6',\n",
       "       'department_id_7', 'department_id_8', 'department_id_9',\n",
       "       'department_id_10', 'department_id_11', 'department_id_12',\n",
       "       'department_id_13', 'department_id_14', 'department_id_15',\n",
       "       'department_id_16', 'department_id_17', 'department_id_18',\n",
       "       'department_id_19', 'department_id_20', 'department_id_21',\n",
       "       'cust_reorder_propensity', 'product_reorder_propensity_by_user',\n",
       "       'order_id_y', 'in_last_order'],\n",
       "      dtype='object')"
      ]
     },
     "execution_count": 81,
     "metadata": {},
     "output_type": "execute_result"
    }
   ],
   "source": [
    "dfZ.columns"
   ]
  },
  {
   "cell_type": "code",
   "execution_count": 82,
   "metadata": {
    "collapsed": true
   },
   "outputs": [],
   "source": [
    "# Read in \n",
    "df11=pd.read_csv('master_features_prior_and_train_incl_boughtornot_v2.csv')"
   ]
  },
  {
   "cell_type": "code",
   "execution_count": 83,
   "metadata": {},
   "outputs": [
    {
     "data": {
      "text/plain": [
       "(4925215, 53)"
      ]
     },
     "execution_count": 83,
     "metadata": {},
     "output_type": "execute_result"
    }
   ],
   "source": [
    "df11.shape"
   ]
  },
  {
   "cell_type": "code",
   "execution_count": 84,
   "metadata": {
    "collapsed": true
   },
   "outputs": [],
   "source": [
    "df11= df11[['order_id', 'product_id', 'user_id', 'last_order', '2nd_last_order', '3rd_last_order','avg_add_to_cart_order', 'num_products', 'num_orders', 'avg_order_size']]"
   ]
  },
  {
   "cell_type": "code",
   "execution_count": 85,
   "metadata": {
    "collapsed": true
   },
   "outputs": [],
   "source": [
    "dfZ=pd.merge(dfZ, df11, how='left', on=['product_id', 'user_id'])"
   ]
  },
  {
   "cell_type": "code",
   "execution_count": 86,
   "metadata": {},
   "outputs": [
    {
     "data": {
      "text/plain": [
       "13629"
      ]
     },
     "execution_count": 86,
     "metadata": {},
     "output_type": "execute_result"
    }
   ],
   "source": [
    "del df11; gc.collect()"
   ]
  },
  {
   "cell_type": "code",
   "execution_count": 87,
   "metadata": {
    "collapsed": true
   },
   "outputs": [],
   "source": [
    "# Remove products not ordered in user's last 3 orders \n",
    "dfZ=dfZ.loc[(dfZ['last_order']==1) | (dfZ['2nd_last_order']==1) | (dfZ['3rd_last_order']==1)]"
   ]
  },
  {
   "cell_type": "code",
   "execution_count": 88,
   "metadata": {},
   "outputs": [
    {
     "data": {
      "text/plain": [
       "(1793764, 48)"
      ]
     },
     "execution_count": 88,
     "metadata": {},
     "output_type": "execute_result"
    }
   ],
   "source": [
    "dfZ.shape "
   ]
  },
  {
   "cell_type": "code",
   "execution_count": 89,
   "metadata": {
    "collapsed": true
   },
   "outputs": [],
   "source": [
    "# Save as needed \n",
    "# dfZ.to_csv('master_final_test_baskets_v5_addl_features_appended', index=False)"
   ]
  },
  {
   "cell_type": "code",
   "execution_count": null,
   "metadata": {
    "collapsed": true
   },
   "outputs": [],
   "source": [
    "# appends elapsed_avg to test set "
   ]
  },
  {
   "cell_type": "code",
   "execution_count": 90,
   "metadata": {
    "collapsed": true
   },
   "outputs": [],
   "source": [
    "# Read in \n",
    "dfA=pd.read_csv('master_elapsedavgordertime_by_product_id_ONLY')"
   ]
  },
  {
   "cell_type": "code",
   "execution_count": 91,
   "metadata": {
    "collapsed": true
   },
   "outputs": [],
   "source": [
    "# Read in as needed \n",
    "# dfX=pd.read_csv('master_final_test_baskets_v5_addl_features_appended')\n",
    "dfX=dfZ"
   ]
  },
  {
   "cell_type": "code",
   "execution_count": 92,
   "metadata": {
    "collapsed": true
   },
   "outputs": [],
   "source": [
    "dfY=pd.merge(dfX, dfA, on='product_id', how='left')"
   ]
  },
  {
   "cell_type": "code",
   "execution_count": 93,
   "metadata": {},
   "outputs": [
    {
     "data": {
      "text/plain": [
       "(1793764, 49)"
      ]
     },
     "execution_count": 93,
     "metadata": {},
     "output_type": "execute_result"
    }
   ],
   "source": [
    "dfY.shape"
   ]
  },
  {
   "cell_type": "code",
   "execution_count": 94,
   "metadata": {},
   "outputs": [
    {
     "data": {
      "text/plain": [
       "2900"
      ]
     },
     "execution_count": 94,
     "metadata": {},
     "output_type": "execute_result"
    }
   ],
   "source": [
    "dfY.elapsed_avg.isnull().sum()"
   ]
  },
  {
   "cell_type": "code",
   "execution_count": 95,
   "metadata": {
    "collapsed": true
   },
   "outputs": [],
   "source": [
    "dfY.elapsed_avg.fillna(value=365, inplace=True)"
   ]
  },
  {
   "cell_type": "code",
   "execution_count": 96,
   "metadata": {},
   "outputs": [
    {
     "data": {
      "text/plain": [
       "0"
      ]
     },
     "execution_count": 96,
     "metadata": {},
     "output_type": "execute_result"
    }
   ],
   "source": [
    "dfY.elapsed_avg.isnull().sum()"
   ]
  },
  {
   "cell_type": "code",
   "execution_count": 97,
   "metadata": {
    "collapsed": true
   },
   "outputs": [],
   "source": [
    "# Save\n",
    "# dfY.to_csv('master_final_test_baskets_v6_addl_features_appended', index=False)"
   ]
  },
  {
   "cell_type": "code",
   "execution_count": 98,
   "metadata": {
    "collapsed": true
   },
   "outputs": [],
   "source": [
    "# This is the final dataset for use in the submission; aligns with the training dataset \n",
    "dfZ=dfY\n",
    "del dfA, dfY"
   ]
  },
  {
   "cell_type": "code",
   "execution_count": null,
   "metadata": {
    "collapsed": true
   },
   "outputs": [],
   "source": [
    "# Read in, as needed\n",
    "# dfZ=pd.read_csv('master_final_test_baskets_v6_addl_features_appended')"
   ]
  },
  {
   "cell_type": "code",
   "execution_count": null,
   "metadata": {
    "collapsed": true
   },
   "outputs": [],
   "source": [
    "Apply Model to Test (Submission) Dataset..."
   ]
  },
  {
   "cell_type": "code",
   "execution_count": 99,
   "metadata": {
    "collapsed": true
   },
   "outputs": [],
   "source": [
    "X_final=dfZ[featureset3].values"
   ]
  },
  {
   "cell_type": "code",
   "execution_count": 101,
   "metadata": {
    "collapsed": true
   },
   "outputs": [],
   "source": [
    "# Apply RF Model \n",
    "predicted = RandomForest_clf.predict(X_final) "
   ]
  },
  {
   "cell_type": "code",
   "execution_count": 102,
   "metadata": {
    "collapsed": true
   },
   "outputs": [],
   "source": [
    "# Append predicted column\n",
    "dfZ['predicted']= predicted"
   ]
  },
  {
   "cell_type": "code",
   "execution_count": 103,
   "metadata": {
    "collapsed": true
   },
   "outputs": [],
   "source": [
    "# Selects only the predicted as \"bought\" items\n",
    "dfZ=dfZ.loc[dfZ['predicted']==1]"
   ]
  },
  {
   "cell_type": "code",
   "execution_count": 104,
   "metadata": {
    "collapsed": true
   },
   "outputs": [],
   "source": [
    "def products_concat(vet):\n",
    "    \n",
    "    \"\"\" Turns a column of predicted purchased products by user ID into a space delimited list -- \n",
    "    for submission for grading \"\"\"\n",
    "    \n",
    "    out = ''\n",
    "    \n",
    "    #vet is a pd.Series\n",
    "    for prod in vet:\n",
    "        if prod > 0:\n",
    "            out += str(int(prod)) + ' '\n",
    "    \n",
    "    if out != '':\n",
    "        return out.rstrip()\n",
    "    else:\n",
    "        return 'None'"
   ]
  },
  {
   "cell_type": "code",
   "execution_count": 105,
   "metadata": {},
   "outputs": [
    {
     "data": {
      "text/plain": [
       "user_id\n",
       "3     47766 17668 18599 21903 23650 24810 32402 3919...\n",
       "4                                                 35469\n",
       "6                                           21903 38293\n",
       "11    8309 14947 20383 27959 28465 33572 34658 35948...\n",
       "12    13176 14992 21616 5746 7076 8239 10863 20350 2...\n",
       "Name: product_id, dtype: object"
      ]
     },
     "execution_count": 105,
     "metadata": {},
     "output_type": "execute_result"
    }
   ],
   "source": [
    "# Concat all product by user in space delimited column \n",
    "user_products = dfZ.groupby('user_id').product_id.apply(products_concat)\n",
    "user_products.head()"
   ]
  },
  {
   "cell_type": "code",
   "execution_count": null,
   "metadata": {
    "collapsed": true
   },
   "outputs": [],
   "source": [
    "# Retrieves the test set \n",
    "all_products_ordered_deduped_by_userID = pd.read_csv('master_all_products_ordered_deduped_by_usedID.csv', index_col=0) "
   ]
  },
  {
   "cell_type": "code",
   "execution_count": 107,
   "metadata": {},
   "outputs": [
    {
     "data": {
      "text/html": [
       "<div>\n",
       "<style>\n",
       "    .dataframe thead tr:only-child th {\n",
       "        text-align: right;\n",
       "    }\n",
       "\n",
       "    .dataframe thead th {\n",
       "        text-align: left;\n",
       "    }\n",
       "\n",
       "    .dataframe tbody tr th {\n",
       "        vertical-align: top;\n",
       "    }\n",
       "</style>\n",
       "<table border=\"1\" class=\"dataframe\">\n",
       "  <thead>\n",
       "    <tr style=\"text-align: right;\">\n",
       "      <th></th>\n",
       "      <th>order_id</th>\n",
       "      <th>user_id</th>\n",
       "      <th>product_id</th>\n",
       "    </tr>\n",
       "  </thead>\n",
       "  <tbody>\n",
       "    <tr>\n",
       "      <th>33819106</th>\n",
       "      <td>2774568.0</td>\n",
       "      <td>3</td>\n",
       "      <td>47766 17668 18599 21903 23650 24810 32402 3919...</td>\n",
       "    </tr>\n",
       "    <tr>\n",
       "      <th>33819107</th>\n",
       "      <td>329954.0</td>\n",
       "      <td>4</td>\n",
       "      <td>35469</td>\n",
       "    </tr>\n",
       "    <tr>\n",
       "      <th>33819108</th>\n",
       "      <td>1528013.0</td>\n",
       "      <td>6</td>\n",
       "      <td>21903 38293</td>\n",
       "    </tr>\n",
       "    <tr>\n",
       "      <th>33819109</th>\n",
       "      <td>1376945.0</td>\n",
       "      <td>11</td>\n",
       "      <td>8309 14947 20383 27959 28465 33572 34658 35948...</td>\n",
       "    </tr>\n",
       "    <tr>\n",
       "      <th>33819110</th>\n",
       "      <td>1356845.0</td>\n",
       "      <td>12</td>\n",
       "      <td>13176 14992 21616 5746 7076 8239 10863 20350 2...</td>\n",
       "    </tr>\n",
       "  </tbody>\n",
       "</table>\n",
       "</div>"
      ],
      "text/plain": [
       "           order_id  user_id  \\\n",
       "33819106  2774568.0        3   \n",
       "33819107   329954.0        4   \n",
       "33819108  1528013.0        6   \n",
       "33819109  1376945.0       11   \n",
       "33819110  1356845.0       12   \n",
       "\n",
       "                                                 product_id  \n",
       "33819106  47766 17668 18599 21903 23650 24810 32402 3919...  \n",
       "33819107                                              35469  \n",
       "33819108                                        21903 38293  \n",
       "33819109  8309 14947 20383 27959 28465 33572 34658 35948...  \n",
       "33819110  13176 14992 21616 5746 7076 8239 10863 20350 2...  "
      ]
     },
     "execution_count": 107,
     "metadata": {},
     "output_type": "execute_result"
    }
   ],
   "source": [
    "# Generating test set, which contains the user_id and every product he/she bought.\n",
    "test_set = all_products_ordered_deduped_by_userID.loc[all_products_ordered_deduped_by_userID.eval_set == 'test'][['order_id', 'user_id']]\n",
    "test_set = test_set.join(user_products, on='user_id')\n",
    "test_set.head()"
   ]
  },
  {
   "cell_type": "code",
   "execution_count": 108,
   "metadata": {},
   "outputs": [
    {
     "data": {
      "text/html": [
       "<div>\n",
       "<style>\n",
       "    .dataframe thead tr:only-child th {\n",
       "        text-align: right;\n",
       "    }\n",
       "\n",
       "    .dataframe thead th {\n",
       "        text-align: left;\n",
       "    }\n",
       "\n",
       "    .dataframe tbody tr th {\n",
       "        vertical-align: top;\n",
       "    }\n",
       "</style>\n",
       "<table border=\"1\" class=\"dataframe\">\n",
       "  <thead>\n",
       "    <tr style=\"text-align: right;\">\n",
       "      <th></th>\n",
       "      <th>order_id</th>\n",
       "      <th>user_id</th>\n",
       "      <th>product_id</th>\n",
       "    </tr>\n",
       "  </thead>\n",
       "  <tbody>\n",
       "    <tr>\n",
       "      <th>33819106</th>\n",
       "      <td>2774568.0</td>\n",
       "      <td>3</td>\n",
       "      <td>47766 17668 18599 21903 23650 24810 32402 3919...</td>\n",
       "    </tr>\n",
       "    <tr>\n",
       "      <th>33819107</th>\n",
       "      <td>329954.0</td>\n",
       "      <td>4</td>\n",
       "      <td>35469</td>\n",
       "    </tr>\n",
       "    <tr>\n",
       "      <th>33819108</th>\n",
       "      <td>1528013.0</td>\n",
       "      <td>6</td>\n",
       "      <td>21903 38293</td>\n",
       "    </tr>\n",
       "    <tr>\n",
       "      <th>33819109</th>\n",
       "      <td>1376945.0</td>\n",
       "      <td>11</td>\n",
       "      <td>8309 14947 20383 27959 28465 33572 34658 35948...</td>\n",
       "    </tr>\n",
       "    <tr>\n",
       "      <th>33819110</th>\n",
       "      <td>1356845.0</td>\n",
       "      <td>12</td>\n",
       "      <td>13176 14992 21616 5746 7076 8239 10863 20350 2...</td>\n",
       "    </tr>\n",
       "    <tr>\n",
       "      <th>33819111</th>\n",
       "      <td>2161313.0</td>\n",
       "      <td>15</td>\n",
       "      <td>196 12427 10441 14715 27839 48142</td>\n",
       "    </tr>\n",
       "    <tr>\n",
       "      <th>33819112</th>\n",
       "      <td>1416320.0</td>\n",
       "      <td>16</td>\n",
       "      <td>24852 21137 21903 651 43014 4086 5134 17948 41...</td>\n",
       "    </tr>\n",
       "    <tr>\n",
       "      <th>33819113</th>\n",
       "      <td>1735923.0</td>\n",
       "      <td>19</td>\n",
       "      <td>196 2192 12108 15131 15599 17008 31487 33122 3...</td>\n",
       "    </tr>\n",
       "    <tr>\n",
       "      <th>33819114</th>\n",
       "      <td>1980631.0</td>\n",
       "      <td>20</td>\n",
       "      <td>9387 6184 13575 13914 22362 41400 46061</td>\n",
       "    </tr>\n",
       "    <tr>\n",
       "      <th>33819115</th>\n",
       "      <td>139655.0</td>\n",
       "      <td>22</td>\n",
       "      <td>13176 27845 22963 21903 17794 22935 35221 2496...</td>\n",
       "    </tr>\n",
       "    <tr>\n",
       "      <th>33819116</th>\n",
       "      <td>1411408.0</td>\n",
       "      <td>25</td>\n",
       "      <td>22008 43758</td>\n",
       "    </tr>\n",
       "    <tr>\n",
       "      <th>33819117</th>\n",
       "      <td>2940603.0</td>\n",
       "      <td>26</td>\n",
       "      <td>18531 14947 44632 7355 10339 19894 30592 31615</td>\n",
       "    </tr>\n",
       "    <tr>\n",
       "      <th>33819118</th>\n",
       "      <td>1192143.0</td>\n",
       "      <td>28</td>\n",
       "      <td>24852 49683 8424 47626 41950 27307 35510</td>\n",
       "    </tr>\n",
       "    <tr>\n",
       "      <th>33819119</th>\n",
       "      <td>280888.0</td>\n",
       "      <td>31</td>\n",
       "      <td>9340 11148 24303 32566 33944 36144 42352</td>\n",
       "    </tr>\n",
       "    <tr>\n",
       "      <th>33819120</th>\n",
       "      <td>3202221.0</td>\n",
       "      <td>32</td>\n",
       "      <td>7781 24852 21137 13629 46979 43692 2452 6069 4...</td>\n",
       "    </tr>\n",
       "    <tr>\n",
       "      <th>33819121</th>\n",
       "      <td>3222866.0</td>\n",
       "      <td>33</td>\n",
       "      <td>7039 7969 8501 15718 18894 32441 32912 33198 3...</td>\n",
       "    </tr>\n",
       "    <tr>\n",
       "      <th>33819122</th>\n",
       "      <td>707453.0</td>\n",
       "      <td>35</td>\n",
       "      <td>24852 45066 47766 21137 21903 39275 2846 32030...</td>\n",
       "    </tr>\n",
       "    <tr>\n",
       "      <th>33819123</th>\n",
       "      <td>1320132.0</td>\n",
       "      <td>36</td>\n",
       "      <td>22328</td>\n",
       "    </tr>\n",
       "    <tr>\n",
       "      <th>33819124</th>\n",
       "      <td>882556.0</td>\n",
       "      <td>39</td>\n",
       "      <td>5450 24852 28289 8424 48679 15290 44910 9076 2...</td>\n",
       "    </tr>\n",
       "    <tr>\n",
       "      <th>33819125</th>\n",
       "      <td>2431024.0</td>\n",
       "      <td>40</td>\n",
       "      <td>13176 5322 5450 5699 39928 22035 27555 24799 2...</td>\n",
       "    </tr>\n",
       "    <tr>\n",
       "      <th>33819126</th>\n",
       "      <td>2827745.0</td>\n",
       "      <td>45</td>\n",
       "      <td>17924</td>\n",
       "    </tr>\n",
       "    <tr>\n",
       "      <th>33819127</th>\n",
       "      <td>2174416.0</td>\n",
       "      <td>51</td>\n",
       "      <td>40604 10017 36929 15712 18798</td>\n",
       "    </tr>\n",
       "    <tr>\n",
       "      <th>33819128</th>\n",
       "      <td>1325316.0</td>\n",
       "      <td>54</td>\n",
       "      <td>21903 47626 23375 26165</td>\n",
       "    </tr>\n",
       "    <tr>\n",
       "      <th>33819129</th>\n",
       "      <td>320326.0</td>\n",
       "      <td>57</td>\n",
       "      <td>24852 42828 8193 23288 4302 35163 41896 45646</td>\n",
       "    </tr>\n",
       "    <tr>\n",
       "      <th>33819130</th>\n",
       "      <td>2128599.0</td>\n",
       "      <td>58</td>\n",
       "      <td>7628 622 14818 24703</td>\n",
       "    </tr>\n",
       "    <tr>\n",
       "      <th>33819131</th>\n",
       "      <td>1099519.0</td>\n",
       "      <td>60</td>\n",
       "      <td>13176 16797 22035 49131 4269 4983 26351 28058</td>\n",
       "    </tr>\n",
       "    <tr>\n",
       "      <th>33819132</th>\n",
       "      <td>144494.0</td>\n",
       "      <td>61</td>\n",
       "      <td>14947 23106 16959 23431 39108 46260</td>\n",
       "    </tr>\n",
       "    <tr>\n",
       "      <th>33819133</th>\n",
       "      <td>3024191.0</td>\n",
       "      <td>68</td>\n",
       "      <td>27521 20995 42450 5991 7948 18362 49175 26384 ...</td>\n",
       "    </tr>\n",
       "    <tr>\n",
       "      <th>33819134</th>\n",
       "      <td>2817181.0</td>\n",
       "      <td>69</td>\n",
       "      <td>22559 19677 35782 28058 41618 38920 1377 18828...</td>\n",
       "    </tr>\n",
       "    <tr>\n",
       "      <th>33819135</th>\n",
       "      <td>2883656.0</td>\n",
       "      <td>73</td>\n",
       "      <td>24852 44661 21497</td>\n",
       "    </tr>\n",
       "    <tr>\n",
       "      <th>33819136</th>\n",
       "      <td>1970262.0</td>\n",
       "      <td>75</td>\n",
       "      <td>79 30489 21903 44683 11520 47626 12872 48364 2...</td>\n",
       "    </tr>\n",
       "    <tr>\n",
       "      <th>33819137</th>\n",
       "      <td>2681168.0</td>\n",
       "      <td>77</td>\n",
       "      <td>27845 36735 40198 46886 18370 11777 42736 4716...</td>\n",
       "    </tr>\n",
       "    <tr>\n",
       "      <th>33819138</th>\n",
       "      <td>1345233.0</td>\n",
       "      <td>85</td>\n",
       "      <td>13176 21137 21903 8277 42585 1695 40146</td>\n",
       "    </tr>\n",
       "    <tr>\n",
       "      <th>33819139</th>\n",
       "      <td>2412507.0</td>\n",
       "      <td>92</td>\n",
       "      <td>21137 5258 13259 18023</td>\n",
       "    </tr>\n",
       "    <tr>\n",
       "      <th>33819140</th>\n",
       "      <td>622677.0</td>\n",
       "      <td>94</td>\n",
       "      <td>44142 2192</td>\n",
       "    </tr>\n",
       "    <tr>\n",
       "      <th>33819141</th>\n",
       "      <td>139487.0</td>\n",
       "      <td>98</td>\n",
       "      <td>196 43352 6184 21386</td>\n",
       "    </tr>\n",
       "    <tr>\n",
       "      <th>33819142</th>\n",
       "      <td>3302990.0</td>\n",
       "      <td>100</td>\n",
       "      <td>24852 27344 21616 29487 30795</td>\n",
       "    </tr>\n",
       "    <tr>\n",
       "      <th>33819143</th>\n",
       "      <td>1189294.0</td>\n",
       "      <td>101</td>\n",
       "      <td>13176 21137 5479 26369 12456 26317 25138 25527</td>\n",
       "    </tr>\n",
       "    <tr>\n",
       "      <th>33819144</th>\n",
       "      <td>1368861.0</td>\n",
       "      <td>107</td>\n",
       "      <td>1940 23334 14335 4565 5445 6884 41155</td>\n",
       "    </tr>\n",
       "    <tr>\n",
       "      <th>33819145</th>\n",
       "      <td>1626588.0</td>\n",
       "      <td>122</td>\n",
       "      <td>12253 14365 27988 31808 36118 46560</td>\n",
       "    </tr>\n",
       "    <tr>\n",
       "      <th>33819146</th>\n",
       "      <td>36863.0</td>\n",
       "      <td>126</td>\n",
       "      <td>13176 17872 21137 20114 27521 45007 32177 2293...</td>\n",
       "    </tr>\n",
       "    <tr>\n",
       "      <th>33819147</th>\n",
       "      <td>969538.0</td>\n",
       "      <td>127</td>\n",
       "      <td>10151 40711 47941 13643 3061 8030 8650 11128 1...</td>\n",
       "    </tr>\n",
       "    <tr>\n",
       "      <th>33819148</th>\n",
       "      <td>688716.0</td>\n",
       "      <td>129</td>\n",
       "      <td>13176 47209 47626 5077 36929 3721 44753</td>\n",
       "    </tr>\n",
       "    <tr>\n",
       "      <th>33819149</th>\n",
       "      <td>1058680.0</td>\n",
       "      <td>133</td>\n",
       "      <td>35973 4210 37250 41273 44570 36259 31848 470 2...</td>\n",
       "    </tr>\n",
       "    <tr>\n",
       "      <th>33819150</th>\n",
       "      <td>831748.0</td>\n",
       "      <td>134</td>\n",
       "      <td>44142 5782 21938 43768 40174 5750 11422 33791 ...</td>\n",
       "    </tr>\n",
       "    <tr>\n",
       "      <th>33819151</th>\n",
       "      <td>2710859.0</td>\n",
       "      <td>136</td>\n",
       "      <td>24852 47766 45007 45104 21249 40897</td>\n",
       "    </tr>\n",
       "    <tr>\n",
       "      <th>33819152</th>\n",
       "      <td>1500625.0</td>\n",
       "      <td>137</td>\n",
       "      <td>16855 16464 32096 47366 36086 40332 10673 1674...</td>\n",
       "    </tr>\n",
       "    <tr>\n",
       "      <th>33819153</th>\n",
       "      <td>726111.0</td>\n",
       "      <td>141</td>\n",
       "      <td>13176 47766 44632 41165 9554 12756</td>\n",
       "    </tr>\n",
       "    <tr>\n",
       "      <th>33819154</th>\n",
       "      <td>2567075.0</td>\n",
       "      <td>149</td>\n",
       "      <td>35951 9124 30489 37646 39928 17794 32478 34217...</td>\n",
       "    </tr>\n",
       "    <tr>\n",
       "      <th>33819155</th>\n",
       "      <td>1855063.0</td>\n",
       "      <td>151</td>\n",
       "      <td>27845 27966 45066 21903 31717 5539 17794 5876 ...</td>\n",
       "    </tr>\n",
       "  </tbody>\n",
       "</table>\n",
       "</div>"
      ],
      "text/plain": [
       "           order_id  user_id  \\\n",
       "33819106  2774568.0        3   \n",
       "33819107   329954.0        4   \n",
       "33819108  1528013.0        6   \n",
       "33819109  1376945.0       11   \n",
       "33819110  1356845.0       12   \n",
       "33819111  2161313.0       15   \n",
       "33819112  1416320.0       16   \n",
       "33819113  1735923.0       19   \n",
       "33819114  1980631.0       20   \n",
       "33819115   139655.0       22   \n",
       "33819116  1411408.0       25   \n",
       "33819117  2940603.0       26   \n",
       "33819118  1192143.0       28   \n",
       "33819119   280888.0       31   \n",
       "33819120  3202221.0       32   \n",
       "33819121  3222866.0       33   \n",
       "33819122   707453.0       35   \n",
       "33819123  1320132.0       36   \n",
       "33819124   882556.0       39   \n",
       "33819125  2431024.0       40   \n",
       "33819126  2827745.0       45   \n",
       "33819127  2174416.0       51   \n",
       "33819128  1325316.0       54   \n",
       "33819129   320326.0       57   \n",
       "33819130  2128599.0       58   \n",
       "33819131  1099519.0       60   \n",
       "33819132   144494.0       61   \n",
       "33819133  3024191.0       68   \n",
       "33819134  2817181.0       69   \n",
       "33819135  2883656.0       73   \n",
       "33819136  1970262.0       75   \n",
       "33819137  2681168.0       77   \n",
       "33819138  1345233.0       85   \n",
       "33819139  2412507.0       92   \n",
       "33819140   622677.0       94   \n",
       "33819141   139487.0       98   \n",
       "33819142  3302990.0      100   \n",
       "33819143  1189294.0      101   \n",
       "33819144  1368861.0      107   \n",
       "33819145  1626588.0      122   \n",
       "33819146    36863.0      126   \n",
       "33819147   969538.0      127   \n",
       "33819148   688716.0      129   \n",
       "33819149  1058680.0      133   \n",
       "33819150   831748.0      134   \n",
       "33819151  2710859.0      136   \n",
       "33819152  1500625.0      137   \n",
       "33819153   726111.0      141   \n",
       "33819154  2567075.0      149   \n",
       "33819155  1855063.0      151   \n",
       "\n",
       "                                                 product_id  \n",
       "33819106  47766 17668 18599 21903 23650 24810 32402 3919...  \n",
       "33819107                                              35469  \n",
       "33819108                                        21903 38293  \n",
       "33819109  8309 14947 20383 27959 28465 33572 34658 35948...  \n",
       "33819110  13176 14992 21616 5746 7076 8239 10863 20350 2...  \n",
       "33819111                  196 12427 10441 14715 27839 48142  \n",
       "33819112  24852 21137 21903 651 43014 4086 5134 17948 41...  \n",
       "33819113  196 2192 12108 15131 15599 17008 31487 33122 3...  \n",
       "33819114            9387 6184 13575 13914 22362 41400 46061  \n",
       "33819115  13176 27845 22963 21903 17794 22935 35221 2496...  \n",
       "33819116                                        22008 43758  \n",
       "33819117     18531 14947 44632 7355 10339 19894 30592 31615  \n",
       "33819118           24852 49683 8424 47626 41950 27307 35510  \n",
       "33819119           9340 11148 24303 32566 33944 36144 42352  \n",
       "33819120  7781 24852 21137 13629 46979 43692 2452 6069 4...  \n",
       "33819121  7039 7969 8501 15718 18894 32441 32912 33198 3...  \n",
       "33819122  24852 45066 47766 21137 21903 39275 2846 32030...  \n",
       "33819123                                              22328  \n",
       "33819124  5450 24852 28289 8424 48679 15290 44910 9076 2...  \n",
       "33819125  13176 5322 5450 5699 39928 22035 27555 24799 2...  \n",
       "33819126                                              17924  \n",
       "33819127                      40604 10017 36929 15712 18798  \n",
       "33819128                            21903 47626 23375 26165  \n",
       "33819129      24852 42828 8193 23288 4302 35163 41896 45646  \n",
       "33819130                               7628 622 14818 24703  \n",
       "33819131      13176 16797 22035 49131 4269 4983 26351 28058  \n",
       "33819132                14947 23106 16959 23431 39108 46260  \n",
       "33819133  27521 20995 42450 5991 7948 18362 49175 26384 ...  \n",
       "33819134  22559 19677 35782 28058 41618 38920 1377 18828...  \n",
       "33819135                                  24852 44661 21497  \n",
       "33819136  79 30489 21903 44683 11520 47626 12872 48364 2...  \n",
       "33819137  27845 36735 40198 46886 18370 11777 42736 4716...  \n",
       "33819138            13176 21137 21903 8277 42585 1695 40146  \n",
       "33819139                             21137 5258 13259 18023  \n",
       "33819140                                         44142 2192  \n",
       "33819141                               196 43352 6184 21386  \n",
       "33819142                      24852 27344 21616 29487 30795  \n",
       "33819143     13176 21137 5479 26369 12456 26317 25138 25527  \n",
       "33819144              1940 23334 14335 4565 5445 6884 41155  \n",
       "33819145                12253 14365 27988 31808 36118 46560  \n",
       "33819146  13176 17872 21137 20114 27521 45007 32177 2293...  \n",
       "33819147  10151 40711 47941 13643 3061 8030 8650 11128 1...  \n",
       "33819148            13176 47209 47626 5077 36929 3721 44753  \n",
       "33819149  35973 4210 37250 41273 44570 36259 31848 470 2...  \n",
       "33819150  44142 5782 21938 43768 40174 5750 11422 33791 ...  \n",
       "33819151                24852 47766 45007 45104 21249 40897  \n",
       "33819152  16855 16464 32096 47366 36086 40332 10673 1674...  \n",
       "33819153                 13176 47766 44632 41165 9554 12756  \n",
       "33819154  35951 9124 30489 37646 39928 17794 32478 34217...  \n",
       "33819155  27845 27966 45066 21903 31717 5539 17794 5876 ...  "
      ]
     },
     "execution_count": 108,
     "metadata": {},
     "output_type": "execute_result"
    }
   ],
   "source": [
    "test_set = test_set.replace(np.nan, 'None', regex=True)\n",
    "test_set.head(50)"
   ]
  },
  {
   "cell_type": "code",
   "execution_count": 109,
   "metadata": {},
   "outputs": [
    {
     "data": {
      "text/plain": [
       "(75000, 3)"
      ]
     },
     "execution_count": 109,
     "metadata": {},
     "output_type": "execute_result"
    }
   ],
   "source": [
    "test_set.shape"
   ]
  },
  {
   "cell_type": "code",
   "execution_count": 110,
   "metadata": {},
   "outputs": [
    {
     "data": {
      "text/html": [
       "<div>\n",
       "<style>\n",
       "    .dataframe thead tr:only-child th {\n",
       "        text-align: right;\n",
       "    }\n",
       "\n",
       "    .dataframe thead th {\n",
       "        text-align: left;\n",
       "    }\n",
       "\n",
       "    .dataframe tbody tr th {\n",
       "        vertical-align: top;\n",
       "    }\n",
       "</style>\n",
       "<table border=\"1\" class=\"dataframe\">\n",
       "  <thead>\n",
       "    <tr style=\"text-align: right;\">\n",
       "      <th></th>\n",
       "      <th>order_id</th>\n",
       "      <th>products</th>\n",
       "    </tr>\n",
       "  </thead>\n",
       "  <tbody>\n",
       "    <tr>\n",
       "      <th>33894101</th>\n",
       "      <td>2728930.0</td>\n",
       "      <td>16797 21709 24852 49683 18926 17038 432 41177 ...</td>\n",
       "    </tr>\n",
       "    <tr>\n",
       "      <th>33894102</th>\n",
       "      <td>350108.0</td>\n",
       "      <td>21137 43961 42828 5646 49075 48287 30561 15649...</td>\n",
       "    </tr>\n",
       "    <tr>\n",
       "      <th>33894103</th>\n",
       "      <td>1043943.0</td>\n",
       "      <td>11520 23029 42623</td>\n",
       "    </tr>\n",
       "    <tr>\n",
       "      <th>33894104</th>\n",
       "      <td>2821651.0</td>\n",
       "      <td>13176 25133 27845 27344 27966 33754 47209 2203...</td>\n",
       "    </tr>\n",
       "    <tr>\n",
       "      <th>33894105</th>\n",
       "      <td>803273.0</td>\n",
       "      <td>13176 27845 24838 21137 43961 31717 45007 2099...</td>\n",
       "    </tr>\n",
       "  </tbody>\n",
       "</table>\n",
       "</div>"
      ],
      "text/plain": [
       "           order_id                                           products\n",
       "33894101  2728930.0  16797 21709 24852 49683 18926 17038 432 41177 ...\n",
       "33894102   350108.0  21137 43961 42828 5646 49075 48287 30561 15649...\n",
       "33894103  1043943.0                                  11520 23029 42623\n",
       "33894104  2821651.0  13176 25133 27845 27344 27966 33754 47209 2203...\n",
       "33894105   803273.0  13176 27845 24838 21137 43961 31717 45007 2099..."
      ]
     },
     "execution_count": 110,
     "metadata": {},
     "output_type": "execute_result"
    }
   ],
   "source": [
    "#Only need these columns for the submission.\n",
    "submission = pd.DataFrame({'order_id': test_set.order_id, 'products': test_set.product_id})\n",
    "submission.tail()"
   ]
  },
  {
   "cell_type": "code",
   "execution_count": 111,
   "metadata": {},
   "outputs": [
    {
     "data": {
      "text/html": [
       "<div>\n",
       "<style>\n",
       "    .dataframe thead tr:only-child th {\n",
       "        text-align: right;\n",
       "    }\n",
       "\n",
       "    .dataframe thead th {\n",
       "        text-align: left;\n",
       "    }\n",
       "\n",
       "    .dataframe tbody tr th {\n",
       "        vertical-align: top;\n",
       "    }\n",
       "</style>\n",
       "<table border=\"1\" class=\"dataframe\">\n",
       "  <thead>\n",
       "    <tr style=\"text-align: right;\">\n",
       "      <th></th>\n",
       "      <th>order_id</th>\n",
       "      <th>products</th>\n",
       "    </tr>\n",
       "  </thead>\n",
       "  <tbody>\n",
       "    <tr>\n",
       "      <th>33819106</th>\n",
       "      <td>2774568</td>\n",
       "      <td>47766 17668 18599 21903 23650 24810 32402 3919...</td>\n",
       "    </tr>\n",
       "    <tr>\n",
       "      <th>33819107</th>\n",
       "      <td>329954</td>\n",
       "      <td>35469</td>\n",
       "    </tr>\n",
       "    <tr>\n",
       "      <th>33819108</th>\n",
       "      <td>1528013</td>\n",
       "      <td>21903 38293</td>\n",
       "    </tr>\n",
       "    <tr>\n",
       "      <th>33819109</th>\n",
       "      <td>1376945</td>\n",
       "      <td>8309 14947 20383 27959 28465 33572 34658 35948...</td>\n",
       "    </tr>\n",
       "    <tr>\n",
       "      <th>33819110</th>\n",
       "      <td>1356845</td>\n",
       "      <td>13176 14992 21616 5746 7076 8239 10863 20350 2...</td>\n",
       "    </tr>\n",
       "  </tbody>\n",
       "</table>\n",
       "</div>"
      ],
      "text/plain": [
       "          order_id                                           products\n",
       "33819106   2774568  47766 17668 18599 21903 23650 24810 32402 3919...\n",
       "33819107    329954                                              35469\n",
       "33819108   1528013                                        21903 38293\n",
       "33819109   1376945  8309 14947 20383 27959 28465 33572 34658 35948...\n",
       "33819110   1356845  13176 14992 21616 5746 7076 8239 10863 20350 2..."
      ]
     },
     "execution_count": 111,
     "metadata": {},
     "output_type": "execute_result"
    }
   ],
   "source": [
    "# Need to convert order id to int\n",
    "submission.order_id = pd.to_numeric(submission.order_id, errors='coerce')\n",
    "submission.order_id = submission.order_id.astype(int)\n",
    "submission.head()"
   ]
  },
  {
   "cell_type": "code",
   "execution_count": 112,
   "metadata": {},
   "outputs": [
    {
     "data": {
      "text/html": [
       "<div>\n",
       "<style>\n",
       "    .dataframe thead tr:only-child th {\n",
       "        text-align: right;\n",
       "    }\n",
       "\n",
       "    .dataframe thead th {\n",
       "        text-align: left;\n",
       "    }\n",
       "\n",
       "    .dataframe tbody tr th {\n",
       "        vertical-align: top;\n",
       "    }\n",
       "</style>\n",
       "<table border=\"1\" class=\"dataframe\">\n",
       "  <thead>\n",
       "    <tr style=\"text-align: right;\">\n",
       "      <th></th>\n",
       "      <th>order_id</th>\n",
       "      <th>products</th>\n",
       "    </tr>\n",
       "  </thead>\n",
       "  <tbody>\n",
       "    <tr>\n",
       "      <th>0</th>\n",
       "      <td>2774568</td>\n",
       "      <td>47766 17668 18599 21903 23650 24810 32402 3919...</td>\n",
       "    </tr>\n",
       "    <tr>\n",
       "      <th>1</th>\n",
       "      <td>329954</td>\n",
       "      <td>35469</td>\n",
       "    </tr>\n",
       "    <tr>\n",
       "      <th>2</th>\n",
       "      <td>1528013</td>\n",
       "      <td>21903 38293</td>\n",
       "    </tr>\n",
       "    <tr>\n",
       "      <th>3</th>\n",
       "      <td>1376945</td>\n",
       "      <td>8309 14947 20383 27959 28465 33572 34658 35948...</td>\n",
       "    </tr>\n",
       "    <tr>\n",
       "      <th>4</th>\n",
       "      <td>1356845</td>\n",
       "      <td>13176 14992 21616 5746 7076 8239 10863 20350 2...</td>\n",
       "    </tr>\n",
       "  </tbody>\n",
       "</table>\n",
       "</div>"
      ],
      "text/plain": [
       "   order_id                                           products\n",
       "0   2774568  47766 17668 18599 21903 23650 24810 32402 3919...\n",
       "1    329954                                              35469\n",
       "2   1528013                                        21903 38293\n",
       "3   1376945  8309 14947 20383 27959 28465 33572 34658 35948...\n",
       "4   1356845  13176 14992 21616 5746 7076 8239 10863 20350 2..."
      ]
     },
     "execution_count": 112,
     "metadata": {},
     "output_type": "execute_result"
    }
   ],
   "source": [
    "#Saving to file.\n",
    "submission.to_csv('master_submission82.csv', index=False)\n",
    "submitted_data = pd.read_csv('master_submission82.csv') \n",
    "submitted_data.head()"
   ]
  },
  {
   "cell_type": "code",
   "execution_count": null,
   "metadata": {
    "collapsed": true
   },
   "outputs": [],
   "source": [
    "Notes and Kaggle scores from selected predictions \n",
    "\n",
    "GB - defaults  \n",
    "Your submission scored 0.1478085, which is not an improvement of your best score.\n",
    "\n",
    "RF  min_samples_leaf=100, n_estimators=15, max_features='sqrt')\n",
    "Your submission scored 0.3539836, which is not an improvement of your best score. Keep trying!\n",
    "\n",
    "RF\n",
    "Your submission scored 0.3509929, which is not an improvement of your best score. \n",
    "\n",
    "RF elapsed_avg added; no max depth\n",
    "Your submission scored 0.3577902, which is not an improvement of your best score. \n",
    "\n",
    "\n",
    "RF, max d 15\n",
    "Your submission scored 0.3624220, which is an improvement of your previous score of 0.3592294.\n",
    "\n",
    "RF, max d 14\n",
    "Your submission scored 0.3653651, which is an improvement of your previous score of 0.3624220.\n",
    "\n",
    "RF, max d 11\n",
    "Your submission scored 0.3666596, which is an improvement of your previous score of 0.3653651. \n",
    "\n",
    "RF, max d 9\n",
    "Your submission scored 0.3686281, which is an improvement of your previous score of 0.3666596.\n"
   ]
  }
 ],
 "metadata": {
  "anaconda-cloud": {},
  "kernelspec": {
   "display_name": "Python 3",
   "language": "python",
   "name": "python3"
  },
  "language_info": {
   "codemirror_mode": {
    "name": "ipython",
    "version": 3
   },
   "file_extension": ".py",
   "mimetype": "text/x-python",
   "name": "python",
   "nbconvert_exporter": "python",
   "pygments_lexer": "ipython3",
   "version": "3.6.1"
  }
 },
 "nbformat": 4,
 "nbformat_minor": 1
}
